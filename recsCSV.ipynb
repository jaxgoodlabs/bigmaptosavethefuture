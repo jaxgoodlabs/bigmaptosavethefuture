{
 "cells": [
  {
   "cell_type": "code",
   "execution_count": 1,
   "id": "3aeccea4-3a0e-449d-b7c6-570fb175803c",
   "metadata": {},
   "outputs": [],
   "source": [
    "import pandas\n",
    "from pandas import DataFrame\n",
    "def recsFromCSV(CSVname='restorFinalDataset2.csv'):\n",
    "    \"\"\"give csv file, get recs.\"\"\"\n",
    "    df = pandas.read_csv(CSVname, index_col=None)\n",
    "    return df.to_dict('records')\n",
    "\n",
    "def recsToCSV(recs, CSVname):\n",
    "    \"\"\"give recs and CSVname, get CSVname.\"\"\"\n",
    "    DataFrame(recs).to_csv(CSVname, index=None)\n",
    "    return CSVname\n",
    "\n",
    "TESTING = 0\n",
    "if TESTING: #should yield True\n",
    "    recs = recsFromCSV()\n",
    "    CSVname = recsToCSV(recs, 'TEST.csv')\n",
    "    dataBack = recsFromCSV(CSVname)\n",
    "    print(dataBack==recs)"
   ]
  },
  {
   "cell_type": "code",
   "execution_count": null,
   "id": "1bf7b41a-e4ac-4b1f-8cfd-a598cd147319",
   "metadata": {},
   "outputs": [],
   "source": []
  }
 ],
 "metadata": {
  "kernelspec": {
   "display_name": "Python 3 (ipykernel)",
   "language": "python",
   "name": "python3"
  },
  "language_info": {
   "codemirror_mode": {
    "name": "ipython",
    "version": 3
   },
   "file_extension": ".py",
   "mimetype": "text/x-python",
   "name": "python",
   "nbconvert_exporter": "python",
   "pygments_lexer": "ipython3",
   "version": "3.9.16"
  },
  "widgets": {
   "application/vnd.jupyter.widget-state+json": {
    "state": {},
    "version_major": 2,
    "version_minor": 0
   }
  }
 },
 "nbformat": 4,
 "nbformat_minor": 5
}
