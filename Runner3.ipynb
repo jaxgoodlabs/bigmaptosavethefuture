{
 "cells": [
  {
   "cell_type": "code",
   "execution_count": 2,
   "id": "4af70e23-4c6a-44ef-8ea5-3235614cbd76",
   "metadata": {},
   "outputs": [
    {
     "name": "stdout",
     "output_type": "stream",
     "text": [
      "Updating to https://experience.arcgis.com/experience/7d38a0f5874e45dd8d4d19d3ee4bd985\n"
     ]
    },
    {
     "data": {
      "application/vnd.jupyter.widget-view+json": {
       "model_id": "0bf8617cc3a3485daa084a1400f8f2fa",
       "version_major": 2,
       "version_minor": 0
      },
      "text/plain": [
       "HBox(children=(FileUpload(value=(), accept='image/*', description='New Image to Cloudinary?', layout=Layout(wi…"
      ]
     },
     "metadata": {},
     "output_type": "display_data"
    },
    {
     "data": {
      "application/vnd.jupyter.widget-view+json": {
       "model_id": "33b89dba1ea9465d86c5a5db18974f12",
       "version_major": 2,
       "version_minor": 0
      },
      "text/plain": [
       "VBox(children=(HBox(children=(Button(description='Capture WYSIWYG', style=ButtonStyle(button_color='lightgreen…"
      ]
     },
     "metadata": {},
     "output_type": "display_data"
    },
    {
     "data": {
      "application/vnd.jupyter.widget-view+json": {
       "model_id": "39ec503410c34450835592b3d253b831",
       "version_major": 2,
       "version_minor": 0
      },
      "text/plain": [
       "HBox(children=(Button(description='Store', style=ButtonStyle(button_color='lightyellow')), Button(description=…"
      ]
     },
     "metadata": {},
     "output_type": "display_data"
    },
    {
     "data": {
      "application/vnd.jupyter.widget-view+json": {
       "model_id": "e629f8e73ff243a49374f294d48e953f",
       "version_major": 2,
       "version_minor": 0
      },
      "text/plain": [
       "HBox(children=(HBox(children=(Button(description='-', layout=Layout(width='10%'), style=ButtonStyle()), Bounde…"
      ]
     },
     "metadata": {},
     "output_type": "display_data"
    },
    {
     "data": {
      "application/vnd.jupyter.widget-view+json": {
       "model_id": "930e5e93eb474552a2da9c30a4def1d9",
       "version_major": 2,
       "version_minor": 0
      },
      "text/plain": [
       "Textarea(value='', layout=Layout(width='100%'))"
      ]
     },
     "metadata": {},
     "output_type": "display_data"
    },
    {
     "data": {
      "application/vnd.jupyter.widget-view+json": {
       "model_id": "23c1ad7298f0466292e47e055d97e9f8",
       "version_major": 2,
       "version_minor": 0
      },
      "text/plain": [
       "HBox(children=(VBox(children=(Text(value='Australia:Natural Sequence Farming!', description='Project Name'), T…"
      ]
     },
     "metadata": {},
     "output_type": "display_data"
    }
   ],
   "source": [
    "from RowEditor3 import main\n",
    "main()"
   ]
  },
  {
   "cell_type": "code",
   "execution_count": null,
   "id": "03e05e0e-2e48-442d-83a2-ff59cb08ec4d",
   "metadata": {},
   "outputs": [],
   "source": []
  },
  {
   "cell_type": "code",
   "execution_count": null,
   "id": "9e93ca02-9bad-4637-807e-89dc25b0a19e",
   "metadata": {},
   "outputs": [],
   "source": []
  },
  {
   "cell_type": "code",
   "execution_count": null,
   "id": "04f5d8da-d0e2-4677-91b0-79357cb9b525",
   "metadata": {},
   "outputs": [],
   "source": []
  },
  {
   "cell_type": "code",
   "execution_count": null,
   "id": "19362261-ccea-4b3b-8a4c-f506fd360c94",
   "metadata": {},
   "outputs": [],
   "source": []
  }
 ],
 "metadata": {
  "kernelspec": {
   "display_name": "Python 3 (ipykernel)",
   "language": "python",
   "name": "python3"
  },
  "language_info": {
   "codemirror_mode": {
    "name": "ipython",
    "version": 3
   },
   "file_extension": ".py",
   "mimetype": "text/x-python",
   "name": "python",
   "nbconvert_exporter": "python",
   "pygments_lexer": "ipython3",
   "version": "3.9.16"
  },
  "toc-autonumbering": false,
  "toc-showcode": true,
  "widgets": {
   "application/vnd.jupyter.widget-state+json": {
    "state": {
     "000e46d17d22464a8dd375575ce657fc": {
      "model_module": "@jupyter-widgets/base",
      "model_module_version": "2.0.0",
      "model_name": "LayoutModel",
      "state": {}
     },
     "021c8b37c3b3433283df1b1926f0b6d6": {
      "model_module": "@jupyter-widgets/controls",
      "model_module_version": "2.0.0",
      "model_name": "TextStyleModel",
      "state": {
       "description_width": "",
       "font_size": null,
       "text_color": null
      }
     },
     "030c216744914ba7b75763d430268f88": {
      "model_module": "@jupyter-widgets/base",
      "model_module_version": "2.0.0",
      "model_name": "LayoutModel",
      "state": {}
     },
     "032b4ab878d84188b68a52357cb84f24": {
      "model_module": "@jupyter-widgets/base",
      "model_module_version": "2.0.0",
      "model_name": "LayoutModel",
      "state": {}
     },
     "03e2661990f34e12be848e831cb8fc94": {
      "model_module": "@jupyter-widgets/base",
      "model_module_version": "2.0.0",
      "model_name": "LayoutModel",
      "state": {}
     },
     "04214bf8f6944456b0df39a8d9f150fe": {
      "model_module": "@jupyter-widgets/controls",
      "model_module_version": "2.0.0",
      "model_name": "TextareaModel",
      "state": {
       "layout": "IPY_MODEL_e8e6fe859eb34763824112a7bb698e97",
       "style": "IPY_MODEL_c5730d1283ed40e59c9b53f92c583d7a",
       "value": "a\nb\nc"
      }
     },
     "048daad498fc4def9c1206deefe0839c": {
      "model_module": "@jupyter-widgets/controls",
      "model_module_version": "2.0.0",
      "model_name": "BoundedIntTextModel",
      "state": {
       "layout": "IPY_MODEL_f7285c60c14042db93cd0db625129eab",
       "max": 3489,
       "min": 1,
       "style": "IPY_MODEL_4b4cdc68ff1a4c609b50038c99af432a",
       "value": 2
      }
     },
     "04e4dfaf7bac439ebe4b9cbf7513d355": {
      "model_module": "@jupyter-widgets/controls",
      "model_module_version": "2.0.0",
      "model_name": "ButtonStyleModel",
      "state": {
       "button_color": "lightyellow",
       "font_family": null,
       "font_size": null,
       "font_style": null,
       "font_variant": null,
       "font_weight": null,
       "text_color": null,
       "text_decoration": null
      }
     },
     "04f0f3ca23d442b2bcbd9fd328f00cfa": {
      "model_module": "@jupyter-widgets/base",
      "model_module_version": "2.0.0",
      "model_name": "LayoutModel",
      "state": {}
     },
     "052fc0692ae241a598ac6604b06d983e": {
      "model_module": "@jupyter-widgets/controls",
      "model_module_version": "2.0.0",
      "model_name": "ButtonModel",
      "state": {
       "description": "Image Sources?",
       "layout": "IPY_MODEL_a96a033020024dcdb7023052e8b891bc",
       "style": "IPY_MODEL_703b518b5f114db8aa473a4519bc9959",
       "tooltip": null
      }
     },
     "059a15a920ef49deb4069963269de682": {
      "model_module": "@jupyter-widgets/controls",
      "model_module_version": "2.0.0",
      "model_name": "TextStyleModel",
      "state": {
       "description_width": "",
       "font_size": null,
       "text_color": null
      }
     },
     "05ba852006a04d428f9cf439c07216a7": {
      "model_module": "@jupyter-widgets/base",
      "model_module_version": "2.0.0",
      "model_name": "LayoutModel",
      "state": {}
     },
     "0636193b13a441b9badf5a5893759fbd": {
      "model_module": "@jupyter-widgets/base",
      "model_module_version": "2.0.0",
      "model_name": "LayoutModel",
      "state": {}
     },
     "068d0a7f8b824e30980a2cabcb69937e": {
      "model_module": "@jupyter-widgets/controls",
      "model_module_version": "2.0.0",
      "model_name": "ButtonStyleModel",
      "state": {
       "button_color": "Red",
       "font_family": null,
       "font_size": null,
       "font_style": null,
       "font_variant": null,
       "font_weight": null,
       "text_color": null,
       "text_decoration": null
      }
     },
     "077efa73aa8d4ffd874a5181eac73212": {
      "model_module": "@jupyter-widgets/controls",
      "model_module_version": "2.0.0",
      "model_name": "ButtonModel",
      "state": {
       "description": "Run checks?",
       "layout": "IPY_MODEL_80c5a4af1785403eb434b7ee33527197",
       "style": "IPY_MODEL_d3ac4c348e49430b8ab41ab78704dde9",
       "tooltip": null
      }
     },
     "082b599b97b54183962d473151fde2ea": {
      "model_module": "@jupyter-widgets/controls",
      "model_module_version": "2.0.0",
      "model_name": "TextStyleModel",
      "state": {
       "description_width": "",
       "font_size": null,
       "text_color": null
      }
     },
     "085067d5491c4cb2b3d53ab6f68e41be": {
      "model_module": "@jupyter-widgets/controls",
      "model_module_version": "2.0.0",
      "model_name": "TextStyleModel",
      "state": {
       "description_width": "",
       "font_size": null,
       "text_color": null
      }
     },
     "086360b9cea14c4aae861b7d53a1306b": {
      "model_module": "@jupyter-widgets/controls",
      "model_module_version": "2.0.0",
      "model_name": "TextModel",
      "state": {
       "description": "Freshness",
       "layout": "IPY_MODEL_f0c7a85371d043dea6fa3a591dde0196",
       "style": "IPY_MODEL_11fa6fd3c2204dcd99ff00be5a29b3ed",
       "value": "2"
      }
     },
     "0895e11e3a88419da36df8d391a509f4": {
      "model_module": "@jupyter-widgets/controls",
      "model_module_version": "2.0.0",
      "model_name": "TextModel",
      "state": {
       "description": "Comments",
       "layout": "IPY_MODEL_b57dbf0abb8941418615e93a260062e7",
       "style": "IPY_MODEL_1a863f0fea4941e689069386823828f2"
      }
     },
     "08ea1874601f44dbbed988d466a03a50": {
      "model_module": "@jupyter-widgets/base",
      "model_module_version": "2.0.0",
      "model_name": "LayoutModel",
      "state": {}
     },
     "094e25855138439eaf6ae5fc961bcad2": {
      "model_module": "@jupyter-widgets/controls",
      "model_module_version": "2.0.0",
      "model_name": "TextModel",
      "state": {
       "description": "Coords. checked?",
       "layout": "IPY_MODEL_46910d0226144a6cabd97dfc0230f12d",
       "style": "IPY_MODEL_99397c0db5734de7a3340012f9689fe6",
       "value": "TRUE"
      }
     },
     "097c165736f0495981faa6b03a3c190a": {
      "model_module": "@jupyter-widgets/controls",
      "model_module_version": "2.0.0",
      "model_name": "TextStyleModel",
      "state": {
       "description_width": "",
       "font_size": null,
       "text_color": null
      }
     },
     "0a893437bdbe41ab936ace5847214dad": {
      "model_module": "@jupyter-widgets/controls",
      "model_module_version": "2.0.0",
      "model_name": "TextModel",
      "state": {
       "description": "Latitude",
       "layout": "IPY_MODEL_af8b8c87f57d487687460ad63b9c5dbc",
       "style": "IPY_MODEL_1205e6585bf24b2290fd47a7e013665a",
       "value": "-35.7369"
      }
     },
     "0bf8617cc3a3485daa084a1400f8f2fa": {
      "model_module": "@jupyter-widgets/controls",
      "model_module_version": "2.0.0",
      "model_name": "HBoxModel",
      "state": {
       "children": [
        "IPY_MODEL_f241dbb51e004d89a693d72989947af8",
        "IPY_MODEL_ade9e3d0a2254a678b62bdc71b99a00a",
        "IPY_MODEL_5041b2ffe9ec4ceface42f92b1802b25",
        "IPY_MODEL_c9616990a08c4db9897d355cf06a1ef7"
       ],
       "layout": "IPY_MODEL_17cdf880f6c14075bafd918ccb50376f"
      }
     },
     "0ce07f636a5e45f4bc2c2e539b290979": {
      "model_module": "@jupyter-widgets/controls",
      "model_module_version": "2.0.0",
      "model_name": "TextStyleModel",
      "state": {
       "description_width": "",
       "font_size": null,
       "text_color": null
      }
     },
     "0d65535c2fcb41d2845d71a3519f8431": {
      "model_module": "@jupyter-widgets/controls",
      "model_module_version": "2.0.0",
      "model_name": "TextStyleModel",
      "state": {
       "description_width": "",
       "font_size": null,
       "text_color": null
      }
     },
     "0e6ce8e3d76642fc8f68d44891034ecc": {
      "model_module": "@jupyter-widgets/base",
      "model_module_version": "2.0.0",
      "model_name": "LayoutModel",
      "state": {}
     },
     "0f3c6555508e4f3a92d2c3b9dc05b53b": {
      "model_module": "@jupyter-widgets/controls",
      "model_module_version": "2.0.0",
      "model_name": "TextModel",
      "state": {
       "description": "b",
       "layout": "IPY_MODEL_dff0cfcee4734ad7b0ea5552d18aca05",
       "style": "IPY_MODEL_097c165736f0495981faa6b03a3c190a",
       "value": "two"
      }
     },
     "0f616233a5ad4b669b279e2f1059d6f1": {
      "model_module": "@jupyter-widgets/base",
      "model_module_version": "2.0.0",
      "model_name": "LayoutModel",
      "state": {}
     },
     "104e808e1a8c4d9ba541d4d8bc28fb12": {
      "model_module": "@jupyter-widgets/controls",
      "model_module_version": "2.0.0",
      "model_name": "TextStyleModel",
      "state": {
       "description_width": "",
       "font_size": null,
       "text_color": null
      }
     },
     "10d08781b68942feae1fc6560fcd51ff": {
      "model_module": "@jupyter-widgets/base",
      "model_module_version": "2.0.0",
      "model_name": "LayoutModel",
      "state": {}
     },
     "114e2cb872c845de96de369c197f1405": {
      "model_module": "@jupyter-widgets/controls",
      "model_module_version": "2.0.0",
      "model_name": "TextStyleModel",
      "state": {
       "description_width": "",
       "font_size": null,
       "text_color": null
      }
     },
     "11cb17e7d1094196a1cf1384d4792e82": {
      "model_module": "@jupyter-widgets/controls",
      "model_module_version": "2.0.0",
      "model_name": "TextModel",
      "state": {
       "description": "Source",
       "layout": "IPY_MODEL_032b4ab878d84188b68a52357cb84f24",
       "style": "IPY_MODEL_eb4c60db94234a68b58a8c01360acf0c",
       "value": "https://www.nsfarming.com/"
      }
     },
     "11fa6fd3c2204dcd99ff00be5a29b3ed": {
      "model_module": "@jupyter-widgets/controls",
      "model_module_version": "2.0.0",
      "model_name": "TextStyleModel",
      "state": {
       "description_width": "",
       "font_size": null,
       "text_color": null
      }
     },
     "1205e6585bf24b2290fd47a7e013665a": {
      "model_module": "@jupyter-widgets/controls",
      "model_module_version": "2.0.0",
      "model_name": "TextStyleModel",
      "state": {
       "description_width": "",
       "font_size": null,
       "text_color": null
      }
     },
     "126e6a0e088f4de180e5f4de49032182": {
      "model_module": "@jupyter-widgets/controls",
      "model_module_version": "2.0.0",
      "model_name": "TextStyleModel",
      "state": {
       "description_width": "",
       "font_size": null,
       "text_color": null
      }
     },
     "12bd28f18a1b4f3984f72084f4d4fff9": {
      "model_module": "@jupyter-widgets/controls",
      "model_module_version": "2.0.0",
      "model_name": "ButtonModel",
      "state": {
       "description": "+",
       "layout": "IPY_MODEL_8d6d5e5a4e8345c5a9f008c163fbf3ed",
       "style": "IPY_MODEL_22d5366e0b134057bd9dc7c84a695064",
       "tooltip": null
      }
     },
     "13a08599accb46a6aca09c495b21f569": {
      "model_module": "@jupyter-widgets/controls",
      "model_module_version": "2.0.0",
      "model_name": "ButtonStyleModel",
      "state": {
       "font_family": null,
       "font_size": null,
       "font_style": null,
       "font_variant": null,
       "font_weight": null,
       "text_color": null,
       "text_decoration": null
      }
     },
     "143af0b030194e03a6864451a05c4792": {
      "model_module": "@jupyter-widgets/controls",
      "model_module_version": "2.0.0",
      "model_name": "TextModel",
      "state": {
       "description": "Project Name",
       "layout": "IPY_MODEL_95a0314f338c469abcb3e02d79229a4a",
       "style": "IPY_MODEL_0d65535c2fcb41d2845d71a3519f8431",
       "value": "Australia:Natural Sequence Farming!"
      }
     },
     "155ffd3a818f4bd58a512e7a2e1ed83b": {
      "model_module": "@jupyter-widgets/base",
      "model_module_version": "2.0.0",
      "model_name": "LayoutModel",
      "state": {}
     },
     "1634d370b83b4cb4b68df40b62776c5f": {
      "model_module": "@jupyter-widgets/controls",
      "model_module_version": "2.0.0",
      "model_name": "TextModel",
      "state": {
       "description": "Social/Web",
       "layout": "IPY_MODEL_7aba55c6764c441984ce3d1af6a7d499",
       "style": "IPY_MODEL_ec8f73de8ec344fcb40bce3518f59b41",
       "value": "1"
      }
     },
     "16e489e3799149bda75fe5942b1a4efe": {
      "model_module": "@jupyter-widgets/controls",
      "model_module_version": "2.0.0",
      "model_name": "TextModel",
      "state": {
       "description": "Polygon?",
       "layout": "IPY_MODEL_10d08781b68942feae1fc6560fcd51ff",
       "style": "IPY_MODEL_e2d7b6e4ffba435fa3616648f5e18a4e",
       "value": "FALSE"
      }
     },
     "17cdf880f6c14075bafd918ccb50376f": {
      "model_module": "@jupyter-widgets/base",
      "model_module_version": "2.0.0",
      "model_name": "LayoutModel",
      "state": {}
     },
     "1943c37b2abe41cfbd5d59ba981eea16": {
      "model_module": "@jupyter-widgets/base",
      "model_module_version": "2.0.0",
      "model_name": "LayoutModel",
      "state": {}
     },
     "1a863f0fea4941e689069386823828f2": {
      "model_module": "@jupyter-widgets/controls",
      "model_module_version": "2.0.0",
      "model_name": "TextStyleModel",
      "state": {
       "description_width": "",
       "font_size": null,
       "text_color": null
      }
     },
     "1b05ee39af984c1b9ae82afee79bdf68": {
      "model_module": "@jupyter-widgets/output",
      "model_module_version": "1.0.0",
      "model_name": "OutputModel",
      "state": {
       "layout": "IPY_MODEL_e78e9cc5b2324d49b0f16a2b487db8ee"
      }
     },
     "1c456d6145784e97befb816ae9940dc3": {
      "model_module": "@jupyter-widgets/controls",
      "model_module_version": "2.0.0",
      "model_name": "TextStyleModel",
      "state": {
       "description_width": "",
       "font_size": null,
       "text_color": null
      }
     },
     "1ce7a0ea8d6a464ea55568ddfdfff458": {
      "model_module": "@jupyter-widgets/controls",
      "model_module_version": "2.0.0",
      "model_name": "TextModel",
      "state": {
       "description": "PNamePlus",
       "layout": "IPY_MODEL_e5ee561bc4024b64b18e34cc2cf96ad3",
       "style": "IPY_MODEL_fc87db93695e46b892150af770899bd3",
       "value": "🌈Australia:Natural Sequence Farming!"
      }
     },
     "1d6cc409ef1e4ff29bfecc3e0845bec2": {
      "model_module": "@jupyter-widgets/controls",
      "model_module_version": "2.0.0",
      "model_name": "TextModel",
      "state": {
       "description": "PIP?",
       "layout": "IPY_MODEL_6e07952c92ce424088b908fbfcc7c24f",
       "style": "IPY_MODEL_082b599b97b54183962d473151fde2ea",
       "value": "FALSE"
      }
     },
     "1dcae2bf95144d3da60cb2e10850bf30": {
      "model_module": "@jupyter-widgets/controls",
      "model_module_version": "2.0.0",
      "model_name": "TextModel",
      "state": {
       "description": "Updated Location",
       "layout": "IPY_MODEL_9ec7b75540e64cc9855e6c80ace879f2",
       "style": "IPY_MODEL_085067d5491c4cb2b3d53ab6f68e41be",
       "value": "Batehaven, New South Wales, Australia"
      }
     },
     "1ddc1f0f21ad45568d15b3167cc27069": {
      "model_module": "@jupyter-widgets/controls",
      "model_module_version": "2.0.0",
      "model_name": "TextModel",
      "state": {
       "description": "Contacted?",
       "layout": "IPY_MODEL_3d72e6938ffa487bad91e5adb3b449f0",
       "style": "IPY_MODEL_81b203e0b53d4a5691f013717a4eeaa9",
       "value": "FALSE"
      }
     },
     "1e4af02b121c4ac7beff7a96bff6c9cf": {
      "model_module": "@jupyter-widgets/controls",
      "model_module_version": "2.0.0",
      "model_name": "ButtonStyleModel",
      "state": {
       "font_family": null,
       "font_size": null,
       "font_style": null,
       "font_variant": null,
       "font_weight": null,
       "text_color": null,
       "text_decoration": null
      }
     },
     "1e81d81579be4e35a9c5808a2cc7ea05": {
      "model_module": "@jupyter-widgets/controls",
      "model_module_version": "2.0.0",
      "model_name": "TextModel",
      "state": {
       "description": "Social/Web",
       "layout": "IPY_MODEL_69b6face99fb467fa82ea6cba41bfee4",
       "style": "IPY_MODEL_e2e230a25f464ca2abfa8e832182921e",
       "value": "1"
      }
     },
     "1f7662ffeea8450aa997a7fdc0847ff3": {
      "model_module": "@jupyter-widgets/controls",
      "model_module_version": "2.0.0",
      "model_name": "TextModel",
      "state": {
       "description": "Thumbnails",
       "layout": "IPY_MODEL_3889f6af25d64c90bd2d76705436c480",
       "style": "IPY_MODEL_246b1d13c9774396993a1b23358c0a5a",
       "value": "http://res.cloudinary.com/e-nable-org/image/upload/v1672169763/ykpj1sugvcrlabviwr1p.jpg"
      }
     },
     "1fe41d6dd30444ff914497ba69fab6fa": {
      "model_module": "@jupyter-widgets/base",
      "model_module_version": "2.0.0",
      "model_name": "LayoutModel",
      "state": {}
     },
     "20f6590931784bb7a273ac4316530637": {
      "model_module": "@jupyter-widgets/controls",
      "model_module_version": "2.0.0",
      "model_name": "TextModel",
      "state": {
       "description": "PIP?",
       "layout": "IPY_MODEL_29644ff4c6f0493cb6887d4c0d798bb8",
       "style": "IPY_MODEL_759403466e284ffdb7d641139f3dc749",
       "value": "FALSE"
      }
     },
     "22b4eb31a25346e5ad3b5e811c4121ce": {
      "model_module": "@jupyter-widgets/controls",
      "model_module_version": "2.0.0",
      "model_name": "TextModel",
      "state": {
       "description": "Longitude",
       "layout": "IPY_MODEL_3440062edf5c437dba9d20897a81106a",
       "style": "IPY_MODEL_b2e37a28af294d178f46772167e34774",
       "value": "150.2027"
      }
     },
     "22d5366e0b134057bd9dc7c84a695064": {
      "model_module": "@jupyter-widgets/controls",
      "model_module_version": "2.0.0",
      "model_name": "ButtonStyleModel",
      "state": {
       "font_family": null,
       "font_size": null,
       "font_style": null,
       "font_variant": null,
       "font_weight": null,
       "text_color": null,
       "text_decoration": null
      }
     },
     "2338de69951145fc88c987706fb3f17e": {
      "model_module": "@jupyter-widgets/controls",
      "model_module_version": "2.0.0",
      "model_name": "TextModel",
      "state": {
       "description": "c",
       "layout": "IPY_MODEL_94d8a586fa854fa1b16a4fca0f1bd6ad",
       "style": "IPY_MODEL_1c456d6145784e97befb816ae9940dc3",
       "value": "three"
      }
     },
     "23a86d756a014d30b9d8d40ff7ccf637": {
      "model_module": "@jupyter-widgets/base",
      "model_module_version": "2.0.0",
      "model_name": "LayoutModel",
      "state": {
       "height": "1000px",
       "width": "40%"
      }
     },
     "23c1ad7298f0466292e47e055d97e9f8": {
      "model_module": "@jupyter-widgets/controls",
      "model_module_version": "2.0.0",
      "model_name": "HBoxModel",
      "state": {
       "children": [
        "IPY_MODEL_5c9444b76eca4f28b7417a4568005840",
        "IPY_MODEL_3433a1cd8f594fb2ab9d23e23edf5730",
        "IPY_MODEL_3bfea2c4a85f4c33937b22579eb211fd"
       ],
       "layout": "IPY_MODEL_9c92d917427e47ae87a280f2339b389d"
      }
     },
     "23cc01dbe8ad4f4b9add562ca0be96c5": {
      "model_module": "@jupyter-widgets/base",
      "model_module_version": "2.0.0",
      "model_name": "LayoutModel",
      "state": {}
     },
     "241fe58a7c5842cbb57d75a55bc0c576": {
      "model_module": "@jupyter-widgets/controls",
      "model_module_version": "2.0.0",
      "model_name": "ButtonStyleModel",
      "state": {
       "button_color": "#F5F5DC",
       "font_family": null,
       "font_size": null,
       "font_style": null,
       "font_variant": null,
       "font_weight": null,
       "text_color": null,
       "text_decoration": null
      }
     },
     "246b1d13c9774396993a1b23358c0a5a": {
      "model_module": "@jupyter-widgets/controls",
      "model_module_version": "2.0.0",
      "model_name": "TextStyleModel",
      "state": {
       "description_width": "",
       "font_size": null,
       "text_color": null
      }
     },
     "255e5af9ba604f8d99c6bf9e38ec9581": {
      "model_module": "@jupyter-widgets/controls",
      "model_module_version": "2.0.0",
      "model_name": "TextStyleModel",
      "state": {
       "description_width": "",
       "font_size": null,
       "text_color": null
      }
     },
     "2588e8ae30ca439393597df11a97042b": {
      "model_module": "@jupyter-widgets/base",
      "model_module_version": "2.0.0",
      "model_name": "LayoutModel",
      "state": {}
     },
     "269c3ad797874abc8b9139667a98ca41": {
      "model_module": "@jupyter-widgets/controls",
      "model_module_version": "2.0.0",
      "model_name": "TextStyleModel",
      "state": {
       "description_width": "",
       "font_size": null,
       "text_color": null
      }
     },
     "26f43b6e088742f898d849f11b1f7088": {
      "model_module": "@jupyter-widgets/controls",
      "model_module_version": "2.0.0",
      "model_name": "TextStyleModel",
      "state": {
       "description_width": "",
       "font_size": null,
       "text_color": null
      }
     },
     "2787f6f81e3449f9a4b2cdea65da211c": {
      "model_module": "@jupyter-widgets/base",
      "model_module_version": "2.0.0",
      "model_name": "LayoutModel",
      "state": {}
     },
     "29644ff4c6f0493cb6887d4c0d798bb8": {
      "model_module": "@jupyter-widgets/base",
      "model_module_version": "2.0.0",
      "model_name": "LayoutModel",
      "state": {}
     },
     "2a99aab74b0844e5bc903a1973599f95": {
      "model_module": "@jupyter-widgets/base",
      "model_module_version": "2.0.0",
      "model_name": "LayoutModel",
      "state": {}
     },
     "2b2e3db84d314e5fb61c12a151aa8fcf": {
      "model_module": "@jupyter-widgets/base",
      "model_module_version": "2.0.0",
      "model_name": "LayoutModel",
      "state": {}
     },
     "2f04c211beba41d89264424233265111": {
      "model_module": "@jupyter-widgets/base",
      "model_module_version": "2.0.0",
      "model_name": "LayoutModel",
      "state": {}
     },
     "2f0a0bfdb39f49bd970c3c53e2f23408": {
      "model_module": "@jupyter-widgets/controls",
      "model_module_version": "2.0.0",
      "model_name": "TextModel",
      "state": {
       "description": "Polygon?",
       "layout": "IPY_MODEL_0f616233a5ad4b669b279e2f1059d6f1",
       "style": "IPY_MODEL_e78477857e4443799b14e86b487d3cba",
       "value": "FALSE"
      }
     },
     "2fad18518c70415380adee763182331d": {
      "model_module": "@jupyter-widgets/controls",
      "model_module_version": "2.0.0",
      "model_name": "TextModel",
      "state": {
       "description": "AgroEcology",
       "layout": "IPY_MODEL_bec7ab8f12a9430d97703a30e7d4bbd3",
       "style": "IPY_MODEL_96b60cf835ee45e1a674a1aef4e156d0"
      }
     },
     "30c8f303e472442489f5220529a0aacf": {
      "model_module": "@jupyter-widgets/controls",
      "model_module_version": "2.0.0",
      "model_name": "TextStyleModel",
      "state": {
       "description_width": "",
       "font_size": null,
       "text_color": null
      }
     },
     "30d33486af4c4bccb110c1fe0204d333": {
      "model_module": "@jupyter-widgets/base",
      "model_module_version": "2.0.0",
      "model_name": "LayoutModel",
      "state": {}
     },
     "31019928c514444580d44c4da5691196": {
      "model_module": "@jupyter-widgets/controls",
      "model_module_version": "2.0.0",
      "model_name": "HBoxModel",
      "state": {
       "children": [
        "IPY_MODEL_c2de87013c3c4761813e35a7c3b2ef3c",
        "IPY_MODEL_048daad498fc4def9c1206deefe0839c",
        "IPY_MODEL_12bd28f18a1b4f3984f72084f4d4fff9"
       ],
       "layout": "IPY_MODEL_41ec2ae9e1234d2c9216a823e2cbf6b2"
      }
     },
     "317e7fae9b6f4df4ac0c8d8db09a9451": {
      "model_module": "@jupyter-widgets/controls",
      "model_module_version": "2.0.0",
      "model_name": "TextStyleModel",
      "state": {
       "description_width": "",
       "font_size": null,
       "text_color": null
      }
     },
     "31badb2180c04cb3a763e6ba8e313e75": {
      "model_module": "@jupyter-widgets/base",
      "model_module_version": "2.0.0",
      "model_name": "LayoutModel",
      "state": {}
     },
     "320012c395c14b049f377287602312ad": {
      "model_module": "@jupyter-widgets/controls",
      "model_module_version": "2.0.0",
      "model_name": "TextModel",
      "state": {
       "description": "Source",
       "layout": "IPY_MODEL_d380b1536b0f49d79f481b656e973e53",
       "style": "IPY_MODEL_4b21529017264a01ad769cfb9cf3d7ba",
       "value": "https://www.nsfarming.com/"
      }
     },
     "32bbe3e983374b4da96e04892cd5ff6e": {
      "model_module": "@jupyter-widgets/controls",
      "model_module_version": "2.0.0",
      "model_name": "VBoxModel",
      "state": {
       "children": [
        "IPY_MODEL_143af0b030194e03a6864451a05c4792",
        "IPY_MODEL_320012c395c14b049f377287602312ad",
        "IPY_MODEL_be96b8e18d9e44dfa76be8179dcb9a4a",
        "IPY_MODEL_b3ddadbd71444ba69c156da45905c7ec",
        "IPY_MODEL_793e9346732649748511dab7f3eecf67",
        "IPY_MODEL_5a777ac187f04ff2af24972dadf37c24",
        "IPY_MODEL_f1fab2bd33004b7fba73292eade52a2b",
        "IPY_MODEL_4aeacf95816242d3b2837fa504998312",
        "IPY_MODEL_61cdd294be024589b2ec218067fe81cf",
        "IPY_MODEL_0a893437bdbe41ab936ace5847214dad",
        "IPY_MODEL_34a1aa3e3b8143a2b98eb15e78c645ad",
        "IPY_MODEL_1634d370b83b4cb4b68df40b62776c5f",
        "IPY_MODEL_e289a2891fd64dd39f5bc51a4f04a068",
        "IPY_MODEL_5e94034983f34896b58dfaa52dc33cf4",
        "IPY_MODEL_6b634cec02784cdd8d92d176b22aa5b8",
        "IPY_MODEL_3e03a0c285cd4eea996322e0fc571572",
        "IPY_MODEL_3c1ce375c2da487eb0da1135a1601078",
        "IPY_MODEL_cbfa3976b02e4ed79a7f4ea25c749ea2",
        "IPY_MODEL_1ce7a0ea8d6a464ea55568ddfdfff458",
        "IPY_MODEL_96c702f325be429fb6e42f5ee5b335ec",
        "IPY_MODEL_086360b9cea14c4aae861b7d53a1306b",
        "IPY_MODEL_66a77a31f8654b7e9878612983b09c0d",
        "IPY_MODEL_759767950ab84ba3a343be173cc6d7cd",
        "IPY_MODEL_604b7c9550d346b9bc86741f7f6b1311",
        "IPY_MODEL_49af30e07b2540d1847e07f98501aeb6",
        "IPY_MODEL_d2eccf6225994c5ba6dcc16cfef3f734",
        "IPY_MODEL_1ddc1f0f21ad45568d15b3167cc27069",
        "IPY_MODEL_16e489e3799149bda75fe5942b1a4efe",
        "IPY_MODEL_1d6cc409ef1e4ff29bfecc3e0845bec2",
        "IPY_MODEL_094e25855138439eaf6ae5fc961bcad2",
        "IPY_MODEL_0895e11e3a88419da36df8d391a509f4",
        "IPY_MODEL_39be67169b7347779492d90ab31fdc13",
        "IPY_MODEL_882e105bf9304b5cb3815fccb5320eee",
        "IPY_MODEL_dcf36761d7104fca9f90ece09112c623",
        "IPY_MODEL_e001a70bd7f348f3ae5fc996c9b9290f",
        "IPY_MODEL_c5895f99a8ff4204b19cc004314258db",
        "IPY_MODEL_3e82a37fe6be4a33b954e1ccbf231390"
       ],
       "layout": "IPY_MODEL_23a86d756a014d30b9d8d40ff7ccf637"
      }
     },
     "33b89dba1ea9465d86c5a5db18974f12": {
      "model_module": "@jupyter-widgets/controls",
      "model_module_version": "2.0.0",
      "model_name": "VBoxModel",
      "state": {
       "children": [
        "IPY_MODEL_eca32847636a4a859a869fcb13db7766"
       ],
       "layout": "IPY_MODEL_03e2661990f34e12be848e831cb8fc94"
      }
     },
     "33f0e6b8355d44d19574b38628c1b009": {
      "model_module": "@jupyter-widgets/controls",
      "model_module_version": "2.0.0",
      "model_name": "ButtonModel",
      "state": {
       "description": "-",
       "layout": "IPY_MODEL_85794fc88ad543c0925a9ff60b4f734c",
       "style": "IPY_MODEL_b44489dc37ad4995a53e3ecdb0cca7e3",
       "tooltip": null
      }
     },
     "341b67f561004163b6d1dd578be23395": {
      "model_module": "@jupyter-widgets/base",
      "model_module_version": "2.0.0",
      "model_name": "LayoutModel",
      "state": {}
     },
     "3433a1cd8f594fb2ab9d23e23edf5730": {
      "model_module": "@jupyter-widgets/controls",
      "model_module_version": "2.0.0",
      "model_name": "TextareaModel",
      "state": {
       "layout": "IPY_MODEL_fc3ed569d0934001b4c548cb345780df",
       "style": "IPY_MODEL_9b8d54b7bcbf4d18aef46acc21e5f7d2",
       "value": "Natural sequences that can be harnessed by informed management include the movement of grazing animals, birds and insects from valley floors by day to higher levels on the valley sides at night and the transfer of fertility with them. There is a gradual movement of nutrients and seeds back down the valley sides via the water cycle, vegetation and soil processes, constantly refurbishing the fertility of the landscape.\n\nIn the process, various plants collect specific substances and the plant communities change in predictable sequences. As part of the biodiversity of a property and catchment, these plants are also a part of multiple food chains and a key to enhancing fertility.\n\nNutrients contained in soil or water are mobile and can be quickly lost off-site. Nutrients contained in biodiverse living bodies are stable. NSF management keeps natural functions connected which allows for quick exchange and conversion of nutrients within ecosystems on properties.\n\nPeter Andrews has found that even plants labeled as weeds can serve as pioneering species in inhibiting nutrient and soil erosion. They collect and supply essential substances for environmental health. Once slashed, fertility is built up and the weeds are replaced naturally by palatable grasses. To maximize production and conservation results requires a good understanding of interaction of the roles of clays and sands in the process.\n\nThis process is complemented by NSF property management when the initial erosion and fertility stabilising need has been met. The once degraded soils are then able to contribute to increased water use efficiency and optimal production levels through their increased organic content.\n\nAreas such as floodplains, that collect large amounts of nutrients, can be harvested to redistribute some of the fertility. Like the daily migration of birds and animals, downpours flushing streams to a floodplain are a sequence in the periodic fertilisation and harvest cycle.\n\nIn this process, surface running water dissolves natural substances and collects sediments, algae, microbes and plant residues from all parts of the catchment. Re-connecting running water to the stepped land formation of the chain of ponds that used to dominate traditional Australian landscapes, slows water flow. This enhances the ability of growing plants, coupled with decreasing inclines, soils and sands, to filter the water feeding into streams running along the valley floor. This process, in turn, feeds plant roots from the sub-surface and caps saline groundwater from surrounding slopes by perching a freshwater lens above saline layers.\n\nAll substances are functional in this naturally managed environment. Salts managed as saline groundwater, where evaporation is excluded from concentrating and crystallizing the substances, allow plant, animal and water ecosystems to balance salinity in the landscape as a natural function. In this way a hillslope pasture or floodplain water meadow is re-created.\n\nOn the floodplain, hydrostatic pressure is maintained on the heavier lower saline layers though maintaining high freshwater tables in the perched chain of ponds. At the same time, the stream replenishes the floodplain and its meadows, through lateral transfer to the freshwater table just below the surface.\n\nThe floodplain is convex. The perched stream runs along the higher elevation or apex and the billabongs and backswamps are at the lower positions on the perimeter of the floodplain where it meets the valley sides. This shape is created by the natural flow of the stream and reinforced by heavier sediment being deposited on and near the stream-bed in flood.\n\n\nA farming system founded on working with nature\n\nIn many regions of Australia, floodplains are disconnected from creeks and rivers and natural flow regimes. This leaves them unable to store water to support productive farming and the growth of riparian vegetation.\n\nMany of today’s floodplains are incised with deeply scoured gullies and gorges. These are channels that expedite the swift flowing removal of much of the land’s fertility and the carriage of increasing amounts of salt. The soil and its nutrients are highly susceptible to leaching and erosion owing to the application of inappropriate agricultural and pastoral practices creating depleted soils and vegetation cover.\n\nNSF takes a holistic approach to natural resource management by re-establishing the stream’s connection to the surrounding landscape and restoring floodplains as ‘sponges’. Although most landscapes have unique qualities, the principles of landform and management are the same. The physics remains constant.\n\nPeter Andrews’ interpretation of the landscape accepts that, pre-European settlement, the soil’s natural salt content was kept in check by slow sub-soil movements of fresh water.\n\nUnder natural systems that are replicated by NSF, movement of fresh water is by surface and sub-surface flows. The surface flow is by the stream which is perched at the highest level of the floodplain on an accumulation of sediment. Surface water is buffered at each narrowed step position in the chain of ponds. Under NSF, this is achieved by a naturalised ‘leaky weir’ of rocks, sediment, trees, branches, reeds and grass roots mimicking the original natural slowing impediments to flows.\n\nIn floodplains in their pristine form, water is stepped slowly down the stream valley floor from one end of a catchment to the other. The stream valley floor is segmented with steps. These steps are where a new floodplain starts and the up-stream one finishes, and below which, large reed beds form on recharge areas.\n\nThe floodplains are soil, vegetation and water-filled ponds, forming links in a chain as they progress through each step down the valley. They are joined at each step where the valley sides narrow. Stream water travels through each linked floodplain as a sequence in the stream valley. The stream meanders over each sequence. It covers the floodplain with sediments as it steadily descends the valley. Each floodplain has stream meanders, pools and riffles as well as wetland and water meadow filters.\n\nWhere an incised stream bed exists, during low to medium stream flows, the sides of the stream are contained by levee banks built up by flood deposits. The banks are protected from severe erosion by wetland plants such as phragmites, other natural grasses, and streamside trees and shrubs, which have colonised the area.\n\nAt the same time, hydrostatic pressure from the perched water table in the stream prevents the lateral intrusion of salinity from the floodplain even in low flow periods.\n\nTo recreate the chain of ponds effect, NSF uses small secondary diversion channels to reconnect streams to their floodplains. These channels braid out through the lush meadows to the edges of the floodplain and water then returns to the main stream through surface and sub-surface flows. They pick up peak flows that are diverted by the leaky weirs which maintain normal base flow to downstream properties.\n\nDuring high flows, as water spreads across the floodplain in the braided diversion channels, some water is absorbed through sandy intake beds, recharging the groundwater lens above saline layers and just below the plant root systems.\n\nAnother portion of the surface water is carried in the channels towards historic floodplain terraces on the edge of the floodplain to refresh hollows and billabongs, facilitating fish passage in the process.\n\nDuring flood events, the reed buffers along the stream sides and at the narrow ends, where each pond is joined in the chain, lay down to laminate the ground surface with their protective mat but are ready to grow upright again when the flows have subsided.\n\nThe hydrostatic pressure of water in the topped-up meadow and billabong storages on the floodplain prevents the plants on the floodplain from ‘drowning’ in the short interval when the water is at a high level. This process can mitigate the impacts of salt ‘slugs’ that may have been scoured from saline deposits in uplands.\n\nThe stream water that is impounded in the recharged groundwater lens within the floodplain soils also provides a buffer against drought. There can be a period of several years of thriving plant growth before the water is fully transpired and the soil, which is heavily shaded by extensive vegetation cover, dries out. In normal years recharge from flooding would arrive earlier to restore the groundwater.\n\nAs part of NSF management, the farmer can divert flows between channels to dry out a meadow area for harvest while starting to produce increased growth in a new zone of the floodplain.\n\n\nMaximum natural outcomes with minimum financial and manufactured inputs\n\nPeter Andrews’ NSF concepts are being applied at project sites as diverse as those featuring upland fast-flowing water courses, to broadacre cropping areas, dry gullies, and salt encrusted degraded lands as well as broad stream valleys and wetlands. Where human-induced impediments to natural growth and production are gradually replaced by the system built around the natural sequences of plants, animals, water and soils, properties have a solid foundation for increased profitability and long term sustainability. Industry analysts have been particularly attracted by the lush growth produced during drought conditions under Peter Andrews’ system.\n\nUnder NSF, natural water flows are reintroduced to alluvial soil plains. In many ways natural alluvial soil floodplains form the whole waterway down the valley whether through surface or sub-surface flow. In contrast, irrigation is the artificial application of water to the land. Invariably, the source of the irrigation water is from artificial storages and highly moderated streams with incised and eroded channels. These have generally been created by past poor environmental practices such as the removal of ground cover.\n\nOwing to its base of natural processes, NSF achieves more sustainable outcomes than traditional pipe and pump irrigation systems as it does not incur large financial costs or create long-term environmental degradation, loss of biodiversity and increasing salinity, as often occurs catchments with highly regulated stream regimes. NSF employs few imported or manufactured inputs such as pesticides, herbicides and artificial fertilisers. In terms of financial capital and operating inputs, it is not an expensive system to introduce and it brings Greenhouse gas benefits through increasing carbon levels in the landscape.\n\nThe investment required is in training for the landholder to interpret the natural processes of the landscape and time spent by the farmer in ‘reading the country’ and applying the NSF principles to the particular property and landscape features of their region. It is no surprise to find that Peter Andrews grew up on a property near Broken Hill area and spent much time with his stockman father and members of the Aboriginal community learning to read country.\n\nIn most cases, Peter Andrews finds that resources available on-site only require intelligent redistribution for natural processes to work in favour of productivity and a reversal of human-induced environmental imbalance and degradation, as most of the naturally developed ‘infrastructure’ is still there.\n\nIn working with nature, NSF requires very low maintenance inputs. Where outside inputs are employed on a farm they can be targeted. Small amounts can be applied to specific areas or species where the system is temporarily out of balance owing, in most cases, to factors outside the property boundaries. NSF harmonises modern technology with natural plant progressions to achieve a resilient model of farming.\n\nWhere neighbouring landholders in a sub-catchment adopt NSF, even more rapid progress to increased profitability and environmental sustainability can be achieved, as NSF adopts a whole-of-catchment approach to farming.\n\n\nNSF applied to Grazing\n\nUnder NSF, many forms of grazing are appropriate if a vigorous perennial plant community can be maintained. If c ell-grazing methods are used, especially across valley segments from ridge to ridge, protection of the riparian zone needs to be considered. Over the medium to long term, weed control, nutrient balances and pest management can be managed by using Natural Sequence Farming methods.\n\nThe improved groundcover and reduced cultivation under NSF not only minimises farm costs but also reduces erosion, avoids soil compaction and maintains a soil structure with increased water holding capacity.\n\nThe use of water balances within NSF, brings the most increases in productivity and sustainability. Costs are also minimised, as water storage is in the groundwater lens rather than expensive above-ground dams, prone to siltation and with high evaporation rates when the water is needed most. Pasture is fed naturally from the roots rather than requiring extensive capital investments in pumps, pipes, irrigation gantries or feeder networks.\n\nTraditional livestock husbandry methods can be complementary to Natural Sequence Farming. Under NSF, livestock are considered as a major tool in land management, including for transferring fertility and controlling weeds. However, feedlot methods of production and other methods of confining herds or flocks need to be well-sited in the catchment to utilise self-removal and self-collection of residues for fertility management.\n\nOnce the initial phase of re-establishment to natural sequences is well on the way, which in most cases only takes one or two years with low cost inputs, monitoring and the application of NSF principles in harmony with Nature achieves continuing sustainable production.\n\n\nNSF applied to Agriculture\n\nUnder NSF, cropping is best suited to methods complementary to retaining significant areas of season-specific perennial pastures. If needed, cultivation may be confined to soils on valley slopes rather than floodplains but it can be worth exploring direct-drill minimum-till broadcast methods first.\n\nHorticulture can be sited off flood plain areas, with careful transfer of valley floor fertility and water within the NSF system.\n\nNSF harmonises well with organic approaches to producing premium farm produce for a growing domestic and export market. Increasing numbers of consumers and vendors are demanding products produced with environmentally sustainable systems coupled with farm accreditation and certified produce before acceptance.\n\nThe use of outside inputs or recycling farm produce on the property can be part of managed fertility transfer, both on the farm and in the sub-catchment. For instance, hay making of legume-rich pasture can be rotated around various areas of a property to work in with weed reduction needs and fertility management.\n\nIrrigation is best-sited on valley floors although most areas managed with NSF require minimum supplementation of water transfers already naturally occurring on and beneath the floodplain.\n \n</p></body>\n\n~~~ #Social/Web"
      }
     },
     "3440062edf5c437dba9d20897a81106a": {
      "model_module": "@jupyter-widgets/base",
      "model_module_version": "2.0.0",
      "model_name": "LayoutModel",
      "state": {}
     },
     "34a1aa3e3b8143a2b98eb15e78c645ad": {
      "model_module": "@jupyter-widgets/controls",
      "model_module_version": "2.0.0",
      "model_name": "TextModel",
      "state": {
       "description": "Longitude",
       "layout": "IPY_MODEL_5cc42a5130d74b94a6a21d831f4c95bf",
       "style": "IPY_MODEL_fdc5253cdbb34252be82e83d323cc41b",
       "value": "150.2027"
      }
     },
     "34d3dc86ac64401c9aaa3562ce478cc3": {
      "model_module": "@jupyter-widgets/base",
      "model_module_version": "2.0.0",
      "model_name": "LayoutModel",
      "state": {}
     },
     "35543e07633b4933a225310ef313a541": {
      "model_module": "@jupyter-widgets/controls",
      "model_module_version": "2.0.0",
      "model_name": "TextModel",
      "state": {
       "description": "x2",
       "layout": "IPY_MODEL_30d33486af4c4bccb110c1fe0204d333",
       "style": "IPY_MODEL_4f0656b592814d3ca47ec71bfbe44ef9",
       "value": "150.2027207"
      }
     },
     "35d62271158944cf8a707584f9d4c03d": {
      "model_module": "@jupyter-widgets/base",
      "model_module_version": "2.0.0",
      "model_name": "LayoutModel",
      "state": {}
     },
     "36edfa86d08342ec93b1290b768a7b22": {
      "model_module": "@jupyter-widgets/base",
      "model_module_version": "2.0.0",
      "model_name": "LayoutModel",
      "state": {}
     },
     "37152aac12c84a0fb72bcd5ad9a380cf": {
      "model_module": "@jupyter-widgets/controls",
      "model_module_version": "2.0.0",
      "model_name": "TextModel",
      "state": {
       "description": "eMail",
       "layout": "IPY_MODEL_1fe41d6dd30444ff914497ba69fab6fa",
       "style": "IPY_MODEL_392f11509d09409baf0198bdf2bd4705",
       "value": "info@nsfarming.com"
      }
     },
     "37b4e20257664a1d98d5d31bdcc17d73": {
      "model_module": "@jupyter-widgets/controls",
      "model_module_version": "2.0.0",
      "model_name": "ButtonStyleModel",
      "state": {
       "button_color": "lightgreen",
       "font_family": null,
       "font_size": null,
       "font_style": null,
       "font_variant": null,
       "font_weight": null,
       "text_color": null,
       "text_decoration": null
      }
     },
     "37cce16238a5405fa950bce221df10ad": {
      "model_module": "@jupyter-widgets/controls",
      "model_module_version": "2.0.0",
      "model_name": "TextStyleModel",
      "state": {
       "description_width": "",
       "font_size": null,
       "text_color": null
      }
     },
     "37da533a9d22479198ae5504864ad4b1": {
      "model_module": "@jupyter-widgets/controls",
      "model_module_version": "2.0.0",
      "model_name": "ButtonStyleModel",
      "state": {
       "font_family": null,
       "font_size": null,
       "font_style": null,
       "font_variant": null,
       "font_weight": null,
       "text_color": null,
       "text_decoration": null
      }
     },
     "381847662d924046bf331e9f9121b132": {
      "model_module": "@jupyter-widgets/controls",
      "model_module_version": "2.0.0",
      "model_name": "TextStyleModel",
      "state": {
       "description_width": "",
       "font_size": null,
       "text_color": null
      }
     },
     "382a73a47f5448feb28099627fea0c7e": {
      "model_module": "@jupyter-widgets/controls",
      "model_module_version": "2.0.0",
      "model_name": "ButtonStyleModel",
      "state": {
       "font_family": null,
       "font_size": null,
       "font_style": null,
       "font_variant": null,
       "font_weight": null,
       "text_color": null,
       "text_decoration": null
      }
     },
     "3889f6af25d64c90bd2d76705436c480": {
      "model_module": "@jupyter-widgets/base",
      "model_module_version": "2.0.0",
      "model_name": "LayoutModel",
      "state": {}
     },
     "392f11509d09409baf0198bdf2bd4705": {
      "model_module": "@jupyter-widgets/controls",
      "model_module_version": "2.0.0",
      "model_name": "TextStyleModel",
      "state": {
       "description_width": "",
       "font_size": null,
       "text_color": null
      }
     },
     "398bb35194244475994b05e3785ef0e7": {
      "model_module": "@jupyter-widgets/controls",
      "model_module_version": "2.0.0",
      "model_name": "ButtonModel",
      "state": {
       "description": "Image Sources?",
       "layout": "IPY_MODEL_59e320429dda4ce98d381ab7ff78d092",
       "style": "IPY_MODEL_94337b5992ce4c0db5bda7e70bff79ab",
       "tooltip": null
      }
     },
     "39be67169b7347779492d90ab31fdc13": {
      "model_module": "@jupyter-widgets/controls",
      "model_module_version": "2.0.0",
      "model_name": "TextModel",
      "state": {
       "description": "x2",
       "layout": "IPY_MODEL_6954c4cd84ab46fa81037e12d7f1de9c",
       "style": "IPY_MODEL_8ee32224eb694792a42a4658a76e0fc6",
       "value": "150.2027207"
      }
     },
     "39e29ddd8b6040bf8d9ee7c35fef7e56": {
      "model_module": "@jupyter-widgets/controls",
      "model_module_version": "2.0.0",
      "model_name": "TextModel",
      "state": {
       "description": "Comments",
       "layout": "IPY_MODEL_8fa2e3bcceb5432998a549d39c4119ce",
       "style": "IPY_MODEL_51904e4ef9b8424c9c4e51d7a0ec63af"
      }
     },
     "39ec503410c34450835592b3d253b831": {
      "model_module": "@jupyter-widgets/controls",
      "model_module_version": "2.0.0",
      "model_name": "HBoxModel",
      "state": {
       "children": [
        "IPY_MODEL_cd32ce44de754b7e8d3b0d61fca9e699",
        "IPY_MODEL_dc9e38eccbf24bdeb31f1b09b860bdd3",
        "IPY_MODEL_c79105bee1ec4098af15872b7f556bb0",
        "IPY_MODEL_052fc0692ae241a598ac6604b06d983e",
        "IPY_MODEL_512a1ce41de9490e8329e2ea166338d6"
       ],
       "layout": "IPY_MODEL_fe40da5fedfb467380f683e12bc0a5c5"
      }
     },
     "3aae9cccdb2546c6975cf67318ff845d": {
      "model_module": "@jupyter-widgets/controls",
      "model_module_version": "2.0.0",
      "model_name": "TextModel",
      "state": {
       "layout": "IPY_MODEL_78b7c4b580284aa8b67b0663103c9146",
       "style": "IPY_MODEL_549933e8fbd840d79dc8dc1085f02278",
       "value": "Gaithersburg"
      }
     },
     "3b21bccb33d5480d9a88f0f21d3a5f2b": {
      "model_module": "@jupyter-widgets/controls",
      "model_module_version": "2.0.0",
      "model_name": "TextModel",
      "state": {
       "description": "Latitude",
       "layout": "IPY_MODEL_62792d12ba14471abe613becd61c93ce",
       "style": "IPY_MODEL_55ddc5ea2f57422989b6b3a7526cfe40",
       "value": "-35.7369"
      }
     },
     "3bfea2c4a85f4c33937b22579eb211fd": {
      "model_module": "@jupyter-widgets/controls",
      "model_module_version": "2.0.0",
      "model_name": "HTMLModel",
      "state": {
       "layout": "IPY_MODEL_bdcca4d0520a435d9518b3c50ea54f7d",
       "style": "IPY_MODEL_8a8a6f29b1374f49b466709086ddf56f",
       "value": "<h2>Australia:Natural Sequence Farming!</h2>2: <b>Batehaven, New South Wales, Australia</b><img src=http://res.cloudinary.com/e-nable-org/image/upload/v1672169763/ykpj1sugvcrlabviwr1p.jpg width=100%></img><style>p, li {line-height:1.3; </style><p>\nNatural sequences that can be harnessed by informed management include the movement of grazing animals, birds and insects from valley floors by day to higher levels on the valley sides at night and the transfer of fertility with them. There is a gradual movement of nutrients and seeds back down the valley sides via the water cycle, vegetation and soil processes, constantly refurbishing the fertility of the landscape.<br/><br/>\nIn the process, various plants collect specific substances and the plant communities change in predictable sequences. As part of the biodiversity of a property and catchment, these plants are also a part of multiple food chains and a key to enhancing fertility.<br/><br/>\nNutrients contained in soil or water are mobile and can be quickly lost off-site. Nutrients contained in biodiverse living bodies are stable. NSF management keeps natural functions connected which allows for quick exchange and conversion of nutrients within ecosystems on properties.<br/><br/>\nPeter Andrews has found that even plants labeled as weeds can serve as pioneering species in inhibiting nutrient and soil erosion. They collect and supply essential substances for environmental health. Once slashed, fertility is built up and the weeds are replaced naturally by palatable grasses. To maximize production and conservation results requires a good understanding of interaction of the roles of clays and sands in the process.<br/><br/>\nThis process is complemented by NSF property management when the initial erosion and fertility stabilising need has been met. The once degraded soils are then able to contribute to increased water use efficiency and optimal production levels through their increased organic content.<br/><br/>\nAreas such as floodplains, that collect large amounts of nutrients, can be harvested to redistribute some of the fertility. Like the daily migration of birds and animals, downpours flushing streams to a floodplain are a sequence in the periodic fertilisation and harvest cycle.<br/><br/>\nIn this process, surface running water dissolves natural substances and collects sediments, algae, microbes and plant residues from all parts of the catchment. Re-connecting running water to the stepped land formation of the chain of ponds that used to dominate traditional Australian landscapes, slows water flow. This enhances the ability of growing plants, coupled with decreasing inclines, soils and sands, to filter the water feeding into streams running along the valley floor. This process, in turn, feeds plant roots from the sub-surface and caps saline groundwater from surrounding slopes by perching a freshwater lens above saline layers.<br/><br/>\nAll substances are functional in this naturally managed environment. Salts managed as saline groundwater, where evaporation is excluded from concentrating and crystallizing the substances, allow plant, animal and water ecosystems to balance salinity in the landscape as a natural function. In this way a hillslope pasture or floodplain water meadow is re-created.<br/><br/>\nOn the floodplain, hydrostatic pressure is maintained on the heavier lower saline layers though maintaining high freshwater tables in the perched chain of ponds. At the same time, the stream replenishes the floodplain and its meadows, through lateral transfer to the freshwater table just below the surface.<br/><br/>\nThe floodplain is convex. The perched stream runs along the higher elevation or apex and the billabongs and backswamps are at the lower positions on the perimeter of the floodplain where it meets the valley sides. This shape is created by the natural flow of the stream and reinforced by heavier sediment being deposited on and near the stream-bed in flood.<br/><br/>\n\nA farming system founded on working with nature<br/><br/>\nIn many regions of Australia, floodplains are disconnected from creeks and rivers and natural flow regimes. This leaves them unable to store water to support productive farming and the growth of riparian vegetation.<br/><br/>\nMany of today’s floodplains are incised with deeply scoured gullies and gorges. These are channels that expedite the swift flowing removal of much of the land’s fertility and the carriage of increasing amounts of salt. The soil and its nutrients are highly susceptible to leaching and erosion owing to the application of inappropriate agricultural and pastoral practices creating depleted soils and vegetation cover.<br/><br/>\nNSF takes a holistic approach to natural resource management by re-establishing the stream’s connection to the surrounding landscape and restoring floodplains as ‘sponges’. Although most landscapes have unique qualities, the principles of landform and management are the same. The physics remains constant.<br/><br/>\nPeter Andrews’ interpretation of the landscape accepts that, pre-European settlement, the soil’s natural salt content was kept in check by slow sub-soil movements of fresh water.<br/><br/>\nUnder natural systems that are replicated by NSF, movement of fresh water is by surface and sub-surface flows. The surface flow is by the stream which is perched at the highest level of the floodplain on an accumulation of sediment. Surface water is buffered at each narrowed step position in the chain of ponds. Under NSF, this is achieved by a naturalised ‘leaky weir’ of rocks, sediment, trees, branches, reeds and grass roots mimicking the original natural slowing impediments to flows.<br/><br/>\nIn floodplains in their pristine form, water is stepped slowly down the stream valley floor from one end of a catchment to the other. The stream valley floor is segmented with steps. These steps are where a new floodplain starts and the up-stream one finishes, and below which, large reed beds form on recharge areas.<br/><br/>\nThe floodplains are soil, vegetation and water-filled ponds, forming links in a chain as they progress through each step down the valley. They are joined at each step where the valley sides narrow. Stream water travels through each linked floodplain as a sequence in the stream valley. The stream meanders over each sequence. It covers the floodplain with sediments as it steadily descends the valley. Each floodplain has stream meanders, pools and riffles as well as wetland and water meadow filters.<br/><br/>\nWhere an incised stream bed exists, during low to medium stream flows, the sides of the stream are contained by levee banks built up by flood deposits. The banks are protected from severe erosion by wetland plants such as phragmites, other natural grasses, and streamside trees and shrubs, which have colonised the area.<br/><br/>\nAt the same time, hydrostatic pressure from the perched water table in the stream prevents the lateral intrusion of salinity from the floodplain even in low flow periods.<br/><br/>\nTo recreate the chain of ponds effect, NSF uses small secondary diversion channels to reconnect streams to their floodplains. These channels braid out through the lush meadows to the edges of the floodplain and water then returns to the main stream through surface and sub-surface flows. They pick up peak flows that are diverted by the leaky weirs which maintain normal base flow to downstream properties.<br/><br/>\nDuring high flows, as water spreads across the floodplain in the braided diversion channels, some water is absorbed through sandy intake beds, recharging the groundwater lens above saline layers and just below the plant root systems.<br/><br/>\nAnother portion of the surface water is carried in the channels towards historic floodplain terraces on the edge of the floodplain to refresh hollows and billabongs, facilitating fish passage in the process.<br/><br/>\nDuring flood events, the reed buffers along the stream sides and at the narrow ends, where each pond is joined in the chain, lay down to laminate the ground surface with their protective mat but are ready to grow upright again when the flows have subsided.<br/><br/>\nThe hydrostatic pressure of water in the topped-up meadow and billabong storages on the floodplain prevents the plants on the floodplain from ‘drowning’ in the short interval when the water is at a high level. This process can mitigate the impacts of salt ‘slugs’ that may have been scoured from saline deposits in uplands.<br/><br/>\nThe stream water that is impounded in the recharged groundwater lens within the floodplain soils also provides a buffer against drought. There can be a period of several years of thriving plant growth before the water is fully transpired and the soil, which is heavily shaded by extensive vegetation cover, dries out. In normal years recharge from flooding would arrive earlier to restore the groundwater.<br/><br/>\nAs part of NSF management, the farmer can divert flows between channels to dry out a meadow area for harvest while starting to produce increased growth in a new zone of the floodplain.<br/><br/>\n\nMaximum natural outcomes with minimum financial and manufactured inputs<br/><br/>\nPeter Andrews’ NSF concepts are being applied at project sites as diverse as those featuring upland fast-flowing water courses, to broadacre cropping areas, dry gullies, and salt encrusted degraded lands as well as broad stream valleys and wetlands. Where human-induced impediments to natural growth and production are gradually replaced by the system built around the natural sequences of plants, animals, water and soils, properties have a solid foundation for increased profitability and long term sustainability. Industry analysts have been particularly attracted by the lush growth produced during drought conditions under Peter Andrews’ system.<br/><br/>\nUnder NSF, natural water flows are reintroduced to alluvial soil plains. In many ways natural alluvial soil floodplains form the whole waterway down the valley whether through surface or sub-surface flow. In contrast, irrigation is the artificial application of water to the land. Invariably, the source of the irrigation water is from artificial storages and highly moderated streams with incised and eroded channels. These have generally been created by past poor environmental practices such as the removal of ground cover.<br/><br/>\nOwing to its base of natural processes, NSF achieves more sustainable outcomes than traditional pipe and pump irrigation systems as it does not incur large financial costs or create long-term environmental degradation, loss of biodiversity and increasing salinity, as often occurs catchments with highly regulated stream regimes. NSF employs few imported or manufactured inputs such as pesticides, herbicides and artificial fertilisers. In terms of financial capital and operating inputs, it is not an expensive system to introduce and it brings Greenhouse gas benefits through increasing carbon levels in the landscape.<br/><br/>\nThe investment required is in training for the landholder to interpret the natural processes of the landscape and time spent by the farmer in ‘reading the country’ and applying the NSF principles to the particular property and landscape features of their region. It is no surprise to find that Peter Andrews grew up on a property near Broken Hill area and spent much time with his stockman father and members of the Aboriginal community learning to read country.<br/><br/>\nIn most cases, Peter Andrews finds that resources available on-site only require intelligent redistribution for natural processes to work in favour of productivity and a reversal of human-induced environmental imbalance and degradation, as most of the naturally developed ‘infrastructure’ is still there.<br/><br/>\nIn working with nature, NSF requires very low maintenance inputs. Where outside inputs are employed on a farm they can be targeted. Small amounts can be applied to specific areas or species where the system is temporarily out of balance owing, in most cases, to factors outside the property boundaries. NSF harmonises modern technology with natural plant progressions to achieve a resilient model of farming.<br/><br/>\nWhere neighbouring landholders in a sub-catchment adopt NSF, even more rapid progress to increased profitability and environmental sustainability can be achieved, as NSF adopts a whole-of-catchment approach to farming.<br/><br/>\n\nNSF applied to Grazing<br/><br/>\nUnder NSF, many forms of grazing are appropriate if a vigorous perennial plant community can be maintained. If c ell-grazing methods are used, especially across valley segments from ridge to ridge, protection of the riparian zone needs to be considered. Over the medium to long term, weed control, nutrient balances and pest management can be managed by using Natural Sequence Farming methods.<br/><br/>\nThe improved groundcover and reduced cultivation under NSF not only minimises farm costs but also reduces erosion, avoids soil compaction and maintains a soil structure with increased water holding capacity.<br/><br/>\nThe use of water balances within NSF, brings the most increases in productivity and sustainability. Costs are also minimised, as water storage is in the groundwater lens rather than expensive above-ground dams, prone to siltation and with high evaporation rates when the water is needed most. Pasture is fed naturally from the roots rather than requiring extensive capital investments in pumps, pipes, irrigation gantries or feeder networks.<br/><br/>\nTraditional livestock husbandry methods can be complementary to Natural Sequence Farming. Under NSF, livestock are considered as a major tool in land management, including for transferring fertility and controlling weeds. However, feedlot methods of production and other methods of confining herds or flocks need to be well-sited in the catchment to utilise self-removal and self-collection of residues for fertility management.<br/><br/>\nOnce the initial phase of re-establishment to natural sequences is well on the way, which in most cases only takes one or two years with low cost inputs, monitoring and the application of NSF principles in harmony with Nature achieves continuing sustainable production.<br/><br/>\n\nNSF applied to Agriculture<br/><br/>\nUnder NSF, cropping is best suited to methods complementary to retaining significant areas of season-specific perennial pastures. If needed, cultivation may be confined to soils on valley slopes rather than floodplains but it can be worth exploring direct-drill minimum-till broadcast methods first.<br/><br/>\nHorticulture can be sited off flood plain areas, with careful transfer of valley floor fertility and water within the NSF system.<br/><br/>\nNSF harmonises well with organic approaches to producing premium farm produce for a growing domestic and export market. Increasing numbers of consumers and vendors are demanding products produced with environmentally sustainable systems coupled with farm accreditation and certified produce before acceptance.<br/><br/>\nThe use of outside inputs or recycling farm produce on the property can be part of managed fertility transfer, both on the farm and in the sub-catchment. For instance, hay making of legume-rich pasture can be rotated around various areas of a property to work in with weed reduction needs and fertility management.<br/><br/>\nIrrigation is best-sited on valley floors although most areas managed with NSF require minimum supplementation of water transfers already naturally occurring on and beneath the floodplain.\n \n</p></body><br/><br/>\n~~~ #Social/Web<button style=\"background-color: lightgreen; width: 100%;\">https://www.nsfarming.com/...</button>"
      }
     },
     "3c1ce375c2da487eb0da1135a1601078": {
      "model_module": "@jupyter-widgets/controls",
      "model_module_version": "2.0.0",
      "model_name": "TextModel",
      "state": {
       "description": "MongaBay",
       "layout": "IPY_MODEL_2f04c211beba41d89264424233265111",
       "style": "IPY_MODEL_90b19fb7b42f486ebce318c330742c80"
      }
     },
     "3c4c7bf7eed341f8953fdfa0a0237d7d": {
      "model_module": "@jupyter-widgets/controls",
      "model_module_version": "2.0.0",
      "model_name": "TextStyleModel",
      "state": {
       "description_width": "",
       "font_size": null,
       "text_color": null
      }
     },
     "3ce94c8316da4086a21d5f27501c37f5": {
      "model_module": "@jupyter-widgets/base",
      "model_module_version": "2.0.0",
      "model_name": "LayoutModel",
      "state": {}
     },
     "3d67365f6a5d419aa1bff6673705095b": {
      "model_module": "@jupyter-widgets/base",
      "model_module_version": "2.0.0",
      "model_name": "LayoutModel",
      "state": {}
     },
     "3d72e6938ffa487bad91e5adb3b449f0": {
      "model_module": "@jupyter-widgets/base",
      "model_module_version": "2.0.0",
      "model_name": "LayoutModel",
      "state": {}
     },
     "3e03a0c285cd4eea996322e0fc571572": {
      "model_module": "@jupyter-widgets/controls",
      "model_module_version": "2.0.0",
      "model_name": "TextModel",
      "state": {
       "description": "AgroEcology",
       "layout": "IPY_MODEL_2588e8ae30ca439393597df11a97042b",
       "style": "IPY_MODEL_a82362844ba944b1802299a6815120bf"
      }
     },
     "3e82a37fe6be4a33b954e1ccbf231390": {
      "model_module": "@jupyter-widgets/controls",
      "model_module_version": "2.0.0",
      "model_name": "TextModel",
      "state": {
       "layout": "IPY_MODEL_31badb2180c04cb3a763e6ba8e313e75",
       "style": "IPY_MODEL_9236eb33e4a649aaaa52f3ac5533deff"
      }
     },
     "406896efccb14b889828a549958d660e": {
      "model_module": "@jupyter-widgets/controls",
      "model_module_version": "2.0.0",
      "model_name": "TextModel",
      "state": {
       "description": "Location",
       "layout": "IPY_MODEL_bf6c63be285342fdbe26587a14e7bbfe",
       "style": "IPY_MODEL_426808c89390448189123eb9b24fb334",
       "value": "Batehaven, New South Wales, Australia"
      }
     },
     "40816b1947d045f19a3407d94ef161a8": {
      "model_module": "@jupyter-widgets/base",
      "model_module_version": "2.0.0",
      "model_name": "LayoutModel",
      "state": {}
     },
     "410c9612d29a407289879a8426a7669b": {
      "model_module": "@jupyter-widgets/controls",
      "model_module_version": "2.0.0",
      "model_name": "ButtonStyleModel",
      "state": {
       "font_family": null,
       "font_size": null,
       "font_style": null,
       "font_variant": null,
       "font_weight": null,
       "text_color": null,
       "text_decoration": null
      }
     },
     "41ccf3e95cc949d9bcb54ab373dd2205": {
      "model_module": "@jupyter-widgets/base",
      "model_module_version": "2.0.0",
      "model_name": "LayoutModel",
      "state": {}
     },
     "41ec2ae9e1234d2c9216a823e2cbf6b2": {
      "model_module": "@jupyter-widgets/base",
      "model_module_version": "2.0.0",
      "model_name": "LayoutModel",
      "state": {
       "width": "120px"
      }
     },
     "4254a0c6eb884bd2bcc24711c5f4d329": {
      "model_module": "@jupyter-widgets/controls",
      "model_module_version": "2.0.0",
      "model_name": "TextStyleModel",
      "state": {
       "background": "beige",
       "description_width": "",
       "font_size": null,
       "text_color": null
      }
     },
     "426808c89390448189123eb9b24fb334": {
      "model_module": "@jupyter-widgets/controls",
      "model_module_version": "2.0.0",
      "model_name": "TextStyleModel",
      "state": {
       "description_width": "",
       "font_size": null,
       "text_color": null
      }
     },
     "42985088200742b793341eac709ea3f8": {
      "model_module": "@jupyter-widgets/base",
      "model_module_version": "2.0.0",
      "model_name": "LayoutModel",
      "state": {
       "width": "40%"
      }
     },
     "46910d0226144a6cabd97dfc0230f12d": {
      "model_module": "@jupyter-widgets/base",
      "model_module_version": "2.0.0",
      "model_name": "LayoutModel",
      "state": {}
     },
     "477469fae7734cfa880b8c65d4421faa": {
      "model_module": "@jupyter-widgets/controls",
      "model_module_version": "2.0.0",
      "model_name": "TextStyleModel",
      "state": {
       "description_width": "",
       "font_size": null,
       "text_color": null
      }
     },
     "47c6ad3972be4daf81db5c13a65cfa18": {
      "model_module": "@jupyter-widgets/controls",
      "model_module_version": "2.0.0",
      "model_name": "ButtonModel",
      "state": {
       "description": "+",
       "layout": "IPY_MODEL_f706bfb6b7c54d788706a62f3a7f4f2a",
       "style": "IPY_MODEL_13a08599accb46a6aca09c495b21f569",
       "tooltip": null
      }
     },
     "47d712d7acc149d2bea2a771318840dd": {
      "model_module": "@jupyter-widgets/base",
      "model_module_version": "2.0.0",
      "model_name": "LayoutModel",
      "state": {}
     },
     "483899bb3e2145318391b376a0ed5d86": {
      "model_module": "@jupyter-widgets/controls",
      "model_module_version": "2.0.0",
      "model_name": "TextStyleModel",
      "state": {
       "description_width": "",
       "font_size": null,
       "text_color": null
      }
     },
     "49119da00d3f4f788ac127ccf8971a4c": {
      "model_module": "@jupyter-widgets/base",
      "model_module_version": "2.0.0",
      "model_name": "LayoutModel",
      "state": {}
     },
     "498902f4c9294317814a3fc76b8053c9": {
      "model_module": "@jupyter-widgets/controls",
      "model_module_version": "2.0.0",
      "model_name": "TextStyleModel",
      "state": {
       "description_width": "",
       "font_size": null,
       "text_color": null
      }
     },
     "49af30e07b2540d1847e07f98501aeb6": {
      "model_module": "@jupyter-widgets/controls",
      "model_module_version": "2.0.0",
      "model_name": "TextModel",
      "state": {
       "description": "ObjectId2",
       "layout": "IPY_MODEL_a2eb7482ce214e2ea0fb42d8971c8b06",
       "style": "IPY_MODEL_ea84f93f30f1479cb0739f51477264a3",
       "value": "1"
      }
     },
     "49afd822c5db40c7841d0709508668a5": {
      "model_module": "@jupyter-widgets/base",
      "model_module_version": "2.0.0",
      "model_name": "LayoutModel",
      "state": {}
     },
     "4a4971d85b544981a78df3de28125e2f": {
      "model_module": "@jupyter-widgets/base",
      "model_module_version": "2.0.0",
      "model_name": "LayoutModel",
      "state": {}
     },
     "4aeacf95816242d3b2837fa504998312": {
      "model_module": "@jupyter-widgets/controls",
      "model_module_version": "2.0.0",
      "model_name": "TextModel",
      "state": {
       "description": "Picture",
       "layout": "IPY_MODEL_aab9b9b917b84a2eb99c37857d8798d0",
       "style": "IPY_MODEL_6d5a59246e824d4aa435b9cd92107799",
       "value": "http://res.cloudinary.com/e-nable-org/image/upload/v1672169763/ykpj1sugvcrlabviwr1p.jpg"
      }
     },
     "4b21529017264a01ad769cfb9cf3d7ba": {
      "model_module": "@jupyter-widgets/controls",
      "model_module_version": "2.0.0",
      "model_name": "TextStyleModel",
      "state": {
       "description_width": "",
       "font_size": null,
       "text_color": null
      }
     },
     "4b3695eadbd541308354dcaf1d2b5382": {
      "model_module": "@jupyter-widgets/controls",
      "model_module_version": "2.0.0",
      "model_name": "ButtonModel",
      "state": {
       "description": "--get Lat, Lon-->",
       "layout": "IPY_MODEL_7cbee667a6564a25bd607edd87f264dd",
       "style": "IPY_MODEL_5ba7010f49fd4926b2a7c3e05a910eb7",
       "tooltip": null
      }
     },
     "4b4cdc68ff1a4c609b50038c99af432a": {
      "model_module": "@jupyter-widgets/controls",
      "model_module_version": "2.0.0",
      "model_name": "DescriptionStyleModel",
      "state": {
       "description_width": ""
      }
     },
     "4d2cf13a95284986ac71207ebe566445": {
      "model_module": "@jupyter-widgets/base",
      "model_module_version": "2.0.0",
      "model_name": "LayoutModel",
      "state": {}
     },
     "4f0656b592814d3ca47ec71bfbe44ef9": {
      "model_module": "@jupyter-widgets/controls",
      "model_module_version": "2.0.0",
      "model_name": "TextStyleModel",
      "state": {
       "description_width": "",
       "font_size": null,
       "text_color": null
      }
     },
     "503d69f1175f4b748f572cfef4a75cc0": {
      "model_module": "@jupyter-widgets/controls",
      "model_module_version": "2.0.0",
      "model_name": "ButtonStyleModel",
      "state": {
       "button_color": "lightblue",
       "font_family": null,
       "font_size": null,
       "font_style": null,
       "font_variant": null,
       "font_weight": null,
       "text_color": null,
       "text_decoration": null
      }
     },
     "5041b2ffe9ec4ceface42f92b1802b25": {
      "model_module": "@jupyter-widgets/controls",
      "model_module_version": "2.0.0",
      "model_name": "ButtonModel",
      "state": {
       "description": "↙ (use)",
       "layout": "IPY_MODEL_bd72a236bef64940b79f63276bdcd542",
       "style": "IPY_MODEL_baa34a27d01047c4b4bce47ab3cdb21b",
       "tooltip": null
      }
     },
     "512a1ce41de9490e8329e2ea166338d6": {
      "model_module": "@jupyter-widgets/controls",
      "model_module_version": "2.0.0",
      "model_name": "HBoxModel",
      "state": {
       "children": [
        "IPY_MODEL_c79105bee1ec4098af15872b7f556bb0",
        "IPY_MODEL_3aae9cccdb2546c6975cf67318ff845d",
        "IPY_MODEL_4b3695eadbd541308354dcaf1d2b5382",
        "IPY_MODEL_accefa779900472080301c15386c86d3",
        "IPY_MODEL_963cae622a804fa3995907ae28bdae3d"
       ],
       "layout": "IPY_MODEL_4d2cf13a95284986ac71207ebe566445"
      }
     },
     "51904e4ef9b8424c9c4e51d7a0ec63af": {
      "model_module": "@jupyter-widgets/controls",
      "model_module_version": "2.0.0",
      "model_name": "TextStyleModel",
      "state": {
       "description_width": "",
       "font_size": null,
       "text_color": null
      }
     },
     "51b1aaad3df24b7d9b85901deb9b3ab8": {
      "model_module": "@jupyter-widgets/base",
      "model_module_version": "2.0.0",
      "model_name": "LayoutModel",
      "state": {}
     },
     "5361db70e6454cd19598ebe7b1d69969": {
      "model_module": "@jupyter-widgets/base",
      "model_module_version": "2.0.0",
      "model_name": "LayoutModel",
      "state": {}
     },
     "537d9eebc2f14727b0c2c6c0b3fc82cf": {
      "model_module": "@jupyter-widgets/controls",
      "model_module_version": "2.0.0",
      "model_name": "TextModel",
      "state": {
       "layout": "IPY_MODEL_925f2b02a7d741ef915041b3a720f0e3",
       "style": "IPY_MODEL_7f6747f885524c02a424f8bd5418ef6d",
       "value": "Source goes here"
      }
     },
     "5485371eec854e15bc828a76ea2d9bb4": {
      "model_module": "@jupyter-widgets/base",
      "model_module_version": "2.0.0",
      "model_name": "LayoutModel",
      "state": {}
     },
     "549933e8fbd840d79dc8dc1085f02278": {
      "model_module": "@jupyter-widgets/controls",
      "model_module_version": "2.0.0",
      "model_name": "TextStyleModel",
      "state": {
       "background": "beige",
       "description_width": "",
       "font_size": null,
       "text_color": null
      }
     },
     "54fe23763b334b028f39c3915e107425": {
      "model_module": "@jupyter-widgets/controls",
      "model_module_version": "2.0.0",
      "model_name": "HBoxModel",
      "state": {
       "children": [
        "IPY_MODEL_33f0e6b8355d44d19574b38628c1b009",
        "IPY_MODEL_adae5595f54943d4a5db704ae624c097",
        "IPY_MODEL_47c6ad3972be4daf81db5c13a65cfa18"
       ],
       "layout": "IPY_MODEL_fb29c96075b84d12b9790de961425231"
      }
     },
     "5578ab37230e4ff59de2c3a57e02e3e9": {
      "model_module": "@jupyter-widgets/controls",
      "model_module_version": "2.0.0",
      "model_name": "TextModel",
      "state": {
       "description": "Freshness",
       "layout": "IPY_MODEL_bd8dd4c00ead4b92a217824862ac84b4",
       "style": "IPY_MODEL_7a0ca3ba5332457591148db98fab7420",
       "value": "2"
      }
     },
     "55d8cb10b8ae4d22ac321009ae962ac3": {
      "model_module": "@jupyter-widgets/base",
      "model_module_version": "2.0.0",
      "model_name": "LayoutModel",
      "state": {}
     },
     "55ddc5ea2f57422989b6b3a7526cfe40": {
      "model_module": "@jupyter-widgets/controls",
      "model_module_version": "2.0.0",
      "model_name": "TextStyleModel",
      "state": {
       "description_width": "",
       "font_size": null,
       "text_color": null
      }
     },
     "55f64918742a4dcb866a86698442eba8": {
      "model_module": "@jupyter-widgets/base",
      "model_module_version": "2.0.0",
      "model_name": "LayoutModel",
      "state": {}
     },
     "57b1b1d920564c7da8cf98244a3228d1": {
      "model_module": "@jupyter-widgets/controls",
      "model_module_version": "2.0.0",
      "model_name": "TextStyleModel",
      "state": {
       "description_width": "",
       "font_size": null,
       "text_color": null
      }
     },
     "59e320429dda4ce98d381ab7ff78d092": {
      "model_module": "@jupyter-widgets/base",
      "model_module_version": "2.0.0",
      "model_name": "LayoutModel",
      "state": {}
     },
     "5a777ac187f04ff2af24972dadf37c24": {
      "model_module": "@jupyter-widgets/controls",
      "model_module_version": "2.0.0",
      "model_name": "TextModel",
      "state": {
       "description": "Approved",
       "layout": "IPY_MODEL_737fe45e48c3462992d23b47e843729b",
       "style": "IPY_MODEL_0ce07f636a5e45f4bc2c2e539b290979"
      }
     },
     "5a79dae01edc4e49a0ae141e2c424033": {
      "model_module": "@jupyter-widgets/base",
      "model_module_version": "2.0.0",
      "model_name": "LayoutModel",
      "state": {}
     },
     "5b3302df101b4b09a694d7dd9f258d4e": {
      "model_module": "@jupyter-widgets/controls",
      "model_module_version": "2.0.0",
      "model_name": "TextStyleModel",
      "state": {
       "description_width": "",
       "font_size": null,
       "text_color": null
      }
     },
     "5ba7010f49fd4926b2a7c3e05a910eb7": {
      "model_module": "@jupyter-widgets/controls",
      "model_module_version": "2.0.0",
      "model_name": "ButtonStyleModel",
      "state": {
       "button_color": "#F5F5DC",
       "font_family": null,
       "font_size": null,
       "font_style": null,
       "font_variant": null,
       "font_weight": null,
       "text_color": null,
       "text_decoration": null
      }
     },
     "5bfc73d840a4423c908561cc649e7613": {
      "model_module": "@jupyter-widgets/base",
      "model_module_version": "2.0.0",
      "model_name": "LayoutModel",
      "state": {}
     },
     "5c9444b76eca4f28b7417a4568005840": {
      "model_module": "@jupyter-widgets/controls",
      "model_module_version": "2.0.0",
      "model_name": "VBoxModel",
      "state": {
       "children": [
        "IPY_MODEL_73946f91f1b44ca3890c08bf511eb6de",
        "IPY_MODEL_11cb17e7d1094196a1cf1384d4792e82",
        "IPY_MODEL_f54f1db1bfb54bf0bd264c7f3dc79679",
        "IPY_MODEL_f769aeb7642648e389bf9b98fb4bf82d",
        "IPY_MODEL_a9b3e2f7378a43988793fa77cd18369a",
        "IPY_MODEL_eb34ea6d7825471ca8a2ac2984367048",
        "IPY_MODEL_1f7662ffeea8450aa997a7fdc0847ff3",
        "IPY_MODEL_ad40eb6af838448ba6d30e94ec560bb2",
        "IPY_MODEL_406896efccb14b889828a549958d660e",
        "IPY_MODEL_3b21bccb33d5480d9a88f0f21d3a5f2b",
        "IPY_MODEL_22b4eb31a25346e5ad3b5e811c4121ce",
        "IPY_MODEL_1e81d81579be4e35a9c5808a2cc7ea05",
        "IPY_MODEL_dbc938174cfd436fa7eb2a37ff3aee90",
        "IPY_MODEL_a21c75610c6147159654cb58f1268e74",
        "IPY_MODEL_c8f74819be8544f0834cc33d9a42f770",
        "IPY_MODEL_2fad18518c70415380adee763182331d",
        "IPY_MODEL_8b911d53d1764e669411678241901b5f",
        "IPY_MODEL_e7fc9b27793949e69e388801a36c564d",
        "IPY_MODEL_e6eb6f35d2d14256b5fb6919c2ca50b8",
        "IPY_MODEL_7355fb0b8d0e42819f9f6aa99658b4c4",
        "IPY_MODEL_5578ab37230e4ff59de2c3a57e02e3e9",
        "IPY_MODEL_1dcae2bf95144d3da60cb2e10850bf30",
        "IPY_MODEL_5cafc960ec494118ab2bb70af762c9f8",
        "IPY_MODEL_e50ee4de3818436fb6902b5e2969fb44",
        "IPY_MODEL_f84c6df376804aeca6d1672bea566a38",
        "IPY_MODEL_9b69671bffdd49579ed44adbb22acfd2",
        "IPY_MODEL_7f9df7cd4b3c40948ba4c128c4296cf3",
        "IPY_MODEL_2f0a0bfdb39f49bd970c3c53e2f23408",
        "IPY_MODEL_20f6590931784bb7a273ac4316530637",
        "IPY_MODEL_61473fadbfe04d7b97b2e312007bf315",
        "IPY_MODEL_39e29ddd8b6040bf8d9ee7c35fef7e56",
        "IPY_MODEL_35543e07633b4933a225310ef313a541",
        "IPY_MODEL_d632b8b6c7c448adb4f1ef770084fc25",
        "IPY_MODEL_37152aac12c84a0fb72bcd5ad9a380cf",
        "IPY_MODEL_ffb391890ec0445f9f5f79930c02f06a",
        "IPY_MODEL_caf5668ab4ca4388931c9174df1a2333",
        "IPY_MODEL_c0c3a3f71ef245668df9c96fddb979dd"
       ],
       "layout": "IPY_MODEL_ab9f3babf77a4544add3369f0d9d68b9"
      }
     },
     "5cafc960ec494118ab2bb70af762c9f8": {
      "model_module": "@jupyter-widgets/controls",
      "model_module_version": "2.0.0",
      "model_name": "TextModel",
      "state": {
       "description": "x",
       "layout": "IPY_MODEL_2787f6f81e3449f9a4b2cdea65da211c",
       "style": "IPY_MODEL_f00b6cf5090547c4be7f4bdcfca46638"
      }
     },
     "5cc42a5130d74b94a6a21d831f4c95bf": {
      "model_module": "@jupyter-widgets/base",
      "model_module_version": "2.0.0",
      "model_name": "LayoutModel",
      "state": {}
     },
     "5e94034983f34896b58dfaa52dc33cf4": {
      "model_module": "@jupyter-widgets/controls",
      "model_module_version": "2.0.0",
      "model_name": "TextModel",
      "state": {
       "description": "Regen.earth",
       "layout": "IPY_MODEL_8627a12c43d44313894f0b074cdc89ac",
       "style": "IPY_MODEL_26f43b6e088742f898d849f11b1f7088"
      }
     },
     "5f64d907e5cc404294e12cb2ef25b4ae": {
      "model_module": "@jupyter-widgets/controls",
      "model_module_version": "2.0.0",
      "model_name": "ButtonModel",
      "state": {
       "description": "restartChromes",
       "layout": "IPY_MODEL_6939cbd255a24d4b858ed2aedde653ce",
       "style": "IPY_MODEL_c685c5710d574e02a0ab08571632e83a",
       "tooltip": null
      }
     },
     "604b7c9550d346b9bc86741f7f6b1311": {
      "model_module": "@jupyter-widgets/controls",
      "model_module_version": "2.0.0",
      "model_name": "TextModel",
      "state": {
       "description": "y",
       "layout": "IPY_MODEL_51b1aaad3df24b7d9b85901deb9b3ab8",
       "style": "IPY_MODEL_935b042610704c05980d50790ebfa8b9"
      }
     },
     "61473fadbfe04d7b97b2e312007bf315": {
      "model_module": "@jupyter-widgets/controls",
      "model_module_version": "2.0.0",
      "model_name": "TextModel",
      "state": {
       "description": "Coords. checked?",
       "layout": "IPY_MODEL_e425a7f4795a4f898ea1a920288b79de",
       "style": "IPY_MODEL_b38836cf0b754cb0a93d97fe95dce110",
       "value": "TRUE"
      }
     },
     "61c0de6bce1f481fb5d9467df16b750b": {
      "model_module": "@jupyter-widgets/controls",
      "model_module_version": "2.0.0",
      "model_name": "TextStyleModel",
      "state": {
       "description_width": "",
       "font_size": null,
       "text_color": null
      }
     },
     "61cdd294be024589b2ec218067fe81cf": {
      "model_module": "@jupyter-widgets/controls",
      "model_module_version": "2.0.0",
      "model_name": "TextModel",
      "state": {
       "description": "Location",
       "layout": "IPY_MODEL_cb8be64d7741424e90b395ab1f8eb846",
       "style": "IPY_MODEL_d5e2e70d3f8c4ecf8cf99e3a45359468",
       "value": "Batehaven, New South Wales, Australia"
      }
     },
     "6268e5a5c6cb4917b5b64cfad3b28a35": {
      "model_module": "@jupyter-widgets/controls",
      "model_module_version": "2.0.0",
      "model_name": "ButtonModel",
      "state": {
       "description": "↙ (use)",
       "layout": "IPY_MODEL_806b16dae5874b30a7592dd75b906a63",
       "style": "IPY_MODEL_503d69f1175f4b748f572cfef4a75cc0",
       "tooltip": null
      }
     },
     "62792d12ba14471abe613becd61c93ce": {
      "model_module": "@jupyter-widgets/base",
      "model_module_version": "2.0.0",
      "model_name": "LayoutModel",
      "state": {}
     },
     "6512b2881451489094ddb8bb7a860dbe": {
      "model_module": "@jupyter-widgets/controls",
      "model_module_version": "2.0.0",
      "model_name": "TextStyleModel",
      "state": {
       "description_width": "",
       "font_size": null,
       "text_color": null
      }
     },
     "65264c6e6d20408eb08f316885e8e60f": {
      "model_module": "@jupyter-widgets/base",
      "model_module_version": "2.0.0",
      "model_name": "LayoutModel",
      "state": {}
     },
     "657cefb7bbbb4c1788b0217a0c87ed46": {
      "model_module": "@jupyter-widgets/controls",
      "model_module_version": "2.0.0",
      "model_name": "TextStyleModel",
      "state": {
       "description_width": "",
       "font_size": null,
       "text_color": null
      }
     },
     "664cdab2da754d17a7f3d21613155550": {
      "model_module": "@jupyter-widgets/controls",
      "model_module_version": "2.0.0",
      "model_name": "TextStyleModel",
      "state": {
       "description_width": "",
       "font_size": null,
       "text_color": null
      }
     },
     "66a77a31f8654b7e9878612983b09c0d": {
      "model_module": "@jupyter-widgets/controls",
      "model_module_version": "2.0.0",
      "model_name": "TextModel",
      "state": {
       "description": "Updated Location",
       "layout": "IPY_MODEL_34d3dc86ac64401c9aaa3562ce478cc3",
       "style": "IPY_MODEL_75006b4a1c364b5481802b9a3f79999a",
       "value": "Batehaven, New South Wales, Australia"
      }
     },
     "66c683d5611446b5ab4fe0ed56a1651f": {
      "model_module": "@jupyter-widgets/controls",
      "model_module_version": "2.0.0",
      "model_name": "ButtonModel",
      "state": {
       "description": "Image Widths?",
       "layout": "IPY_MODEL_23cc01dbe8ad4f4b9add562ca0be96c5",
       "style": "IPY_MODEL_37da533a9d22479198ae5504864ad4b1",
       "tooltip": null
      }
     },
     "67d070168f1649a1908db183ff6e642c": {
      "model_module": "@jupyter-widgets/base",
      "model_module_version": "2.0.0",
      "model_name": "LayoutModel",
      "state": {}
     },
     "6939cbd255a24d4b858ed2aedde653ce": {
      "model_module": "@jupyter-widgets/base",
      "model_module_version": "2.0.0",
      "model_name": "LayoutModel",
      "state": {}
     },
     "6954c4cd84ab46fa81037e12d7f1de9c": {
      "model_module": "@jupyter-widgets/base",
      "model_module_version": "2.0.0",
      "model_name": "LayoutModel",
      "state": {}
     },
     "6995339f4bc04cfcb3fcb1ad5215450e": {
      "model_module": "@jupyter-widgets/base",
      "model_module_version": "2.0.0",
      "model_name": "LayoutModel",
      "state": {}
     },
     "69b6face99fb467fa82ea6cba41bfee4": {
      "model_module": "@jupyter-widgets/base",
      "model_module_version": "2.0.0",
      "model_name": "LayoutModel",
      "state": {}
     },
     "6a2a4dd1d604404db65ec1374d90e435": {
      "model_module": "@jupyter-widgets/controls",
      "model_module_version": "2.0.0",
      "model_name": "ButtonStyleModel",
      "state": {
       "button_color": "lightblue",
       "font_family": null,
       "font_size": null,
       "font_style": null,
       "font_variant": null,
       "font_weight": null,
       "text_color": null,
       "text_decoration": null
      }
     },
     "6b59aa38e4a84a65a2fb83d745a7fe30": {
      "model_module": "@jupyter-widgets/controls",
      "model_module_version": "2.0.0",
      "model_name": "ButtonModel",
      "state": {
       "description": "Image Widths?",
       "layout": "IPY_MODEL_ac22673c4e794397bb9da83ae59ea21c",
       "style": "IPY_MODEL_1e4af02b121c4ac7beff7a96bff6c9cf",
       "tooltip": null
      }
     },
     "6b634cec02784cdd8d92d176b22aa5b8": {
      "model_module": "@jupyter-widgets/controls",
      "model_module_version": "2.0.0",
      "model_name": "TextModel",
      "state": {
       "description": "ERA",
       "layout": "IPY_MODEL_fdcebd77ebae43a99c411c6d6c042cc7",
       "style": "IPY_MODEL_664cdab2da754d17a7f3d21613155550"
      }
     },
     "6c3d14c129a84e478bd8c7874578f64e": {
      "model_module": "@jupyter-widgets/output",
      "model_module_version": "1.0.0",
      "model_name": "OutputModel",
      "state": {
       "layout": "IPY_MODEL_3ce94c8316da4086a21d5f27501c37f5"
      }
     },
     "6c67a96bedd5414482b640a0130a0b2a": {
      "model_module": "@jupyter-widgets/controls",
      "model_module_version": "2.0.0",
      "model_name": "ButtonModel",
      "state": {
       "description": "Strip tags",
       "layout": "IPY_MODEL_f0a1d6e4cf7247df9a16b57d1160f289",
       "style": "IPY_MODEL_37b4e20257664a1d98d5d31bdcc17d73",
       "tooltip": null
      }
     },
     "6d5a59246e824d4aa435b9cd92107799": {
      "model_module": "@jupyter-widgets/controls",
      "model_module_version": "2.0.0",
      "model_name": "TextStyleModel",
      "state": {
       "description_width": "",
       "font_size": null,
       "text_color": null
      }
     },
     "6debb48a2ea849cca885e060cdce29c8": {
      "model_module": "@jupyter-widgets/base",
      "model_module_version": "2.0.0",
      "model_name": "LayoutModel",
      "state": {}
     },
     "6e07952c92ce424088b908fbfcc7c24f": {
      "model_module": "@jupyter-widgets/base",
      "model_module_version": "2.0.0",
      "model_name": "LayoutModel",
      "state": {}
     },
     "6e0e4bb4845347a791205287e92a0a5e": {
      "model_module": "@jupyter-widgets/controls",
      "model_module_version": "2.0.0",
      "model_name": "ButtonStyleModel",
      "state": {
       "button_color": "lightgreen",
       "font_family": null,
       "font_size": null,
       "font_style": null,
       "font_variant": null,
       "font_weight": null,
       "text_color": null,
       "text_decoration": null
      }
     },
     "6e8d27b4c68d44cd91147e937dd9a525": {
      "model_module": "@jupyter-widgets/base",
      "model_module_version": "2.0.0",
      "model_name": "LayoutModel",
      "state": {}
     },
     "6f4bfdb741c64dbb8953d3667196e64e": {
      "model_module": "@jupyter-widgets/controls",
      "model_module_version": "2.0.0",
      "model_name": "ButtonStyleModel",
      "state": {
       "font_family": null,
       "font_size": null,
       "font_style": null,
       "font_variant": null,
       "font_weight": null,
       "text_color": null,
       "text_decoration": null
      }
     },
     "703b518b5f114db8aa473a4519bc9959": {
      "model_module": "@jupyter-widgets/controls",
      "model_module_version": "2.0.0",
      "model_name": "ButtonStyleModel",
      "state": {
       "font_family": null,
       "font_size": null,
       "font_style": null,
       "font_variant": null,
       "font_weight": null,
       "text_color": null,
       "text_decoration": null
      }
     },
     "7105aa400bc642369da4ffea0fae57b0": {
      "model_module": "@jupyter-widgets/base",
      "model_module_version": "2.0.0",
      "model_name": "LayoutModel",
      "state": {
       "height": "1000px",
       "width": "40%"
      }
     },
     "724eed6da5c64d36b6791573ddcd7a1e": {
      "model_module": "@jupyter-widgets/controls",
      "model_module_version": "2.0.0",
      "model_name": "TextStyleModel",
      "state": {
       "description_width": "",
       "font_size": null,
       "text_color": null
      }
     },
     "73213ae073164bbfa0bf367a9e6e1a7c": {
      "model_module": "@jupyter-widgets/controls",
      "model_module_version": "2.0.0",
      "model_name": "TextStyleModel",
      "state": {
       "description_width": "",
       "font_size": null,
       "text_color": null
      }
     },
     "7355fb0b8d0e42819f9f6aa99658b4c4": {
      "model_module": "@jupyter-widgets/controls",
      "model_module_version": "2.0.0",
      "model_name": "TextModel",
      "state": {
       "description": "Unnamed: 19",
       "layout": "IPY_MODEL_ecc01c3fd248402db5ab2225af2b72e9",
       "style": "IPY_MODEL_477469fae7734cfa880b8c65d4421faa"
      }
     },
     "737fe45e48c3462992d23b47e843729b": {
      "model_module": "@jupyter-widgets/base",
      "model_module_version": "2.0.0",
      "model_name": "LayoutModel",
      "state": {}
     },
     "73946f91f1b44ca3890c08bf511eb6de": {
      "model_module": "@jupyter-widgets/controls",
      "model_module_version": "2.0.0",
      "model_name": "TextModel",
      "state": {
       "description": "Project Name",
       "layout": "IPY_MODEL_55f64918742a4dcb866a86698442eba8",
       "style": "IPY_MODEL_87433f3221d148cf940a794b1514eba7",
       "value": "Australia:Natural Sequence Farming!"
      }
     },
     "73f86d6422884580a360b2f457118634": {
      "model_module": "@jupyter-widgets/base",
      "model_module_version": "2.0.0",
      "model_name": "LayoutModel",
      "state": {
       "width": "60%"
      }
     },
     "74ceb3182eb74e36bf580943f9adc611": {
      "model_module": "@jupyter-widgets/controls",
      "model_module_version": "2.0.0",
      "model_name": "ButtonStyleModel",
      "state": {
       "font_family": null,
       "font_size": null,
       "font_style": null,
       "font_variant": null,
       "font_weight": null,
       "text_color": null,
       "text_decoration": null
      }
     },
     "75006b4a1c364b5481802b9a3f79999a": {
      "model_module": "@jupyter-widgets/controls",
      "model_module_version": "2.0.0",
      "model_name": "TextStyleModel",
      "state": {
       "description_width": "",
       "font_size": null,
       "text_color": null
      }
     },
     "759403466e284ffdb7d641139f3dc749": {
      "model_module": "@jupyter-widgets/controls",
      "model_module_version": "2.0.0",
      "model_name": "TextStyleModel",
      "state": {
       "description_width": "",
       "font_size": null,
       "text_color": null
      }
     },
     "759767950ab84ba3a343be173cc6d7cd": {
      "model_module": "@jupyter-widgets/controls",
      "model_module_version": "2.0.0",
      "model_name": "TextModel",
      "state": {
       "description": "x",
       "layout": "IPY_MODEL_5bfc73d840a4423c908561cc649e7613",
       "style": "IPY_MODEL_f68e726b83c04f939cc00a94ae2b6d87"
      }
     },
     "75a345f92d654797aebc44794a5c1ccf": {
      "model_module": "@jupyter-widgets/base",
      "model_module_version": "2.0.0",
      "model_name": "LayoutModel",
      "state": {
       "width": "10%"
      }
     },
     "75e6ca0659f44bb3b8e5989263cfc8c6": {
      "model_module": "@jupyter-widgets/controls",
      "model_module_version": "2.0.0",
      "model_name": "TextStyleModel",
      "state": {
       "description_width": "",
       "font_size": null,
       "text_color": null
      }
     },
     "77ce5fbf5f504463b15cc13f06d74e3b": {
      "model_module": "@jupyter-widgets/controls",
      "model_module_version": "2.0.0",
      "model_name": "ButtonModel",
      "state": {
       "description": "Clear Row",
       "layout": "IPY_MODEL_aafde58a48c64b4783264b8b3aa57520",
       "style": "IPY_MODEL_382a73a47f5448feb28099627fea0c7e",
       "tooltip": null
      }
     },
     "7816efb4559248fb9f7c1d362342948a": {
      "model_module": "@jupyter-widgets/output",
      "model_module_version": "1.0.0",
      "model_name": "OutputModel",
      "state": {
       "layout": "IPY_MODEL_c426d51977db4e18a48f13c574b64a2f"
      }
     },
     "78b7c4b580284aa8b67b0663103c9146": {
      "model_module": "@jupyter-widgets/base",
      "model_module_version": "2.0.0",
      "model_name": "LayoutModel",
      "state": {}
     },
     "7925413f1fd243708992920899e9ada5": {
      "model_module": "@jupyter-widgets/base",
      "model_module_version": "2.0.0",
      "model_name": "LayoutModel",
      "state": {}
     },
     "793e9346732649748511dab7f3eecf67": {
      "model_module": "@jupyter-widgets/controls",
      "model_module_version": "2.0.0",
      "model_name": "TextModel",
      "state": {
       "description": "Dominant Type",
       "layout": "IPY_MODEL_000e46d17d22464a8dd375575ce657fc",
       "style": "IPY_MODEL_255e5af9ba604f8d99c6bf9e38ec9581",
       "value": "Agroecology"
      }
     },
     "7a0ca3ba5332457591148db98fab7420": {
      "model_module": "@jupyter-widgets/controls",
      "model_module_version": "2.0.0",
      "model_name": "TextStyleModel",
      "state": {
       "description_width": "",
       "font_size": null,
       "text_color": null
      }
     },
     "7aba55c6764c441984ce3d1af6a7d499": {
      "model_module": "@jupyter-widgets/base",
      "model_module_version": "2.0.0",
      "model_name": "LayoutModel",
      "state": {}
     },
     "7cbee667a6564a25bd607edd87f264dd": {
      "model_module": "@jupyter-widgets/base",
      "model_module_version": "2.0.0",
      "model_name": "LayoutModel",
      "state": {}
     },
     "7cfec6659bdc48c19bc9fa28a8278787": {
      "model_module": "@jupyter-widgets/controls",
      "model_module_version": "2.0.0",
      "model_name": "ButtonModel",
      "state": {
       "description": "Run checks?",
       "layout": "IPY_MODEL_a47700089fe748e8aaa7587922e9585f",
       "style": "IPY_MODEL_d60e2c1339e343af9e9df7c604bedd4c",
       "tooltip": null
      }
     },
     "7f6747f885524c02a424f8bd5418ef6d": {
      "model_module": "@jupyter-widgets/controls",
      "model_module_version": "2.0.0",
      "model_name": "TextStyleModel",
      "state": {
       "background": "lightblue",
       "description_width": "",
       "font_size": null,
       "text_color": null
      }
     },
     "7f9df7cd4b3c40948ba4c128c4296cf3": {
      "model_module": "@jupyter-widgets/controls",
      "model_module_version": "2.0.0",
      "model_name": "TextModel",
      "state": {
       "description": "Contacted?",
       "layout": "IPY_MODEL_04f0f3ca23d442b2bcbd9fd328f00cfa",
       "style": "IPY_MODEL_61c0de6bce1f481fb5d9467df16b750b",
       "value": "FALSE"
      }
     },
     "806b16dae5874b30a7592dd75b906a63": {
      "model_module": "@jupyter-widgets/base",
      "model_module_version": "2.0.0",
      "model_name": "LayoutModel",
      "state": {
       "width": "70px"
      }
     },
     "80c5a4af1785403eb434b7ee33527197": {
      "model_module": "@jupyter-widgets/base",
      "model_module_version": "2.0.0",
      "model_name": "LayoutModel",
      "state": {}
     },
     "80e624c59f2d408e8b8b349bb04d9efd": {
      "model_module": "@jupyter-widgets/controls",
      "model_module_version": "2.0.0",
      "model_name": "ButtonModel",
      "state": {
       "description": "Revert",
       "layout": "IPY_MODEL_6e8d27b4c68d44cd91147e937dd9a525",
       "style": "IPY_MODEL_bbfe5960e3814dada3a999f3dcc35d66",
       "tooltip": null
      }
     },
     "812fd50cdbe64546a8aa58228c5aef37": {
      "model_module": "@jupyter-widgets/controls",
      "model_module_version": "2.0.0",
      "model_name": "TextStyleModel",
      "state": {
       "description_width": "",
       "font_size": null,
       "text_color": null
      }
     },
     "81b203e0b53d4a5691f013717a4eeaa9": {
      "model_module": "@jupyter-widgets/controls",
      "model_module_version": "2.0.0",
      "model_name": "TextStyleModel",
      "state": {
       "description_width": "",
       "font_size": null,
       "text_color": null
      }
     },
     "85794fc88ad543c0925a9ff60b4f734c": {
      "model_module": "@jupyter-widgets/base",
      "model_module_version": "2.0.0",
      "model_name": "LayoutModel",
      "state": {
       "width": "10%"
      }
     },
     "8627a12c43d44313894f0b074cdc89ac": {
      "model_module": "@jupyter-widgets/base",
      "model_module_version": "2.0.0",
      "model_name": "LayoutModel",
      "state": {}
     },
     "870b359a7b0642a49f6907a48dce34ff": {
      "model_module": "@jupyter-widgets/controls",
      "model_module_version": "2.0.0",
      "model_name": "TextStyleModel",
      "state": {
       "description_width": "",
       "font_size": null,
       "text_color": null
      }
     },
     "87433f3221d148cf940a794b1514eba7": {
      "model_module": "@jupyter-widgets/controls",
      "model_module_version": "2.0.0",
      "model_name": "TextStyleModel",
      "state": {
       "description_width": "",
       "font_size": null,
       "text_color": null
      }
     },
     "882e105bf9304b5cb3815fccb5320eee": {
      "model_module": "@jupyter-widgets/controls",
      "model_module_version": "2.0.0",
      "model_name": "TextModel",
      "state": {
       "description": "y2",
       "layout": "IPY_MODEL_ba324b44b7ff4aea8ce541a6ed47b83b",
       "style": "IPY_MODEL_75e6ca0659f44bb3b8e5989263cfc8c6",
       "value": "-35.7368662"
      }
     },
     "8879f751381941c6b259c93d8addb7cd": {
      "model_module": "@jupyter-widgets/output",
      "model_module_version": "1.0.0",
      "model_name": "OutputModel",
      "state": {
       "layout": "IPY_MODEL_030c216744914ba7b75763d430268f88"
      }
     },
     "8a8a6f29b1374f49b466709086ddf56f": {
      "model_module": "@jupyter-widgets/controls",
      "model_module_version": "2.0.0",
      "model_name": "HTMLStyleModel",
      "state": {
       "description_width": "",
       "font_size": null,
       "text_color": null
      }
     },
     "8b4aabbf8f98403e95e37e26871f1a1b": {
      "model_module": "@jupyter-widgets/controls",
      "model_module_version": "2.0.0",
      "model_name": "TextStyleModel",
      "state": {
       "description_width": "",
       "font_size": null,
       "text_color": null
      }
     },
     "8b911d53d1764e669411678241901b5f": {
      "model_module": "@jupyter-widgets/controls",
      "model_module_version": "2.0.0",
      "model_name": "TextModel",
      "state": {
       "description": "MongaBay",
       "layout": "IPY_MODEL_915ded2d0b4846999d3414040cacdffe",
       "style": "IPY_MODEL_114e2cb872c845de96de369c197f1405"
      }
     },
     "8c1630ab75cc48d98f33044b336e9b92": {
      "model_module": "@jupyter-widgets/base",
      "model_module_version": "2.0.0",
      "model_name": "LayoutModel",
      "state": {}
     },
     "8c1d0ecf54604f9cb9495a5cd636ceaa": {
      "model_module": "@jupyter-widgets/base",
      "model_module_version": "2.0.0",
      "model_name": "LayoutModel",
      "state": {}
     },
     "8d6d5e5a4e8345c5a9f008c163fbf3ed": {
      "model_module": "@jupyter-widgets/base",
      "model_module_version": "2.0.0",
      "model_name": "LayoutModel",
      "state": {
       "width": "10%"
      }
     },
     "8ee32224eb694792a42a4658a76e0fc6": {
      "model_module": "@jupyter-widgets/controls",
      "model_module_version": "2.0.0",
      "model_name": "TextStyleModel",
      "state": {
       "description_width": "",
       "font_size": null,
       "text_color": null
      }
     },
     "8fa2e3bcceb5432998a549d39c4119ce": {
      "model_module": "@jupyter-widgets/base",
      "model_module_version": "2.0.0",
      "model_name": "LayoutModel",
      "state": {}
     },
     "90b19fb7b42f486ebce318c330742c80": {
      "model_module": "@jupyter-widgets/controls",
      "model_module_version": "2.0.0",
      "model_name": "TextStyleModel",
      "state": {
       "description_width": "",
       "font_size": null,
       "text_color": null
      }
     },
     "915ded2d0b4846999d3414040cacdffe": {
      "model_module": "@jupyter-widgets/base",
      "model_module_version": "2.0.0",
      "model_name": "LayoutModel",
      "state": {}
     },
     "9165d3d303b548a1a95c6e6bb51eca5c": {
      "model_module": "@jupyter-widgets/controls",
      "model_module_version": "2.0.0",
      "model_name": "ButtonStyleModel",
      "state": {
       "button_color": "white",
       "font_family": null,
       "font_size": null,
       "font_style": null,
       "font_variant": null,
       "font_weight": null,
       "text_color": null,
       "text_decoration": null
      }
     },
     "9236eb33e4a649aaaa52f3ac5533deff": {
      "model_module": "@jupyter-widgets/controls",
      "model_module_version": "2.0.0",
      "model_name": "TextStyleModel",
      "state": {
       "description_width": "",
       "font_size": null,
       "text_color": null
      }
     },
     "925f2b02a7d741ef915041b3a720f0e3": {
      "model_module": "@jupyter-widgets/base",
      "model_module_version": "2.0.0",
      "model_name": "LayoutModel",
      "state": {}
     },
     "92fac13e16914e189b5fcf07f4e86fcd": {
      "model_module": "@jupyter-widgets/controls",
      "model_module_version": "2.0.0",
      "model_name": "TextStyleModel",
      "state": {
       "description_width": "",
       "font_size": null,
       "text_color": null
      }
     },
     "930e5e93eb474552a2da9c30a4def1d9": {
      "model_module": "@jupyter-widgets/controls",
      "model_module_version": "2.0.0",
      "model_name": "TextareaModel",
      "state": {
       "layout": "IPY_MODEL_ad370761a7cc41998ca55a0dc5eb02a8",
       "style": "IPY_MODEL_92fac13e16914e189b5fcf07f4e86fcd"
      }
     },
     "935b042610704c05980d50790ebfa8b9": {
      "model_module": "@jupyter-widgets/controls",
      "model_module_version": "2.0.0",
      "model_name": "TextStyleModel",
      "state": {
       "description_width": "",
       "font_size": null,
       "text_color": null
      }
     },
     "94337b5992ce4c0db5bda7e70bff79ab": {
      "model_module": "@jupyter-widgets/controls",
      "model_module_version": "2.0.0",
      "model_name": "ButtonStyleModel",
      "state": {
       "font_family": null,
       "font_size": null,
       "font_style": null,
       "font_variant": null,
       "font_weight": null,
       "text_color": null,
       "text_decoration": null
      }
     },
     "94d8a586fa854fa1b16a4fca0f1bd6ad": {
      "model_module": "@jupyter-widgets/base",
      "model_module_version": "2.0.0",
      "model_name": "LayoutModel",
      "state": {}
     },
     "95a0314f338c469abcb3e02d79229a4a": {
      "model_module": "@jupyter-widgets/base",
      "model_module_version": "2.0.0",
      "model_name": "LayoutModel",
      "state": {}
     },
     "95b57914631847879185ee00cbf6cecd": {
      "model_module": "@jupyter-widgets/controls",
      "model_module_version": "2.0.0",
      "model_name": "TextStyleModel",
      "state": {
       "description_width": "",
       "font_size": null,
       "text_color": null
      }
     },
     "9625c88829284e16bf849f221a62c4a2": {
      "model_module": "@jupyter-widgets/base",
      "model_module_version": "2.0.0",
      "model_name": "LayoutModel",
      "state": {}
     },
     "9625fa2fa6464e0db16b25b68c9565b8": {
      "model_module": "@jupyter-widgets/controls",
      "model_module_version": "2.0.0",
      "model_name": "TextModel",
      "state": {
       "description": "a",
       "layout": "IPY_MODEL_65264c6e6d20408eb08f316885e8e60f",
       "style": "IPY_MODEL_a8e8fcf489b24c8a97af64269b3582d0",
       "value": "one"
      }
     },
     "963cae622a804fa3995907ae28bdae3d": {
      "model_module": "@jupyter-widgets/controls",
      "model_module_version": "2.0.0",
      "model_name": "ButtonModel",
      "state": {
       "description": "↙ (use)",
       "layout": "IPY_MODEL_8c1630ab75cc48d98f33044b336e9b92",
       "style": "IPY_MODEL_241fe58a7c5842cbb57d75a55bc0c576",
       "tooltip": null
      }
     },
     "96b60cf835ee45e1a674a1aef4e156d0": {
      "model_module": "@jupyter-widgets/controls",
      "model_module_version": "2.0.0",
      "model_name": "TextStyleModel",
      "state": {
       "description_width": "",
       "font_size": null,
       "text_color": null
      }
     },
     "96c702f325be429fb6e42f5ee5b335ec": {
      "model_module": "@jupyter-widgets/controls",
      "model_module_version": "2.0.0",
      "model_name": "TextModel",
      "state": {
       "description": "Unnamed: 19",
       "layout": "IPY_MODEL_7925413f1fd243708992920899e9ada5",
       "style": "IPY_MODEL_6512b2881451489094ddb8bb7a860dbe"
      }
     },
     "9766097b301a4d2289826ec865c12bf0": {
      "model_module": "@jupyter-widgets/controls",
      "model_module_version": "2.0.0",
      "model_name": "TextModel",
      "state": {
       "layout": "IPY_MODEL_e96208d9e40a4251b4662fadc762f1b1",
       "style": "IPY_MODEL_f2dec156bf034c0aaad05a703c8a0127",
       "value": "https://www.nsfarming.com/"
      }
     },
     "99397c0db5734de7a3340012f9689fe6": {
      "model_module": "@jupyter-widgets/controls",
      "model_module_version": "2.0.0",
      "model_name": "TextStyleModel",
      "state": {
       "description_width": "",
       "font_size": null,
       "text_color": null
      }
     },
     "9945b70d5bc842e4ae5ce3e06950e1e6": {
      "model_module": "@jupyter-widgets/controls",
      "model_module_version": "2.0.0",
      "model_name": "TextStyleModel",
      "state": {
       "description_width": "",
       "font_size": null,
       "text_color": null
      }
     },
     "9a93d387e66c48fd83527d26386f7c84": {
      "model_module": "@jupyter-widgets/controls",
      "model_module_version": "2.0.0",
      "model_name": "TextStyleModel",
      "state": {
       "description_width": "",
       "font_size": null,
       "text_color": null
      }
     },
     "9b0871836ab34eb9ab8a94f08bd21b56": {
      "model_module": "@jupyter-widgets/base",
      "model_module_version": "2.0.0",
      "model_name": "LayoutModel",
      "state": {
       "width": "50%"
      }
     },
     "9b69671bffdd49579ed44adbb22acfd2": {
      "model_module": "@jupyter-widgets/controls",
      "model_module_version": "2.0.0",
      "model_name": "TextModel",
      "state": {
       "description": "Phone",
       "layout": "IPY_MODEL_41ccf3e95cc949d9bcb54ab373dd2205",
       "style": "IPY_MODEL_317e7fae9b6f4df4ac0c8d8db09a9451"
      }
     },
     "9b8d54b7bcbf4d18aef46acc21e5f7d2": {
      "model_module": "@jupyter-widgets/controls",
      "model_module_version": "2.0.0",
      "model_name": "TextStyleModel",
      "state": {
       "description_width": "",
       "font_size": null,
       "text_color": null
      }
     },
     "9c4baf97492e4f0ba6b857467272a223": {
      "model_module": "@jupyter-widgets/base",
      "model_module_version": "2.0.0",
      "model_name": "LayoutModel",
      "state": {
       "height": "1000px",
       "width": "30%"
      }
     },
     "9c92d917427e47ae87a280f2339b389d": {
      "model_module": "@jupyter-widgets/base",
      "model_module_version": "2.0.0",
      "model_name": "LayoutModel",
      "state": {}
     },
     "9dcd6807881b4384ba6a8aa57f627f7c": {
      "model_module": "@jupyter-widgets/base",
      "model_module_version": "2.0.0",
      "model_name": "LayoutModel",
      "state": {}
     },
     "9ec7b75540e64cc9855e6c80ace879f2": {
      "model_module": "@jupyter-widgets/base",
      "model_module_version": "2.0.0",
      "model_name": "LayoutModel",
      "state": {}
     },
     "9f8fe2f5f8b64a599ace6e2c601e1829": {
      "model_module": "@jupyter-widgets/controls",
      "model_module_version": "2.0.0",
      "model_name": "TextStyleModel",
      "state": {
       "description_width": "",
       "font_size": null,
       "text_color": null
      }
     },
     "a1701b4209a44f1b8b71e98391140c66": {
      "model_module": "@jupyter-widgets/controls",
      "model_module_version": "2.0.0",
      "model_name": "HTMLStyleModel",
      "state": {
       "description_width": "",
       "font_size": null,
       "text_color": null
      }
     },
     "a21c75610c6147159654cb58f1268e74": {
      "model_module": "@jupyter-widgets/controls",
      "model_module_version": "2.0.0",
      "model_name": "TextModel",
      "state": {
       "description": "Regen.earth",
       "layout": "IPY_MODEL_b8bf550afe2142b09a14a049e08f7884",
       "style": "IPY_MODEL_870b359a7b0642a49f6907a48dce34ff"
      }
     },
     "a2eb7482ce214e2ea0fb42d8971c8b06": {
      "model_module": "@jupyter-widgets/base",
      "model_module_version": "2.0.0",
      "model_name": "LayoutModel",
      "state": {}
     },
     "a4013ce4292646d38d64297ca1b4b6c5": {
      "model_module": "@jupyter-widgets/base",
      "model_module_version": "2.0.0",
      "model_name": "LayoutModel",
      "state": {}
     },
     "a446434501ad4a25b095b5f07c05902f": {
      "model_module": "@jupyter-widgets/controls",
      "model_module_version": "2.0.0",
      "model_name": "TextStyleModel",
      "state": {
       "description_width": "",
       "font_size": null,
       "text_color": null
      }
     },
     "a47700089fe748e8aaa7587922e9585f": {
      "model_module": "@jupyter-widgets/base",
      "model_module_version": "2.0.0",
      "model_name": "LayoutModel",
      "state": {}
     },
     "a5202127ffa3491fb2e00c48df29988a": {
      "model_module": "@jupyter-widgets/base",
      "model_module_version": "2.0.0",
      "model_name": "LayoutModel",
      "state": {}
     },
     "a5ea609a4f0e465ab2cab99ea61848c1": {
      "model_module": "@jupyter-widgets/controls",
      "model_module_version": "2.0.0",
      "model_name": "ButtonModel",
      "state": {
       "description": "Load:",
       "layout": "IPY_MODEL_f50f4f2d6e2d492faddff4c7ca4542d2",
       "style": "IPY_MODEL_6a2a4dd1d604404db65ec1374d90e435",
       "tooltip": null
      }
     },
     "a69773dd47474cc69b8302c5c8ae5676": {
      "model_module": "@jupyter-widgets/controls",
      "model_module_version": "2.0.0",
      "model_name": "ButtonModel",
      "state": {
       "description": "Store",
       "layout": "IPY_MODEL_eb1974320f5447daa9fb14d2d3f9e8ef",
       "style": "IPY_MODEL_e6fd26af49cc4fea96428efe6d3674e9",
       "tooltip": null
      }
     },
     "a697c6a8b65c4f8ba913dd1865cf5719": {
      "model_module": "@jupyter-widgets/controls",
      "model_module_version": "2.0.0",
      "model_name": "TextStyleModel",
      "state": {
       "description_width": "",
       "font_size": null,
       "text_color": null
      }
     },
     "a82362844ba944b1802299a6815120bf": {
      "model_module": "@jupyter-widgets/controls",
      "model_module_version": "2.0.0",
      "model_name": "TextStyleModel",
      "state": {
       "description_width": "",
       "font_size": null,
       "text_color": null
      }
     },
     "a8e8fcf489b24c8a97af64269b3582d0": {
      "model_module": "@jupyter-widgets/controls",
      "model_module_version": "2.0.0",
      "model_name": "TextStyleModel",
      "state": {
       "description_width": "",
       "font_size": null,
       "text_color": null
      }
     },
     "a96a033020024dcdb7023052e8b891bc": {
      "model_module": "@jupyter-widgets/base",
      "model_module_version": "2.0.0",
      "model_name": "LayoutModel",
      "state": {}
     },
     "a9b3e2f7378a43988793fa77cd18369a": {
      "model_module": "@jupyter-widgets/controls",
      "model_module_version": "2.0.0",
      "model_name": "TextModel",
      "state": {
       "description": "Dominant Type",
       "layout": "IPY_MODEL_dec8982b28764dfeaf19e7eadf115a2b",
       "style": "IPY_MODEL_73213ae073164bbfa0bf367a9e6e1a7c",
       "value": "Agroecology"
      }
     },
     "aab9b9b917b84a2eb99c37857d8798d0": {
      "model_module": "@jupyter-widgets/base",
      "model_module_version": "2.0.0",
      "model_name": "LayoutModel",
      "state": {}
     },
     "aafde58a48c64b4783264b8b3aa57520": {
      "model_module": "@jupyter-widgets/base",
      "model_module_version": "2.0.0",
      "model_name": "LayoutModel",
      "state": {}
     },
     "ab9f3babf77a4544add3369f0d9d68b9": {
      "model_module": "@jupyter-widgets/base",
      "model_module_version": "2.0.0",
      "model_name": "LayoutModel",
      "state": {
       "height": "1000px",
       "width": "40%"
      }
     },
     "ac22673c4e794397bb9da83ae59ea21c": {
      "model_module": "@jupyter-widgets/base",
      "model_module_version": "2.0.0",
      "model_name": "LayoutModel",
      "state": {}
     },
     "accefa779900472080301c15386c86d3": {
      "model_module": "@jupyter-widgets/controls",
      "model_module_version": "2.0.0",
      "model_name": "TextModel",
      "state": {
       "continuous_update": false,
       "layout": "IPY_MODEL_ed32a45acffc495c84ea429d8276d749",
       "style": "IPY_MODEL_4254a0c6eb884bd2bcc24711c5f4d329",
       "value": "39.1399187 -77.1929215"
      }
     },
     "ad370761a7cc41998ca55a0dc5eb02a8": {
      "model_module": "@jupyter-widgets/base",
      "model_module_version": "2.0.0",
      "model_name": "LayoutModel",
      "state": {
       "width": "100%"
      }
     },
     "ad40eb6af838448ba6d30e94ec560bb2": {
      "model_module": "@jupyter-widgets/controls",
      "model_module_version": "2.0.0",
      "model_name": "TextModel",
      "state": {
       "description": "Picture",
       "layout": "IPY_MODEL_67d070168f1649a1908db183ff6e642c",
       "style": "IPY_MODEL_e5876bd886f044e687653989440c6a6a",
       "value": "http://res.cloudinary.com/e-nable-org/image/upload/v1672169763/ykpj1sugvcrlabviwr1p.jpg"
      }
     },
     "adae5595f54943d4a5db704ae624c097": {
      "model_module": "@jupyter-widgets/controls",
      "model_module_version": "2.0.0",
      "model_name": "BoundedIntTextModel",
      "state": {
       "layout": "IPY_MODEL_73f86d6422884580a360b2f457118634",
       "max": 3489,
       "min": 1,
       "style": "IPY_MODEL_e393002435a243cc96097c7c6e962a41",
       "value": 2
      }
     },
     "ade9e3d0a2254a678b62bdc71b99a00a": {
      "model_module": "@jupyter-widgets/controls",
      "model_module_version": "2.0.0",
      "model_name": "TextModel",
      "state": {
       "layout": "IPY_MODEL_9b0871836ab34eb9ab8a94f08bd21b56",
       "style": "IPY_MODEL_104e808e1a8c4d9ba541d4d8bc28fb12",
       "value": "        copy uploaded image URL from here"
      }
     },
     "af8b8c87f57d487687460ad63b9c5dbc": {
      "model_module": "@jupyter-widgets/base",
      "model_module_version": "2.0.0",
      "model_name": "LayoutModel",
      "state": {}
     },
     "b2e37a28af294d178f46772167e34774": {
      "model_module": "@jupyter-widgets/controls",
      "model_module_version": "2.0.0",
      "model_name": "TextStyleModel",
      "state": {
       "description_width": "",
       "font_size": null,
       "text_color": null
      }
     },
     "b3620d387abb4820814589716f036ed8": {
      "model_module": "@jupyter-widgets/controls",
      "model_module_version": "2.0.0",
      "model_name": "TextareaModel",
      "state": {
       "layout": "IPY_MODEL_9c4baf97492e4f0ba6b857467272a223",
       "style": "IPY_MODEL_57b1b1d920564c7da8cf98244a3228d1",
       "value": "Natural sequences that can be harnessed by informed management include the movement of grazing animals, birds and insects from valley floors by day to higher levels on the valley sides at night and the transfer of fertility with them. There is a gradual movement of nutrients and seeds back down the valley sides via the water cycle, vegetation and soil processes, constantly refurbishing the fertility of the landscape.\n\nIn the process, various plants collect specific substances and the plant communities change in predictable sequences. As part of the biodiversity of a property and catchment, these plants are also a part of multiple food chains and a key to enhancing fertility.\n\nNutrients contained in soil or water are mobile and can be quickly lost off-site. Nutrients contained in biodiverse living bodies are stable. NSF management keeps natural functions connected which allows for quick exchange and conversion of nutrients within ecosystems on properties.\n\nPeter Andrews has found that even plants labeled as weeds can serve as pioneering species in inhibiting nutrient and soil erosion. They collect and supply essential substances for environmental health. Once slashed, fertility is built up and the weeds are replaced naturally by palatable grasses. To maximize production and conservation results requires a good understanding of interaction of the roles of clays and sands in the process.\n\nThis process is complemented by NSF property management when the initial erosion and fertility stabilising need has been met. The once degraded soils are then able to contribute to increased water use efficiency and optimal production levels through their increased organic content.\n\nAreas such as floodplains, that collect large amounts of nutrients, can be harvested to redistribute some of the fertility. Like the daily migration of birds and animals, downpours flushing streams to a floodplain are a sequence in the periodic fertilisation and harvest cycle.\n\nIn this process, surface running water dissolves natural substances and collects sediments, algae, microbes and plant residues from all parts of the catchment. Re-connecting running water to the stepped land formation of the chain of ponds that used to dominate traditional Australian landscapes, slows water flow. This enhances the ability of growing plants, coupled with decreasing inclines, soils and sands, to filter the water feeding into streams running along the valley floor. This process, in turn, feeds plant roots from the sub-surface and caps saline groundwater from surrounding slopes by perching a freshwater lens above saline layers.\n\nAll substances are functional in this naturally managed environment. Salts managed as saline groundwater, where evaporation is excluded from concentrating and crystallizing the substances, allow plant, animal and water ecosystems to balance salinity in the landscape as a natural function. In this way a hillslope pasture or floodplain water meadow is re-created.\n\nOn the floodplain, hydrostatic pressure is maintained on the heavier lower saline layers though maintaining high freshwater tables in the perched chain of ponds. At the same time, the stream replenishes the floodplain and its meadows, through lateral transfer to the freshwater table just below the surface.\n\nThe floodplain is convex. The perched stream runs along the higher elevation or apex and the billabongs and backswamps are at the lower positions on the perimeter of the floodplain where it meets the valley sides. This shape is created by the natural flow of the stream and reinforced by heavier sediment being deposited on and near the stream-bed in flood.\n\n\nA farming system founded on working with nature\n\nIn many regions of Australia, floodplains are disconnected from creeks and rivers and natural flow regimes. This leaves them unable to store water to support productive farming and the growth of riparian vegetation.\n\nMany of today’s floodplains are incised with deeply scoured gullies and gorges. These are channels that expedite the swift flowing removal of much of the land’s fertility and the carriage of increasing amounts of salt. The soil and its nutrients are highly susceptible to leaching and erosion owing to the application of inappropriate agricultural and pastoral practices creating depleted soils and vegetation cover.\n\nNSF takes a holistic approach to natural resource management by re-establishing the stream’s connection to the surrounding landscape and restoring floodplains as ‘sponges’. Although most landscapes have unique qualities, the principles of landform and management are the same. The physics remains constant.\n\nPeter Andrews’ interpretation of the landscape accepts that, pre-European settlement, the soil’s natural salt content was kept in check by slow sub-soil movements of fresh water.\n\nUnder natural systems that are replicated by NSF, movement of fresh water is by surface and sub-surface flows. The surface flow is by the stream which is perched at the highest level of the floodplain on an accumulation of sediment. Surface water is buffered at each narrowed step position in the chain of ponds. Under NSF, this is achieved by a naturalised ‘leaky weir’ of rocks, sediment, trees, branches, reeds and grass roots mimicking the original natural slowing impediments to flows.\n\nIn floodplains in their pristine form, water is stepped slowly down the stream valley floor from one end of a catchment to the other. The stream valley floor is segmented with steps. These steps are where a new floodplain starts and the up-stream one finishes, and below which, large reed beds form on recharge areas.\n\nThe floodplains are soil, vegetation and water-filled ponds, forming links in a chain as they progress through each step down the valley. They are joined at each step where the valley sides narrow. Stream water travels through each linked floodplain as a sequence in the stream valley. The stream meanders over each sequence. It covers the floodplain with sediments as it steadily descends the valley. Each floodplain has stream meanders, pools and riffles as well as wetland and water meadow filters.\n\nWhere an incised stream bed exists, during low to medium stream flows, the sides of the stream are contained by levee banks built up by flood deposits. The banks are protected from severe erosion by wetland plants such as phragmites, other natural grasses, and streamside trees and shrubs, which have colonised the area.\n\nAt the same time, hydrostatic pressure from the perched water table in the stream prevents the lateral intrusion of salinity from the floodplain even in low flow periods.\n\nTo recreate the chain of ponds effect, NSF uses small secondary diversion channels to reconnect streams to their floodplains. These channels braid out through the lush meadows to the edges of the floodplain and water then returns to the main stream through surface and sub-surface flows. They pick up peak flows that are diverted by the leaky weirs which maintain normal base flow to downstream properties.\n\nDuring high flows, as water spreads across the floodplain in the braided diversion channels, some water is absorbed through sandy intake beds, recharging the groundwater lens above saline layers and just below the plant root systems.\n\nAnother portion of the surface water is carried in the channels towards historic floodplain terraces on the edge of the floodplain to refresh hollows and billabongs, facilitating fish passage in the process.\n\nDuring flood events, the reed buffers along the stream sides and at the narrow ends, where each pond is joined in the chain, lay down to laminate the ground surface with their protective mat but are ready to grow upright again when the flows have subsided.\n\nThe hydrostatic pressure of water in the topped-up meadow and billabong storages on the floodplain prevents the plants on the floodplain from ‘drowning’ in the short interval when the water is at a high level. This process can mitigate the impacts of salt ‘slugs’ that may have been scoured from saline deposits in uplands.\n\nThe stream water that is impounded in the recharged groundwater lens within the floodplain soils also provides a buffer against drought. There can be a period of several years of thriving plant growth before the water is fully transpired and the soil, which is heavily shaded by extensive vegetation cover, dries out. In normal years recharge from flooding would arrive earlier to restore the groundwater.\n\nAs part of NSF management, the farmer can divert flows between channels to dry out a meadow area for harvest while starting to produce increased growth in a new zone of the floodplain.\n\n\nMaximum natural outcomes with minimum financial and manufactured inputs\n\nPeter Andrews’ NSF concepts are being applied at project sites as diverse as those featuring upland fast-flowing water courses, to broadacre cropping areas, dry gullies, and salt encrusted degraded lands as well as broad stream valleys and wetlands. Where human-induced impediments to natural growth and production are gradually replaced by the system built around the natural sequences of plants, animals, water and soils, properties have a solid foundation for increased profitability and long term sustainability. Industry analysts have been particularly attracted by the lush growth produced during drought conditions under Peter Andrews’ system.\n\nUnder NSF, natural water flows are reintroduced to alluvial soil plains. In many ways natural alluvial soil floodplains form the whole waterway down the valley whether through surface or sub-surface flow. In contrast, irrigation is the artificial application of water to the land. Invariably, the source of the irrigation water is from artificial storages and highly moderated streams with incised and eroded channels. These have generally been created by past poor environmental practices such as the removal of ground cover.\n\nOwing to its base of natural processes, NSF achieves more sustainable outcomes than traditional pipe and pump irrigation systems as it does not incur large financial costs or create long-term environmental degradation, loss of biodiversity and increasing salinity, as often occurs catchments with highly regulated stream regimes. NSF employs few imported or manufactured inputs such as pesticides, herbicides and artificial fertilisers. In terms of financial capital and operating inputs, it is not an expensive system to introduce and it brings Greenhouse gas benefits through increasing carbon levels in the landscape.\n\nThe investment required is in training for the landholder to interpret the natural processes of the landscape and time spent by the farmer in ‘reading the country’ and applying the NSF principles to the particular property and landscape features of their region. It is no surprise to find that Peter Andrews grew up on a property near Broken Hill area and spent much time with his stockman father and members of the Aboriginal community learning to read country.\n\nIn most cases, Peter Andrews finds that resources available on-site only require intelligent redistribution for natural processes to work in favour of productivity and a reversal of human-induced environmental imbalance and degradation, as most of the naturally developed ‘infrastructure’ is still there.\n\nIn working with nature, NSF requires very low maintenance inputs. Where outside inputs are employed on a farm they can be targeted. Small amounts can be applied to specific areas or species where the system is temporarily out of balance owing, in most cases, to factors outside the property boundaries. NSF harmonises modern technology with natural plant progressions to achieve a resilient model of farming.\n\nWhere neighbouring landholders in a sub-catchment adopt NSF, even more rapid progress to increased profitability and environmental sustainability can be achieved, as NSF adopts a whole-of-catchment approach to farming.\n\n\nNSF applied to Grazing\n\nUnder NSF, many forms of grazing are appropriate if a vigorous perennial plant community can be maintained. If c ell-grazing methods are used, especially across valley segments from ridge to ridge, protection of the riparian zone needs to be considered. Over the medium to long term, weed control, nutrient balances and pest management can be managed by using Natural Sequence Farming methods.\n\nThe improved groundcover and reduced cultivation under NSF not only minimises farm costs but also reduces erosion, avoids soil compaction and maintains a soil structure with increased water holding capacity.\n\nThe use of water balances within NSF, brings the most increases in productivity and sustainability. Costs are also minimised, as water storage is in the groundwater lens rather than expensive above-ground dams, prone to siltation and with high evaporation rates when the water is needed most. Pasture is fed naturally from the roots rather than requiring extensive capital investments in pumps, pipes, irrigation gantries or feeder networks.\n\nTraditional livestock husbandry methods can be complementary to Natural Sequence Farming. Under NSF, livestock are considered as a major tool in land management, including for transferring fertility and controlling weeds. However, feedlot methods of production and other methods of confining herds or flocks need to be well-sited in the catchment to utilise self-removal and self-collection of residues for fertility management.\n\nOnce the initial phase of re-establishment to natural sequences is well on the way, which in most cases only takes one or two years with low cost inputs, monitoring and the application of NSF principles in harmony with Nature achieves continuing sustainable production.\n\n\nNSF applied to Agriculture\n\nUnder NSF, cropping is best suited to methods complementary to retaining significant areas of season-specific perennial pastures. If needed, cultivation may be confined to soils on valley slopes rather than floodplains but it can be worth exploring direct-drill minimum-till broadcast methods first.\n\nHorticulture can be sited off flood plain areas, with careful transfer of valley floor fertility and water within the NSF system.\n\nNSF harmonises well with organic approaches to producing premium farm produce for a growing domestic and export market. Increasing numbers of consumers and vendors are demanding products produced with environmentally sustainable systems coupled with farm accreditation and certified produce before acceptance.\n\nThe use of outside inputs or recycling farm produce on the property can be part of managed fertility transfer, both on the farm and in the sub-catchment. For instance, hay making of legume-rich pasture can be rotated around various areas of a property to work in with weed reduction needs and fertility management.\n\nIrrigation is best-sited on valley floors although most areas managed with NSF require minimum supplementation of water transfers already naturally occurring on and beneath the floodplain.\n \n</p></body>\n\n~~~ #Social/Web"
      }
     },
     "b38836cf0b754cb0a93d97fe95dce110": {
      "model_module": "@jupyter-widgets/controls",
      "model_module_version": "2.0.0",
      "model_name": "TextStyleModel",
      "state": {
       "description_width": "",
       "font_size": null,
       "text_color": null
      }
     },
     "b3ddadbd71444ba69c156da45905c7ec": {
      "model_module": "@jupyter-widgets/controls",
      "model_module_version": "2.0.0",
      "model_name": "TextModel",
      "state": {
       "description": "Secondary Type",
       "layout": "IPY_MODEL_b67c57141e974f21990de6a7f10dbc3d",
       "style": "IPY_MODEL_c0648bd57e8b47ddb63e0fd04aae093d",
       "value": "Scientific Reseach, Ecorestoration other than Agriculture"
      }
     },
     "b44489dc37ad4995a53e3ecdb0cca7e3": {
      "model_module": "@jupyter-widgets/controls",
      "model_module_version": "2.0.0",
      "model_name": "ButtonStyleModel",
      "state": {
       "font_family": null,
       "font_size": null,
       "font_style": null,
       "font_variant": null,
       "font_weight": null,
       "text_color": null,
       "text_decoration": null
      }
     },
     "b57dbf0abb8941418615e93a260062e7": {
      "model_module": "@jupyter-widgets/base",
      "model_module_version": "2.0.0",
      "model_name": "LayoutModel",
      "state": {}
     },
     "b67c57141e974f21990de6a7f10dbc3d": {
      "model_module": "@jupyter-widgets/base",
      "model_module_version": "2.0.0",
      "model_name": "LayoutModel",
      "state": {}
     },
     "b7fb11d1d31f477789645f6a3ac1ae62": {
      "model_module": "@jupyter-widgets/base",
      "model_module_version": "2.0.0",
      "model_name": "LayoutModel",
      "state": {}
     },
     "b8bf550afe2142b09a14a049e08f7884": {
      "model_module": "@jupyter-widgets/base",
      "model_module_version": "2.0.0",
      "model_name": "LayoutModel",
      "state": {}
     },
     "b94ad7e7c3a148e5ba8d80813bd57f17": {
      "model_module": "@jupyter-widgets/controls",
      "model_module_version": "2.0.0",
      "model_name": "HBoxModel",
      "state": {
       "children": [
        "IPY_MODEL_32bbe3e983374b4da96e04892cd5ff6e",
        "IPY_MODEL_b3620d387abb4820814589716f036ed8",
        "IPY_MODEL_c1ac1ffd454a4518a7082c1b7f54d6e6"
       ],
       "layout": "IPY_MODEL_e8deecc6ebb64bb9aa7306e9032d2951"
      }
     },
     "ba324b44b7ff4aea8ce541a6ed47b83b": {
      "model_module": "@jupyter-widgets/base",
      "model_module_version": "2.0.0",
      "model_name": "LayoutModel",
      "state": {}
     },
     "baa34a27d01047c4b4bce47ab3cdb21b": {
      "model_module": "@jupyter-widgets/controls",
      "model_module_version": "2.0.0",
      "model_name": "ButtonStyleModel",
      "state": {
       "font_family": null,
       "font_size": null,
       "font_style": null,
       "font_variant": null,
       "font_weight": null,
       "text_color": null,
       "text_decoration": null
      }
     },
     "bbfe5960e3814dada3a999f3dcc35d66": {
      "model_module": "@jupyter-widgets/controls",
      "model_module_version": "2.0.0",
      "model_name": "ButtonStyleModel",
      "state": {
       "button_color": "lightyellow",
       "font_family": null,
       "font_size": null,
       "font_style": null,
       "font_variant": null,
       "font_weight": null,
       "text_color": null,
       "text_decoration": null
      }
     },
     "bd72a236bef64940b79f63276bdcd542": {
      "model_module": "@jupyter-widgets/base",
      "model_module_version": "2.0.0",
      "model_name": "LayoutModel",
      "state": {}
     },
     "bd8dd4c00ead4b92a217824862ac84b4": {
      "model_module": "@jupyter-widgets/base",
      "model_module_version": "2.0.0",
      "model_name": "LayoutModel",
      "state": {}
     },
     "bdcca4d0520a435d9518b3c50ea54f7d": {
      "model_module": "@jupyter-widgets/base",
      "model_module_version": "2.0.0",
      "model_name": "LayoutModel",
      "state": {
       "height": "1000px",
       "width": "30%"
      }
     },
     "be96b8e18d9e44dfa76be8179dcb9a4a": {
      "model_module": "@jupyter-widgets/controls",
      "model_module_version": "2.0.0",
      "model_name": "TextModel",
      "state": {
       "description": "Description",
       "disabled": true,
       "layout": "IPY_MODEL_6995339f4bc04cfcb3fcb1ad5215450e",
       "style": "IPY_MODEL_d437b3cc3bfb46f4b20ecf08bb889185",
       "value": "Natural sequences that can be harnessed by informed management include the movement of grazing animals, birds and insects from valley floors by day to higher levels on the valley sides at night and the transfer of fertility with them. There is a gradual movement of nutrients and seeds back down the valley sides via the water cycle, vegetation and soil processes, constantly refurbishing the fertility of the landscape.\n\nIn the process, various plants collect specific substances and the plant communities change in predictable sequences. As part of the biodiversity of a property and catchment, these plants are also a part of multiple food chains and a key to enhancing fertility.\n\nNutrients contained in soil or water are mobile and can be quickly lost off-site. Nutrients contained in biodiverse living bodies are stable. NSF management keeps natural functions connected which allows for quick exchange and conversion of nutrients within ecosystems on properties.\n\nPeter Andrews has found that even plants labeled as weeds can serve as pioneering species in inhibiting nutrient and soil erosion. They collect and supply essential substances for environmental health. Once slashed, fertility is built up and the weeds are replaced naturally by palatable grasses. To maximize production and conservation results requires a good understanding of interaction of the roles of clays and sands in the process.\n\nThis process is complemented by NSF property management when the initial erosion and fertility stabilising need has been met. The once degraded soils are then able to contribute to increased water use efficiency and optimal production levels through their increased organic content.\n\nAreas such as floodplains, that collect large amounts of nutrients, can be harvested to redistribute some of the fertility. Like the daily migration of birds and animals, downpours flushing streams to a floodplain are a sequence in the periodic fertilisation and harvest cycle.\n\nIn this process, surface running water dissolves natural substances and collects sediments, algae, microbes and plant residues from all parts of the catchment. Re-connecting running water to the stepped land formation of the chain of ponds that used to dominate traditional Australian landscapes, slows water flow. This enhances the ability of growing plants, coupled with decreasing inclines, soils and sands, to filter the water feeding into streams running along the valley floor. This process, in turn, feeds plant roots from the sub-surface and caps saline groundwater from surrounding slopes by perching a freshwater lens above saline layers.\n\nAll substances are functional in this naturally managed environment. Salts managed as saline groundwater, where evaporation is excluded from concentrating and crystallizing the substances, allow plant, animal and water ecosystems to balance salinity in the landscape as a natural function. In this way a hillslope pasture or floodplain water meadow is re-created.\n\nOn the floodplain, hydrostatic pressure is maintained on the heavier lower saline layers though maintaining high freshwater tables in the perched chain of ponds. At the same time, the stream replenishes the floodplain and its meadows, through lateral transfer to the freshwater table just below the surface.\n\nThe floodplain is convex. The perched stream runs along the higher elevation or apex and the billabongs and backswamps are at the lower positions on the perimeter of the floodplain where it meets the valley sides. This shape is created by the natural flow of the stream and reinforced by heavier sediment being deposited on and near the stream-bed in flood.\n\n\nA farming system founded on working with nature\n\nIn many regions of Australia, floodplains are disconnected from creeks and rivers and natural flow regimes. This leaves them unable to store water to support productive farming and the growth of riparian vegetation.\n\nMany of today’s floodplains are incised with deeply scoured gullies and gorges. These are channels that expedite the swift flowing removal of much of the land’s fertility and the carriage of increasing amounts of salt. The soil and its nutrients are highly susceptible to leaching and erosion owing to the application of inappropriate agricultural and pastoral practices creating depleted soils and vegetation cover.\n\nNSF takes a holistic approach to natural resource management by re-establishing the stream’s connection to the surrounding landscape and restoring floodplains as ‘sponges’. Although most landscapes have unique qualities, the principles of landform and management are the same. The physics remains constant.\n\nPeter Andrews’ interpretation of the landscape accepts that, pre-European settlement, the soil’s natural salt content was kept in check by slow sub-soil movements of fresh water.\n\nUnder natural systems that are replicated by NSF, movement of fresh water is by surface and sub-surface flows. The surface flow is by the stream which is perched at the highest level of the floodplain on an accumulation of sediment. Surface water is buffered at each narrowed step position in the chain of ponds. Under NSF, this is achieved by a naturalised ‘leaky weir’ of rocks, sediment, trees, branches, reeds and grass roots mimicking the original natural slowing impediments to flows.\n\nIn floodplains in their pristine form, water is stepped slowly down the stream valley floor from one end of a catchment to the other. The stream valley floor is segmented with steps. These steps are where a new floodplain starts and the up-stream one finishes, and below which, large reed beds form on recharge areas.\n\nThe floodplains are soil, vegetation and water-filled ponds, forming links in a chain as they progress through each step down the valley. They are joined at each step where the valley sides narrow. Stream water travels through each linked floodplain as a sequence in the stream valley. The stream meanders over each sequence. It covers the floodplain with sediments as it steadily descends the valley. Each floodplain has stream meanders, pools and riffles as well as wetland and water meadow filters.\n\nWhere an incised stream bed exists, during low to medium stream flows, the sides of the stream are contained by levee banks built up by flood deposits. The banks are protected from severe erosion by wetland plants such as phragmites, other natural grasses, and streamside trees and shrubs, which have colonised the area.\n\nAt the same time, hydrostatic pressure from the perched water table in the stream prevents the lateral intrusion of salinity from the floodplain even in low flow periods.\n\nTo recreate the chain of ponds effect, NSF uses small secondary diversion channels to reconnect streams to their floodplains. These channels braid out through the lush meadows to the edges of the floodplain and water then returns to the main stream through surface and sub-surface flows. They pick up peak flows that are diverted by the leaky weirs which maintain normal base flow to downstream properties.\n\nDuring high flows, as water spreads across the floodplain in the braided diversion channels, some water is absorbed through sandy intake beds, recharging the groundwater lens above saline layers and just below the plant root systems.\n\nAnother portion of the surface water is carried in the channels towards historic floodplain terraces on the edge of the floodplain to refresh hollows and billabongs, facilitating fish passage in the process.\n\nDuring flood events, the reed buffers along the stream sides and at the narrow ends, where each pond is joined in the chain, lay down to laminate the ground surface with their protective mat but are ready to grow upright again when the flows have subsided.\n\nThe hydrostatic pressure of water in the topped-up meadow and billabong storages on the floodplain prevents the plants on the floodplain from ‘drowning’ in the short interval when the water is at a high level. This process can mitigate the impacts of salt ‘slugs’ that may have been scoured from saline deposits in uplands.\n\nThe stream water that is impounded in the recharged groundwater lens within the floodplain soils also provides a buffer against drought. There can be a period of several years of thriving plant growth before the water is fully transpired and the soil, which is heavily shaded by extensive vegetation cover, dries out. In normal years recharge from flooding would arrive earlier to restore the groundwater.\n\nAs part of NSF management, the farmer can divert flows between channels to dry out a meadow area for harvest while starting to produce increased growth in a new zone of the floodplain.\n\n\nMaximum natural outcomes with minimum financial and manufactured inputs\n\nPeter Andrews’ NSF concepts are being applied at project sites as diverse as those featuring upland fast-flowing water courses, to broadacre cropping areas, dry gullies, and salt encrusted degraded lands as well as broad stream valleys and wetlands. Where human-induced impediments to natural growth and production are gradually replaced by the system built around the natural sequences of plants, animals, water and soils, properties have a solid foundation for increased profitability and long term sustainability. Industry analysts have been particularly attracted by the lush growth produced during drought conditions under Peter Andrews’ system.\n\nUnder NSF, natural water flows are reintroduced to alluvial soil plains. In many ways natural alluvial soil floodplains form the whole waterway down the valley whether through surface or sub-surface flow. In contrast, irrigation is the artificial application of water to the land. Invariably, the source of the irrigation water is from artificial storages and highly moderated streams with incised and eroded channels. These have generally been created by past poor environmental practices such as the removal of ground cover.\n\nOwing to its base of natural processes, NSF achieves more sustainable outcomes than traditional pipe and pump irrigation systems as it does not incur large financial costs or create long-term environmental degradation, loss of biodiversity and increasing salinity, as often occurs catchments with highly regulated stream regimes. NSF employs few imported or manufactured inputs such as pesticides, herbicides and artificial fertilisers. In terms of financial capital and operating inputs, it is not an expensive system to introduce and it brings Greenhouse gas benefits through increasing carbon levels in the landscape.\n\nThe investment required is in training for the landholder to interpret the natural processes of the landscape and time spent by the farmer in ‘reading the country’ and applying the NSF principles to the particular property and landscape features of their region. It is no surprise to find that Peter Andrews grew up on a property near Broken Hill area and spent much time with his stockman father and members of the Aboriginal community learning to read country.\n\nIn most cases, Peter Andrews finds that resources available on-site only require intelligent redistribution for natural processes to work in favour of productivity and a reversal of human-induced environmental imbalance and degradation, as most of the naturally developed ‘infrastructure’ is still there.\n\nIn working with nature, NSF requires very low maintenance inputs. Where outside inputs are employed on a farm they can be targeted. Small amounts can be applied to specific areas or species where the system is temporarily out of balance owing, in most cases, to factors outside the property boundaries. NSF harmonises modern technology with natural plant progressions to achieve a resilient model of farming.\n\nWhere neighbouring landholders in a sub-catchment adopt NSF, even more rapid progress to increased profitability and environmental sustainability can be achieved, as NSF adopts a whole-of-catchment approach to farming.\n\n\nNSF applied to Grazing\n\nUnder NSF, many forms of grazing are appropriate if a vigorous perennial plant community can be maintained. If c ell-grazing methods are used, especially across valley segments from ridge to ridge, protection of the riparian zone needs to be considered. Over the medium to long term, weed control, nutrient balances and pest management can be managed by using Natural Sequence Farming methods.\n\nThe improved groundcover and reduced cultivation under NSF not only minimises farm costs but also reduces erosion, avoids soil compaction and maintains a soil structure with increased water holding capacity.\n\nThe use of water balances within NSF, brings the most increases in productivity and sustainability. Costs are also minimised, as water storage is in the groundwater lens rather than expensive above-ground dams, prone to siltation and with high evaporation rates when the water is needed most. Pasture is fed naturally from the roots rather than requiring extensive capital investments in pumps, pipes, irrigation gantries or feeder networks.\n\nTraditional livestock husbandry methods can be complementary to Natural Sequence Farming. Under NSF, livestock are considered as a major tool in land management, including for transferring fertility and controlling weeds. However, feedlot methods of production and other methods of confining herds or flocks need to be well-sited in the catchment to utilise self-removal and self-collection of residues for fertility management.\n\nOnce the initial phase of re-establishment to natural sequences is well on the way, which in most cases only takes one or two years with low cost inputs, monitoring and the application of NSF principles in harmony with Nature achieves continuing sustainable production.\n\n\nNSF applied to Agriculture\n\nUnder NSF, cropping is best suited to methods complementary to retaining significant areas of season-specific perennial pastures. If needed, cultivation may be confined to soils on valley slopes rather than floodplains but it can be worth exploring direct-drill minimum-till broadcast methods first.\n\nHorticulture can be sited off flood plain areas, with careful transfer of valley floor fertility and water within the NSF system.\n\nNSF harmonises well with organic approaches to producing premium farm produce for a growing domestic and export market. Increasing numbers of consumers and vendors are demanding products produced with environmentally sustainable systems coupled with farm accreditation and certified produce before acceptance.\n\nThe use of outside inputs or recycling farm produce on the property can be part of managed fertility transfer, both on the farm and in the sub-catchment. For instance, hay making of legume-rich pasture can be rotated around various areas of a property to work in with weed reduction needs and fertility management.\n\nIrrigation is best-sited on valley floors although most areas managed with NSF require minimum supplementation of water transfers already naturally occurring on and beneath the floodplain.\n \n</p></body>\n\n~~~ #Social/Web"
      }
     },
     "bec7ab8f12a9430d97703a30e7d4bbd3": {
      "model_module": "@jupyter-widgets/base",
      "model_module_version": "2.0.0",
      "model_name": "LayoutModel",
      "state": {}
     },
     "bf204803ce154a968297101aa8b61535": {
      "model_module": "@jupyter-widgets/base",
      "model_module_version": "2.0.0",
      "model_name": "LayoutModel",
      "state": {}
     },
     "bf6c63be285342fdbe26587a14e7bbfe": {
      "model_module": "@jupyter-widgets/base",
      "model_module_version": "2.0.0",
      "model_name": "LayoutModel",
      "state": {}
     },
     "bfd5cb9c145643c087c1da49a548549f": {
      "model_module": "@jupyter-widgets/base",
      "model_module_version": "2.0.0",
      "model_name": "LayoutModel",
      "state": {}
     },
     "c0648bd57e8b47ddb63e0fd04aae093d": {
      "model_module": "@jupyter-widgets/controls",
      "model_module_version": "2.0.0",
      "model_name": "TextStyleModel",
      "state": {
       "description_width": "",
       "font_size": null,
       "text_color": null
      }
     },
     "c0c3a3f71ef245668df9c96fddb979dd": {
      "model_module": "@jupyter-widgets/controls",
      "model_module_version": "2.0.0",
      "model_name": "TextModel",
      "state": {
       "layout": "IPY_MODEL_5361db70e6454cd19598ebe7b1d69969",
       "style": "IPY_MODEL_126e6a0e088f4de180e5f4de49032182"
      }
     },
     "c1622bbd7af4455cb3b454f58d01182b": {
      "model_module": "@jupyter-widgets/controls",
      "model_module_version": "2.0.0",
      "model_name": "TextareaModel",
      "state": {
       "layout": "IPY_MODEL_c96c538e4cbb4069943489a5601ad688",
       "style": "IPY_MODEL_724eed6da5c64d36b6791573ddcd7a1e",
       "value": "one\ngwo"
      }
     },
     "c1ac1ffd454a4518a7082c1b7f54d6e6": {
      "model_module": "@jupyter-widgets/controls",
      "model_module_version": "2.0.0",
      "model_name": "HTMLModel",
      "state": {
       "layout": "IPY_MODEL_f569a8043f004050b7fa0e9b5c607284",
       "style": "IPY_MODEL_a1701b4209a44f1b8b71e98391140c66",
       "value": "<h2>Australia:Natural Sequence Farming!</h2>2: <b>Batehaven, New South Wales, Australia</b><img src=http://res.cloudinary.com/e-nable-org/image/upload/v1672169763/ykpj1sugvcrlabviwr1p.jpg width=100%></img><style>p, li {line-height:1.3; </style><p>\nNatural sequences that can be harnessed by informed management include the movement of grazing animals, birds and insects from valley floors by day to higher levels on the valley sides at night and the transfer of fertility with them. There is a gradual movement of nutrients and seeds back down the valley sides via the water cycle, vegetation and soil processes, constantly refurbishing the fertility of the landscape.<br/><br/>\nIn the process, various plants collect specific substances and the plant communities change in predictable sequences. As part of the biodiversity of a property and catchment, these plants are also a part of multiple food chains and a key to enhancing fertility.<br/><br/>\nNutrients contained in soil or water are mobile and can be quickly lost off-site. Nutrients contained in biodiverse living bodies are stable. NSF management keeps natural functions connected which allows for quick exchange and conversion of nutrients within ecosystems on properties.<br/><br/>\nPeter Andrews has found that even plants labeled as weeds can serve as pioneering species in inhibiting nutrient and soil erosion. They collect and supply essential substances for environmental health. Once slashed, fertility is built up and the weeds are replaced naturally by palatable grasses. To maximize production and conservation results requires a good understanding of interaction of the roles of clays and sands in the process.<br/><br/>\nThis process is complemented by NSF property management when the initial erosion and fertility stabilising need has been met. The once degraded soils are then able to contribute to increased water use efficiency and optimal production levels through their increased organic content.<br/><br/>\nAreas such as floodplains, that collect large amounts of nutrients, can be harvested to redistribute some of the fertility. Like the daily migration of birds and animals, downpours flushing streams to a floodplain are a sequence in the periodic fertilisation and harvest cycle.<br/><br/>\nIn this process, surface running water dissolves natural substances and collects sediments, algae, microbes and plant residues from all parts of the catchment. Re-connecting running water to the stepped land formation of the chain of ponds that used to dominate traditional Australian landscapes, slows water flow. This enhances the ability of growing plants, coupled with decreasing inclines, soils and sands, to filter the water feeding into streams running along the valley floor. This process, in turn, feeds plant roots from the sub-surface and caps saline groundwater from surrounding slopes by perching a freshwater lens above saline layers.<br/><br/>\nAll substances are functional in this naturally managed environment. Salts managed as saline groundwater, where evaporation is excluded from concentrating and crystallizing the substances, allow plant, animal and water ecosystems to balance salinity in the landscape as a natural function. In this way a hillslope pasture or floodplain water meadow is re-created.<br/><br/>\nOn the floodplain, hydrostatic pressure is maintained on the heavier lower saline layers though maintaining high freshwater tables in the perched chain of ponds. At the same time, the stream replenishes the floodplain and its meadows, through lateral transfer to the freshwater table just below the surface.<br/><br/>\nThe floodplain is convex. The perched stream runs along the higher elevation or apex and the billabongs and backswamps are at the lower positions on the perimeter of the floodplain where it meets the valley sides. This shape is created by the natural flow of the stream and reinforced by heavier sediment being deposited on and near the stream-bed in flood.<br/><br/>\n\nA farming system founded on working with nature<br/><br/>\nIn many regions of Australia, floodplains are disconnected from creeks and rivers and natural flow regimes. This leaves them unable to store water to support productive farming and the growth of riparian vegetation.<br/><br/>\nMany of today’s floodplains are incised with deeply scoured gullies and gorges. These are channels that expedite the swift flowing removal of much of the land’s fertility and the carriage of increasing amounts of salt. The soil and its nutrients are highly susceptible to leaching and erosion owing to the application of inappropriate agricultural and pastoral practices creating depleted soils and vegetation cover.<br/><br/>\nNSF takes a holistic approach to natural resource management by re-establishing the stream’s connection to the surrounding landscape and restoring floodplains as ‘sponges’. Although most landscapes have unique qualities, the principles of landform and management are the same. The physics remains constant.<br/><br/>\nPeter Andrews’ interpretation of the landscape accepts that, pre-European settlement, the soil’s natural salt content was kept in check by slow sub-soil movements of fresh water.<br/><br/>\nUnder natural systems that are replicated by NSF, movement of fresh water is by surface and sub-surface flows. The surface flow is by the stream which is perched at the highest level of the floodplain on an accumulation of sediment. Surface water is buffered at each narrowed step position in the chain of ponds. Under NSF, this is achieved by a naturalised ‘leaky weir’ of rocks, sediment, trees, branches, reeds and grass roots mimicking the original natural slowing impediments to flows.<br/><br/>\nIn floodplains in their pristine form, water is stepped slowly down the stream valley floor from one end of a catchment to the other. The stream valley floor is segmented with steps. These steps are where a new floodplain starts and the up-stream one finishes, and below which, large reed beds form on recharge areas.<br/><br/>\nThe floodplains are soil, vegetation and water-filled ponds, forming links in a chain as they progress through each step down the valley. They are joined at each step where the valley sides narrow. Stream water travels through each linked floodplain as a sequence in the stream valley. The stream meanders over each sequence. It covers the floodplain with sediments as it steadily descends the valley. Each floodplain has stream meanders, pools and riffles as well as wetland and water meadow filters.<br/><br/>\nWhere an incised stream bed exists, during low to medium stream flows, the sides of the stream are contained by levee banks built up by flood deposits. The banks are protected from severe erosion by wetland plants such as phragmites, other natural grasses, and streamside trees and shrubs, which have colonised the area.<br/><br/>\nAt the same time, hydrostatic pressure from the perched water table in the stream prevents the lateral intrusion of salinity from the floodplain even in low flow periods.<br/><br/>\nTo recreate the chain of ponds effect, NSF uses small secondary diversion channels to reconnect streams to their floodplains. These channels braid out through the lush meadows to the edges of the floodplain and water then returns to the main stream through surface and sub-surface flows. They pick up peak flows that are diverted by the leaky weirs which maintain normal base flow to downstream properties.<br/><br/>\nDuring high flows, as water spreads across the floodplain in the braided diversion channels, some water is absorbed through sandy intake beds, recharging the groundwater lens above saline layers and just below the plant root systems.<br/><br/>\nAnother portion of the surface water is carried in the channels towards historic floodplain terraces on the edge of the floodplain to refresh hollows and billabongs, facilitating fish passage in the process.<br/><br/>\nDuring flood events, the reed buffers along the stream sides and at the narrow ends, where each pond is joined in the chain, lay down to laminate the ground surface with their protective mat but are ready to grow upright again when the flows have subsided.<br/><br/>\nThe hydrostatic pressure of water in the topped-up meadow and billabong storages on the floodplain prevents the plants on the floodplain from ‘drowning’ in the short interval when the water is at a high level. This process can mitigate the impacts of salt ‘slugs’ that may have been scoured from saline deposits in uplands.<br/><br/>\nThe stream water that is impounded in the recharged groundwater lens within the floodplain soils also provides a buffer against drought. There can be a period of several years of thriving plant growth before the water is fully transpired and the soil, which is heavily shaded by extensive vegetation cover, dries out. In normal years recharge from flooding would arrive earlier to restore the groundwater.<br/><br/>\nAs part of NSF management, the farmer can divert flows between channels to dry out a meadow area for harvest while starting to produce increased growth in a new zone of the floodplain.<br/><br/>\n\nMaximum natural outcomes with minimum financial and manufactured inputs<br/><br/>\nPeter Andrews’ NSF concepts are being applied at project sites as diverse as those featuring upland fast-flowing water courses, to broadacre cropping areas, dry gullies, and salt encrusted degraded lands as well as broad stream valleys and wetlands. Where human-induced impediments to natural growth and production are gradually replaced by the system built around the natural sequences of plants, animals, water and soils, properties have a solid foundation for increased profitability and long term sustainability. Industry analysts have been particularly attracted by the lush growth produced during drought conditions under Peter Andrews’ system.<br/><br/>\nUnder NSF, natural water flows are reintroduced to alluvial soil plains. In many ways natural alluvial soil floodplains form the whole waterway down the valley whether through surface or sub-surface flow. In contrast, irrigation is the artificial application of water to the land. Invariably, the source of the irrigation water is from artificial storages and highly moderated streams with incised and eroded channels. These have generally been created by past poor environmental practices such as the removal of ground cover.<br/><br/>\nOwing to its base of natural processes, NSF achieves more sustainable outcomes than traditional pipe and pump irrigation systems as it does not incur large financial costs or create long-term environmental degradation, loss of biodiversity and increasing salinity, as often occurs catchments with highly regulated stream regimes. NSF employs few imported or manufactured inputs such as pesticides, herbicides and artificial fertilisers. In terms of financial capital and operating inputs, it is not an expensive system to introduce and it brings Greenhouse gas benefits through increasing carbon levels in the landscape.<br/><br/>\nThe investment required is in training for the landholder to interpret the natural processes of the landscape and time spent by the farmer in ‘reading the country’ and applying the NSF principles to the particular property and landscape features of their region. It is no surprise to find that Peter Andrews grew up on a property near Broken Hill area and spent much time with his stockman father and members of the Aboriginal community learning to read country.<br/><br/>\nIn most cases, Peter Andrews finds that resources available on-site only require intelligent redistribution for natural processes to work in favour of productivity and a reversal of human-induced environmental imbalance and degradation, as most of the naturally developed ‘infrastructure’ is still there.<br/><br/>\nIn working with nature, NSF requires very low maintenance inputs. Where outside inputs are employed on a farm they can be targeted. Small amounts can be applied to specific areas or species where the system is temporarily out of balance owing, in most cases, to factors outside the property boundaries. NSF harmonises modern technology with natural plant progressions to achieve a resilient model of farming.<br/><br/>\nWhere neighbouring landholders in a sub-catchment adopt NSF, even more rapid progress to increased profitability and environmental sustainability can be achieved, as NSF adopts a whole-of-catchment approach to farming.<br/><br/>\n\nNSF applied to Grazing<br/><br/>\nUnder NSF, many forms of grazing are appropriate if a vigorous perennial plant community can be maintained. If c ell-grazing methods are used, especially across valley segments from ridge to ridge, protection of the riparian zone needs to be considered. Over the medium to long term, weed control, nutrient balances and pest management can be managed by using Natural Sequence Farming methods.<br/><br/>\nThe improved groundcover and reduced cultivation under NSF not only minimises farm costs but also reduces erosion, avoids soil compaction and maintains a soil structure with increased water holding capacity.<br/><br/>\nThe use of water balances within NSF, brings the most increases in productivity and sustainability. Costs are also minimised, as water storage is in the groundwater lens rather than expensive above-ground dams, prone to siltation and with high evaporation rates when the water is needed most. Pasture is fed naturally from the roots rather than requiring extensive capital investments in pumps, pipes, irrigation gantries or feeder networks.<br/><br/>\nTraditional livestock husbandry methods can be complementary to Natural Sequence Farming. Under NSF, livestock are considered as a major tool in land management, including for transferring fertility and controlling weeds. However, feedlot methods of production and other methods of confining herds or flocks need to be well-sited in the catchment to utilise self-removal and self-collection of residues for fertility management.<br/><br/>\nOnce the initial phase of re-establishment to natural sequences is well on the way, which in most cases only takes one or two years with low cost inputs, monitoring and the application of NSF principles in harmony with Nature achieves continuing sustainable production.<br/><br/>\n\nNSF applied to Agriculture<br/><br/>\nUnder NSF, cropping is best suited to methods complementary to retaining significant areas of season-specific perennial pastures. If needed, cultivation may be confined to soils on valley slopes rather than floodplains but it can be worth exploring direct-drill minimum-till broadcast methods first.<br/><br/>\nHorticulture can be sited off flood plain areas, with careful transfer of valley floor fertility and water within the NSF system.<br/><br/>\nNSF harmonises well with organic approaches to producing premium farm produce for a growing domestic and export market. Increasing numbers of consumers and vendors are demanding products produced with environmentally sustainable systems coupled with farm accreditation and certified produce before acceptance.<br/><br/>\nThe use of outside inputs or recycling farm produce on the property can be part of managed fertility transfer, both on the farm and in the sub-catchment. For instance, hay making of legume-rich pasture can be rotated around various areas of a property to work in with weed reduction needs and fertility management.<br/><br/>\nIrrigation is best-sited on valley floors although most areas managed with NSF require minimum supplementation of water transfers already naturally occurring on and beneath the floodplain.\n \n</p></body><br/><br/>\n~~~ #Social/Web<button style=\"background-color: lightgreen; width: 100%;\">https://www.nsfarming.com/...</button>"
      }
     },
     "c2de87013c3c4761813e35a7c3b2ef3c": {
      "model_module": "@jupyter-widgets/controls",
      "model_module_version": "2.0.0",
      "model_name": "ButtonModel",
      "state": {
       "description": "-",
       "layout": "IPY_MODEL_75a345f92d654797aebc44794a5c1ccf",
       "style": "IPY_MODEL_74ceb3182eb74e36bf580943f9adc611",
       "tooltip": null
      }
     },
     "c426d51977db4e18a48f13c574b64a2f": {
      "model_module": "@jupyter-widgets/base",
      "model_module_version": "2.0.0",
      "model_name": "LayoutModel",
      "state": {}
     },
     "c45165e3e31b482fb9c2f708d8d123ca": {
      "model_module": "@jupyter-widgets/controls",
      "model_module_version": "2.0.0",
      "model_name": "TextStyleModel",
      "state": {
       "description_width": "",
       "font_size": null,
       "text_color": null
      }
     },
     "c5730d1283ed40e59c9b53f92c583d7a": {
      "model_module": "@jupyter-widgets/controls",
      "model_module_version": "2.0.0",
      "model_name": "TextStyleModel",
      "state": {
       "description_width": "",
       "font_size": null,
       "text_color": null
      }
     },
     "c5895f99a8ff4204b19cc004314258db": {
      "model_module": "@jupyter-widgets/controls",
      "model_module_version": "2.0.0",
      "model_name": "TextModel",
      "state": {
       "description": "IUCN Func. Group",
       "layout": "IPY_MODEL_3d67365f6a5d419aa1bff6673705095b",
       "style": "IPY_MODEL_021c8b37c3b3433283df1b1926f0b6d6"
      }
     },
     "c685c5710d574e02a0ab08571632e83a": {
      "model_module": "@jupyter-widgets/controls",
      "model_module_version": "2.0.0",
      "model_name": "ButtonStyleModel",
      "state": {
       "button_color": "lightgreen",
       "font_family": null,
       "font_size": null,
       "font_style": null,
       "font_variant": null,
       "font_weight": null,
       "text_color": null,
       "text_decoration": null
      }
     },
     "c68f54d5879c49c8929d48f1c1032f4a": {
      "model_module": "@jupyter-widgets/base",
      "model_module_version": "2.0.0",
      "model_name": "LayoutModel",
      "state": {}
     },
     "c79105bee1ec4098af15872b7f556bb0": {
      "model_module": "@jupyter-widgets/controls",
      "model_module_version": "2.0.0",
      "model_name": "ButtonModel",
      "state": {
       "disabled": true,
       "layout": "IPY_MODEL_08ea1874601f44dbbed988d466a03a50",
       "style": "IPY_MODEL_9165d3d303b548a1a95c6e6bb51eca5c",
       "tooltip": null
      }
     },
     "c7b3cd0798164d0aa968560d34481b76": {
      "model_module": "@jupyter-widgets/output",
      "model_module_version": "1.0.0",
      "model_name": "OutputModel",
      "state": {
       "layout": "IPY_MODEL_bf204803ce154a968297101aa8b61535"
      }
     },
     "c84e33482b644c91a51a0de9e3b3e2ae": {
      "model_module": "@jupyter-widgets/controls",
      "model_module_version": "2.0.0",
      "model_name": "ButtonStyleModel",
      "state": {
       "button_color": "lightyellow",
       "font_family": null,
       "font_size": null,
       "font_style": null,
       "font_variant": null,
       "font_weight": null,
       "text_color": null,
       "text_decoration": null
      }
     },
     "c8f74819be8544f0834cc33d9a42f770": {
      "model_module": "@jupyter-widgets/controls",
      "model_module_version": "2.0.0",
      "model_name": "TextModel",
      "state": {
       "description": "ERA",
       "layout": "IPY_MODEL_40816b1947d045f19a3407d94ef161a8",
       "style": "IPY_MODEL_8b4aabbf8f98403e95e37e26871f1a1b"
      }
     },
     "c9616990a08c4db9897d355cf06a1ef7": {
      "model_module": "@jupyter-widgets/controls",
      "model_module_version": "2.0.0",
      "model_name": "ButtonModel",
      "state": {
       "description": "↘↗-⅏ (Update!)",
       "layout": "IPY_MODEL_9625c88829284e16bf849f221a62c4a2",
       "style": "IPY_MODEL_068d0a7f8b824e30980a2cabcb69937e",
       "tooltip": null
      }
     },
     "c96c538e4cbb4069943489a5601ad688": {
      "model_module": "@jupyter-widgets/base",
      "model_module_version": "2.0.0",
      "model_name": "LayoutModel",
      "state": {
       "width": "100%"
      }
     },
     "caf5668ab4ca4388931c9174df1a2333": {
      "model_module": "@jupyter-widgets/controls",
      "model_module_version": "2.0.0",
      "model_name": "TextModel",
      "state": {
       "description": "IUCN Func. Group",
       "layout": "IPY_MODEL_fb6fae24eaed486095546bf88f481666",
       "style": "IPY_MODEL_37cce16238a5405fa950bce221df10ad"
      }
     },
     "cb8be64d7741424e90b395ab1f8eb846": {
      "model_module": "@jupyter-widgets/base",
      "model_module_version": "2.0.0",
      "model_name": "LayoutModel",
      "state": {}
     },
     "cbfa3976b02e4ed79a7f4ea25c749ea2": {
      "model_module": "@jupyter-widgets/controls",
      "model_module_version": "2.0.0",
      "model_name": "TextModel",
      "state": {
       "description": "United Designers",
       "layout": "IPY_MODEL_35d62271158944cf8a707584f9d4c03d",
       "style": "IPY_MODEL_059a15a920ef49deb4069963269de682"
      }
     },
     "cd32ce44de754b7e8d3b0d61fca9e699": {
      "model_module": "@jupyter-widgets/controls",
      "model_module_version": "2.0.0",
      "model_name": "ButtonModel",
      "state": {
       "description": "Store",
       "layout": "IPY_MODEL_4a4971d85b544981a78df3de28125e2f",
       "style": "IPY_MODEL_c84e33482b644c91a51a0de9e3b3e2ae",
       "tooltip": null
      }
     },
     "d23e4b6e388c4bc890a3b1125f385817": {
      "model_module": "@jupyter-widgets/base",
      "model_module_version": "2.0.0",
      "model_name": "LayoutModel",
      "state": {}
     },
     "d2eccf6225994c5ba6dcc16cfef3f734": {
      "model_module": "@jupyter-widgets/controls",
      "model_module_version": "2.0.0",
      "model_name": "TextModel",
      "state": {
       "description": "Phone",
       "layout": "IPY_MODEL_a4013ce4292646d38d64297ca1b4b6c5",
       "style": "IPY_MODEL_381847662d924046bf331e9f9121b132"
      }
     },
     "d380b1536b0f49d79f481b656e973e53": {
      "model_module": "@jupyter-widgets/base",
      "model_module_version": "2.0.0",
      "model_name": "LayoutModel",
      "state": {}
     },
     "d3ac4c348e49430b8ab41ab78704dde9": {
      "model_module": "@jupyter-widgets/controls",
      "model_module_version": "2.0.0",
      "model_name": "ButtonStyleModel",
      "state": {
       "font_family": null,
       "font_size": null,
       "font_style": null,
       "font_variant": null,
       "font_weight": null,
       "text_color": null,
       "text_decoration": null
      }
     },
     "d437b3cc3bfb46f4b20ecf08bb889185": {
      "model_module": "@jupyter-widgets/controls",
      "model_module_version": "2.0.0",
      "model_name": "TextStyleModel",
      "state": {
       "description_width": "",
       "font_size": null,
       "text_color": null
      }
     },
     "d5e2e70d3f8c4ecf8cf99e3a45359468": {
      "model_module": "@jupyter-widgets/controls",
      "model_module_version": "2.0.0",
      "model_name": "TextStyleModel",
      "state": {
       "description_width": "",
       "font_size": null,
       "text_color": null
      }
     },
     "d60e2c1339e343af9e9df7c604bedd4c": {
      "model_module": "@jupyter-widgets/controls",
      "model_module_version": "2.0.0",
      "model_name": "ButtonStyleModel",
      "state": {
       "font_family": null,
       "font_size": null,
       "font_style": null,
       "font_variant": null,
       "font_weight": null,
       "text_color": null,
       "text_decoration": null
      }
     },
     "d632b8b6c7c448adb4f1ef770084fc25": {
      "model_module": "@jupyter-widgets/controls",
      "model_module_version": "2.0.0",
      "model_name": "TextModel",
      "state": {
       "description": "y2",
       "layout": "IPY_MODEL_155ffd3a818f4bd58a512e7a2e1ed83b",
       "style": "IPY_MODEL_a697c6a8b65c4f8ba913dd1865cf5719",
       "value": "-35.7368662"
      }
     },
     "d725f4351d7e4ccca23e31d0ae5f0da9": {
      "model_module": "@jupyter-widgets/base",
      "model_module_version": "2.0.0",
      "model_name": "LayoutModel",
      "state": {}
     },
     "dbc938174cfd436fa7eb2a37ff3aee90": {
      "model_module": "@jupyter-widgets/controls",
      "model_module_version": "2.0.0",
      "model_name": "TextModel",
      "state": {
       "description": "GER Hall of Fame",
       "layout": "IPY_MODEL_d725f4351d7e4ccca23e31d0ae5f0da9",
       "style": "IPY_MODEL_f16ec74174bc41ab924600e776ce7c60"
      }
     },
     "dc9e38eccbf24bdeb31f1b09b860bdd3": {
      "model_module": "@jupyter-widgets/controls",
      "model_module_version": "2.0.0",
      "model_name": "ButtonModel",
      "state": {
       "description": "Revert",
       "layout": "IPY_MODEL_a5202127ffa3491fb2e00c48df29988a",
       "style": "IPY_MODEL_04e4dfaf7bac439ebe4b9cbf7513d355",
       "tooltip": null
      }
     },
     "dcf36761d7104fca9f90ece09112c623": {
      "model_module": "@jupyter-widgets/controls",
      "model_module_version": "2.0.0",
      "model_name": "TextModel",
      "state": {
       "description": "eMail",
       "layout": "IPY_MODEL_9dcd6807881b4384ba6a8aa57f627f7c",
       "style": "IPY_MODEL_3c4c7bf7eed341f8953fdfa0a0237d7d",
       "value": "info@nsfarming.com"
      }
     },
     "dd51a3d2cb2e485fbfabd55093dc03b8": {
      "model_module": "@jupyter-widgets/base",
      "model_module_version": "2.0.0",
      "model_name": "LayoutModel",
      "state": {}
     },
     "dec8982b28764dfeaf19e7eadf115a2b": {
      "model_module": "@jupyter-widgets/base",
      "model_module_version": "2.0.0",
      "model_name": "LayoutModel",
      "state": {}
     },
     "dff0cfcee4734ad7b0ea5552d18aca05": {
      "model_module": "@jupyter-widgets/base",
      "model_module_version": "2.0.0",
      "model_name": "LayoutModel",
      "state": {}
     },
     "e001a70bd7f348f3ae5fc996c9b9290f": {
      "model_module": "@jupyter-widgets/controls",
      "model_module_version": "2.0.0",
      "model_name": "TextModel",
      "state": {
       "description": "emal Contact",
       "layout": "IPY_MODEL_47d712d7acc149d2bea2a771318840dd",
       "style": "IPY_MODEL_30c8f303e472442489f5220529a0aacf",
       "value": "Peter Andrews"
      }
     },
     "e26de9d436264618a45f48732b500dab": {
      "model_module": "@jupyter-widgets/base",
      "model_module_version": "2.0.0",
      "model_name": "LayoutModel",
      "state": {}
     },
     "e289a2891fd64dd39f5bc51a4f04a068": {
      "model_module": "@jupyter-widgets/controls",
      "model_module_version": "2.0.0",
      "model_name": "TextModel",
      "state": {
       "description": "GER Hall of Fame",
       "layout": "IPY_MODEL_49afd822c5db40c7841d0709508668a5",
       "style": "IPY_MODEL_c45165e3e31b482fb9c2f708d8d123ca"
      }
     },
     "e2d7b6e4ffba435fa3616648f5e18a4e": {
      "model_module": "@jupyter-widgets/controls",
      "model_module_version": "2.0.0",
      "model_name": "TextStyleModel",
      "state": {
       "description_width": "",
       "font_size": null,
       "text_color": null
      }
     },
     "e2e230a25f464ca2abfa8e832182921e": {
      "model_module": "@jupyter-widgets/controls",
      "model_module_version": "2.0.0",
      "model_name": "TextStyleModel",
      "state": {
       "description_width": "",
       "font_size": null,
       "text_color": null
      }
     },
     "e393002435a243cc96097c7c6e962a41": {
      "model_module": "@jupyter-widgets/controls",
      "model_module_version": "2.0.0",
      "model_name": "DescriptionStyleModel",
      "state": {
       "description_width": ""
      }
     },
     "e425a7f4795a4f898ea1a920288b79de": {
      "model_module": "@jupyter-widgets/base",
      "model_module_version": "2.0.0",
      "model_name": "LayoutModel",
      "state": {}
     },
     "e50ee4de3818436fb6902b5e2969fb44": {
      "model_module": "@jupyter-widgets/controls",
      "model_module_version": "2.0.0",
      "model_name": "TextModel",
      "state": {
       "description": "y",
       "layout": "IPY_MODEL_2a99aab74b0844e5bc903a1973599f95",
       "style": "IPY_MODEL_483899bb3e2145318391b376a0ed5d86"
      }
     },
     "e5876bd886f044e687653989440c6a6a": {
      "model_module": "@jupyter-widgets/controls",
      "model_module_version": "2.0.0",
      "model_name": "TextStyleModel",
      "state": {
       "description_width": "",
       "font_size": null,
       "text_color": null
      }
     },
     "e5ee561bc4024b64b18e34cc2cf96ad3": {
      "model_module": "@jupyter-widgets/base",
      "model_module_version": "2.0.0",
      "model_name": "LayoutModel",
      "state": {}
     },
     "e629f8e73ff243a49374f294d48e953f": {
      "model_module": "@jupyter-widgets/controls",
      "model_module_version": "2.0.0",
      "model_name": "HBoxModel",
      "state": {
       "children": [
        "IPY_MODEL_31019928c514444580d44c4da5691196",
        "IPY_MODEL_f58308fbce2147679ff9e4e6029f77bc",
        "IPY_MODEL_77ce5fbf5f504463b15cc13f06d74e3b"
       ],
       "layout": "IPY_MODEL_0e6ce8e3d76642fc8f68d44891034ecc"
      }
     },
     "e6eb6f35d2d14256b5fb6919c2ca50b8": {
      "model_module": "@jupyter-widgets/controls",
      "model_module_version": "2.0.0",
      "model_name": "TextModel",
      "state": {
       "description": "PNamePlus",
       "layout": "IPY_MODEL_2b2e3db84d314e5fb61c12a151aa8fcf",
       "style": "IPY_MODEL_9a93d387e66c48fd83527d26386f7c84",
       "value": "🌈Australia:Natural Sequence Farming!"
      }
     },
     "e6fd26af49cc4fea96428efe6d3674e9": {
      "model_module": "@jupyter-widgets/controls",
      "model_module_version": "2.0.0",
      "model_name": "ButtonStyleModel",
      "state": {
       "button_color": "lightyellow",
       "font_family": null,
       "font_size": null,
       "font_style": null,
       "font_variant": null,
       "font_weight": null,
       "text_color": null,
       "text_decoration": null
      }
     },
     "e78477857e4443799b14e86b487d3cba": {
      "model_module": "@jupyter-widgets/controls",
      "model_module_version": "2.0.0",
      "model_name": "TextStyleModel",
      "state": {
       "description_width": "",
       "font_size": null,
       "text_color": null
      }
     },
     "e78e9cc5b2324d49b0f16a2b487db8ee": {
      "model_module": "@jupyter-widgets/base",
      "model_module_version": "2.0.0",
      "model_name": "LayoutModel",
      "state": {}
     },
     "e7e634765a6247b78a3695e8126cfb58": {
      "model_module": "@jupyter-widgets/controls",
      "model_module_version": "2.0.0",
      "model_name": "TextModel",
      "state": {
       "description": "b",
       "layout": "IPY_MODEL_5485371eec854e15bc828a76ea2d9bb4",
       "style": "IPY_MODEL_657cefb7bbbb4c1788b0217a0c87ed46",
       "value": "two"
      }
     },
     "e7fc9b27793949e69e388801a36c564d": {
      "model_module": "@jupyter-widgets/controls",
      "model_module_version": "2.0.0",
      "model_name": "TextModel",
      "state": {
       "description": "United Designers",
       "layout": "IPY_MODEL_5a79dae01edc4e49a0ae141e2c424033",
       "style": "IPY_MODEL_eb0b06dc2b31410a9c6ab3725f82010e"
      }
     },
     "e8deecc6ebb64bb9aa7306e9032d2951": {
      "model_module": "@jupyter-widgets/base",
      "model_module_version": "2.0.0",
      "model_name": "LayoutModel",
      "state": {}
     },
     "e8e6fe859eb34763824112a7bb698e97": {
      "model_module": "@jupyter-widgets/base",
      "model_module_version": "2.0.0",
      "model_name": "LayoutModel",
      "state": {}
     },
     "e96208d9e40a4251b4662fadc762f1b1": {
      "model_module": "@jupyter-widgets/base",
      "model_module_version": "2.0.0",
      "model_name": "LayoutModel",
      "state": {}
     },
     "ea84f93f30f1479cb0739f51477264a3": {
      "model_module": "@jupyter-widgets/controls",
      "model_module_version": "2.0.0",
      "model_name": "TextStyleModel",
      "state": {
       "description_width": "",
       "font_size": null,
       "text_color": null
      }
     },
     "ea95850a9e04452aa30b70370dc5ad98": {
      "model_module": "@jupyter-widgets/controls",
      "model_module_version": "2.0.0",
      "model_name": "TextModel",
      "state": {
       "description": "c",
       "layout": "IPY_MODEL_8c1d0ecf54604f9cb9495a5cd636ceaa",
       "style": "IPY_MODEL_9945b70d5bc842e4ae5ce3e06950e1e6",
       "value": "three"
      }
     },
     "eb0b06dc2b31410a9c6ab3725f82010e": {
      "model_module": "@jupyter-widgets/controls",
      "model_module_version": "2.0.0",
      "model_name": "TextStyleModel",
      "state": {
       "description_width": "",
       "font_size": null,
       "text_color": null
      }
     },
     "eb1974320f5447daa9fb14d2d3f9e8ef": {
      "model_module": "@jupyter-widgets/base",
      "model_module_version": "2.0.0",
      "model_name": "LayoutModel",
      "state": {}
     },
     "eb34ea6d7825471ca8a2ac2984367048": {
      "model_module": "@jupyter-widgets/controls",
      "model_module_version": "2.0.0",
      "model_name": "TextModel",
      "state": {
       "description": "Approved",
       "layout": "IPY_MODEL_341b67f561004163b6d1dd578be23395",
       "style": "IPY_MODEL_812fd50cdbe64546a8aa58228c5aef37"
      }
     },
     "eb4c60db94234a68b58a8c01360acf0c": {
      "model_module": "@jupyter-widgets/controls",
      "model_module_version": "2.0.0",
      "model_name": "TextStyleModel",
      "state": {
       "description_width": "",
       "font_size": null,
       "text_color": null
      }
     },
     "ec8f73de8ec344fcb40bce3518f59b41": {
      "model_module": "@jupyter-widgets/controls",
      "model_module_version": "2.0.0",
      "model_name": "TextStyleModel",
      "state": {
       "description_width": "",
       "font_size": null,
       "text_color": null
      }
     },
     "eca32847636a4a859a869fcb13db7766": {
      "model_module": "@jupyter-widgets/controls",
      "model_module_version": "2.0.0",
      "model_name": "HBoxModel",
      "state": {
       "children": [
        "IPY_MODEL_f78a85c0780848308a836d9f00afb061",
        "IPY_MODEL_6c67a96bedd5414482b640a0130a0b2a",
        "IPY_MODEL_5f64d907e5cc404294e12cb2ef25b4ae",
        "IPY_MODEL_a5ea609a4f0e465ab2cab99ea61848c1",
        "IPY_MODEL_9766097b301a4d2289826ec865c12bf0",
        "IPY_MODEL_6268e5a5c6cb4917b5b64cfad3b28a35"
       ],
       "layout": "IPY_MODEL_d23e4b6e388c4bc890a3b1125f385817"
      }
     },
     "ecc01c3fd248402db5ab2225af2b72e9": {
      "model_module": "@jupyter-widgets/base",
      "model_module_version": "2.0.0",
      "model_name": "LayoutModel",
      "state": {}
     },
     "ed32a45acffc495c84ea429d8276d749": {
      "model_module": "@jupyter-widgets/base",
      "model_module_version": "2.0.0",
      "model_name": "LayoutModel",
      "state": {}
     },
     "f00b6cf5090547c4be7f4bdcfca46638": {
      "model_module": "@jupyter-widgets/controls",
      "model_module_version": "2.0.0",
      "model_name": "TextStyleModel",
      "state": {
       "description_width": "",
       "font_size": null,
       "text_color": null
      }
     },
     "f0a1d6e4cf7247df9a16b57d1160f289": {
      "model_module": "@jupyter-widgets/base",
      "model_module_version": "2.0.0",
      "model_name": "LayoutModel",
      "state": {}
     },
     "f0c7a85371d043dea6fa3a591dde0196": {
      "model_module": "@jupyter-widgets/base",
      "model_module_version": "2.0.0",
      "model_name": "LayoutModel",
      "state": {}
     },
     "f16ec74174bc41ab924600e776ce7c60": {
      "model_module": "@jupyter-widgets/controls",
      "model_module_version": "2.0.0",
      "model_name": "TextStyleModel",
      "state": {
       "description_width": "",
       "font_size": null,
       "text_color": null
      }
     },
     "f1fab2bd33004b7fba73292eade52a2b": {
      "model_module": "@jupyter-widgets/controls",
      "model_module_version": "2.0.0",
      "model_name": "TextModel",
      "state": {
       "description": "Thumbnails",
       "layout": "IPY_MODEL_49119da00d3f4f788ac127ccf8971a4c",
       "style": "IPY_MODEL_269c3ad797874abc8b9139667a98ca41",
       "value": "http://res.cloudinary.com/e-nable-org/image/upload/v1672169763/ykpj1sugvcrlabviwr1p.jpg"
      }
     },
     "f241dbb51e004d89a693d72989947af8": {
      "model_module": "@jupyter-widgets/controls",
      "model_module_version": "2.0.0",
      "model_name": "FileUploadModel",
      "state": {
       "accept": "image/*",
       "description": "New Image to Cloudinary?",
       "description_allow_html": false,
       "layout": "IPY_MODEL_42985088200742b793341eac709ea3f8",
       "style": "IPY_MODEL_6f4bfdb741c64dbb8953d3667196e64e"
      }
     },
     "f2a50ace4b404d33a0bee09757c53e63": {
      "model_module": "@jupyter-widgets/base",
      "model_module_version": "2.0.0",
      "model_name": "LayoutModel",
      "state": {}
     },
     "f2dec156bf034c0aaad05a703c8a0127": {
      "model_module": "@jupyter-widgets/controls",
      "model_module_version": "2.0.0",
      "model_name": "TextStyleModel",
      "state": {
       "background": "lightblue",
       "description_width": "",
       "font_size": null,
       "text_color": null
      }
     },
     "f50f4f2d6e2d492faddff4c7ca4542d2": {
      "model_module": "@jupyter-widgets/base",
      "model_module_version": "2.0.0",
      "model_name": "LayoutModel",
      "state": {
       "width": "70px"
      }
     },
     "f54f1db1bfb54bf0bd264c7f3dc79679": {
      "model_module": "@jupyter-widgets/controls",
      "model_module_version": "2.0.0",
      "model_name": "TextModel",
      "state": {
       "description": "Description",
       "disabled": true,
       "layout": "IPY_MODEL_55d8cb10b8ae4d22ac321009ae962ac3",
       "style": "IPY_MODEL_9f8fe2f5f8b64a599ace6e2c601e1829",
       "value": "Natural sequences that can be harnessed by informed management include the movement of grazing animals, birds and insects from valley floors by day to higher levels on the valley sides at night and the transfer of fertility with them. There is a gradual movement of nutrients and seeds back down the valley sides via the water cycle, vegetation and soil processes, constantly refurbishing the fertility of the landscape.\n\nIn the process, various plants collect specific substances and the plant communities change in predictable sequences. As part of the biodiversity of a property and catchment, these plants are also a part of multiple food chains and a key to enhancing fertility.\n\nNutrients contained in soil or water are mobile and can be quickly lost off-site. Nutrients contained in biodiverse living bodies are stable. NSF management keeps natural functions connected which allows for quick exchange and conversion of nutrients within ecosystems on properties.\n\nPeter Andrews has found that even plants labeled as weeds can serve as pioneering species in inhibiting nutrient and soil erosion. They collect and supply essential substances for environmental health. Once slashed, fertility is built up and the weeds are replaced naturally by palatable grasses. To maximize production and conservation results requires a good understanding of interaction of the roles of clays and sands in the process.\n\nThis process is complemented by NSF property management when the initial erosion and fertility stabilising need has been met. The once degraded soils are then able to contribute to increased water use efficiency and optimal production levels through their increased organic content.\n\nAreas such as floodplains, that collect large amounts of nutrients, can be harvested to redistribute some of the fertility. Like the daily migration of birds and animals, downpours flushing streams to a floodplain are a sequence in the periodic fertilisation and harvest cycle.\n\nIn this process, surface running water dissolves natural substances and collects sediments, algae, microbes and plant residues from all parts of the catchment. Re-connecting running water to the stepped land formation of the chain of ponds that used to dominate traditional Australian landscapes, slows water flow. This enhances the ability of growing plants, coupled with decreasing inclines, soils and sands, to filter the water feeding into streams running along the valley floor. This process, in turn, feeds plant roots from the sub-surface and caps saline groundwater from surrounding slopes by perching a freshwater lens above saline layers.\n\nAll substances are functional in this naturally managed environment. Salts managed as saline groundwater, where evaporation is excluded from concentrating and crystallizing the substances, allow plant, animal and water ecosystems to balance salinity in the landscape as a natural function. In this way a hillslope pasture or floodplain water meadow is re-created.\n\nOn the floodplain, hydrostatic pressure is maintained on the heavier lower saline layers though maintaining high freshwater tables in the perched chain of ponds. At the same time, the stream replenishes the floodplain and its meadows, through lateral transfer to the freshwater table just below the surface.\n\nThe floodplain is convex. The perched stream runs along the higher elevation or apex and the billabongs and backswamps are at the lower positions on the perimeter of the floodplain where it meets the valley sides. This shape is created by the natural flow of the stream and reinforced by heavier sediment being deposited on and near the stream-bed in flood.\n\n\nA farming system founded on working with nature\n\nIn many regions of Australia, floodplains are disconnected from creeks and rivers and natural flow regimes. This leaves them unable to store water to support productive farming and the growth of riparian vegetation.\n\nMany of today’s floodplains are incised with deeply scoured gullies and gorges. These are channels that expedite the swift flowing removal of much of the land’s fertility and the carriage of increasing amounts of salt. The soil and its nutrients are highly susceptible to leaching and erosion owing to the application of inappropriate agricultural and pastoral practices creating depleted soils and vegetation cover.\n\nNSF takes a holistic approach to natural resource management by re-establishing the stream’s connection to the surrounding landscape and restoring floodplains as ‘sponges’. Although most landscapes have unique qualities, the principles of landform and management are the same. The physics remains constant.\n\nPeter Andrews’ interpretation of the landscape accepts that, pre-European settlement, the soil’s natural salt content was kept in check by slow sub-soil movements of fresh water.\n\nUnder natural systems that are replicated by NSF, movement of fresh water is by surface and sub-surface flows. The surface flow is by the stream which is perched at the highest level of the floodplain on an accumulation of sediment. Surface water is buffered at each narrowed step position in the chain of ponds. Under NSF, this is achieved by a naturalised ‘leaky weir’ of rocks, sediment, trees, branches, reeds and grass roots mimicking the original natural slowing impediments to flows.\n\nIn floodplains in their pristine form, water is stepped slowly down the stream valley floor from one end of a catchment to the other. The stream valley floor is segmented with steps. These steps are where a new floodplain starts and the up-stream one finishes, and below which, large reed beds form on recharge areas.\n\nThe floodplains are soil, vegetation and water-filled ponds, forming links in a chain as they progress through each step down the valley. They are joined at each step where the valley sides narrow. Stream water travels through each linked floodplain as a sequence in the stream valley. The stream meanders over each sequence. It covers the floodplain with sediments as it steadily descends the valley. Each floodplain has stream meanders, pools and riffles as well as wetland and water meadow filters.\n\nWhere an incised stream bed exists, during low to medium stream flows, the sides of the stream are contained by levee banks built up by flood deposits. The banks are protected from severe erosion by wetland plants such as phragmites, other natural grasses, and streamside trees and shrubs, which have colonised the area.\n\nAt the same time, hydrostatic pressure from the perched water table in the stream prevents the lateral intrusion of salinity from the floodplain even in low flow periods.\n\nTo recreate the chain of ponds effect, NSF uses small secondary diversion channels to reconnect streams to their floodplains. These channels braid out through the lush meadows to the edges of the floodplain and water then returns to the main stream through surface and sub-surface flows. They pick up peak flows that are diverted by the leaky weirs which maintain normal base flow to downstream properties.\n\nDuring high flows, as water spreads across the floodplain in the braided diversion channels, some water is absorbed through sandy intake beds, recharging the groundwater lens above saline layers and just below the plant root systems.\n\nAnother portion of the surface water is carried in the channels towards historic floodplain terraces on the edge of the floodplain to refresh hollows and billabongs, facilitating fish passage in the process.\n\nDuring flood events, the reed buffers along the stream sides and at the narrow ends, where each pond is joined in the chain, lay down to laminate the ground surface with their protective mat but are ready to grow upright again when the flows have subsided.\n\nThe hydrostatic pressure of water in the topped-up meadow and billabong storages on the floodplain prevents the plants on the floodplain from ‘drowning’ in the short interval when the water is at a high level. This process can mitigate the impacts of salt ‘slugs’ that may have been scoured from saline deposits in uplands.\n\nThe stream water that is impounded in the recharged groundwater lens within the floodplain soils also provides a buffer against drought. There can be a period of several years of thriving plant growth before the water is fully transpired and the soil, which is heavily shaded by extensive vegetation cover, dries out. In normal years recharge from flooding would arrive earlier to restore the groundwater.\n\nAs part of NSF management, the farmer can divert flows between channels to dry out a meadow area for harvest while starting to produce increased growth in a new zone of the floodplain.\n\n\nMaximum natural outcomes with minimum financial and manufactured inputs\n\nPeter Andrews’ NSF concepts are being applied at project sites as diverse as those featuring upland fast-flowing water courses, to broadacre cropping areas, dry gullies, and salt encrusted degraded lands as well as broad stream valleys and wetlands. Where human-induced impediments to natural growth and production are gradually replaced by the system built around the natural sequences of plants, animals, water and soils, properties have a solid foundation for increased profitability and long term sustainability. Industry analysts have been particularly attracted by the lush growth produced during drought conditions under Peter Andrews’ system.\n\nUnder NSF, natural water flows are reintroduced to alluvial soil plains. In many ways natural alluvial soil floodplains form the whole waterway down the valley whether through surface or sub-surface flow. In contrast, irrigation is the artificial application of water to the land. Invariably, the source of the irrigation water is from artificial storages and highly moderated streams with incised and eroded channels. These have generally been created by past poor environmental practices such as the removal of ground cover.\n\nOwing to its base of natural processes, NSF achieves more sustainable outcomes than traditional pipe and pump irrigation systems as it does not incur large financial costs or create long-term environmental degradation, loss of biodiversity and increasing salinity, as often occurs catchments with highly regulated stream regimes. NSF employs few imported or manufactured inputs such as pesticides, herbicides and artificial fertilisers. In terms of financial capital and operating inputs, it is not an expensive system to introduce and it brings Greenhouse gas benefits through increasing carbon levels in the landscape.\n\nThe investment required is in training for the landholder to interpret the natural processes of the landscape and time spent by the farmer in ‘reading the country’ and applying the NSF principles to the particular property and landscape features of their region. It is no surprise to find that Peter Andrews grew up on a property near Broken Hill area and spent much time with his stockman father and members of the Aboriginal community learning to read country.\n\nIn most cases, Peter Andrews finds that resources available on-site only require intelligent redistribution for natural processes to work in favour of productivity and a reversal of human-induced environmental imbalance and degradation, as most of the naturally developed ‘infrastructure’ is still there.\n\nIn working with nature, NSF requires very low maintenance inputs. Where outside inputs are employed on a farm they can be targeted. Small amounts can be applied to specific areas or species where the system is temporarily out of balance owing, in most cases, to factors outside the property boundaries. NSF harmonises modern technology with natural plant progressions to achieve a resilient model of farming.\n\nWhere neighbouring landholders in a sub-catchment adopt NSF, even more rapid progress to increased profitability and environmental sustainability can be achieved, as NSF adopts a whole-of-catchment approach to farming.\n\n\nNSF applied to Grazing\n\nUnder NSF, many forms of grazing are appropriate if a vigorous perennial plant community can be maintained. If c ell-grazing methods are used, especially across valley segments from ridge to ridge, protection of the riparian zone needs to be considered. Over the medium to long term, weed control, nutrient balances and pest management can be managed by using Natural Sequence Farming methods.\n\nThe improved groundcover and reduced cultivation under NSF not only minimises farm costs but also reduces erosion, avoids soil compaction and maintains a soil structure with increased water holding capacity.\n\nThe use of water balances within NSF, brings the most increases in productivity and sustainability. Costs are also minimised, as water storage is in the groundwater lens rather than expensive above-ground dams, prone to siltation and with high evaporation rates when the water is needed most. Pasture is fed naturally from the roots rather than requiring extensive capital investments in pumps, pipes, irrigation gantries or feeder networks.\n\nTraditional livestock husbandry methods can be complementary to Natural Sequence Farming. Under NSF, livestock are considered as a major tool in land management, including for transferring fertility and controlling weeds. However, feedlot methods of production and other methods of confining herds or flocks need to be well-sited in the catchment to utilise self-removal and self-collection of residues for fertility management.\n\nOnce the initial phase of re-establishment to natural sequences is well on the way, which in most cases only takes one or two years with low cost inputs, monitoring and the application of NSF principles in harmony with Nature achieves continuing sustainable production.\n\n\nNSF applied to Agriculture\n\nUnder NSF, cropping is best suited to methods complementary to retaining significant areas of season-specific perennial pastures. If needed, cultivation may be confined to soils on valley slopes rather than floodplains but it can be worth exploring direct-drill minimum-till broadcast methods first.\n\nHorticulture can be sited off flood plain areas, with careful transfer of valley floor fertility and water within the NSF system.\n\nNSF harmonises well with organic approaches to producing premium farm produce for a growing domestic and export market. Increasing numbers of consumers and vendors are demanding products produced with environmentally sustainable systems coupled with farm accreditation and certified produce before acceptance.\n\nThe use of outside inputs or recycling farm produce on the property can be part of managed fertility transfer, both on the farm and in the sub-catchment. For instance, hay making of legume-rich pasture can be rotated around various areas of a property to work in with weed reduction needs and fertility management.\n\nIrrigation is best-sited on valley floors although most areas managed with NSF require minimum supplementation of water transfers already naturally occurring on and beneath the floodplain.\n \n</p></body>\n\n~~~ #Social/Web"
      }
     },
     "f569a8043f004050b7fa0e9b5c607284": {
      "model_module": "@jupyter-widgets/base",
      "model_module_version": "2.0.0",
      "model_name": "LayoutModel",
      "state": {
       "height": "1000px",
       "width": "30%"
      }
     },
     "f58308fbce2147679ff9e4e6029f77bc": {
      "model_module": "@jupyter-widgets/controls",
      "model_module_version": "2.0.0",
      "model_name": "ButtonModel",
      "state": {
       "description": "Max = 3489;  Inc?",
       "layout": "IPY_MODEL_0636193b13a441b9badf5a5893759fbd",
       "style": "IPY_MODEL_410c9612d29a407289879a8426a7669b",
       "tooltip": null
      }
     },
     "f68e726b83c04f939cc00a94ae2b6d87": {
      "model_module": "@jupyter-widgets/controls",
      "model_module_version": "2.0.0",
      "model_name": "TextStyleModel",
      "state": {
       "description_width": "",
       "font_size": null,
       "text_color": null
      }
     },
     "f706bfb6b7c54d788706a62f3a7f4f2a": {
      "model_module": "@jupyter-widgets/base",
      "model_module_version": "2.0.0",
      "model_name": "LayoutModel",
      "state": {
       "width": "10%"
      }
     },
     "f7285c60c14042db93cd0db625129eab": {
      "model_module": "@jupyter-widgets/base",
      "model_module_version": "2.0.0",
      "model_name": "LayoutModel",
      "state": {
       "width": "60%"
      }
     },
     "f769aeb7642648e389bf9b98fb4bf82d": {
      "model_module": "@jupyter-widgets/controls",
      "model_module_version": "2.0.0",
      "model_name": "TextModel",
      "state": {
       "description": "Secondary Type",
       "layout": "IPY_MODEL_bfd5cb9c145643c087c1da49a548549f",
       "style": "IPY_MODEL_a446434501ad4a25b095b5f07c05902f",
       "value": "Scientific Reseach, Ecorestoration other than Agriculture"
      }
     },
     "f78a85c0780848308a836d9f00afb061": {
      "model_module": "@jupyter-widgets/controls",
      "model_module_version": "2.0.0",
      "model_name": "ButtonModel",
      "state": {
       "description": "Capture WYSIWYG",
       "layout": "IPY_MODEL_6debb48a2ea849cca885e060cdce29c8",
       "style": "IPY_MODEL_6e0e4bb4845347a791205287e92a0a5e",
       "tooltip": null
      }
     },
     "f84c6df376804aeca6d1672bea566a38": {
      "model_module": "@jupyter-widgets/controls",
      "model_module_version": "2.0.0",
      "model_name": "TextModel",
      "state": {
       "description": "ObjectId2",
       "layout": "IPY_MODEL_05ba852006a04d428f9cf439c07216a7",
       "style": "IPY_MODEL_95b57914631847879185ee00cbf6cecd",
       "value": "1"
      }
     },
     "fb29c96075b84d12b9790de961425231": {
      "model_module": "@jupyter-widgets/base",
      "model_module_version": "2.0.0",
      "model_name": "LayoutModel",
      "state": {
       "width": "120px"
      }
     },
     "fb6fae24eaed486095546bf88f481666": {
      "model_module": "@jupyter-widgets/base",
      "model_module_version": "2.0.0",
      "model_name": "LayoutModel",
      "state": {}
     },
     "fc3ed569d0934001b4c548cb345780df": {
      "model_module": "@jupyter-widgets/base",
      "model_module_version": "2.0.0",
      "model_name": "LayoutModel",
      "state": {
       "height": "1000px",
       "width": "30%"
      }
     },
     "fc87db93695e46b892150af770899bd3": {
      "model_module": "@jupyter-widgets/controls",
      "model_module_version": "2.0.0",
      "model_name": "TextStyleModel",
      "state": {
       "description_width": "",
       "font_size": null,
       "text_color": null
      }
     },
     "fcc3300b10b249dd82b55c98b8afa3ac": {
      "model_module": "@jupyter-widgets/output",
      "model_module_version": "1.0.0",
      "model_name": "OutputModel",
      "state": {
       "layout": "IPY_MODEL_f2a50ace4b404d33a0bee09757c53e63"
      }
     },
     "fdc5253cdbb34252be82e83d323cc41b": {
      "model_module": "@jupyter-widgets/controls",
      "model_module_version": "2.0.0",
      "model_name": "TextStyleModel",
      "state": {
       "description_width": "",
       "font_size": null,
       "text_color": null
      }
     },
     "fdcebd77ebae43a99c411c6d6c042cc7": {
      "model_module": "@jupyter-widgets/base",
      "model_module_version": "2.0.0",
      "model_name": "LayoutModel",
      "state": {}
     },
     "fe141f06349b4d16ba2e51c901bd9064": {
      "model_module": "@jupyter-widgets/controls",
      "model_module_version": "2.0.0",
      "model_name": "TextModel",
      "state": {
       "description": "a",
       "layout": "IPY_MODEL_e26de9d436264618a45f48732b500dab",
       "style": "IPY_MODEL_5b3302df101b4b09a694d7dd9f258d4e",
       "value": "one"
      }
     },
     "fe40da5fedfb467380f683e12bc0a5c5": {
      "model_module": "@jupyter-widgets/base",
      "model_module_version": "2.0.0",
      "model_name": "LayoutModel",
      "state": {}
     },
     "ffb391890ec0445f9f5f79930c02f06a": {
      "model_module": "@jupyter-widgets/controls",
      "model_module_version": "2.0.0",
      "model_name": "TextModel",
      "state": {
       "description": "emal Contact",
       "layout": "IPY_MODEL_c68f54d5879c49c8929d48f1c1032f4a",
       "style": "IPY_MODEL_498902f4c9294317814a3fc76b8053c9",
       "value": "Peter Andrews"
      }
     }
    },
    "version_major": 2,
    "version_minor": 0
   }
  }
 },
 "nbformat": 4,
 "nbformat_minor": 5
}
