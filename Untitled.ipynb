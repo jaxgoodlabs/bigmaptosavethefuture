{
 "cells": [
  {
   "cell_type": "code",
   "execution_count": null,
   "id": "80b9de4f-5773-4e93-9374-2d3cbefb02db",
   "metadata": {
    "tags": []
   },
   "outputs": [
    {
     "name": "stdout",
     "output_type": "stream",
     "text": [
      "This is a simple text editor.\n",
      "\n",
      "It can indent and fold text.\n"
     ]
    },
    {
     "name": "stdin",
     "output_type": "stream",
     "text": [
      "Enter command:  this is text\n"
     ]
    },
    {
     "name": "stdout",
     "output_type": "stream",
     "text": [
      "This is a simple text editor.\n",
      "\n",
      "It can indent and fold text.\n"
     ]
    },
    {
     "name": "stdin",
     "output_type": "stream",
     "text": [
      "Enter command:  another line\n"
     ]
    },
    {
     "name": "stdout",
     "output_type": "stream",
     "text": [
      "This is a simple text editor.\n",
      "\n",
      "It can indent and fold text.\n"
     ]
    },
    {
     "name": "stdin",
     "output_type": "stream",
     "text": [
      "Enter command:  indent\n"
     ]
    },
    {
     "name": "stdout",
     "output_type": "stream",
     "text": [
      "This is a simple text editor.\n",
      "\n",
      "It can indent and fold text.\n"
     ]
    },
    {
     "name": "stdin",
     "output_type": "stream",
     "text": [
      "Enter command:  fold\n"
     ]
    },
    {
     "name": "stdout",
     "output_type": "stream",
     "text": [
      "This is a simple text editor.\n",
      "\n",
      "It can indent and fold text.\n"
     ]
    }
   ],
   "source": [
    "import sys\n",
    "\n",
    "def indent_text(text):\n",
    "  \"\"\"Indents the text by one level.\"\"\"\n",
    "  lines = text.split(\"\\n\")\n",
    "  indented_lines = []\n",
    "  for line in lines:\n",
    "    indented_lines.append(\"  \" + line)\n",
    "  return \"\\n\".join(indented_lines)\n",
    "\n",
    "def fold_text(text):\n",
    "  \"\"\"Folds the text by indenting blocks of text.\"\"\"\n",
    "  lines = text.split(\"\\n\")\n",
    "  folded_lines = []\n",
    "  current_indent = 0\n",
    "  for line in lines:\n",
    "    if line.startswith(\" \" * current_indent):\n",
    "      folded_lines.append(line)\n",
    "    else:\n",
    "      folded_lines.append(\"```\")\n",
    "      folded_lines.append(indent_text(line))\n",
    "      folded_lines.append(\"```\")\n",
    "      current_indent = len(line) - len(line.lstrip())\n",
    "  return \"\\n\".join(folded_lines)\n",
    "\n",
    "def main():\n",
    "  text = \"This is a simple text editor.\\n\\nIt can indent and fold text.\"\n",
    "  editor = TextEditor(text)\n",
    "  editor.run()\n",
    "\n",
    "class TextEditor:\n",
    "  def __init__(self, text):\n",
    "    self.text = text\n",
    "    self.indent_level = 0\n",
    "\n",
    "  def run(self):\n",
    "    while True:\n",
    "      print(self.text)\n",
    "      command = input(\"Enter command: \")\n",
    "      if command == \"indent\":\n",
    "        self.indent_level += 1\n",
    "      elif command == \"outdent\":\n",
    "        self.indent_level -= 1\n",
    "      elif command == \"fold\":\n",
    "        self.text = fold_text(self.text)\n",
    "      elif command == \"quit\":\n",
    "        sys.exit()\n",
    "\n",
    "if __name__ == \"__main__\":\n",
    "  main()\n"
   ]
  },
  {
   "cell_type": "code",
   "execution_count": null,
   "id": "ee8bf1ae-8fbd-498b-9888-c5f4e150cd93",
   "metadata": {},
   "outputs": [],
   "source": []
  }
 ],
 "metadata": {
  "kernelspec": {
   "display_name": "Python 3 (ipykernel)",
   "language": "python",
   "name": "python3"
  },
  "language_info": {
   "codemirror_mode": {
    "name": "ipython",
    "version": 3
   },
   "file_extension": ".py",
   "mimetype": "text/x-python",
   "name": "python",
   "nbconvert_exporter": "python",
   "pygments_lexer": "ipython3",
   "version": "3.8.16"
  },
  "widgets": {
   "application/vnd.jupyter.widget-state+json": {
    "state": {},
    "version_major": 2,
    "version_minor": 0
   }
  }
 },
 "nbformat": 4,
 "nbformat_minor": 5
}
