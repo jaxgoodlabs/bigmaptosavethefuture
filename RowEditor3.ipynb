{
 "cells": [
  {
   "cell_type": "raw",
   "id": "94c5cea3-bd25-4f7e-87eb-c52d420acef2",
   "metadata": {},
   "source": [
    "installed=\"\"\"!python -m pip install pygsheets\n",
    "!python -m pip install cloudinary\n",
    "!python -m pip install svglib\n",
    "!python -m pip install selenium\n",
    "!python -m pip install validators\"\"\""
   ]
  },
  {
   "cell_type": "code",
   "execution_count": null,
   "id": "15ce5c64-1b30-4787-b510-2b725090d281",
   "metadata": {},
   "outputs": [],
   "source": []
  },
  {
   "cell_type": "code",
   "execution_count": 1,
   "id": "bedf8a49",
   "metadata": {
    "tags": []
   },
   "outputs": [],
   "source": [
    "# # # Controls\n",
    "# \n",
    "# # ### StoreRevert and removeClickHandlers "
   ]
  },
  {
   "cell_type": "code",
   "execution_count": 2,
   "id": "58aa3fbe",
   "metadata": {
    "lines_to_next_cell": 2
   },
   "outputs": [],
   "source": [
    "#standalone\n",
    "from ipywidgets import * \n",
    "output=Output()\n",
    "\n",
    "def removeClickHandlers(button):\n",
    "    button._click_handlers.callbacks=[]\n",
    "\n",
    "def doStore(e):\n",
    "    with output:\n",
    "        pass;\n",
    "        #print('doStore', str(e))\n",
    "    \n",
    "def doRevert(e):\n",
    "    with output:\n",
    "        print('doRevert', str(e))\n",
    "\n",
    "def StoreRevert():\n",
    "    Store= Button(description='Store')\n",
    "    Store.on_click(doStore)\n",
    "    Store.style.button_color = 'lightyellow'\n",
    "\n",
    "    Revert= Button(description='Revert')\n",
    "    Revert.on_click(doRevert)\n",
    "    Revert.style.button_color = 'lightyellow'\n",
    "\n",
    "    return Store, Revert\n",
    "\n",
    "TESTING=0\n",
    "if TESTING:\n",
    "    Store, Revert = StoreRevert()\n",
    "    display(Store, Revert, output)\n",
    "#removeClickHandlers(Revert) \n",
    "\n",
    "\n",
    "# ### ControlBox and disableCB"
   ]
  },
  {
   "cell_type": "code",
   "execution_count": 3,
   "id": "313e652a",
   "metadata": {
    "lines_to_next_cell": 2
   },
   "outputs": [],
   "source": [
    "#standalone\n",
    "from ipywidgets import *\n",
    "output=Output()\n",
    "\n",
    "\"\"\"\n",
    "This is the [-]_RecNum_[+] controlbox.\n",
    "\"\"\"\n",
    "recNum = 2\n",
    "def dec(e):\n",
    "    global recNum\n",
    "    recNum.value -= 1\n",
    "        \n",
    "def inc(e):\n",
    "    global recNum\n",
    "    recNum.value += 1\n",
    "\n",
    "fullWidth = widgets.Layout(width='100%')\n",
    "\n",
    "    \n",
    "recNum = widgets.BoundedIntText(\n",
    "    value=7,\n",
    "    min=1,\n",
    "    max=2000,\n",
    "    step=1,\n",
    "    disabled=False,\n",
    "    layout = widgets.Layout(width='60%'))\n",
    "\n",
    "def disableCB(disable=False):\n",
    "    global controlBox\n",
    "    colors={True:'yellow', False:None}\n",
    "    for child in controlBox.children:\n",
    "        child.disabled = disable\n",
    "        child.style.background=colors[disable]     #for recNum\n",
    "        child.style.button_color=colors[disable]   #for minus and plus\n",
    "\n",
    "    \n",
    "def ControlBox():\n",
    "    minus =Button(description = '-', layout=Layout(width = '10%'))\n",
    "    plus  =Button(description = '+', layout=Layout(width = '10%'))\n",
    "    minus.on_click(dec)\n",
    "    plus.on_click(inc)\n",
    "    controlBox = HBox((minus,recNum,plus))\n",
    "    controlBox.layout={'width':'120px'}\n",
    "    controlBox.disabled=False        \n",
    "    return controlBox\n",
    "\n",
    "TESTING=0\n",
    "if TESTING:\n",
    "    controlBox = ControlBox()\n",
    "    display(controlBox)      #controls should work\n",
    "    display(output)\n",
    "    #disableCB(True)\n",
    "\n",
    "\n",
    "# ### The next cells build upon each other\n",
    "\n",
    "# #### Twitcher"
   ]
  },
  {
   "cell_type": "code",
   "execution_count": 4,
   "id": "d449e747",
   "metadata": {},
   "outputs": [],
   "source": [
    "#standalone Twitcher\n",
    "from ipywidgets import *\n",
    "TESTING=0\n",
    "output = Output()\n",
    "\n",
    "def onTwitch(e):\n",
    "    with output:\n",
    "        print('overwrite me')\n",
    "\n",
    "def twitch(e):\n",
    "    e['owner'].style.background='yellow'\n",
    "    onTwitch(e)\n",
    "    with output:\n",
    "        print('twitch', str(e))\n",
    "\n",
    "def Twitcher(description = 'change me',\n",
    "             value='and I should turn yellow'):\n",
    "    T= Text(description=description,value=value)\n",
    "    T.observe(twitch, type='change', names='value')\n",
    "    return(T)\n",
    "\n",
    "TESTING=0\n",
    "if TESTING:\n",
    "    display(output)\n",
    "    T=Twitcher()\n",
    "    display(T)\n",
    "\n",
    "\n",
    "# # ## Twitchers and Three Columns"
   ]
  },
  {
   "cell_type": "code",
   "execution_count": 5,
   "id": "af07246c",
   "metadata": {},
   "outputs": [],
   "source": [
    "#requires Twitch ## Twitchers and Three Columns\n",
    "\n",
    "#Create 3 columns: Twitchers, TextEditor, HTML\n",
    "#uses Twitch\n",
    "\n",
    "from collections import OrderedDict\n",
    "\n",
    "fields=OrderedDict(a='one',b='two',c='three')\n",
    "\n",
    "#populate a dictionary of Twitchers from the fields\n",
    "def Twitchers(fields=fields):\n",
    "    \"\"\"\n",
    "        twitchers['a'] will be a twitcher with a value of 'one'\n",
    "    \"\"\"\n",
    "    twitchers=OrderedDict()\n",
    "    for description, value in fields.items():\n",
    "        twitchers[description] = Twitcher(description,value)\n",
    "    return twitchers\n",
    "\n",
    "def BottomPanel(twitchers):\n",
    "    left = VBox(list(twitchers.values()),layout=widgets.Layout(height=\"1000px\", width=\"40%\"))\n",
    "    middle = Textarea(value=10*'init\\n',layout=widgets.Layout(height=\"1000px\", width=\"30%\"))\n",
    "    right  = HTML(value=10*'<i>init</i>\\n',layout=widgets.Layout(height=\"1000px\", width=\"30%\"))\n",
    "    Bot = HBox([left, middle, right])\n",
    "    Bot.left=left\n",
    "    Bot.middle=middle\n",
    "    Bot.right=right\n",
    "    return Bot\n",
    "               \n",
    "    \n",
    "TESTING=0\n",
    "if TESTING: #twitchers should twitch.  don't expect HTML panel to't update\n",
    "\n",
    "    twitchers=Twitchers()\n",
    "    bottomPanel=BottomPanel(twitchers)\n",
    "    display(bottomPanel)\n",
    "\n",
    "\n",
    "# # ## pygSheets  getRowData(), putRowData() "
   ]
  },
  {
   "cell_type": "code",
   "execution_count": 8,
   "id": "2e873704",
   "metadata": {},
   "outputs": [
    {
     "ename": "ModuleNotFoundError",
     "evalue": "No module named 'pygsheets'",
     "output_type": "error",
     "traceback": [
      "\u001b[0;31m---------------------------------------------------------------------------\u001b[0m",
      "\u001b[0;31mModuleNotFoundError\u001b[0m                       Traceback (most recent call last)",
      "Cell \u001b[0;32mIn[8], line 5\u001b[0m\n\u001b[1;32m      2\u001b[0m \u001b[38;5;124;03m\"\"\"make sure the credentials file (enablebadger...) is present\"\"\"\u001b[39;00m\n\u001b[1;32m      3\u001b[0m \u001b[38;5;28;01mfrom\u001b[39;00m \u001b[38;5;21;01mcollections\u001b[39;00m \u001b[38;5;28;01mimport\u001b[39;00m OrderedDict\n\u001b[0;32m----> 5\u001b[0m \u001b[38;5;28;01mimport\u001b[39;00m \u001b[38;5;21;01mpygsheets\u001b[39;00m\n\u001b[1;32m      6\u001b[0m CREDENTIALSFILE \u001b[38;5;241m=\u001b[39m \u001b[38;5;124m'\u001b[39m\u001b[38;5;124menablebadger-b31383b767ef.json\u001b[39m\u001b[38;5;124m'\u001b[39m\n\u001b[1;32m      7\u001b[0m \u001b[38;5;66;03m#sheetURL = 'https://docs.google.com/spreadsheets/d/140rX3pg1s69xxEh6dTse4Gkjv1bmcEi3ECK26KMZrAc/edit#gid=1364324556' #TESTING\u001b[39;00m\n",
      "\u001b[0;31mModuleNotFoundError\u001b[0m: No module named 'pygsheets'"
     ]
    }
   ],
   "source": [
    "#standalone\n",
    "\"\"\"make sure the credentials file (enablebadger...) is present\"\"\"\n",
    "from collections import OrderedDict\n",
    "\n",
    "import pygsheets\n",
    "CREDENTIALSFILE = 'enablebadger-b31383b767ef.json'\n",
    "#sheetURL = 'https://docs.google.com/spreadsheets/d/140rX3pg1s69xxEh6dTse4Gkjv1bmcEi3ECK26KMZrAc/edit#gid=1364324556' #TESTING\n",
    "gSheetURL ='https://docs.google.com/spreadsheets/d/1tYfp9JvSWuMnZ45YtDFDFfyFnAGT-aeOtiNcuXnq3qk/edit#gid=1364324556' \n",
    "googleClient = pygsheets.authorize(service_file=CREDENTIALSFILE)\n",
    "gs=googleClient.open_by_url(gSheetURL)\n",
    "sheet=gs.worksheets()[0]\n",
    "\n",
    "def getRowData(rowNum=2): # usually to come from recNum.value):\n",
    "    s = f'get {rowNum=}'\n",
    "    try:\n",
    "        msg.value = s\n",
    "    except NameError:\n",
    "        pass\n",
    "    keys=sheet.get_row(1)\n",
    "    values = sheet.get_row(rowNum)\n",
    "    ret = OrderedDict()\n",
    "    for i,key in enumerate(keys):\n",
    "        ret[key]=values[i]\n",
    "    return ret\n",
    "#rowData = getRowData(20)\n",
    "\n",
    "        \n",
    "TESTING=0\n",
    "if TESTING:\n",
    "    print(sheet.title)\n",
    "    rowData = getRowData()\n",
    "    print(rowData)\n",
    "\n",
    "\n",
    "# # ## Twitchers <-> Content, updateHTML, loadRow, putRow\n",
    "# \n",
    "# #  ## Imagery"
   ]
  },
  {
   "cell_type": "code",
   "execution_count": 9,
   "id": "b47eb1a8",
   "metadata": {
    "tags": []
   },
   "outputs": [
    {
     "ename": "ModuleNotFoundError",
     "evalue": "No module named 'cloudinary'",
     "output_type": "error",
     "traceback": [
      "\u001b[0;31m---------------------------------------------------------------------------\u001b[0m",
      "\u001b[0;31mModuleNotFoundError\u001b[0m                       Traceback (most recent call last)",
      "Cell \u001b[0;32mIn[9], line 22\u001b[0m\n\u001b[1;32m     19\u001b[0m \u001b[38;5;28;01mif\u001b[39;00m TESTING:\n\u001b[1;32m     20\u001b[0m     putImageDict()  \u001b[38;5;66;03m#will fail if imgDict is not a global variable\u001b[39;00m\n\u001b[0;32m---> 22\u001b[0m \u001b[38;5;28;01mimport\u001b[39;00m \u001b[38;5;21;01mcloudinary\u001b[39;00m\n\u001b[1;32m     23\u001b[0m \u001b[38;5;28;01mimport\u001b[39;00m \u001b[38;5;21;01mcloudinary\u001b[39;00m\u001b[38;5;21;01m.\u001b[39;00m\u001b[38;5;21;01muploader\u001b[39;00m\n\u001b[1;32m     24\u001b[0m \u001b[38;5;28;01mimport\u001b[39;00m \u001b[38;5;21;01mcloudinary\u001b[39;00m\u001b[38;5;21;01m.\u001b[39;00m\u001b[38;5;21;01mapi\u001b[39;00m\n",
      "\u001b[0;31mModuleNotFoundError\u001b[0m: No module named 'cloudinary'"
     ]
    }
   ],
   "source": [
    "#standalone # #  ## Imagery\n",
    "from IPython.display import Image\n",
    "import json\n",
    "def getImageDict():\n",
    "    f=open('imgDict.json')\n",
    "    ImageDict = json.loads(f.read())\n",
    "    f.close()\n",
    "    return ImageDict\n",
    "\n",
    "def putImageDict():\n",
    "    f=open('imgDict.json','w')\n",
    "    f.write(json.dumps(imgDict))\n",
    "    print('savedImgDict')\n",
    "    f.close()\n",
    "            \n",
    "imgDict = getImageDict()         \n",
    "        \n",
    "TESTING=0\n",
    "if TESTING:\n",
    "    putImageDict()  #will fail if imgDict is not a global variable\n",
    "        \n",
    "import cloudinary\n",
    "import cloudinary.uploader\n",
    "import cloudinary.api\n",
    "import cloudinary.utils\n",
    "\n",
    "\n",
    "svgURL='http://www.ingafoundation.org/wp-content/themes/hueman-docandtee/images/inga-logo.svg'\n",
    "filePath = jpgPath='tmp2.jpg'\n",
    "\n",
    "\n",
    "def enCloud(filePath=filePath,public_id=None):\n",
    "    \"\"\" upload the pre-existing imagefile at filePath, 'tmp2.jpg'\n",
    "        return a URL that uses the same 'first name' as the imagefile (e.g, tmp2)\n",
    "    \n",
    "    \"\"\"\n",
    "    if not public_id:\n",
    "        public_id = filePath.split('.')[-1]\n",
    "    \n",
    "    cloudinary.config(\n",
    "      cloud_name = 'e-nable-org',  \n",
    "      api_key = '784995798559293',  \n",
    "      api_secret = 'L-A0R81r4FoLPZEgA7kdXi4e9AI'  \n",
    "    )\n",
    "    resp = cloudinary.uploader.upload(file=filePath, public_id=public_id)\n",
    "    #print('image now at', resp['url'])\n",
    "    #print(resp)\n",
    "    return resp['url']\n",
    "    \n",
    "            \n",
    "from svglib.svglib import svg2rlg\n",
    "from reportlab.graphics import renderPM\n",
    "from IPython.utils.io import capture_output\n",
    "\n",
    "svgURL='http://www.ingafoundation.org/wp-content/themes/hueman-docandtee/images/inga-logo.svg'\n",
    "jpgPath='tmp2.jpg'\n",
    "\n",
    "def svg_to_jpg(svgURL=svgURL, jpgPath=jpgPath):\n",
    "    capture_output(stderr=True, display=False) #gets some, usually\n",
    "    drawing = svg2rlg(svgURL)\n",
    "    renderPM.drawToFile(drawing,jpgPath, fmt='jpg')\n",
    "    return(jpgPath)\n",
    "\n",
    "TESTING=0\n",
    "if TESTING:\n",
    "    imgPath = svg_to_jpg(svgURL=svgURL, jpgPath=jpgPath)\n",
    "    print('got ', imgPath, 'expect warnings and then image')\n",
    "    display(Image(imgPath))\n",
    "\n",
    "\n",
    "\n",
    "\n",
    "# # data-filled BottomPanel"
   ]
  },
  {
   "cell_type": "code",
   "execution_count": null,
   "id": "c83c504a-ead5-4147-9e60-008209377215",
   "metadata": {},
   "outputs": [],
   "source": []
  },
  {
   "cell_type": "code",
   "execution_count": 12,
   "id": "dc3fc09c",
   "metadata": {},
   "outputs": [],
   "source": [
    "# data-filled BottomPanel #requires Twitchers, pyGsheets\n",
    "\"\"\"update html  whenever \n",
    "    (1) a twitcher twitches (thanks to onTwitch)\n",
    "    (2) OR when the TA changes (thanks to TA.observe)\n",
    "\"\"\"\n",
    "\n",
    "twitchers=Twitchers()\n",
    "\n",
    "def putRowData(rowNum=2): #recNum.value):\n",
    "    global twitchers\n",
    "    print(f'{twitchers.keys()}')\n",
    "    twitchers['Description'].value = bottomPanel.middle.value \n",
    "    data = [twitcher.value for twitcher in twitchers.values()]  #twichers.values are the indivdual widgets.  *Their* values are what we want.\n",
    "    sheet.update_row(recNum.value, data)\n",
    "    ret = f'Stored row {recNum.value} back to spreadsheet'\n",
    "    return ret\n",
    "\n",
    "def html():\n",
    "    \"\"\"generate html based on an amalgam of twitcher values and middle value\"\"\"\n",
    "    return 'Dummy <b>HTML</b>'\n",
    "\n",
    "def html():\n",
    "        \n",
    "    title =  f\"<h2>{twitchers['Project Name'].value}</h2>\"\n",
    "    location = f\"{twitchers['Freshness'].value}: <b>{twitchers['Location'].value}</b>\"\n",
    "    \n",
    "    EditorContent = '<style>p, li {line-height:1.3; </style><p>\\n' + bottomPanel.middle.value.replace('\\n\\n','<br/><br/>\\n')\n",
    "    pictureURL = twitchers['Picture'].value\n",
    "\n",
    "    thumbURL = twitchers['Thumbnails'].value\n",
    "    if thumbURL:\n",
    "        thumb = f\"<img src={thumbURL} align=right width=25%/></img>\"\n",
    "    else:\n",
    "        thumb = ''\n",
    "\n",
    "    if pictureURL:\n",
    "        imgHTML = f\"<img src={pictureURL} width=100%></img>\"\n",
    "    else:\n",
    "        imgHTML = ''\n",
    "        \n",
    "    button = f'<button style=\"background-color: lightgreen; width: 100%;\">{twitchers[\"Source\"].value[:80]}...</button>'\n",
    "    \n",
    "    #html = thumb + title +  location + imgHTML + EditorContent + button\n",
    "    html =          title +  location + imgHTML + EditorContent + button\n",
    "    return html    \n",
    "\n",
    "def updateHTML(e):\n",
    "    bottomPanel.right.value= html()\n",
    "    with output:\n",
    "        print('updateHTML', str(e)) \n",
    "\n",
    "def onTwitch(e):                   # < - when a twitch occurs\n",
    "    with output:\n",
    "        print('NEW on Twitch')\n",
    "    updateHTML(e)\n",
    "\n",
    "def loadRow(rowData):  #assume rowData exists\n",
    "    global bottomPanel\n",
    "    for key in rowData:\n",
    "        twitchers[key].value=rowData[key]\n",
    "    bottomPanel.middle.value = rowData['Description']\n",
    "    bottomPanel.right.value = html()#.replace()'\\n\\n','</p><p>')\n",
    "    \n",
    "#def fixPnamePlus(rec):\n",
    "    #return rec\n",
    "rosetta = \"\"\"🌈#Social/Web\n",
    "🔷#GER_Hall_of_Fame\n",
    "🍒#Regen.earth\n",
    "🌎#ERA\n",
    "🌽#AgroEcology\n",
    "🌳#MongaBay\n",
    "💦#United Designers\"\"\"\n",
    "icons=dict()\n",
    "for ros in rosetta.split('\\n'):\n",
    "    icons[ros[1:]]=ros[0]\n",
    "icons    \n",
    "    \n",
    "def fixPNamePlus(Description):\n",
    "    prIcons = []\n",
    "    for tag in icons.keys():\n",
    "        if tag in Description:\n",
    "            prIcons.append(icons[tag])\n",
    "        PNamePlus = ''.join(prIcons)+twitchers['Project Name'].value\n",
    "    return PNamePlus\n",
    "    \n",
    "\n",
    "\n",
    "def editorChange(e):\n",
    "    global Description\n",
    "    Description  = bottomPanel.middle.value\n",
    "    twitchers['Description'].value = Description\n",
    "    twitchers['PNamePlus'].value = fixPNamePlus(Description)\n",
    "    updateHTML(e)\n",
    "    \n",
    "TESTING=0\n",
    "if TESTING:\n",
    "    rowData = getRowData(3)\n",
    "    twitchers=Twitchers(rowData)\n",
    "    bottomPanel = BottomPanel(twitchers)\n",
    "    bottomPanel.middle.observe(editorChange, type='change')\n",
    "\n",
    "    loadRow(rowData)\n",
    "    display(bottomPanel)\n",
    "\n",
    "\n",
    "\n",
    "\n",
    "# ### Include spreadsheet IO"
   ]
  },
  {
   "cell_type": "code",
   "execution_count": 13,
   "id": "4752bc9e",
   "metadata": {
    "lines_to_next_cell": 2
   },
   "outputs": [
    {
     "ename": "NameError",
     "evalue": "name 'sheet' is not defined",
     "output_type": "error",
     "traceback": [
      "\u001b[0;31m---------------------------------------------------------------------------\u001b[0m",
      "\u001b[0;31mNameError\u001b[0m                                 Traceback (most recent call last)",
      "Cell \u001b[0;32mIn[13], line 44\u001b[0m\n\u001b[1;32m     40\u001b[0m         \u001b[38;5;66;03m#resetCheckers is in a subsequent cell\u001b[39;00m\n\u001b[1;32m     43\u001b[0m recNum\u001b[38;5;241m.\u001b[39mvalue\u001b[38;5;241m=\u001b[39m\u001b[38;5;241m2\u001b[39m\n\u001b[0;32m---> 44\u001b[0m recNum\u001b[38;5;241m.\u001b[39mmax \u001b[38;5;241m=\u001b[39m \u001b[43msheet\u001b[49m\u001b[38;5;241m.\u001b[39mrows\n\u001b[1;32m     46\u001b[0m rowData \u001b[38;5;241m=\u001b[39m getRowData(recNum\u001b[38;5;241m.\u001b[39mvalue)\n\u001b[1;32m     47\u001b[0m twitchers\u001b[38;5;241m=\u001b[39mTwitchers(rowData)\n",
      "\u001b[0;31mNameError\u001b[0m: name 'sheet' is not defined"
     ]
    }
   ],
   "source": [
    "### Include spreadsheet IO #requres Twitchers, pygsheets, control Box StoreRevert, \n",
    "\n",
    "#Need to wire in store, revert and + and - actions\n",
    "\n",
    "def noYellow(e): #      # <--doStore, doRevert\n",
    "    disableCB(False)\n",
    "    for item in twitchers.values():\n",
    "        item.style.background = None\n",
    "\n",
    "def doStore(e): \n",
    "    rowNum=recNum.value\n",
    "    msg.value = putRowData(rowNum)\n",
    "    noYellow(e) #-->\n",
    "    resetCheckers()\n",
    "\n",
    "def doRevert(e): \n",
    "    rowNum=recNum.value\n",
    "    msg.value = 'Retrieving row #{rowNum}'\n",
    "    loadRow(getRowData(rowNum))\n",
    "    noYellow(e) #-->\n",
    "    resetCheckers()\n",
    "    \n",
    "def onTwitch(e):                   # < - when a twitch occurs\n",
    "    updateHTML(e)    #-->\n",
    "    disableCB(True)  #-->\n",
    "    with output:\n",
    "        print('NEW on Twitch')\n",
    "        \n",
    "        \n",
    "def recNummer(e):\n",
    "    global msg\n",
    "    msg.value=f'should retrieve record #{recNum.value}'\n",
    "    loadRow(getRowData(recNum.value))\n",
    "    noYellow(e)\n",
    "    updateHTML(e)\n",
    "    try:\n",
    "        resetCheckers()\n",
    "    except NameError:\n",
    "        pass\n",
    "        #resetCheckers is in a subsequent cell\n",
    "        \n",
    "        \n",
    "recNum.value=2\n",
    "recNum.max = sheet.rows\n",
    "\n",
    "rowData = getRowData(recNum.value)\n",
    "twitchers=Twitchers(rowData)\n",
    "bottomPanel = BottomPanel(twitchers)\n",
    "bottomPanel.middle.observe(editorChange, type='change')\n",
    "msg=Textarea('one\\ngwo', layout=fullWidth)\n",
    "\n",
    "Store, Revert = StoreRevert()\n",
    "controlBox = ControlBox()\n",
    "\n",
    "loadRow(rowData)\n",
    "\n",
    "RunChecksBtn = Button(description='Run checks?')\n",
    "ImageSourcesBtn = Button(description='Image Sources?')\n",
    "ImageWidthsBtn =  Button(description='Image Widths?')\n",
    "ReportsBox=msg #Textarea(value='Reports will go here.', layout= widgets.Layout(width='30%'))\n",
    "\n",
    "\n",
    "###ReportsBox now piggybacking on msg\n",
    "\n",
    "output.clear_output()\n",
    "\n",
    "bottomPanel.middle.observe(editorChange, type='change')\n",
    "recNum.observe(recNummer, type='change', names='value')\n",
    "twitchers['Description'].disabled=True\n",
    "#twitchers['Source'].disabled=True\n",
    "\n",
    "geturlT=Text(value='Source goes here')\n",
    "geturlT.style.background='lightblue'\n",
    "\n",
    "#####################################\n",
    "\n",
    "TESTING=0\n",
    "if TESTING:\n",
    "    display(HBox([Store, Revert, RunChecksBtn, ImageSourcesBtn, ImageWidthsBtn, ReportsBox]))      #controls should work\n",
    "    display(HBox([Store, Revert, ImageSourcesBtn, ImageWidthsBtn]))      #controls should work\n",
    "    display(HBox([controlBox,geturlT]))\n",
    "    display(msg)\n",
    "    display(bottomPanel)\n",
    "\n",
    "# ## imgUploader"
   ]
  },
  {
   "cell_type": "code",
   "execution_count": 14,
   "id": "8e175ffc-8f13-4281-b628-53509a210f6e",
   "metadata": {},
   "outputs": [],
   "source": [
    "\n",
    "#gSheetURL = 'https://docs.google.com/spreadsheets/d/140rX3pg1s69xxEh6dTse4Gkjv1bmcEi3ECK26KMZrAc/edit#gid=1364324556'\n",
    "import requests\n",
    "\n",
    "FLID='e68751a1649842989bc3162aff4450bf'\n",
    "CSVID = '03d0bcd2228a412cb0932f2560dd9442'\n",
    "gsheetCSVURL = 'https://docs.google.com/spreadsheets/d/e/2PACX-1vSbqvvU4R0NH1K3hT3pqq0H-ENlFuf-rrb-LPo7lSejZ7BHSxQaAw6YBm29b2jXAAySfE4pJS2UVSl5/pub?gid=1364324556&single=true&output=csv'\n",
    "\n",
    "\n",
    "#APRIL 28 TESTING\n",
    "#FLID='a7142234449a4f09833f3586fbbc3529'\n",
    "#CSVID='3d4b5e4947ca458abbcbbae0e97b4922'\n",
    "\n",
    "CSVname='Apr4.csv' \n",
    "\n",
    "def downLoadgSheet(gSheetURL=gsheetCSVURL, CSVName=CSVname):  ########NEWVERSION.  Presumes the CSV is published at gsheetCSVURL\n",
    "    ReportsBox.value += f'Downloading {gSheetURL}\\n'\n",
    "    ret = requests.get(gSheetURL)\n",
    "    ReportsBox.value += ' ' + str(ret) + '\\n'\n",
    "    f=open(CSVname,'w')\n",
    "    f.write(ret.text)\n",
    "    f.close()\n",
    "    ReportsBox.value += f'  created {CSVname}\\n'\n",
    "    return CSVname\n",
    "\n",
    "\n",
    "def upLoadCSV():\n",
    "    global ReportsBox #june27\n",
    "    ReportsBox.value = 'Beginning update...'\n",
    "    global FLC\n",
    "    global gis\n",
    "    from arcgis.gis import GIS\n",
    "    from arcgis import features\n",
    "    import pandas as pd\n",
    "    gis=GIS(username='ecores', password='5?r6K$Jb', verify_cert=False)\n",
    "    #print(gis)\n",
    "    ReportsBox.value = '  ' + str(gis)+'\\n'\n",
    "\n",
    "    hostedCSV = gis.content.search(query=CSVID)[0] #Feature Layer Collection (service)\n",
    "    #print(hostedCSV)\n",
    "    ReportsBox.value += f'   hostedCSV = {str(hostedCSV)}\\n'\n",
    "\n",
    "    FLC = gis.content.search(query=FLID)[0] #Feature Layer Service\n",
    "    #print(FLC)\n",
    "    ReportsBox.value += f'  FeatureLayerService= {str(FLC)}\\n'\n",
    "\n",
    "    from arcgis.features import FeatureLayerCollection\n",
    "    FLCollection = FeatureLayerCollection.fromitem(FLC)\n",
    "    #print(FLCollection)\n",
    "    ReportsBox.value  += f'   FLCollection(manager) {str(FLCollection)}\\n'\n",
    "\n",
    "\n",
    "\n",
    "    #print(f'updating hostedCSV with {CSVname}...',end='')\n",
    "    ReportsBox.value  += f'   updating hostedCSV with {CSVname}...\\n' \n",
    "\n",
    "    res = hostedCSV.update(data=CSVname) #overwrite the online CSV with the local CSV\n",
    "    #print(str(res))\n",
    "    ReportsBox.value  += '  ' + str(res) +'\\n'\n",
    "\n",
    "\n",
    "    #print('overwriting Feature Layer...',end='')\n",
    "    ReportsBox.value  += f'   overwriting Feature Layer...\\n'\n",
    "\n",
    "    res = FLCollection.manager.overwrite(CSVname) #overwrite the online FL with the online CSV\n",
    "    ReportsBox.value  += '  ' + str(res) +'\\n'\n",
    "\n",
    "    #print('Done!')\n",
    "    ReportsBox.value  +=  'Finished Overwriting Hosted Feature Layer!'\n",
    "    return True\n",
    "#upLoadCSV()\n",
    "\n",
    "def downUp(e):\n",
    "    print(str(e))\n",
    "    downLoadgSheet()\n",
    "    upLoadCSV()\n",
    "\n",
    "TESTING=0\n",
    "if TESTING:\n",
    "    from ipywidgets import Textarea\n",
    "    ReportsBox=Textarea()\n",
    "    display(ReportsBox)\n",
    "    downUp('testing')\n"
   ]
  },
  {
   "cell_type": "raw",
   "id": "1e10cef6-7f5f-4dd8-b7ea-38c197a270c4",
   "metadata": {},
   "source": []
  },
  {
   "cell_type": "code",
   "execution_count": 15,
   "id": "0242c3ad-16d9-41fe-bee8-bdfcb352c975",
   "metadata": {
    "lines_to_next_cell": 2,
    "tags": []
   },
   "outputs": [],
   "source": [
    "# ## imgUploader  #standalone\n",
    "from ipywidgets import FileUpload, Text, HBox, widgets, Button\n",
    "\n",
    "uploadT=Text(value = 'Copy uploaded image URL from here to use in HTML', layout = widgets.Layout(width='50%'))\n",
    "#uploadT.style.background='lightblue'\n",
    "\n",
    "def onFile(e):\n",
    "    if FU.value:\n",
    "        content = FU.value[0]['content']\n",
    "        extension = '.' + FU.value[0]['name'].split('.')[-1]\n",
    "        infName = FU.value[0]['name']\n",
    "        FU.description = infName\n",
    "        outName = \"saved-output\" + extension\n",
    "        baseName = infName.split('.')[-2]\n",
    "        #print(f'{infName=}, {content=}, {outName=}, {baseName=}')\n",
    "        f= open(outName, \"wb\")\n",
    "        f.write(content.tobytes())\n",
    "        #print('saved', outName)\n",
    "        res = enCloud(outName,public_id = baseName)\n",
    "        uploadT.value = str(res)\n",
    "        FU.value=[]\n",
    "        FU.description = 'New Image to Cloudinary?'\n",
    "\n",
    "\n",
    "FU = FileUpload(description='New Image to Cloudinary?', layout = widgets.Layout(width='40%'),\n",
    "    accept='image/*',  # Accepted file extension e.g. '.txt', '.pdf', 'image/*', 'image/*,.pdf'\n",
    "    multiple=False)    # True to accept multiple files upload else False)\n",
    "\n",
    "def useImage(e):\n",
    "    #print(str(e))\n",
    "    twitchers['Picture'].value = uploadT.value\n",
    "    twitchers['Thumbnails'].value = uploadT.value\n",
    "\n",
    "\n",
    "useImageB = Button(description='↙ (use)')\n",
    "useImageB.on_click(useImage)\n",
    "\n",
    "\n",
    "\n",
    "updateCSVb = Button(description='↘↗-⅏ (Update!)')\n",
    "updateCSVb.style.button_color ='Red'\n",
    "updateCSVb.on_click(downUp)\n",
    "\n",
    "FU.observe(onFile, 'value')\n",
    "imgUploader = HBox([FU,uploadT, useImageB, updateCSVb])\n",
    "\n",
    "TESTING=0\n",
    "if TESTING:\n",
    "    display(imgUploader)"
   ]
  },
  {
   "cell_type": "code",
   "execution_count": null,
   "id": "94ed96a6-0b45-4571-b968-dacd7439c9f5",
   "metadata": {},
   "outputs": [],
   "source": []
  },
  {
   "cell_type": "code",
   "execution_count": 16,
   "id": "b001a259",
   "metadata": {},
   "outputs": [
    {
     "ename": "NameError",
     "evalue": "name 'sheet' is not defined",
     "output_type": "error",
     "traceback": [
      "\u001b[0;31m---------------------------------------------------------------------------\u001b[0m",
      "\u001b[0;31mNameError\u001b[0m                                 Traceback (most recent call last)",
      "Cell \u001b[0;32mIn[16], line 96\u001b[0m\n\u001b[1;32m     94\u001b[0m     recNum\u001b[38;5;241m.\u001b[39mmax \u001b[38;5;241m=\u001b[39m sheet\u001b[38;5;241m.\u001b[39mrows\n\u001b[1;32m     95\u001b[0m     newRowBtn\u001b[38;5;241m.\u001b[39mdescription \u001b[38;5;241m=\u001b[39m \u001b[38;5;124mf\u001b[39m\u001b[38;5;124m'\u001b[39m\u001b[38;5;124mMax = \u001b[39m\u001b[38;5;132;01m{\u001b[39;00msheet\u001b[38;5;241m.\u001b[39mrows\u001b[38;5;132;01m}\u001b[39;00m\u001b[38;5;124m;  Inc?\u001b[39m\u001b[38;5;124m'\u001b[39m\n\u001b[0;32m---> 96\u001b[0m newRowBtn \u001b[38;5;241m=\u001b[39m Button(description\u001b[38;5;241m=\u001b[39m\u001b[38;5;124mf\u001b[39m\u001b[38;5;124m'\u001b[39m\u001b[38;5;124mMax = \u001b[39m\u001b[38;5;132;01m{\u001b[39;00msheet\u001b[38;5;241m.\u001b[39mrows\u001b[38;5;132;01m}\u001b[39;00m\u001b[38;5;124m;  Inc?\u001b[39m\u001b[38;5;124m'\u001b[39m)\n\u001b[1;32m     97\u001b[0m newRowBtn\u001b[38;5;241m.\u001b[39mon_click(addRow)\n\u001b[1;32m     99\u001b[0m TESTING\u001b[38;5;241m=\u001b[39m\u001b[38;5;241m0\u001b[39m \u001b[38;5;66;03m#I am here\u001b[39;00m\n",
      "\u001b[0;31mNameError\u001b[0m: name 'sheet' is not defined"
     ]
    }
   ],
   "source": [
    "# ## incorporate ImgUploader\n",
    "\n",
    "from ipywidgets import *\n",
    "def resetCheckers(): \n",
    "    RunChecksBtn.description='Run checks?'\n",
    "    ImageSourcesBtn.description='Image Sources?'\n",
    "    ImageSourcesBtn.style.button_color=None\n",
    "    ImageWidthsBtn.style.description='Image Widths?'\n",
    "    ImageWidthsBtn.button_color=None\n",
    "    ReportsBox.value='Reports will go here.'\n",
    "    ReportsBox.style.background = None\n",
    "    uploadT.value= '        copy uploaded image URL from here'\n",
    "    ImageSourcesBtn.style.button_color=None\n",
    "    ImageSourcesBtn.description = 'Image Sources?'\n",
    "    msg.style.background=None\n",
    "\n",
    "    msg.value=''\n",
    "    msg.style.background = None\n",
    "    try:\n",
    "        geturlT.value = twitchers['Source'].value\n",
    "    except NameError:\n",
    "        pass #geturlT is not defined yet\n",
    "\n",
    "\n",
    "def cloudinize():\n",
    "    ImageSourcesBtn.style.button_color=None\n",
    "    ImageSourcesBtn.description = 'Image Sources?'\n",
    "    for key in ['Thumbnails', 'Picture']: #update with cloudinary\n",
    "        imgURL = twitchers[key].value\n",
    "        if 'cloudinary'not in imgURL: #update with imageDict or with enCloud\n",
    "            if imgURL in imageDict:\n",
    "                newURL = imageDict[imgURL]\n",
    "                public_id = 'FromDict: ' +  newURL \n",
    "            else:\n",
    "                public_id = twitchers['Project Name'].value[:20].replace(' ','_') + key\n",
    "                print(public_id)\n",
    "                newURL = enCloud(imgURL,public_id=public_id)##!\n",
    "                imageDict[imgURL] = newURL\n",
    "                putImageDict()\n",
    "                \n",
    "            twitchers[key].value = newURL\n",
    "            ReportsBox.value = ReportsBox.value + public_id + '\\n'\n",
    "    ReportsBox.style.background = None\n",
    "\n",
    "def ImageSourcesClick(e):\n",
    "    global ImageSourcesBtn\n",
    "    B=ImageSourcesBtn\n",
    "    ImageSourcesBtn.list=[]\n",
    "    ret = []    \n",
    "    \n",
    "    #give a blank it's partners value\n",
    "    if not twitchers['Thumbnails'].value:\n",
    "        if twitchers['Picture'].value:\n",
    "            twitchers['Thumbnails'].value = twitchers['Picture'].value\n",
    "\n",
    "    if not twitchers['Picture'].value:\n",
    "        if twitchers['Thumbnails'].value:\n",
    "            twitchers['Picture'].value = twitchers['Thumbnails'].value\n",
    "\n",
    "\n",
    "    if B.description != 'Cloudinize?':\n",
    "        OK=True\n",
    "            \n",
    "        for key in ['Thumbnails', 'Picture']:\n",
    "            imgURL = twitchers[key].value.split('?')[0]\n",
    "            if 'cloudinary'not in imgURL:\n",
    "                OK=False #we want all to be in cloudinary\n",
    "                twitchers[key].style.background = 'pink'\n",
    "                ret.append(f'{key}:{imgURL}')\n",
    "                if imgURL:\n",
    "                    ImageSourcesBtn.list.append(imgURL)\n",
    "                    ReportsBox.value+=(f'\\n appending imgURL')\n",
    "                \n",
    "        if OK:\n",
    "            ReportsBox.value= 'all cloudinary'\n",
    "            ReportsBox.style.background = None\n",
    "            B.button_color= None\n",
    "\n",
    "        else:\n",
    "            ReportsBox.value='\\n'.join(ret)\n",
    "            ReportsBox.style.background = 'pink'\n",
    "            B.description = 'Cloudinize?'\n",
    "            B.style.button_color= 'orange'\n",
    "            \n",
    "    else: #not OK. Cloudinize!\n",
    "        cloudinize()\n",
    "\n",
    "def ImageWidthsClick(e):\n",
    "    ReportsBox.value= ReportsBox.value + '\\n' + str(e)\n",
    "    \n",
    "\n",
    "def addRow(e):\n",
    "    sheet.add_rows(1)\n",
    "    recNum.max = sheet.rows\n",
    "    newRowBtn.description = f'Max = {sheet.rows};  Inc?'\n",
    "newRowBtn = Button(description=f'Max = {sheet.rows};  Inc?')\n",
    "newRowBtn.on_click(addRow)\n",
    "    \n",
    "TESTING=0 #I am here\n",
    "if TESTING:\n",
    "    display(imgUploader)\n",
    "    display(HBox([Store, Revert, ImageSourcesBtn] ))      #controls should work\n",
    "\n",
    "    display(HBox([controlBox, newRowBtn], layout=Layout(width = '200px')))\n",
    "    display(msg)\n",
    "    display(bottomPanel)\n",
    "\n",
    "imageDict = getImageDict()\n",
    "NEEDED=True #THIS IS needed for the Image Buttons\n",
    "if NEEDED:\n",
    "    resetCheckers()\n",
    "    noYellow('init')\n",
    "\n",
    "    removeClickHandlers(ImageSourcesBtn)\n",
    "    ImageWidthsBtn.on_click(ImageWidthsClick)\n",
    "    ImageSourcesBtn.on_click(ImageSourcesClick)\n",
    "\n",
    "\n",
    "# # latlon"
   ]
  },
  {
   "cell_type": "code",
   "execution_count": 17,
   "id": "48e05b4d",
   "metadata": {},
   "outputs": [],
   "source": [
    "# # latlon\n",
    "beige = '#F5F5DC'\n",
    "\n",
    "from ipywidgets import *\n",
    "latlonQ = Text(value='Gaithersburg')\n",
    "latlonA = Text(value='39.1399187 -77.1929215', continuous_update=False)\n",
    "latlonB = Button(description = '--get Lat, Lon-->')\n",
    "spacer = Button(disabled=True)\n",
    "uselatlonB = Button(description='↙ (use)')\n",
    "\n",
    "spacer.style.button_color='white'\n",
    "latlonQ.style.background = 'beige'\n",
    "latlonA.style.background = 'beige'\n",
    "latlonB.style.button_color = beige\n",
    "uselatlonB.style.button_color = beige\n",
    "\n",
    "def captureLatLon(e):\n",
    "    lat = latlonA.value.split(' ')[0]\n",
    "    lon = latlonA.value.split(' ')[1]\n",
    "    twitchers['Latitude'].value=lat\n",
    "    twitchers['Longitude'].value=lon\n",
    "    \n",
    "    print(f'{lat=}, {lon=}')\n",
    "uselatlonB.on_click(captureLatLon)\n",
    "\n",
    "\n",
    "import requests\n",
    "import json\n",
    "from time import sleep\n",
    "\n",
    "def getLatLon(e):\n",
    "    print(str(e))\n",
    "    place = latlonQ.value.split(':')[0]\n",
    "    place=place.replace(',','')\n",
    "    response=requests.get(f'https://nominatim.openstreetmap.org/search?q={place}&format=json')\n",
    "    data = json.loads(response.text)\n",
    "    try:\n",
    "        lat = data[0]['lat']\n",
    "        lon = data[0]['lon']\n",
    "        latlonA.value= f'{lat} {lon}'\n",
    "        latlonA.style.background= 'Beige'\n",
    "    except (KeyError, IndexError):\n",
    "        latlonA.style.background='pink'\n",
    "        latlonA.value='LatLon Failed'\n",
    "        sleep(1)\n",
    "        latlonA.style.background= None\n",
    "\n",
    "latlonB.on_click(getLatLon)\n",
    "latlon = HBox([spacer, latlonQ,latlonB, latlonA, uselatlonB])\n",
    "\n",
    "TESTING=0\n",
    "if TESTING:\n",
    "    display(latlon)\n",
    "\n",
    "\n",
    "# # # add Selenium and Summer"
   ]
  },
  {
   "cell_type": "code",
   "execution_count": 18,
   "id": "4a8d7471-975c-4844-b972-3051b5f1353d",
   "metadata": {
    "lines_to_next_cell": 2,
    "tags": []
   },
   "outputs": [
    {
     "ename": "ModuleNotFoundError",
     "evalue": "No module named 'chromedriver_binary'",
     "output_type": "error",
     "traceback": [
      "\u001b[0;31m---------------------------------------------------------------------------\u001b[0m",
      "\u001b[0;31mModuleNotFoundError\u001b[0m                       Traceback (most recent call last)",
      "Cell \u001b[0;32mIn[18], line 2\u001b[0m\n\u001b[1;32m      1\u001b[0m \u001b[38;5;66;03m#### # # add Selenium and Summer\u001b[39;00m\n\u001b[0;32m----> 2\u001b[0m \u001b[38;5;28;01mimport\u001b[39;00m \u001b[38;5;21;01mchromedriver_binary\u001b[39;00m\n\u001b[1;32m      3\u001b[0m \u001b[38;5;28;01mfrom\u001b[39;00m \u001b[38;5;21;01mselenium\u001b[39;00m \u001b[38;5;28;01mimport\u001b[39;00m webdriver\n\u001b[1;32m      4\u001b[0m \u001b[38;5;28;01mimport\u001b[39;00m \u001b[38;5;21;01mtime\u001b[39;00m\n",
      "\u001b[0;31mModuleNotFoundError\u001b[0m: No module named 'chromedriver_binary'"
     ]
    }
   ],
   "source": [
    "#### # # add Selenium and Summer\n",
    "import chromedriver_binary\n",
    "from selenium import webdriver\n",
    "import time\n",
    "from ipywidgets import *\n",
    "import validators\n",
    "\n",
    "from bs4 import BeautifulSoup\n",
    "def prettify(someHTML):\n",
    "    soup=BeautifulSoup(someHTML)\n",
    "    return str(soup.prettify())\n",
    "\n",
    "TESTING = 0\n",
    "if TESTING:\n",
    "    s=\"\"\"<div class=\"_1dwg _1w_m _q7o\" data-visualcompletion=\"ignore-dynamic\" style=\"font-family: inherit; padding: 12px 12px 0px;\"><div style=\"font-family: inherit;\"><div class=\"l_c3pyo2v0u _5eit i_c3pynyi2f clearfix\" style=\"zoom: 1; margin-bottom: -1px; font-family: inherit;\"><div class=\"clearfix y_c3pyo2ta3\" style=\"zoom: 1; margin-bottom: -6px; font-family: inherit;\"><div class=\"clearfix _42ef\" style=\"overflow: hidden; zoom: 1; font-family: inherit;\"><div class=\"u_c3pyo2ta4\" style=\"padding-bottom: 6px; font-family: inherit;\"><div style=\"font-family: inherit;\"><div class=\"_6a _5u5j\" style=\"display: inline-block; width: 620px; font-family: inherit;\"><div class=\"_6a _5u5j _6b\" style=\"display: inline-block; vertical-align: middle; width: 620px; font-family: inherit;\"><h5 class=\"_7tae _14f3 _14f5 _5pbw _5vra\" data-ft=\"{&quot;tn&quot;:&quot;C&quot;}\" id=\"js_0\" style=\"line-height: 1.38; color: rgb(28, 30, 33); margin: 0px 0px 2px; padding: 0px 22px 0px 0px;\"><span class=\"fwn fcg\" style=\"color: rgb(97, 103, 112); font-family: inherit;\"><span class=\"fwb\" style=\"font-weight: 600; font-family: inherit;\"><a class=\"profileLink\" href=\"https://www.facebook.com/duen.yen?hc_ref=ARSiUf4krzS0e4WN2gzX3TNWE-3g3iEyeD8n5UO1R7Bm-rG5eQPZSUzXVwMvO4suFS4&amp;ref=nf_target\" data-ft=\"{&quot;tn&quot;:&quot;l&quot;}\" style=\"color: rgb(56, 88, 152); cursor: pointer; font-family: inherit;\">Duen Hsi Yen</a></span>&nbsp;is&nbsp;<i class=\"_51mq img sp_tw8Jgo0hhsp_2x sx_020ecc\" style=\"margin-right: 3px; vertical-align: -2.9px; background-image: url(&quot;/rsrc.php/v3/y8/r/NZG1EPwHono.png&quot;); background-size: 17px 68px; background-repeat: no-repeat; display: inline-block; height: 16px; width: 16px; background-position: 0px -34px;\"></i>feeling blessed.</span></h5><div class=\"_5pcp _5lel _2jyu _232_\" id=\"feed_subtitle_782077523;10163220813702524;;9\" data-testid=\"story-subtitle\" style=\"position: relative; color: rgb(97, 103, 112); font-size: 12px; font-family: inherit;\"><span class=\"z_c3pyo1brp\" style=\"font-family: inherit;\"><span class=\"fsm fwn fcg\" style=\"color: rgb(144, 148, 156); font-family: inherit;\"><a class=\"_5pcq\" href=\"https://www.facebook.com/duen.yen/posts/pfbid0Z3d7hzPP5NbEGu1HWDVyMiPhfjy4hwb7j3vcvCKxVedunAQkXgTxfhWbrDL2rYTMl\" target=\"\" style=\"color: rgb(97, 103, 112); cursor: pointer; font-family: inherit;\">December 18, 2022</a></span></span><span class=\"_6spk\" role=\"presentation\" aria-hidden=\"true\" style=\"font-family: inherit;\">&nbsp;·&nbsp;</span><div class=\"_6a _29ee _4f-9 _43_1\" data-hover=\"tooltip\" data-tooltip-content=\"Shared with: Public\" role=\"img\" aria-label=\"Shared with: Public\" style=\"vertical-align: middle; position: relative; display: inline-block; padding: 3px 0px; font-family: inherit;\"><span style=\"font-family: inherit;\"><i class=\"_1lbg img sp_lgtFXQRlG9h_2x sx_13e945\" style=\"background-image: url(&quot;/rsrc.php/v3/yC/r/wdjMXy7QpPG.png&quot;); background-size: 28px 338px; background-repeat: no-repeat; display: block; height: 12px; width: 12px; margin-top: -1px; background-position: 0px -312px;\"></i></span></div></div></div></div></div></div></div></div></div><div data-testid=\"post_message\" class=\"_5pbx userContent _3576\" data-ft=\"{&quot;tn&quot;:&quot;K&quot;}\" id=\"js_2\" style=\"line-height: 1.38; margin-top: 6px; font-family: inherit;\"><p style=\"margin-bottom: 6px; font-family: inherit;\">This coming of age story was written by AI ChatGPT based on a young man who contacted me on FB Messenger just yesterday or the day before. After chatting with him I was granted permission to feature him in this story. His name is&nbsp;<a title=\"Jacob Kayando\" class=\"profileLink\" href=\"https://www.facebook.com/people/Jacob-Kayando/100084044456444/?fref=mentions\" style=\"color: rgb(56, 88, 152); cursor: pointer; font-family: inherit;\">Jacob Kayando</a>. The photos are from his timeline or sent to me directly.</p><p style=\"margin-top: 6px; margin-bottom: 6px; font-family: inherit;\">“Growing up in Homa Bay, Kenya, a young boy named Jacob always had a passion for helping others. He lived in a small village near Lake Victoria, and from a young age, he enjoyed volunteering to assist those in need, particularly widows, orphans, and elderly members of the community.<br>In 2018, Jacob joined a project in his village called Kawiya, a community-based farm that grew a variety of organic produce, including kale, spinach, tomatoes, onions, pumpkins, black night shade, mangoes, pawpaws, soursop, jackfruit, bananas, oranges, avocados, and passion fruit.<br>Aside from his work on the farm, Jacob had a number of hobbies that kept him busy. He enjoyed animal training, vegetable gardening, and animal keeping, and he was also an avid bonsai enthusiast. In his spare time, he liked to whittle small wooden figurines, using the skills he had learned from his grandfather.<br>Despite his love for his community and his hobbies, life was not always easy for Jacob. He lived far from the nearest well, and had to pay someone with a donkey to bring him water. Additionally, the area was prone to drought, and Jacob had unfortunately lost some of his animals due to a lack of rainfall.<br>Despite these challenges, Jacob never let his spirits be dampened. He always remembered a motto that he had come up with: \"Don't stop helping others, no matter how small your effort may be.\" Jacob believed that helping others was the quickest way to find true happiness, and he often said: \"I am a farmer who believes that helping others is the quick way to find true happiness. Making someone's day a little bit brighter will in turn make your own day that much better.\"<br>As he grew older, Jacob continued to work on the farm and assist those in need in his community. He became known as a kind and compassionate young man, always willing to lend a helping hand. And although he faced many challenges, Jacob never lost sight of his purpose in life – to make a difference in the world, no matter how small his efforts may seem.<br>As the years passed, Jacob's farm grew and flourished, providing organic produce to the community and beyond. He continued to follow his mottos, always looking for ways to help those in need and bring joy to those around him. And even though life wasn't always easy, Jacob knew that by following his passions and making a positive impact on the world, he could find true happiness and fulfillment.</p><p style=\"margin-top: 6px; margin-bottom: 0px; display: inline; font-family: inherit;\"><a class=\"_58cn\" href=\"https://www.facebook.com/hashtag/chatgpt?__eep__=6&amp;source=feed_text&amp;epa=HASHTAG\" data-ft=\"{&quot;type&quot;:104,&quot;tn&quot;:&quot;*N&quot;}\" style=\"color: rgb(56, 88, 152); cursor: pointer; font-family: inherit;\"><span class=\"_5afx\" style=\"direction: ltr; unicode-bidi: isolate; font-family: inherit;\"><span aria-label=\"hashtag\" class=\"_58cl _5afz\" style=\"unicode-bidi: isolate; color: rgb(54, 88, 153); font-family: inherit;\">#</span><span class=\"_58cm\" style=\"font-family: inherit;\">ChatGPT</span></span></a></p></div><div class=\"_3x-2\" data-ft=\"{&quot;tn&quot;:&quot;H&quot;}\" style=\"font-family: inherit;\"><div data-ft=\"{&quot;tn&quot;:&quot;H&quot;}\" style=\"font-family: inherit;\"><div class=\"mtm\" style=\"margin-top: 10px; font-family: inherit;\"><div class=\"_2a2q _65sr\" style=\"overflow: hidden; position: relative; margin-left: -12px; margin-right: -12px; font-family: inherit; width: 500px; height: 417px;\"><a rel=\"theater\" ajaxify=\"https://www.facebook.com/photo.php?fbid=10163220804292524&amp;set=pcb.10163220813702524&amp;type=3&amp;__tn__=HH-R&amp;eid=ARDGqP1SXr6VpsEHwVjJXIggl-C3wIcOlu5-9eUNm9LV8WhGBXGE21Nh56g4-nSf4QVnLFxB5a_x3-i6&amp;size=1224%2C1224&amp;source=13&amp;player_origin=unknown\" data-ploi=\"https://scontent-lga3-2.xx.fbcdn.net/v/t39.30808-6/319316821_3041045526191362_3840468508286522633_n.jpg?_nc_cat=110&amp;ccb=1-7&amp;_nc_sid=36a2c1&amp;_nc_ohc=P1HlTqfAGsIAX8K5mFw&amp;_nc_ht=scontent-lga3-2.xx&amp;oh=00_AfAuELBgJU6l4cvqRhmpcXpC64CnASFI7Bmie1s5B8PHXQ&amp;oe=63CE2120\" data-plsi=\"https://scontent-lga3-2.xx.fbcdn.net/v/t39.30808-6/319316821_3041045526191362_3840468508286522633_n.jpg?stp=dst-jpg_p960x960&amp;_nc_cat=110&amp;ccb=1-7&amp;_nc_sid=36a2c1&amp;_nc_ohc=P1HlTqfAGsIAX8K5mFw&amp;_nc_ht=scontent-lga3-2.xx&amp;oh=00_AfBnVGz5E2YyE9OjBRpONmxNYERdLBtQM2-nzO67iL_NwA&amp;oe=63CE2120\" class=\"_5dec _xcx\" href=\"https://www.facebook.com/photo.php?fbid=10163220804292524&amp;set=pcb.10163220813702524&amp;type=3&amp;__tn__=HH-R&amp;eid=ARDGqP1SXr6VpsEHwVjJXIggl-C3wIcOlu5-9eUNm9LV8WhGBXGE21Nh56g4-nSf4QVnLFxB5a_x3-i6\" data-render-location=\"permalink\" id=\"u_0_i_gc\" style=\"color: rgb(56, 88, 152); cursor: pointer; display: block; position: absolute; font-family: inherit; top: 0px; left: 0px; width: 249px; height: 249px;\"><div class=\"uiScaledImageContainer\" style=\"position: relative; overflow: hidden; font-family: inherit; width: 249px; height: 249px;\"><img class=\"scaledImageFitWidth img\" src=\"https://scontent-lga3-2.xx.fbcdn.net/v/t39.30808-6/319316821_3041045526191362_3840468508286522633_n.jpg?stp=dst-jpg_p526x296&amp;_nc_cat=110&amp;ccb=1-7&amp;_nc_sid=110474&amp;_nc_ohc=P1HlTqfAGsIAX8K5mFw&amp;_nc_ht=scontent-lga3-2.xx&amp;oh=00_AfC1-GCIDoNpyU7elzSfGbQsgJuJZYt92hNn995eKpmGAw&amp;oe=63CE2120\" data-src=\"https://scontent-lga3-2.xx.fbcdn.net/v/t39.30808-6/319316821_3041045526191362_3840468508286522633_n.jpg?stp=dst-jpg_p526x296&amp;_nc_cat=110&amp;ccb=1-7&amp;_nc_sid=110474&amp;_nc_ohc=P1HlTqfAGsIAX8K5mFw&amp;_nc_ht=scontent-lga3-2.xx&amp;oh=00_AfC1-GCIDoNpyU7elzSfGbQsgJuJZYt92hNn995eKpmGAw&amp;oe=63CE2120\" alt=\"May be an image of 1 person, outdoors and text\" width=\"249\" height=\"249\" caption=\"May be an image of 1 person, outdoors and text\" style=\"height: auto; min-height: initial; position: relative; width: 249px;\"></div></a><a rel=\"theater\" ajaxify=\"https://www.facebook.com/photo.php?fbid=10163220805202524&amp;set=pcb.10163220813702524&amp;type=3&amp;__tn__=HH-R&amp;eid=ARDOjeDhobbw2P6shMIwb43-cYvyKvjcRvEPv4IpZoGEKNPCjKE7BaEOw7yef4RzJ5pnh66oz__2kt5-&amp;size=612%2C816&amp;source=13&amp;player_origin=unknown\" data-ploi=\"https://scontent-lga3-2.xx.fbcdn.net/v/t39.30808-6/320702606_705008744348260_7362387626096659040_n.jpg?_nc_cat=105&amp;ccb=1-7&amp;_nc_sid=36a2c1&amp;_nc_ohc=_Lcd2qUMpKYAX_dvZ5c&amp;_nc_ht=scontent-lga3-2.xx&amp;oh=00_AfC879oBiWkRrrbjAYrwsr97EhHkfv0NugB0Nnm82n1siA&amp;oe=63CDC141\" class=\"_5dec _xcx\" href=\"https://www.facebook.com/photo.php?fbid=10163220805202524&amp;set=pcb.10163220813702524&amp;type=3&amp;__tn__=HH-R&amp;eid=ARDOjeDhobbw2P6shMIwb43-cYvyKvjcRvEPv4IpZoGEKNPCjKE7BaEOw7yef4RzJ5pnh66oz__2kt5-\" data-render-location=\"permalink\" id=\"u_0_j_yL\" style=\"color: rgb(56, 88, 152); cursor: pointer; display: block; position: absolute; font-family: inherit; top: 0px; left: 251px; width: 249px; height: 249px;\"><div class=\"uiScaledImageContainer\" style=\"position: relative; overflow: hidden; font-family: inherit; width: 249px; height: 249px;\"><img class=\"scaledImageFitWidth img\" src=\"https://scontent-lga3-2.xx.fbcdn.net/v/t39.30808-6/320702606_705008744348260_7362387626096659040_n.jpg?stp=dst-jpg_p526x296&amp;_nc_cat=105&amp;ccb=1-7&amp;_nc_sid=110474&amp;_nc_ohc=_Lcd2qUMpKYAX_dvZ5c&amp;_nc_ht=scontent-lga3-2.xx&amp;oh=00_AfBNJ6MoHgjkNMRP2y0dWtJTUBPUmv6ARMpgTvgSBfudXg&amp;oe=63CDC141\" data-src=\"https://scontent-lga3-2.xx.fbcdn.net/v/t39.30808-6/320702606_705008744348260_7362387626096659040_n.jpg?stp=dst-jpg_p526x296&amp;_nc_cat=105&amp;ccb=1-7&amp;_nc_sid=110474&amp;_nc_ohc=_Lcd2qUMpKYAX_dvZ5c&amp;_nc_ht=scontent-lga3-2.xx&amp;oh=00_AfBNJ6MoHgjkNMRP2y0dWtJTUBPUmv6ARMpgTvgSBfudXg&amp;oe=63CDC141\" alt=\"May be an image of 1 person, tree and outdoors\" width=\"249\" height=\"332\" caption=\"May be an image of 1 person, tree and outdoors\" style=\"height: auto; min-height: initial; position: relative; width: 249px;\"></div></a><a rel=\"theater\" ajaxify=\"https://www.facebook.com/photo.php?fbid=10163220804627524&amp;set=pcb.10163220813702524&amp;type=3&amp;__tn__=HH-R&amp;eid=ARBqeWaT88oEMLoPzCRZ6gaBpa2BFNHA3T_oq8eQ-MhxsArfhcCvmDz7z1nwLP9DUyRWRkfIHxtM6z_m&amp;size=720%2C960&amp;source=13&amp;player_origin=unknown\" data-ploi=\"https://scontent-lga3-2.xx.fbcdn.net/v/t39.30808-6/320579028_845022716743239_2596568702770239451_n.jpg?_nc_cat=108&amp;ccb=1-7&amp;_nc_sid=36a2c1&amp;_nc_ohc=9uenjXKD4u4AX_OVAHB&amp;_nc_ht=scontent-lga3-2.xx&amp;oh=00_AfAHv2wLbPkgc7RYEc-DmM8UwYn7U2NQavekK8Y82lM_4A&amp;oe=63CCD4AA\" class=\"_5dec _xcx\" href=\"https://www.facebook.com/photo.php?fbid=10163220804627524&amp;set=pcb.10163220813702524&amp;type=3&amp;__tn__=HH-R&amp;eid=ARBqeWaT88oEMLoPzCRZ6gaBpa2BFNHA3T_oq8eQ-MhxsArfhcCvmDz7z1nwLP9DUyRWRkfIHxtM6z_m\" data-render-location=\"permalink\" id=\"u_0_k_pN\" style=\"color: rgb(56, 88, 152); cursor: pointer; display: block; position: absolute; font-family: inherit; top: 251px; left: 0px; width: 166px; height: 166px;\"><div class=\"uiScaledImageContainer\" style=\"position: relative; overflow: hidden; font-family: inherit; width: 166px; height: 166px;\"><img class=\"scaledImageFitWidth img\" src=\"https://scontent-lga3-2.xx.fbcdn.net/v/t39.30808-6/320579028_845022716743239_2596568702770239451_n.jpg?stp=dst-jpg_p350x350&amp;_nc_cat=108&amp;ccb=1-7&amp;_nc_sid=110474&amp;_nc_ohc=9uenjXKD4u4AX_OVAHB&amp;_nc_ht=scontent-lga3-2.xx&amp;oh=00_AfACVPdmgGSJKUsKw4sjvezku65fvsOYmXGfaqFrwJfgnw&amp;oe=63CCD4AA\" data-src=\"https://scontent-lga3-2.xx.fbcdn.net/v/t39.30808-6/320579028_845022716743239_2596568702770239451_n.jpg?stp=dst-jpg_p350x350&amp;_nc_cat=108&amp;ccb=1-7&amp;_nc_sid=110474&amp;_nc_ohc=9uenjXKD4u4AX_OVAHB&amp;_nc_ht=scontent-lga3-2.xx&amp;oh=00_AfACVPdmgGSJKUsKw4sjvezku65fvsOYmXGfaqFrwJfgnw&amp;oe=63CCD4AA\" alt=\"May be an image of food and outdoors\" width=\"166\" height=\"222\" caption=\"May be an image of food and outdoors\" style=\"height: auto; min-height: initial; position: relative; width: 166px;\"></div></a><a rel=\"theater\" ajaxify=\"https://www.facebook.com/photo.php?fbid=10163220804897524&amp;set=pcb.10163220813702524&amp;type=3&amp;__tn__=HH-R&amp;eid=ARA1Hys6vWMbmDVYbr8_u5Bm9BT8paVIvP8e23W0p2bR0OjkMmuZJtuddWCCi0G2C_9D-nkXVepk7VBj&amp;size=612%2C816&amp;source=13&amp;player_origin=unknown\" data-ploi=\"https://scontent-lga3-2.xx.fbcdn.net/v/t39.30808-6/319771629_490914659697507_3243250828830712702_n.jpg?_nc_cat=110&amp;ccb=1-7&amp;_nc_sid=36a2c1&amp;_nc_ohc=u0a3z-539mUAX98Bnds&amp;_nc_ht=scontent-lga3-2.xx&amp;oh=00_AfBggwH7SafkpSUrbWghdPdvacXJ0gY_X07RSsvjx1ducA&amp;oe=63CD204D\" class=\"_5dec _xcx\" href=\"https://www.facebook.com/photo.php?fbid=10163220804897524&amp;set=pcb.10163220813702524&amp;type=3&amp;__tn__=HH-R&amp;eid=ARA1Hys6vWMbmDVYbr8_u5Bm9BT8paVIvP8e23W0p2bR0OjkMmuZJtuddWCCi0G2C_9D-nkXVepk7VBj\" data-render-location=\"permalink\" id=\"u_0_h_dH\" style=\"color: rgb(56, 88, 152); cursor: pointer; display: block; position: absolute; font-family: inherit; top: 251px; left: 168px; width: 165px; height: 166px;\"><div class=\"uiScaledImageContainer\" style=\"position: relative; overflow: hidden; font-family: inherit; width: 165px; height: 166px;\"><img class=\"scaledImageFitWidth img\" src=\"https://scontent-lga3-2.xx.fbcdn.net/v/t39.30808-6/319771629_490914659697507_3243250828830712702_n.jpg?stp=dst-jpg_p350x350&amp;_nc_cat=110&amp;ccb=1-7&amp;_nc_sid=110474&amp;_nc_ohc=u0a3z-539mUAX98Bnds&amp;_nc_ht=scontent-lga3-2.xx&amp;oh=00_AfD5xfsNRfQ73o4yRMc42XD5I_5hs1_wZzKMc9AQYso5rQ&amp;oe=63CD204D\" data-src=\"https://scontent-lga3-2.xx.fbcdn.net/v/t39.30808-6/319771629_490914659697507_3243250828830712702_n.jpg?stp=dst-jpg_p350x350&amp;_nc_cat=110&amp;ccb=1-7&amp;_nc_sid=110474&amp;_nc_ohc=u0a3z-539mUAX98Bnds&amp;_nc_ht=scontent-lga3-2.xx&amp;oh=00_AfD5xfsNRfQ73o4yRMc42XD5I_5hs1_wZzKMc9AQYso5rQ&amp;oe=63CD204D\" alt=\"May be an image of 1 person and outdoors\" width=\"165\" height=\"221\" caption=\"May be an image of 1 person and outdoors\" style=\"height: auto; min-height: initial; position: relative; width: 165px;\"></div></a><a rel=\"theater\" ajaxify=\"https://www.facebook.com/photo.php?fbid=10163220804402524&amp;set=pcb.10163220813702524&amp;type=3&amp;__tn__=HH-R&amp;eid=ARCXvzqbM303765sdTuZpq3y2JqhjaS4mUrooA14jM4S5hKjinuaiLCl75rmRQmj8fRW2kk86MTJrQxm&amp;size=720%2C480&amp;source=13&amp;player_origin=unknown\" data-ploi=\"https://scontent-lga3-2.xx.fbcdn.net/v/t39.30808-6/320589843_1337820197071424_665201545721093224_n.jpg?_nc_cat=103&amp;ccb=1-7&amp;_nc_sid=36a2c1&amp;_nc_ohc=muDrvqjSsNkAX_fE6Xs&amp;_nc_ht=scontent-lga3-2.xx&amp;oh=00_AfAGjs8DetDY57-mwmRbpo0HzUIchURJlxshOs7zlEQyXA&amp;oe=63CD937C\" class=\"_5dec _xcx\" href=\"https://www.facebook.com/photo.php?fbid=10163220804402524&amp;set=pcb.10163220813702524&amp;type=3&amp;__tn__=HH-R&amp;eid=ARCXvzqbM303765sdTuZpq3y2JqhjaS4mUrooA14jM4S5hKjinuaiLCl75rmRQmj8fRW2kk86MTJrQxm\" data-render-location=\"permalink\" id=\"u_0_l_6c\" style=\"color: rgb(56, 88, 152); cursor: pointer; display: block; position: absolute; font-family: inherit; top: 251px; left: 335px; width: 165px; height: 166px;\"><div class=\"uiScaledImageContainer\" style=\"position: relative; overflow: hidden; font-family: inherit; width: 165px; height: 166px;\"><img class=\"scaledImageFitHeight img\" src=\"https://scontent-lga3-2.xx.fbcdn.net/v/t39.30808-6/320589843_1337820197071424_665201545721093224_n.jpg?stp=dst-jpg_p235x350&amp;_nc_cat=103&amp;ccb=1-7&amp;_nc_sid=110474&amp;_nc_ohc=muDrvqjSsNkAX_fE6Xs&amp;_nc_ht=scontent-lga3-2.xx&amp;oh=00_AfDR5bmIfLF2UMQfGB7d4pNi8ITMkyjWZuqVdCiJZJAqMw&amp;oe=63CD937C\" data-src=\"https://scontent-lga3-2.xx.fbcdn.net/v/t39.30808-6/320589843_1337820197071424_665201545721093224_n.jpg?stp=dst-jpg_p235x350&amp;_nc_cat=103&amp;ccb=1-7&amp;_nc_sid=110474&amp;_nc_ohc=muDrvqjSsNkAX_fE6Xs&amp;_nc_ht=scontent-lga3-2.xx&amp;oh=00_AfDR5bmIfLF2UMQfGB7d4pNi8ITMkyjWZuqVdCiJZJAqMw&amp;oe=63CD937C\" alt=\"May be an image of animal and outdoors\" width=\"249\" height=\"166\" caption=\"May be an image of animal and outdoors\" style=\"height: 166px; min-height: initial; position: relative; width: auto; left: -41px;\"></div><div class=\"_52d9\" style=\"background-color: rgba(0, 0, 0, 0.4); inset: 0px; color: rgb(255, 255, 255); font-size: 35px; position: absolute; font-family: inherit;\"><div class=\"_52da\" style=\"display: table; height: 166px; width: 165px; font-family: inherit;\"><div class=\"_52db\" style=\"display: table-cell; text-align: center; vertical-align: middle; font-family: inherit;\">+31</div></div></div></a></div></div></div></div><div style=\"font-family: inherit;\"></div></div></div><div style=\"font-family: inherit;\"><form rel=\"async\" class=\"commentable_item collapsed_comments\" method=\"post\" data-ft=\"{&quot;tn&quot;:&quot;]&quot;}\" id=\"u_0_g_Yu\" style=\"margin: 0px; padding: 0px;\"><div style=\"font-family: inherit;\"><div style=\"font-family: inherit;\"></div></div><div class=\"_7f6e\" style=\"border-radius: 0px 0px 3px 3px; color: rgb(28, 30, 33); display: flex; flex-direction: column; font-size: 13px; width: 692px; font-family: inherit;\"><div class=\"_5vsi\" style=\"margin-top: 0px; font-family: inherit;\"></div><div class=\"_7a9u\" style=\"font-family: inherit;\"><div class=\"_68wo\" style=\"position: relative; font-family: inherit;\"><div class=\"_3vum\" style=\"align-items: center; border-bottom: 1px solid rgb(218, 221, 225); color: rgb(96, 103, 112); display: flex; line-height: 20px; margin: 10px 12px 0px; padding: 0px 0px 10px; font-family: inherit;\"><div class=\"_66lg\" style=\"align-items: center; display: flex; flex-grow: 1; overflow: hidden; font-family: inherit;\"><span aria-label=\"See who reacted to this\" class=\"_1n9r _66lh\" role=\"toolbar\" style=\"margin-bottom: -2px; margin-right: 2px; margin-top: -2px; align-items: center; display: flex; font-family: system-ui, -apple-system, &quot;system-ui&quot;, &quot;.SFNSText-Regular&quot;, sans-serif;\"><span class=\"_1n9k\" tabindex=\"-1\" data-hover=\"tooltip\" style=\"background-image: initial; background-position: initial; background-size: initial; background-repeat: initial; background-attachment: initial; background-origin: initial; background-clip: initial; border-radius: 12px; display: inline-block; font-size: 11px; line-height: 16px; margin: 0px 0px 0px -2px; outline: none; padding: 2px; position: relative; z-index: 3; font-family: inherit;\"><a ajaxify=\"/ufi/reaction/profile/dialog/?ft_ent_identifier=ZmVlZGJhY2s6MTAxNjMyMjA4MTM3MDI1MjQ%3D&amp;reaction_type=1&amp;av=0\" href=\"https://www.facebook.com/ufi/reaction/profile/browser/?ft_ent_identifier=ZmVlZGJhY2s6MTAxNjMyMjA4MTM3MDI1MjQ%3D&amp;av=0\" rel=\"dialog\" aria-label=\"5 Like\" class=\"_1n9l\" tabindex=\"0\" role=\"button\" style=\"color: rgb(56, 88, 152); font-family: inherit;\"><i data-visualcompletion=\"css-img\" class=\"sp_1_kEbr5BZSO_2x sx_e6e274 x1rg5ohu x1n2onr6 xmix8c7 x1xp8n7a x16dsc37\" style=\"background-image: url(&quot;/rsrc.php/v3/yY/r/II0qYWKXcK3.png&quot;); background-size: 97px 1314px; background-repeat: no-repeat; display: inline-block; height: 18px; width: 18px; vertical-align: top; position: relative; background-position: -49px -997px;\"></i></a></span><span class=\"_1n9k\" tabindex=\"-1\" data-hover=\"tooltip\" style=\"background-image: initial; background-position: initial; background-size: initial; background-repeat: initial; background-attachment: initial; background-origin: initial; background-clip: initial; border-radius: 12px; display: inline-block; font-size: 11px; line-height: 16px; margin: 0px 0px 0px -4px; outline: none; padding: 2px; position: relative; z-index: 2; font-family: inherit;\"><a ajaxify=\"/ufi/reaction/profile/dialog/?ft_ent_identifier=ZmVlZGJhY2s6MTAxNjMyMjA4MTM3MDI1MjQ%3D&amp;reaction_type=3&amp;av=0\" href=\"https://www.facebook.com/ufi/reaction/profile/browser/?ft_ent_identifier=ZmVlZGJhY2s6MTAxNjMyMjA4MTM3MDI1MjQ%3D&amp;av=0\" rel=\"dialog\" aria-label=\"2 Wow\" class=\"_1n9l\" tabindex=\"-1\" role=\"button\" style=\"color: rgb(56, 88, 152); font-family: inherit;\"><i data-visualcompletion=\"css-img\" class=\"sp_1_kEbr5BZSO_2x sx_04582a x1rg5ohu x1n2onr6 xmix8c7 x1xp8n7a x16dsc37\" style=\"background-image: url(&quot;/rsrc.php/v3/yY/r/II0qYWKXcK3.png&quot;); background-size: 97px 1314px; background-repeat: no-repeat; display: inline-block; height: 18px; width: 18px; vertical-align: top; position: relative; background-position: -68px -1035px;\"></i></a></span><span class=\"_1n9k\" tabindex=\"-1\" data-hover=\"tooltip\" style=\"background-image: initial; background-position: initial; background-size: initial; background-repeat: initial; background-attachment: initial; background-origin: initial; background-clip: initial; border-radius: 12px; display: inline-block; font-size: 11px; line-height: 16px; margin: 0px 0px 0px -4px; outline: none; padding: 2px; position: relative; z-index: 1; font-family: inherit;\"><a ajaxify=\"/ufi/reaction/profile/dialog/?ft_ent_identifier=ZmVlZGJhY2s6MTAxNjMyMjA4MTM3MDI1MjQ%3D&amp;reaction_type=2&amp;av=0\" href=\"https://www.facebook.com/ufi/reaction/profile/browser/?ft_ent_identifier=ZmVlZGJhY2s6MTAxNjMyMjA4MTM3MDI1MjQ%3D&amp;av=0\" rel=\"dialog\" aria-label=\"1 Love\" class=\"_1n9l\" tabindex=\"-1\" role=\"button\" style=\"color: rgb(56, 88, 152); font-family: inherit;\"><i data-visualcompletion=\"css-img\" class=\"sp_1_kEbr5BZSO_2x sx_78a873 x1rg5ohu x1n2onr6 xmix8c7 x1xp8n7a x16dsc37\" style=\"background-image: url(&quot;/rsrc.php/v3/yY/r/II0qYWKXcK3.png&quot;); background-size: 97px 1314px; background-repeat: no-repeat; display: inline-block; height: 18px; width: 18px; vertical-align: top; position: relative; background-position: -68px -997px;\"></i></a></span></span></div></div></div></div></div></form></div>\"\"\"\n",
    "    print(prettify(s))\n",
    "\n",
    "try:\n",
    "    source.close()\n",
    "except:\n",
    "    pass\n",
    "    \n",
    "try:\n",
    "    summer.close()\n",
    "except:\n",
    "    pass\n",
    "\n",
    "def CreateDriver(URL,x=0,y=0,width=100, height=2000):\n",
    "    source = webdriver.Chrome('chromedriver')  ### path of chrome driver should be passed as argument\n",
    "    source.get(URL) \n",
    "    source.set_window_position(x, y, windowHandle='current')\n",
    "    source.set_window_size(width,height)\n",
    "    return source\n",
    "    \n",
    "interestingPost ='https://www.facebook.com/duen.yen/posts/pfbid02cbGJdA1jvZmviUwLFHpTwSA9w9zv8tFnyJKfaJwZhsW72FYU2v64key428oFDL1Nl'\n",
    "\n",
    "from pathlib import Path\n",
    "\n",
    "def getChromes(src=interestingPost):\n",
    "    print('getting Chromes')\n",
    "    global source, summer\n",
    "    source=CreateDriver(src) #default position \n",
    "    summerFile= 'file://'+str(Path('summernote.html').absolute())\n",
    "    summer = CreateDriver(summerFile,500,0,200,2000) #custom position\n",
    "    ReportsBox.value=''\n",
    "    return (source, summer)\n",
    "\n",
    "#source, summer = chromes()\n",
    "\n",
    "def getSummer():\n",
    "    js=\"\"\"\n",
    "    return $('#summernote').summernote('code')\n",
    "    \"\"\"\n",
    "    #js='alert()'\n",
    "    ret = summer.execute_script(js)\n",
    "    return prettify(ret)\n",
    "\n",
    "\n",
    "def removeAttrs(someHTML):\n",
    "    soup= BeautifulSoup('<body>' + someHTML)\n",
    "    for tag in soup():\n",
    "        for attribute in [\"html\",\"body\",\"class\", \"style\", \"span\", 'data', 'data-ft', 'id']: # You can also add id,style,etc in the list\n",
    "            del tag[attribute]\n",
    "    ret = str(soup.prettify())\n",
    "    for tag in '<html> </html> <body> </body>'.split():\n",
    "        ret = ret.replace(tag,'')\n",
    "    return ret\n",
    "\n",
    "halfwidth = widgets.Layout(height=\"1000px\", width=\"40%\")\n",
    "    \n",
    "TESTING = 0\n",
    "if TESTING:\n",
    "    source, summer = getChromes()\n",
    "    stripB=Button(description = 'Strip tags')\n",
    "    stripB.on_click(onStrip)\n",
    "\n",
    "    T=Textarea(getSummer(),layout=halfwidth )\n",
    "    H=HTML(html(), layout=halfwidth )\n",
    "    T.observe(update)\n",
    "\n",
    "    twoButtons = HBox([capB,stripB])\n",
    "    twoViews=HBox([T,H])\n",
    "    combo=VBox([twoButtons,twoViews])\n",
    "\n",
    "    display(twoButtons, twoViews)\n",
    "\n",
    "def onStrip(e): ######now\n",
    "    print('onStrip')\n",
    "    T.value = removeAttrs(T.value)\n",
    "\n",
    "def update(e):\n",
    "    #print('update')\n",
    "    #H.value='<p>' + T.value.replace('\\n\\n','</p><p>')\n",
    "    pass\n",
    "\n",
    "def onNewCap(e):\n",
    "    global getChromesB\n",
    "    print('capture Button')\n",
    "    try:\n",
    "        T.value = getSummer()\n",
    "    except:\n",
    "        ReportsBox.value += '\\n restart Chromes first'\n",
    "        getChromesB.style.button_color = 'lightgreen'\n",
    "\n",
    "    \n",
    "def getChromery(T,H):\n",
    "    global getChromesB, geturlT, useLoadedSourceB\n",
    "    global source, summer\n",
    "    #source, summer = getChromes()\n",
    "\n",
    "    stripB=Button(description = 'Strip tags')\n",
    "    newCap=Button(description = 'Capture WYSIWYG')\n",
    "    stripB.style.button_color='lightgreen'\n",
    "    newCap.style.button_color='lightgreen'\n",
    "    \n",
    "    stripB.on_click(onStrip)    \n",
    "    newCap.on_click(onNewCap)    \n",
    "\n",
    "    #T.value=getSummer()\n",
    "    #H.value = T.value\n",
    "    #T.observe(update)\n",
    "    \n",
    "    sourceURL= interestingPost\n",
    "    #geturlT.value = sourceURL\n",
    "\n",
    "    loadB = Button(description = 'Load:')\n",
    "    loadB.style.button_color='lightblue'\n",
    "    loadB.layout={'width':'70px'}\n",
    "    \n",
    "\n",
    "    def useLoadedSource(e):\n",
    "        print(str(e))\n",
    "        twitchers['Source'].value = geturlT.value\n",
    "        \n",
    "    useLoadedSourceB = Button(description ='↙ (use)')\n",
    "    useLoadedSourceB.on_click(useLoadedSource)\n",
    "    useLoadedSourceB.style.button_color='lightblue'\n",
    "    useLoadedSourceB.layout={'width':'70px'}\n",
    "    \n",
    "    def doLoad(e):\n",
    "        global ReportsBox\n",
    "        src=geturlT.value\n",
    "        print('doLoad', str(e))\n",
    "        if not validators.url(src):\n",
    "            print(f'INVALID URL \"{src}\"')\n",
    "            return\n",
    "        try:\n",
    "            source.get(src)\n",
    "        except:\n",
    "            ReportsBox.value='start Chromes first!>>>>'\n",
    "            getChromesB.style.button_color = 'lightgreen'\n",
    "            \n",
    "    loadB.on_click(doLoad)\n",
    "    \n",
    "    def chromesGetter(e):\n",
    "        print('chromesGetter')\n",
    "        getChromes()\n",
    "\n",
    "    getChromesB=Button(description = 'restartChromes')\n",
    "    getChromesB.on_click(chromesGetter)\n",
    "    getChromesB.style.button_color = 'lightgreen'\n",
    "\n",
    "\n",
    "    buttonRow = HBox([newCap,stripB, getChromesB, loadB, geturlT, useLoadedSourceB])\n",
    "    combo = VBox([buttonRow])\n",
    "    return combo\n",
    "\n",
    "def getLatLon():\n",
    "    placename=uploadT.value\n",
    "\n",
    "\n",
    "def clearRow(e):\n",
    "    for k in twitchers.keys():\n",
    "        #print(k, type(twitchers[k]))\n",
    "        try:\n",
    "            twitchers[k].value=''\n",
    "        except AttributeError:\n",
    "            twitchers[k].value='FALSE'\n",
    "        bottomPanel.middle.value = ''\n",
    "clearBtn = Button(description = 'Clear Row')\n",
    "clearBtn.on_click(clearRow)\n",
    "    \n",
    "\n",
    "def main():\n",
    "    print('Updating to https://experience.arcgis.com/experience/7d38a0f5874e45dd8d4d19d3ee4bd985')\n",
    "    global H,T\n",
    "    T=bottomPanel.middle\n",
    "    H=bottomPanel.right\n",
    "    display(imgUploader)\n",
    "    combo = getChromery(T,H)\n",
    "    display(combo)    \n",
    "\n",
    "    display(HBox([Store, Revert, spacer, ImageSourcesBtn, latlon]))      #ImageWidthsBtn REMOVED for the moment\n",
    "    \n",
    "    \n",
    "    #fromSelenium and Summer\n",
    "    display(HBox([controlBox, newRowBtn, clearBtn]))\n",
    "    display(msg)\n",
    "\n",
    "    display(bottomPanel)\n",
    "\n",
    "TESTING=1\n",
    "if TESTING:\n",
    "    main()"
   ]
  },
  {
   "cell_type": "code",
   "execution_count": null,
   "id": "39276846-5622-4b91-9a7f-e9d8c2a32bcc",
   "metadata": {},
   "outputs": [],
   "source": []
  },
  {
   "cell_type": "code",
   "execution_count": null,
   "id": "39c06b3b-5761-42d1-a89a-3821e569303c",
   "metadata": {},
   "outputs": [],
   "source": []
  },
  {
   "cell_type": "code",
   "execution_count": null,
   "id": "eea4084f-1fdb-4fdc-bf31-31c12d82081c",
   "metadata": {},
   "outputs": [],
   "source": []
  },
  {
   "cell_type": "markdown",
   "id": "d8c627d3-8fc8-481c-9acd-99b34ba7fe09",
   "metadata": {
    "tags": []
   },
   "source": [
    "<h1>Main</h1>"
   ]
  },
  {
   "cell_type": "code",
   "execution_count": 19,
   "id": "97d8b49d-214f-4a94-901e-a22a98afa92e",
   "metadata": {
    "tags": []
   },
   "outputs": [
    {
     "ename": "NameError",
     "evalue": "name 'main' is not defined",
     "output_type": "error",
     "traceback": [
      "\u001b[0;31m---------------------------------------------------------------------------\u001b[0m",
      "\u001b[0;31mNameError\u001b[0m                                 Traceback (most recent call last)",
      "Cell \u001b[0;32mIn[19], line 3\u001b[0m\n\u001b[1;32m      1\u001b[0m \u001b[38;5;66;03m## print(f'Apr 13: Using data from \"{gs.title}\"')\u001b[39;00m\n\u001b[1;32m      2\u001b[0m \u001b[38;5;28;01mif\u001b[39;00m \u001b[38;5;18m__name__\u001b[39m\u001b[38;5;241m==\u001b[39m\u001b[38;5;124m'\u001b[39m\u001b[38;5;124m__main__\u001b[39m\u001b[38;5;124m'\u001b[39m:\n\u001b[0;32m----> 3\u001b[0m     \u001b[43mmain\u001b[49m()\n",
      "\u001b[0;31mNameError\u001b[0m: name 'main' is not defined"
     ]
    }
   ],
   "source": [
    "## print(f'Apr 13: Using data from \"{gs.title}\"')\n",
    "if __name__=='__main__':\n",
    "    main()"
   ]
  },
  {
   "cell_type": "markdown",
   "id": "9a8574ff-66a7-4450-8489-7a251204d47d",
   "metadata": {},
   "source": [
    "<h1>ad hoccery</h1> see adhoccery.ipyng\n"
   ]
  },
  {
   "cell_type": "code",
   "execution_count": null,
   "id": "12a51ef3-dd1a-4879-8d44-917bf99ed3f3",
   "metadata": {
    "tags": []
   },
   "outputs": [],
   "source": [
    "#def imgLinkedIn(profileURL):\n",
    "#source=CreateDriver('https://linkedin.com')\n",
    "if 0:\n",
    "    doStore('test')\n",
    "    inc('test')\n",
    "\n",
    "    profileURL = twitchers['Source'].value.split('/?')[0]\n",
    "    if profileURL.startswith('https://www.linkedin.com'):\n",
    "        #profileURL = 'https://www.linkedin.com/in/abby-abrahamson-71ba881a6/'\n",
    "        photoPage = profileURL+'/overlay/photo/?_l=en_US'\n",
    "        photoPage\n",
    "        source.get(photoPage)\n",
    "        sleep(3)\n",
    "        soup=BeautifulSoup(source.page_source)\n",
    "        src=soup.img['src']\n",
    "        twitchers['Picture'].value=src\n",
    "        twitchers['Thumbnails'].value=src\n",
    "        cloudinize()\n",
    "        doStore('test')\n",
    "    else:\n",
    "        cloudinize()\n",
    "        \n",
    "\n",
    "\n"
   ]
  },
  {
   "cell_type": "code",
   "execution_count": null,
   "id": "676e43d0-5e33-4a7a-898b-322825ee1b2f",
   "metadata": {},
   "outputs": [],
   "source": [
    " ###### incomplete GENERAL IMG FIXER for T.value\n",
    "def fixWidths(text): \n",
    "    soup=soup=BeautifulSoup(text)\n",
    "    for img in soup.find_all('img'):\n",
    "        src=img['src']\n",
    "        imgName = src.split('?')[0].split('/')[-1].split('.')[0]\n",
    "        res = enCloud(img['src'],imgName)\n",
    "\n",
    "        imgDict[src]=res\n",
    "        img['src']=res #rename the item\n",
    "        img['width']='100%'\n",
    "    \n",
    "###### "
   ]
  },
  {
   "cell_type": "code",
   "execution_count": null,
   "id": "473a22ea-2566-4f38-b6f9-d7d99eb71c7c",
   "metadata": {},
   "outputs": [],
   "source": [
    "if 0:\n",
    "    BS=BeautifulSoup\n",
    "    site=twitchers['Source'].value\n",
    "    ret = requests.get(site)\n",
    "    a = BS(ret.text).find('a')\n",
    "    req = requests.get(a['href'])\n",
    "    soup = BS(req.text, 'html.parser')\n"
   ]
  },
  {
   "cell_type": "code",
   "execution_count": null,
   "id": "46053e9e-ec9e-4608-86f5-4362c6246684",
   "metadata": {},
   "outputs": [],
   "source": [
    "if 0:\n",
    "    soup = soup.find(id='PAGES_CONTAINER')\n",
    "\n",
    "    from html_sanitizer import Sanitizer\n",
    "    sanitizer = Sanitizer({\n",
    "         'tags': ('h1', 'h2', 'p','img', 'wow-image'),\n",
    "         'attributes': {},\n",
    "         'empty': set(),\n",
    "         'separate': set(),\n",
    "    })\n",
    "    simple = sanitizer.sanitize(str(soup))\n",
    "    simple = simple.replace('<p>','\\n\\n').replace('</p>','\\n\\n').replace('\\n\\n\\n','\\n')\n",
    "    simple, table = simple.split('SITE CONDITIONS')\n",
    "\n",
    "    index=max(0,simple.find('<h2>'))\n",
    "    simple = simple[index:]\n",
    "\n",
    "    table = table.replace('\\u200b\\n\\n','\\n').strip()\n",
    "    table=table.replace('Annual','\\nAnnual')\n",
    "    table=table.replace('Country:','\\nCountry:')\n",
    "    table=table.replace('Function:','\\nFunction')\n",
    "    table=table.replace('Size:','\\nSize:')\n",
    "    table=table.split('&lt')[0]\n",
    "    table=table.replace('\\n','<br/>')\n",
    "\n",
    "    if i==10:\n",
    "        real = table.split('<br/><br/>') [0]\n",
    "        also = table[len(real):]\n",
    "        also = also.replace('•','\\n<li>' )\n",
    "        also = also.replace('Today', '<br/><br/>Today')\n",
    "        also = also.replace('The maj', '<br/><br/>The maj')\n",
    "        also = '\\n\\n' + also.replace('<br/>','\\n')[5:]\n",
    "    else:\n",
    "        also = ''\n",
    "\n",
    "\n"
   ]
  }
 ],
 "metadata": {
  "jupytext": {
   "formats": "ipynb,py"
  },
  "kernelspec": {
   "display_name": "Python 3 (ipykernel)",
   "language": "python",
   "name": "python3"
  },
  "language_info": {
   "codemirror_mode": {
    "name": "ipython",
    "version": 3
   },
   "file_extension": ".py",
   "mimetype": "text/x-python",
   "name": "python",
   "nbconvert_exporter": "python",
   "pygments_lexer": "ipython3",
   "version": "3.8.16"
  },
  "toc-autonumbering": true,
  "toc-showcode": true,
  "widgets": {
   "application/vnd.jupyter.widget-state+json": {
    "state": {
     "00a5eb7f0dea4930b0f1ca52afe43c7a": {
      "model_module": "@jupyter-widgets/controls",
      "model_module_version": "2.0.0",
      "model_name": "ButtonStyleModel",
      "state": {
       "button_color": "lightgreen",
       "font_family": null,
       "font_size": null,
       "font_style": null,
       "font_variant": null,
       "font_weight": null,
       "text_color": null,
       "text_decoration": null
      }
     },
     "00e3c54a1c6140a780aea9eecaf704ef": {
      "model_module": "@jupyter-widgets/controls",
      "model_module_version": "2.0.0",
      "model_name": "TextModel",
      "state": {
       "continuous_update": false,
       "layout": "IPY_MODEL_553cfd9fdb724457945e745e0ac61974",
       "style": "IPY_MODEL_7d556f63182d4617a3d2ba3a17a82f8d",
       "value": "39.1399187 -77.1929215"
      }
     },
     "025c3ad4bc944997830d15d21f42d559": {
      "model_module": "@jupyter-widgets/base",
      "model_module_version": "2.0.0",
      "model_name": "LayoutModel",
      "state": {}
     },
     "0313cf2f5068421db956e9d10b641cfa": {
      "model_module": "@jupyter-widgets/controls",
      "model_module_version": "2.0.0",
      "model_name": "ButtonStyleModel",
      "state": {
       "button_color": "#F5F5DC",
       "font_family": null,
       "font_size": null,
       "font_style": null,
       "font_variant": null,
       "font_weight": null,
       "text_color": null,
       "text_decoration": null
      }
     },
     "0517fa89f2d64c5b8b4b0816a2126060": {
      "model_module": "@jupyter-widgets/base",
      "model_module_version": "2.0.0",
      "model_name": "LayoutModel",
      "state": {}
     },
     "05c84b223f0543799e74bb5011fed326": {
      "model_module": "@jupyter-widgets/controls",
      "model_module_version": "2.0.0",
      "model_name": "HBoxModel",
      "state": {
       "children": [
        "IPY_MODEL_e7fa66f8bb8f40819a11ba0351bc5b88",
        "IPY_MODEL_a5c5f9c8cf83472db3230d981ae252d5",
        "IPY_MODEL_594a129e975b45ffbd132cf0fe396722",
        "IPY_MODEL_119a1305c7024ff4a8024c340ec96e35"
       ],
       "layout": "IPY_MODEL_538b0540036e487ea680b9c6dfafa12b"
      }
     },
     "06320050678942edb18b2d160859ea1e": {
      "model_module": "@jupyter-widgets/controls",
      "model_module_version": "2.0.0",
      "model_name": "TextModel",
      "state": {
       "description": "b",
       "layout": "IPY_MODEL_14ef598307f0463faf7971cec8d7b814",
       "style": "IPY_MODEL_4c114d014751450486e97269be2e893c",
       "value": "two"
      }
     },
     "06fe068bdadc4472a18a80ca31c68d14": {
      "model_module": "@jupyter-widgets/base",
      "model_module_version": "2.0.0",
      "model_name": "LayoutModel",
      "state": {}
     },
     "08026968ea634d6a972c41e3479d0ca2": {
      "model_module": "@jupyter-widgets/controls",
      "model_module_version": "2.0.0",
      "model_name": "ButtonModel",
      "state": {
       "description": "restartChromes",
       "layout": "IPY_MODEL_0b1693c22be74cef93e7e84cae44f969",
       "style": "IPY_MODEL_fe21a6f9785e4f03b0f30b0e5110d646",
       "tooltip": null
      }
     },
     "081b9c5a928f4abd907b46a46beda0fc": {
      "model_module": "@jupyter-widgets/base",
      "model_module_version": "2.0.0",
      "model_name": "LayoutModel",
      "state": {}
     },
     "088d1a192747468abb4bc898019acef1": {
      "model_module": "@jupyter-widgets/controls",
      "model_module_version": "2.0.0",
      "model_name": "ButtonStyleModel",
      "state": {
       "button_color": "lightgreen",
       "font_family": null,
       "font_size": null,
       "font_style": null,
       "font_variant": null,
       "font_weight": null,
       "text_color": null,
       "text_decoration": null
      }
     },
     "0b1693c22be74cef93e7e84cae44f969": {
      "model_module": "@jupyter-widgets/base",
      "model_module_version": "2.0.0",
      "model_name": "LayoutModel",
      "state": {}
     },
     "0b9b8045cdb9427b8f8005e0aab821d9": {
      "model_module": "@jupyter-widgets/controls",
      "model_module_version": "2.0.0",
      "model_name": "TextModel",
      "state": {
       "description": "y",
       "layout": "IPY_MODEL_be6476bb645b4238a3d1fa766a951cfa",
       "style": "IPY_MODEL_5c286e2a9cc0445c92917e218e41fc0a"
      }
     },
     "0bdcf5f6d4c640c1907268d52ac912b7": {
      "model_module": "@jupyter-widgets/base",
      "model_module_version": "2.0.0",
      "model_name": "LayoutModel",
      "state": {}
     },
     "0c4fc88ade2949279996c054522332ad": {
      "model_module": "@jupyter-widgets/base",
      "model_module_version": "2.0.0",
      "model_name": "LayoutModel",
      "state": {
       "width": "70px"
      }
     },
     "0d11274a3951417588770df452aafedb": {
      "model_module": "@jupyter-widgets/base",
      "model_module_version": "2.0.0",
      "model_name": "LayoutModel",
      "state": {}
     },
     "0ef1403627c04a67b7a284b740662f43": {
      "model_module": "@jupyter-widgets/base",
      "model_module_version": "2.0.0",
      "model_name": "LayoutModel",
      "state": {}
     },
     "1176f089ef21443091a4fd99612d1ab5": {
      "model_module": "@jupyter-widgets/base",
      "model_module_version": "2.0.0",
      "model_name": "LayoutModel",
      "state": {
       "height": "1000px",
       "width": "30%"
      }
     },
     "119a1305c7024ff4a8024c340ec96e35": {
      "model_module": "@jupyter-widgets/controls",
      "model_module_version": "2.0.0",
      "model_name": "ButtonModel",
      "state": {
       "description": "↘↗-⅏ (Update!)",
       "layout": "IPY_MODEL_b2643a0b5b544fb1adf409c3a94c7357",
       "style": "IPY_MODEL_3b1cd91b2c6948d9b93131c66c122a06",
       "tooltip": null
      }
     },
     "1229ef29d00e4e9394108a8c80bdd589": {
      "model_module": "@jupyter-widgets/controls",
      "model_module_version": "2.0.0",
      "model_name": "TextStyleModel",
      "state": {
       "description_width": "",
       "font_size": null,
       "text_color": null
      }
     },
     "1388e8bce47149cdbd0be13a4c842dd6": {
      "model_module": "@jupyter-widgets/base",
      "model_module_version": "2.0.0",
      "model_name": "LayoutModel",
      "state": {
       "width": "40%"
      }
     },
     "14cb17539f6c469e84946d7a52222fc2": {
      "model_module": "@jupyter-widgets/controls",
      "model_module_version": "2.0.0",
      "model_name": "ButtonStyleModel",
      "state": {
       "button_color": "lightgreen",
       "font_family": null,
       "font_size": null,
       "font_style": null,
       "font_variant": null,
       "font_weight": null,
       "text_color": null,
       "text_decoration": null
      }
     },
     "14ef598307f0463faf7971cec8d7b814": {
      "model_module": "@jupyter-widgets/base",
      "model_module_version": "2.0.0",
      "model_name": "LayoutModel",
      "state": {}
     },
     "155aee52e66c4370a1144c6b66cd6dca": {
      "model_module": "@jupyter-widgets/base",
      "model_module_version": "2.0.0",
      "model_name": "LayoutModel",
      "state": {}
     },
     "159acf2383b44428b4e8382fd2cc5c11": {
      "model_module": "@jupyter-widgets/controls",
      "model_module_version": "2.0.0",
      "model_name": "TextStyleModel",
      "state": {
       "description_width": "",
       "font_size": null,
       "text_color": null
      }
     },
     "16152f77ea304fa3ad8fec243505b0d9": {
      "model_module": "@jupyter-widgets/base",
      "model_module_version": "2.0.0",
      "model_name": "LayoutModel",
      "state": {
       "width": "60%"
      }
     },
     "169780d1e4ef4420b68f90bb21b522e5": {
      "model_module": "@jupyter-widgets/controls",
      "model_module_version": "2.0.0",
      "model_name": "TextModel",
      "state": {
       "description": "PNamePlus",
       "layout": "IPY_MODEL_c9365a44dc2d4a12b7404243d5e7e59e",
       "style": "IPY_MODEL_e959d86c2dae4828a1512dea733ff983",
       "value": "Venezuela: Delta del Orinoco Biosphere Reserve"
      }
     },
     "17b82600966c4d009410d27c03cbccbe": {
      "model_module": "@jupyter-widgets/base",
      "model_module_version": "2.0.0",
      "model_name": "LayoutModel",
      "state": {}
     },
     "1a29088499b74947be187fa75d25743b": {
      "model_module": "@jupyter-widgets/controls",
      "model_module_version": "2.0.0",
      "model_name": "TextModel",
      "state": {
       "description": "Translated?",
       "layout": "IPY_MODEL_a19eb9e493ee4c2986ed748bf03b5b31",
       "style": "IPY_MODEL_485913cd4ddf45248243f307b7addc18"
      }
     },
     "1c6bcb275d8f44b2bc614bcd828c569a": {
      "model_module": "@jupyter-widgets/controls",
      "model_module_version": "2.0.0",
      "model_name": "ButtonModel",
      "state": {
       "description": "-",
       "layout": "IPY_MODEL_e1e25130843f45058a0c95a37fa45443",
       "style": "IPY_MODEL_841cdf1d68ac471fa027e30f85af717b",
       "tooltip": null
      }
     },
     "1da6b83647da43f99e9bb94a54628e9c": {
      "model_module": "@jupyter-widgets/base",
      "model_module_version": "2.0.0",
      "model_name": "LayoutModel",
      "state": {
       "width": "50%"
      }
     },
     "22334e35bbc14e029d236c9d1d1a2898": {
      "model_module": "@jupyter-widgets/base",
      "model_module_version": "2.0.0",
      "model_name": "LayoutModel",
      "state": {}
     },
     "229f2e183ee04fb8b9ead58730340e21": {
      "model_module": "@jupyter-widgets/controls",
      "model_module_version": "2.0.0",
      "model_name": "TextStyleModel",
      "state": {
       "description_width": "",
       "font_size": null,
       "text_color": null
      }
     },
     "23f7cbe8a8e2456bb0e55cadaa076a76": {
      "model_module": "@jupyter-widgets/base",
      "model_module_version": "2.0.0",
      "model_name": "LayoutModel",
      "state": {}
     },
     "266d589636a14af4a326f1b18908a296": {
      "model_module": "@jupyter-widgets/controls",
      "model_module_version": "2.0.0",
      "model_name": "TextStyleModel",
      "state": {
       "description_width": "",
       "font_size": null,
       "text_color": null
      }
     },
     "2676389203f24b51807d7c228bded23d": {
      "model_module": "@jupyter-widgets/output",
      "model_module_version": "1.0.0",
      "model_name": "OutputModel",
      "state": {
       "layout": "IPY_MODEL_9714886819b441039901fc3ee814570b",
       "outputs": [
        {
         "name": "stdout",
         "output_type": "stream",
         "text": "updateHTML {'name': 'value', 'old': 'Australia:Natural Sequence Farming!', 'new': 'Chile: Juan Fernandez Archipelago Biosphere Reserve', 'owner': Text(value='Chile: Juan Fernandez Archipelago Biosphere Reserve', description='Project Name', style=TextStyle(background='yellow')), 'type': 'change'}\nNEW on Twitch\ntwitch {'name': 'value', 'old': 'Australia:Natural Sequence Farming!', 'new': 'Chile: Juan Fernandez Archipelago Biosphere Reserve', 'owner': Text(value='Chile: Juan Fernandez Archipelago Biosphere Reserve', description='Project Name', style=TextStyle(background='yellow')), 'type': 'change'}\nupdateHTML {'name': 'value', 'old': 'https://www.nsfarming.com/', 'new': 'https://en.unesco.org/biosphere/lac/juan-fernandez', 'owner': Text(value='https://en.unesco.org/biosphere/lac/juan-fernandez', description='Source', style=TextStyle(background='yellow')), 'type': 'change'}\nNEW on Twitch\ntwitch {'name': 'value', 'old': 'https://www.nsfarming.com/', 'new': 'https://en.unesco.org/biosphere/lac/juan-fernandez', 'owner': Text(value='https://en.unesco.org/biosphere/lac/juan-fernandez', description='Source', style=TextStyle(background='yellow')), 'type': 'change'}\nupdateHTML {'name': 'value', 'old': 'Natural sequences that can be harnessed by informed management include the movement of grazing animals, birds and insects from valley floors by day to higher levels on the valley sides at night and the transfer of fertility with them. There is a gradual movement of nutrients and seeds back down the valley sides via the water cycle, vegetation and soil processes, constantly refurbishing the fertility of the landscape.\\n\\nIn the process, various plants collect specific substances and the plant communities change in predictable sequences. As part of the biodiversity of a property and catchment, these plants are also a part of multiple food chains and a key to enhancing fertility.\\n\\nNutrients contained in soil or water are mobile and can be quickly lost off-site. Nutrients contained in biodiverse living bodies are stable. NSF management keeps natural functions connected which allows for quick exchange and conversion of nutrients within ecosystems on properties.\\n\\nPeter Andrews has found that even plants labeled as weeds can serve as pioneering species in inhibiting nutrient and soil erosion. They collect and supply essential substances for environmental health. Once slashed, fertility is built up and the weeds are replaced naturally by palatable grasses. To maximize production and conservation results requires a good understanding of interaction of the roles of clays and sands in the process.\\n\\nThis process is complemented by NSF property management when the initial erosion and fertility stabilising need has been met. The once degraded soils are then able to contribute to increased water use efficiency and optimal production levels through their increased organic content.\\n\\nAreas such as floodplains, that collect large amounts of nutrients, can be harvested to redistribute some of the fertility. Like the daily migration of birds and animals, downpours flushing streams to a floodplain are a sequence in the periodic fertilisation and harvest cycle.\\n\\nIn this process, surface running water dissolves natural substances and collects sediments, algae, microbes and plant residues from all parts of the catchment. Re-connecting running water to the stepped land formation of the chain of ponds that used to dominate traditional Australian landscapes, slows water flow. This enhances the ability of growing plants, coupled with decreasing inclines, soils and sands, to filter the water feeding into streams running along the valley floor. This process, in turn, feeds plant roots from the sub-surface and caps saline groundwater from surrounding slopes by perching a freshwater lens above saline layers.\\n\\nAll substances are functional in this naturally managed environment. Salts managed as saline groundwater, where evaporation is excluded from concentrating and crystallizing the substances, allow plant, animal and water ecosystems to balance salinity in the landscape as a natural function. In this way a hillslope pasture or floodplain water meadow is re-created.\\n\\nOn the floodplain, hydrostatic pressure is maintained on the heavier lower saline layers though maintaining high freshwater tables in the perched chain of ponds. At the same time, the stream replenishes the floodplain and its meadows, through lateral transfer to the freshwater table just below the surface.\\n\\nThe floodplain is convex. The perched stream runs along the higher elevation or apex and the billabongs and backswamps are at the lower positions on the perimeter of the floodplain where it meets the valley sides. This shape is created by the natural flow of the stream and reinforced by heavier sediment being deposited on and near the stream-bed in flood.\\n\\n\\nA farming system founded on working with nature\\n\\nIn many regions of Australia, floodplains are disconnected from creeks and rivers and natural flow regimes. This leaves them unable to store water to support productive farming and the growth of riparian vegetation.\\n\\nMany of today’s floodplains are incised with deeply scoured gullies and gorges. These are channels that expedite the swift flowing removal of much of the land’s fertility and the carriage of increasing amounts of salt. The soil and its nutrients are highly susceptible to leaching and erosion owing to the application of inappropriate agricultural and pastoral practices creating depleted soils and vegetation cover.\\n\\nNSF takes a holistic approach to natural resource management by re-establishing the stream’s connection to the surrounding landscape and restoring floodplains as ‘sponges’. Although most landscapes have unique qualities, the principles of landform and management are the same. The physics remains constant.\\n\\nPeter Andrews’ interpretation of the landscape accepts that, pre-European settlement, the soil’s natural salt content was kept in check by slow sub-soil movements of fresh water.\\n\\nUnder natural systems that are replicated by NSF, movement of fresh water is by surface and sub-surface flows. The surface flow is by the stream which is perched at the highest level of the floodplain on an accumulation of sediment. Surface water is buffered at each narrowed step position in the chain of ponds. Under NSF, this is achieved by a naturalised ‘leaky weir’ of rocks, sediment, trees, branches, reeds and grass roots mimicking the original natural slowing impediments to flows.\\n\\nIn floodplains in their pristine form, water is stepped slowly down the stream valley floor from one end of a catchment to the other. The stream valley floor is segmented with steps. These steps are where a new floodplain starts and the up-stream one finishes, and below which, large reed beds form on recharge areas.\\n\\nThe floodplains are soil, vegetation and water-filled ponds, forming links in a chain as they progress through each step down the valley. They are joined at each step where the valley sides narrow. Stream water travels through each linked floodplain as a sequence in the stream valley. The stream meanders over each sequence. It covers the floodplain with sediments as it steadily descends the valley. Each floodplain has stream meanders, pools and riffles as well as wetland and water meadow filters.\\n\\nWhere an incised stream bed exists, during low to medium stream flows, the sides of the stream are contained by levee banks built up by flood deposits. The banks are protected from severe erosion by wetland plants such as phragmites, other natural grasses, and streamside trees and shrubs, which have colonised the area.\\n\\nAt the same time, hydrostatic pressure from the perched water table in the stream prevents the lateral intrusion of salinity from the floodplain even in low flow periods.\\n\\nTo recreate the chain of ponds effect, NSF uses small secondary diversion channels to reconnect streams to their floodplains. These channels braid out through the lush meadows to the edges of the floodplain and water then returns to the main stream through surface and sub-surface flows. They pick up peak flows that are diverted by the leaky weirs which maintain normal base flow to downstream properties.\\n\\nDuring high flows, as water spreads across the floodplain in the braided diversion channels, some water is absorbed through sandy intake beds, recharging the groundwater lens above saline layers and just below the plant root systems.\\n\\nAnother portion of the surface water is carried in the channels towards historic floodplain terraces on the edge of the floodplain to refresh hollows and billabongs, facilitating fish passage in the process.\\n\\nDuring flood events, the reed buffers along the stream sides and at the narrow ends, where each pond is joined in the chain, lay down to laminate the ground surface with their protective mat but are ready to grow upright again when the flows have subsided.\\n\\nThe hydrostatic pressure of water in the topped-up meadow and billabong storages on the floodplain prevents the plants on the floodplain from ‘drowning’ in the short interval when the water is at a high level. This process can mitigate the impacts of salt ‘slugs’ that may have been scoured from saline deposits in uplands.\\n\\nThe stream water that is impounded in the recharged groundwater lens within the floodplain soils also provides a buffer against drought. There can be a period of several years of thriving plant growth before the water is fully transpired and the soil, which is heavily shaded by extensive vegetation cover, dries out. In normal years recharge from flooding would arrive earlier to restore the groundwater.\\n\\nAs part of NSF management, the farmer can divert flows between channels to dry out a meadow area for harvest while starting to produce increased growth in a new zone of the floodplain.\\n\\n\\nMaximum natural outcomes with minimum financial and manufactured inputs\\n\\nPeter Andrews’ NSF concepts are being applied at project sites as diverse as those featuring upland fast-flowing water courses, to broadacre cropping areas, dry gullies, and salt encrusted degraded lands as well as broad stream valleys and wetlands. Where human-induced impediments to natural growth and production are gradually replaced by the system built around the natural sequences of plants, animals, water and soils, properties have a solid foundation for increased profitability and long term sustainability. Industry analysts have been particularly attracted by the lush growth produced during drought conditions under Peter Andrews’ system.\\n\\nUnder NSF, natural water flows are reintroduced to alluvial soil plains. In many ways natural alluvial soil floodplains form the whole waterway down the valley whether through surface or sub-surface flow. In contrast, irrigation is the artificial application of water to the land. Invariably, the source of the irrigation water is from artificial storages and highly moderated streams with incised and eroded channels. These have generally been created by past poor environmental practices such as the removal of ground cover.\\n\\nOwing to its base of natural processes, NSF achieves more sustainable outcomes than traditional pipe and pump irrigation systems as it does not incur large financial costs or create long-term environmental degradation, loss of biodiversity and increasing salinity, as often occurs catchments with highly regulated stream regimes. NSF employs few imported or manufactured inputs such as pesticides, herbicides and artificial fertilisers. In terms of financial capital and operating inputs, it is not an expensive system to introduce and it brings Greenhouse gas benefits through increasing carbon levels in the landscape.\\n\\nThe investment required is in training for the landholder to interpret the natural processes of the landscape and time spent by the farmer in ‘reading the country’ and applying the NSF principles to the particular property and landscape features of their region. It is no surprise to find that Peter Andrews grew up on a property near Broken Hill area and spent much time with his stockman father and members of the Aboriginal community learning to read country.\\n\\nIn most cases, Peter Andrews finds that resources available on-site only require intelligent redistribution for natural processes to work in favour of productivity and a reversal of human-induced environmental imbalance and degradation, as most of the naturally developed ‘infrastructure’ is still there.\\n\\nIn working with nature, NSF requires very low maintenance inputs. Where outside inputs are employed on a farm they can be targeted. Small amounts can be applied to specific areas or species where the system is temporarily out of balance owing, in most cases, to factors outside the property boundaries. NSF harmonises modern technology with natural plant progressions to achieve a resilient model of farming.\\n\\nWhere neighbouring landholders in a sub-catchment adopt NSF, even more rapid progress to increased profitability and environmental sustainability can be achieved, as NSF adopts a whole-of-catchment approach to farming.\\n\\n\\nNSF applied to Grazing\\n\\nUnder NSF, many forms of grazing are appropriate if a vigorous perennial plant community can be maintained. If c ell-grazing methods are used, especially across valley segments from ridge to ridge, protection of the riparian zone needs to be considered. Over the medium to long term, weed control, nutrient balances and pest management can be managed by using Natural Sequence Farming methods.\\n\\nThe improved groundcover and reduced cultivation under NSF not only minimises farm costs but also reduces erosion, avoids soil compaction and maintains a soil structure with increased water holding capacity.\\n\\nThe use of water balances within NSF, brings the most increases in productivity and sustainability. Costs are also minimised, as water storage is in the groundwater lens rather than expensive above-ground dams, prone to siltation and with high evaporation rates when the water is needed most. Pasture is fed naturally from the roots rather than requiring extensive capital investments in pumps, pipes, irrigation gantries or feeder networks.\\n\\nTraditional livestock husbandry methods can be complementary to Natural Sequence Farming. Under NSF, livestock are considered as a major tool in land management, including for transferring fertility and controlling weeds. However, feedlot methods of production and other methods of confining herds or flocks need to be well-sited in the catchment to utilise self-removal and self-collection of residues for fertility management.\\n\\nOnce the initial phase of re-establishment to natural sequences is well on the way, which in most cases only takes one or two years with low cost inputs, monitoring and the application of NSF principles in harmony with Nature achieves continuing sustainable production.\\n\\n\\nNSF applied to Agriculture\\n\\nUnder NSF, cropping is best suited to methods complementary to retaining significant areas of season-specific perennial pastures. If needed, cultivation may be confined to soils on valley slopes rather than floodplains but it can be worth exploring direct-drill minimum-till broadcast methods first.\\n\\nHorticulture can be sited off flood plain areas, with careful transfer of valley floor fertility and water within the NSF system.\\n\\nNSF harmonises well with organic approaches to producing premium farm produce for a growing domestic and export market. Increasing numbers of consumers and vendors are demanding products produced with environmentally sustainable systems coupled with farm accreditation and certified produce before acceptance.\\n\\nThe use of outside inputs or recycling farm produce on the property can be part of managed fertility transfer, both on the farm and in the sub-catchment. For instance, hay making of legume-rich pasture can be rotated around various areas of a property to work in with weed reduction needs and fertility management.\\n\\nIrrigation is best-sited on valley floors although most areas managed with NSF require minimum supplementation of water transfers already naturally occurring on and beneath the floodplain.\\n \\n</p></body>\\n\\n~~~ #Social/Web', 'new': '<html>\\n <body>\\n  <h1 id=\"page-title\">\\n   Juan Fernandez Archipelago Biosphere Reserve, Chile\\n  </h1>\\n  <div id=\"page-content\">\\n   <section id=\"block-system-main\">\\n    <article id=\"node-319167\">\\n     <div id=\"content--31795\">\\n      <h3>\\n      </h3>\\n      <p>\\n       <img alt=\"\" src=\"http://res.cloudinary.com/e-nable-org/image/upload/v1688407045/cover_juanfernandez_biosphere_reserve_unesco_chile.jpg\" width=\"100%\"/>\\n      </p>\\n      <p>\\n       The Juan Fernandez Biosphere Reserve is situated 650 km from the Chilean coast in the Pacific Ocean. It includes the whole Archipelago with the islands of Robinson Crusoe, Alexander Selkirk and Santa Clara and all the islets in the area. The Juan Fernandez Archipelago is volcanic in origin, with steep, rugged mountain ranges with deep ravines.\\n      </p>\\n      <h3>\\n       Designation date:1977\\n      </h3>\\n      <h3>\\n       Networks\\n      </h3>\\n      <p>\\n       <strong>\\n        Regional network:\\n       </strong>\\n       <a href=\"http://www.unesco.org/new/es/natural-sciences/environment/ecological-sciences/man-and-biosphere-programme/networks/iberomab/\">\\n        Red de Comités y Reservas de Biosfera de Iberoamérica y el Caribe (IberoMAB)\\n       </a>\\n      </p>\\n      <p>\\n       <strong>\\n        Ecosystem-based network:\\n       </strong>\\n      </p>\\n      <ul>\\n      </ul>\\n      <h3>\\n       Description\\n      </h3>\\n      <p>\\n       <strong>\\n        Map\\n       </strong>\\n      </p>\\n      <p>\\n       <strong>\\n        Surface :\\n       </strong>\\n       1,216,483.43 ha (Terrestrial: 9,967.15 ha; Marine: 1,206,516 ha)\\n      </p>\\n      <ul>\\n       <li>\\n        Core area(s): 117,613.01 ha (Terrestrial: 9.560.20 ha; Marine: 108,145 ha)\\n       </li>\\n       <li>\\n        Buffer zone(s): 4,722.85 ha (Terrestrial: 112.89 ha; Marine: 4,620.31 ha)\\n       </li>\\n       <li>\\n        Transition zone(s): 1,094,147.59 ha (Terrestrial: 294.06 ha; Marine: 1,093,750.99 ha)\\n       </li>\\n      </ul>\\n      <p>\\n       <strong>\\n        Location:\\n       </strong>\\n       33°43’25.64 S;79°45’46.26 W\\n      </p>\\n      <h3>\\n       Administrative Authorities\\n      </h3>\\n      <p>\\n       <strong>\\n        Javiera Meza\\n       </strong>\\n       CONAF\\n                                    Chile\\n      </p>\\n      <p>\\n       <strong>\\n        Tel.:\\n       </strong>\\n       +56 32 2320261\\n       <strong>\\n        Email:\\n       </strong>\\n       <a href=\"mailto:javiera.meza@conaf.cl\">\\n        javiera.meza@conaf.cl\\n       </a>\\n      </p>\\n      <p>\\n       <strong>\\n        Websiteǀ Facebook ǀ Twitter\\n       </strong>\\n      </p>\\n      <h2>\\n       Ecological Characteristics\\n      </h2>\\n      <p>\\n       <img alt=\"\" src=\"http://res.cloudinary.com/e-nable-org/image/upload/v1688415551/img_juanfernandez_biosphere_reserve_unesco_chile_ecologia.jpg\" width=\"100%\"/>\\n      </p>\\n      <p>\\n       This Reserve corresponds to an insular ecosystem, characterized by the presence of 131 endemic plant species (62% of the native vascular flora). Remnants of the past are worth mentioning, such as\\n       <em>\\n        Lactoris fernandeziana\\n       </em>\\n       and\\n       <em>\\n        Thursopteris elegans\\n       </em>\\n       ; and ten endemic species:Cuminia, Dendroseris, Juania, Lactoris, Megalachne, Podophorus, Robinsonia, Selkirkia, Thyrsopterisand Yunquea.\\n      </p>\\n      <p>\\n       An outstanding characteristic of the Juan Fernández forests is the fact that 100% of its tree species only exist in the Archipelago, which means they are 100% endemic. Fauna includes the Juan Fernandez Firecrown (\\n       <em>\\n        Sephanoides fernandensis\\n       </em>\\n       ), the Juan Fernandez Tit-Tyrant (\\n       <em>\\n        Anairetes fernandezianus\\n       </em>\\n       ) and the Juan Fernandez Fur Seal (Arctocephalusphilippi).\\n      </p>\\n      <h2>\\n       Socio-Economic Characteristics\\n      </h2>\\n      <p>\\n       <img alt=\"\" src=\"http://res.cloudinary.com/e-nable-org/image/upload/v1688415552/img_juanfernandez_biosphere_reserve_unesco_chile_miguelclusenergodt.jpg\" width=\"100%\"/>\\n       Socio-economic activities are carried out outside the Reserve but very close to it. They mainly consist of ecotourism over land and sea, heritage tourism and hotel services, artisanal fishing, trade and municipal public services.\\n      </p>\\n      <p>\\n      </p>\\n      <p>\\n      </p>\\n      <p>\\n       <em>\\n        Last updated: February 2020\\n       </em>\\n      </p>\\n      <span st_title=\"Juan%20Fernandez%20Archipelago%20Biosphere%20Reserve%2C%20Chile\" st_url=\"https://en.unesco.org/biosphere/lac/juan-fernandez\">\\n      </span>\\n      <span st_title=\"Juan%20Fernandez%20Archipelago%20Biosphere%20Reserve%2C%20Chile\" st_url=\"https://en.unesco.org/biosphere/lac/juan-fernandez\">\\n      </span>\\n      <span st_title=\"Juan%20Fernandez%20Archipelago%20Biosphere%20Reserve%2C%20Chile\" st_url=\"https://en.unesco.org/biosphere/lac/juan-fernandez\">\\n      </span>\\n      )\\n     </div>\\n    </article>\\n   </section>\\n  </div>\\n </body>\\n</html>\\n\\n~~~ #UnescoBiosphereReserve', 'owner': Text(value='<html>\\n <body>\\n  <h1 id=\"page-title\">\\n   Juan Fernandez Archipelago Biosphere Reserve, Chile\\n  </h1>\\n  <div id=\"page-content\">\\n   <section id=\"block-system-main\">\\n    <article id=\"node-319167\">\\n     <div id=\"content--31795\">\\n      <h3>\\n      </h3>\\n      <p>\\n       <img alt=\"\" src=\"http://res.cloudinary.com/e-nable-org/image/upload/v1688407045/cover_juanfernandez_biosphere_reserve_unesco_chile.jpg\" width=\"100%\"/>\\n      </p>\\n      <p>\\n       The Juan Fernandez Biosphere Reserve is situated 650 km from the Chilean coast in the Pacific Ocean. It includes the whole Archipelago with the islands of Robinson Crusoe, Alexander Selkirk and Santa Clara and all the islets in the area. The Juan Fernandez Archipelago is volcanic in origin, with steep, rugged mountain ranges with deep ravines.\\n      </p>\\n      <h3>\\n       Designation date:1977\\n      </h3>\\n      <h3>\\n       Networks\\n      </h3>\\n      <p>\\n       <strong>\\n        Regional network:\\n       </strong>\\n       <a href=\"http://www.unesco.org/new/es/natural-sciences/environment/ecological-sciences/man-and-biosphere-programme/networks/iberomab/\">\\n        Red de Comités y Reservas de Biosfera de Iberoamérica y el Caribe (IberoMAB)\\n       </a>\\n      </p>\\n      <p>\\n       <strong>\\n        Ecosystem-based network:\\n       </strong>\\n      </p>\\n      <ul>\\n      </ul>\\n      <h3>\\n       Description\\n      </h3>\\n      <p>\\n       <strong>\\n        Map\\n       </strong>\\n      </p>\\n      <p>\\n       <strong>\\n        Surface :\\n       </strong>\\n       1,216,483.43 ha (Terrestrial: 9,967.15 ha; Marine: 1,206,516 ha)\\n      </p>\\n      <ul>\\n       <li>\\n        Core area(s): 117,613.01 ha (Terrestrial: 9.560.20 ha; Marine: 108,145 ha)\\n       </li>\\n       <li>\\n        Buffer zone(s): 4,722.85 ha (Terrestrial: 112.89 ha; Marine: 4,620.31 ha)\\n       </li>\\n       <li>\\n        Transition zone(s): 1,094,147.59 ha (Terrestrial: 294.06 ha; Marine: 1,093,750.99 ha)\\n       </li>\\n      </ul>\\n      <p>\\n       <strong>\\n        Location:\\n       </strong>\\n       33°43’25.64 S;79°45’46.26 W\\n      </p>\\n      <h3>\\n       Administrative Authorities\\n      </h3>\\n      <p>\\n       <strong>\\n        Javiera Meza\\n       </strong>\\n       CONAF\\n                                    Chile\\n      </p>\\n      <p>\\n       <strong>\\n        Tel.:\\n       </strong>\\n       +56 32 2320261\\n       <strong>\\n        Email:\\n       </strong>\\n       <a href=\"mailto:javiera.meza@conaf.cl\">\\n        javiera.meza@conaf.cl\\n       </a>\\n      </p>\\n      <p>\\n       <strong>\\n        Websiteǀ Facebook ǀ Twitter\\n       </strong>\\n      </p>\\n      <h2>\\n       Ecological Characteristics\\n      </h2>\\n      <p>\\n       <img alt=\"\" src=\"http://res.cloudinary.com/e-nable-org/image/upload/v1688415551/img_juanfernandez_biosphere_reserve_unesco_chile_ecologia.jpg\" width=\"100%\"/>\\n      </p>\\n      <p>\\n       This Reserve corresponds to an insular ecosystem, characterized by the presence of 131 endemic plant species (62% of the native vascular flora). Remnants of the past are worth mentioning, such as\\n       <em>\\n        Lactoris fernandeziana\\n       </em>\\n       and\\n       <em>\\n        Thursopteris elegans\\n       </em>\\n       ; and ten endemic species:Cuminia, Dendroseris, Juania, Lactoris, Megalachne, Podophorus, Robinsonia, Selkirkia, Thyrsopterisand Yunquea.\\n      </p>\\n      <p>\\n       An outstanding characteristic of the Juan Fernández forests is the fact that 100% of its tree species only exist in the Archipelago, which means they are 100% endemic. Fauna includes the Juan Fernandez Firecrown (\\n       <em>\\n        Sephanoides fernandensis\\n       </em>\\n       ), the Juan Fernandez Tit-Tyrant (\\n       <em>\\n        Anairetes fernandezianus\\n       </em>\\n       ) and the Juan Fernandez Fur Seal (Arctocephalusphilippi).\\n      </p>\\n      <h2>\\n       Socio-Economic Characteristics\\n      </h2>\\n      <p>\\n       <img alt=\"\" src=\"http://res.cloudinary.com/e-nable-org/image/upload/v1688415552/img_juanfernandez_biosphere_reserve_unesco_chile_miguelclusenergodt.jpg\" width=\"100%\"/>\\n       Socio-economic activities are carried out outside the Reserve but very close to it. They mainly consist of ecotourism over land and sea, heritage tourism and hotel services, artisanal fishing, trade and municipal public services.\\n      </p>\\n      <p>\\n      </p>\\n      <p>\\n      </p>\\n      <p>\\n       <em>\\n        Last updated: February 2020\\n       </em>\\n      </p>\\n      <span st_title=\"Juan%20Fernandez%20Archipelago%20Biosphere%20Reserve%2C%20Chile\" st_url=\"https://en.unesco.org/biosphere/lac/juan-fernandez\">\\n      </span>\\n      <span st_title=\"Juan%20Fernandez%20Archipelago%20Biosphere%20Reserve%2C%20Chile\" st_url=\"https://en.unesco.org/biosphere/lac/juan-fernandez\">\\n      </span>\\n      <span st_title=\"Juan%20Fernandez%20Archipelago%20Biosphere%20Reserve%2C%20Chile\" st_url=\"https://en.unesco.org/biosphere/lac/juan-fernandez\">\\n      </span>\\n      )\\n     </div>\\n    </article>\\n   </section>\\n  </div>\\n </body>\\n</html>\\n\\n~~~ #UnescoBiosphereReserve', description='Description', disabled=True, style=TextStyle(background='yellow')), 'type': 'change'}\nNEW on Twitch\ntwitch {'name': 'value', 'old': 'Natural sequences that can be harnessed by informed management include the movement of grazing animals, birds and insects from valley floors by day to higher levels on the valley sides at night and the transfer of fertility with them. There is a gradual movement of nutrients and seeds back down the valley sides via the water cycle, vegetation and soil processes, constantly refurbishing the fertility of the landscape.\\n\\nIn the process, various plants collect specific substances and the plant communities change in predictable sequences. As part of the biodiversity of a property and catchment, these plants are also a part of multiple food chains and a key to enhancing fertility.\\n\\nNutrients contained in soil or water are mobile and can be quickly lost off-site. Nutrients contained in biodiverse living bodies are stable. NSF management keeps natural functions connected which allows for quick exchange and conversion of nutrients within ecosystems on properties.\\n\\nPeter Andrews has found that even plants labeled as weeds can serve as pioneering species in inhibiting nutrient and soil erosion. They collect and supply essential substances for environmental health. Once slashed, fertility is built up and the weeds are replaced naturally by palatable grasses. To maximize production and conservation results requires a good understanding of interaction of the roles of clays and sands in the process.\\n\\nThis process is complemented by NSF property management when the initial erosion and fertility stabilising need has been met. The once degraded soils are then able to contribute to increased water use efficiency and optimal production levels through their increased organic content.\\n\\nAreas such as floodplains, that collect large amounts of nutrients, can be harvested to redistribute some of the fertility. Like the daily migration of birds and animals, downpours flushing streams to a floodplain are a sequence in the periodic fertilisation and harvest cycle.\\n\\nIn this process, surface running water dissolves natural substances and collects sediments, algae, microbes and plant residues from all parts of the catchment. Re-connecting running water to the stepped land formation of the chain of ponds that used to dominate traditional Australian landscapes, slows water flow. This enhances the ability of growing plants, coupled with decreasing inclines, soils and sands, to filter the water feeding into streams running along the valley floor. This process, in turn, feeds plant roots from the sub-surface and caps saline groundwater from surrounding slopes by perching a freshwater lens above saline layers.\\n\\nAll substances are functional in this naturally managed environment. Salts managed as saline groundwater, where evaporation is excluded from concentrating and crystallizing the substances, allow plant, animal and water ecosystems to balance salinity in the landscape as a natural function. In this way a hillslope pasture or floodplain water meadow is re-created.\\n\\nOn the floodplain, hydrostatic pressure is maintained on the heavier lower saline layers though maintaining high freshwater tables in the perched chain of ponds. At the same time, the stream replenishes the floodplain and its meadows, through lateral transfer to the freshwater table just below the surface.\\n\\nThe floodplain is convex. The perched stream runs along the higher elevation or apex and the billabongs and backswamps are at the lower positions on the perimeter of the floodplain where it meets the valley sides. This shape is created by the natural flow of the stream and reinforced by heavier sediment being deposited on and near the stream-bed in flood.\\n\\n\\nA farming system founded on working with nature\\n\\nIn many regions of Australia, floodplains are disconnected from creeks and rivers and natural flow regimes. This leaves them unable to store water to support productive farming and the growth of riparian vegetation.\\n\\nMany of today’s floodplains are incised with deeply scoured gullies and gorges. These are channels that expedite the swift flowing removal of much of the land’s fertility and the carriage of increasing amounts of salt. The soil and its nutrients are highly susceptible to leaching and erosion owing to the application of inappropriate agricultural and pastoral practices creating depleted soils and vegetation cover.\\n\\nNSF takes a holistic approach to natural resource management by re-establishing the stream’s connection to the surrounding landscape and restoring floodplains as ‘sponges’. Although most landscapes have unique qualities, the principles of landform and management are the same. The physics remains constant.\\n\\nPeter Andrews’ interpretation of the landscape accepts that, pre-European settlement, the soil’s natural salt content was kept in check by slow sub-soil movements of fresh water.\\n\\nUnder natural systems that are replicated by NSF, movement of fresh water is by surface and sub-surface flows. The surface flow is by the stream which is perched at the highest level of the floodplain on an accumulation of sediment. Surface water is buffered at each narrowed step position in the chain of ponds. Under NSF, this is achieved by a naturalised ‘leaky weir’ of rocks, sediment, trees, branches, reeds and grass roots mimicking the original natural slowing impediments to flows.\\n\\nIn floodplains in their pristine form, water is stepped slowly down the stream valley floor from one end of a catchment to the other. The stream valley floor is segmented with steps. These steps are where a new floodplain starts and the up-stream one finishes, and below which, large reed beds form on recharge areas.\\n\\nThe floodplains are soil, vegetation and water-filled ponds, forming links in a chain as they progress through each step down the valley. They are joined at each step where the valley sides narrow. Stream water travels through each linked floodplain as a sequence in the stream valley. The stream meanders over each sequence. It covers the floodplain with sediments as it steadily descends the valley. Each floodplain has stream meanders, pools and riffles as well as wetland and water meadow filters.\\n\\nWhere an incised stream bed exists, during low to medium stream flows, the sides of the stream are contained by levee banks built up by flood deposits. The banks are protected from severe erosion by wetland plants such as phragmites, other natural grasses, and streamside trees and shrubs, which have colonised the area.\\n\\nAt the same time, hydrostatic pressure from the perched water table in the stream prevents the lateral intrusion of salinity from the floodplain even in low flow periods.\\n\\nTo recreate the chain of ponds effect, NSF uses small secondary diversion channels to reconnect streams to their floodplains. These channels braid out through the lush meadows to the edges of the floodplain and water then returns to the main stream through surface and sub-surface flows. They pick up peak flows that are diverted by the leaky weirs which maintain normal base flow to downstream properties.\\n\\nDuring high flows, as water spreads across the floodplain in the braided diversion channels, some water is absorbed through sandy intake beds, recharging the groundwater lens above saline layers and just below the plant root systems.\\n\\nAnother portion of the surface water is carried in the channels towards historic floodplain terraces on the edge of the floodplain to refresh hollows and billabongs, facilitating fish passage in the process.\\n\\nDuring flood events, the reed buffers along the stream sides and at the narrow ends, where each pond is joined in the chain, lay down to laminate the ground surface with their protective mat but are ready to grow upright again when the flows have subsided.\\n\\nThe hydrostatic pressure of water in the topped-up meadow and billabong storages on the floodplain prevents the plants on the floodplain from ‘drowning’ in the short interval when the water is at a high level. This process can mitigate the impacts of salt ‘slugs’ that may have been scoured from saline deposits in uplands.\\n\\nThe stream water that is impounded in the recharged groundwater lens within the floodplain soils also provides a buffer against drought. There can be a period of several years of thriving plant growth before the water is fully transpired and the soil, which is heavily shaded by extensive vegetation cover, dries out. In normal years recharge from flooding would arrive earlier to restore the groundwater.\\n\\nAs part of NSF management, the farmer can divert flows between channels to dry out a meadow area for harvest while starting to produce increased growth in a new zone of the floodplain.\\n\\n\\nMaximum natural outcomes with minimum financial and manufactured inputs\\n\\nPeter Andrews’ NSF concepts are being applied at project sites as diverse as those featuring upland fast-flowing water courses, to broadacre cropping areas, dry gullies, and salt encrusted degraded lands as well as broad stream valleys and wetlands. Where human-induced impediments to natural growth and production are gradually replaced by the system built around the natural sequences of plants, animals, water and soils, properties have a solid foundation for increased profitability and long term sustainability. Industry analysts have been particularly attracted by the lush growth produced during drought conditions under Peter Andrews’ system.\\n\\nUnder NSF, natural water flows are reintroduced to alluvial soil plains. In many ways natural alluvial soil floodplains form the whole waterway down the valley whether through surface or sub-surface flow. In contrast, irrigation is the artificial application of water to the land. Invariably, the source of the irrigation water is from artificial storages and highly moderated streams with incised and eroded channels. These have generally been created by past poor environmental practices such as the removal of ground cover.\\n\\nOwing to its base of natural processes, NSF achieves more sustainable outcomes than traditional pipe and pump irrigation systems as it does not incur large financial costs or create long-term environmental degradation, loss of biodiversity and increasing salinity, as often occurs catchments with highly regulated stream regimes. NSF employs few imported or manufactured inputs such as pesticides, herbicides and artificial fertilisers. In terms of financial capital and operating inputs, it is not an expensive system to introduce and it brings Greenhouse gas benefits through increasing carbon levels in the landscape.\\n\\nThe investment required is in training for the landholder to interpret the natural processes of the landscape and time spent by the farmer in ‘reading the country’ and applying the NSF principles to the particular property and landscape features of their region. It is no surprise to find that Peter Andrews grew up on a property near Broken Hill area and spent much time with his stockman father and members of the Aboriginal community learning to read country.\\n\\nIn most cases, Peter Andrews finds that resources available on-site only require intelligent redistribution for natural processes to work in favour of productivity and a reversal of human-induced environmental imbalance and degradation, as most of the naturally developed ‘infrastructure’ is still there.\\n\\nIn working with nature, NSF requires very low maintenance inputs. Where outside inputs are employed on a farm they can be targeted. Small amounts can be applied to specific areas or species where the system is temporarily out of balance owing, in most cases, to factors outside the property boundaries. NSF harmonises modern technology with natural plant progressions to achieve a resilient model of farming.\\n\\nWhere neighbouring landholders in a sub-catchment adopt NSF, even more rapid progress to increased profitability and environmental sustainability can be achieved, as NSF adopts a whole-of-catchment approach to farming.\\n\\n\\nNSF applied to Grazing\\n\\nUnder NSF, many forms of grazing are appropriate if a vigorous perennial plant community can be maintained. If c ell-grazing methods are used, especially across valley segments from ridge to ridge, protection of the riparian zone needs to be considered. Over the medium to long term, weed control, nutrient balances and pest management can be managed by using Natural Sequence Farming methods.\\n\\nThe improved groundcover and reduced cultivation under NSF not only minimises farm costs but also reduces erosion, avoids soil compaction and maintains a soil structure with increased water holding capacity.\\n\\nThe use of water balances within NSF, brings the most increases in productivity and sustainability. Costs are also minimised, as water storage is in the groundwater lens rather than expensive above-ground dams, prone to siltation and with high evaporation rates when the water is needed most. Pasture is fed naturally from the roots rather than requiring extensive capital investments in pumps, pipes, irrigation gantries or feeder networks.\\n\\nTraditional livestock husbandry methods can be complementary to Natural Sequence Farming. Under NSF, livestock are considered as a major tool in land management, including for transferring fertility and controlling weeds. However, feedlot methods of production and other methods of confining herds or flocks need to be well-sited in the catchment to utilise self-removal and self-collection of residues for fertility management.\\n\\nOnce the initial phase of re-establishment to natural sequences is well on the way, which in most cases only takes one or two years with low cost inputs, monitoring and the application of NSF principles in harmony with Nature achieves continuing sustainable production.\\n\\n\\nNSF applied to Agriculture\\n\\nUnder NSF, cropping is best suited to methods complementary to retaining significant areas of season-specific perennial pastures. If needed, cultivation may be confined to soils on valley slopes rather than floodplains but it can be worth exploring direct-drill minimum-till broadcast methods first.\\n\\nHorticulture can be sited off flood plain areas, with careful transfer of valley floor fertility and water within the NSF system.\\n\\nNSF harmonises well with organic approaches to producing premium farm produce for a growing domestic and export market. Increasing numbers of consumers and vendors are demanding products produced with environmentally sustainable systems coupled with farm accreditation and certified produce before acceptance.\\n\\nThe use of outside inputs or recycling farm produce on the property can be part of managed fertility transfer, both on the farm and in the sub-catchment. For instance, hay making of legume-rich pasture can be rotated around various areas of a property to work in with weed reduction needs and fertility management.\\n\\nIrrigation is best-sited on valley floors although most areas managed with NSF require minimum supplementation of water transfers already naturally occurring on and beneath the floodplain.\\n \\n</p></body>\\n\\n~~~ #Social/Web', 'new': '<html>\\n <body>\\n  <h1 id=\"page-title\">\\n   Juan Fernandez Archipelago Biosphere Reserve, Chile\\n  </h1>\\n  <div id=\"page-content\">\\n   <section id=\"block-system-main\">\\n    <article id=\"node-319167\">\\n     <div id=\"content--31795\">\\n      <h3>\\n      </h3>\\n      <p>\\n       <img alt=\"\" src=\"http://res.cloudinary.com/e-nable-org/image/upload/v1688407045/cover_juanfernandez_biosphere_reserve_unesco_chile.jpg\" width=\"100%\"/>\\n      </p>\\n      <p>\\n       The Juan Fernandez Biosphere Reserve is situated 650 km from the Chilean coast in the Pacific Ocean. It includes the whole Archipelago with the islands of Robinson Crusoe, Alexander Selkirk and Santa Clara and all the islets in the area. The Juan Fernandez Archipelago is volcanic in origin, with steep, rugged mountain ranges with deep ravines.\\n      </p>\\n      <h3>\\n       Designation date:1977\\n      </h3>\\n      <h3>\\n       Networks\\n      </h3>\\n      <p>\\n       <strong>\\n        Regional network:\\n       </strong>\\n       <a href=\"http://www.unesco.org/new/es/natural-sciences/environment/ecological-sciences/man-and-biosphere-programme/networks/iberomab/\">\\n        Red de Comités y Reservas de Biosfera de Iberoamérica y el Caribe (IberoMAB)\\n       </a>\\n      </p>\\n      <p>\\n       <strong>\\n        Ecosystem-based network:\\n       </strong>\\n      </p>\\n      <ul>\\n      </ul>\\n      <h3>\\n       Description\\n      </h3>\\n      <p>\\n       <strong>\\n        Map\\n       </strong>\\n      </p>\\n      <p>\\n       <strong>\\n        Surface :\\n       </strong>\\n       1,216,483.43 ha (Terrestrial: 9,967.15 ha; Marine: 1,206,516 ha)\\n      </p>\\n      <ul>\\n       <li>\\n        Core area(s): 117,613.01 ha (Terrestrial: 9.560.20 ha; Marine: 108,145 ha)\\n       </li>\\n       <li>\\n        Buffer zone(s): 4,722.85 ha (Terrestrial: 112.89 ha; Marine: 4,620.31 ha)\\n       </li>\\n       <li>\\n        Transition zone(s): 1,094,147.59 ha (Terrestrial: 294.06 ha; Marine: 1,093,750.99 ha)\\n       </li>\\n      </ul>\\n      <p>\\n       <strong>\\n        Location:\\n       </strong>\\n       33°43’25.64 S;79°45’46.26 W\\n      </p>\\n      <h3>\\n       Administrative Authorities\\n      </h3>\\n      <p>\\n       <strong>\\n        Javiera Meza\\n       </strong>\\n       CONAF\\n                                    Chile\\n      </p>\\n      <p>\\n       <strong>\\n        Tel.:\\n       </strong>\\n       +56 32 2320261\\n       <strong>\\n        Email:\\n       </strong>\\n       <a href=\"mailto:javiera.meza@conaf.cl\">\\n        javiera.meza@conaf.cl\\n       </a>\\n      </p>\\n      <p>\\n       <strong>\\n        Websiteǀ Facebook ǀ Twitter\\n       </strong>\\n      </p>\\n      <h2>\\n       Ecological Characteristics\\n      </h2>\\n      <p>\\n       <img alt=\"\" src=\"http://res.cloudinary.com/e-nable-org/image/upload/v1688415551/img_juanfernandez_biosphere_reserve_unesco_chile_ecologia.jpg\" width=\"100%\"/>\\n      </p>\\n      <p>\\n       This Reserve corresponds to an insular ecosystem, characterized by the presence of 131 endemic plant species (62% of the native vascular flora). Remnants of the past are worth mentioning, such as\\n       <em>\\n        Lactoris fernandeziana\\n       </em>\\n       and\\n       <em>\\n        Thursopteris elegans\\n       </em>\\n       ; and ten endemic species:Cuminia, Dendroseris, Juania, Lactoris, Megalachne, Podophorus, Robinsonia, Selkirkia, Thyrsopterisand Yunquea.\\n      </p>\\n      <p>\\n       An outstanding characteristic of the Juan Fernández forests is the fact that 100% of its tree species only exist in the Archipelago, which means they are 100% endemic. Fauna includes the Juan Fernandez Firecrown (\\n       <em>\\n        Sephanoides fernandensis\\n       </em>\\n       ), the Juan Fernandez Tit-Tyrant (\\n       <em>\\n        Anairetes fernandezianus\\n       </em>\\n       ) and the Juan Fernandez Fur Seal (Arctocephalusphilippi).\\n      </p>\\n      <h2>\\n       Socio-Economic Characteristics\\n      </h2>\\n      <p>\\n       <img alt=\"\" src=\"http://res.cloudinary.com/e-nable-org/image/upload/v1688415552/img_juanfernandez_biosphere_reserve_unesco_chile_miguelclusenergodt.jpg\" width=\"100%\"/>\\n       Socio-economic activities are carried out outside the Reserve but very close to it. They mainly consist of ecotourism over land and sea, heritage tourism and hotel services, artisanal fishing, trade and municipal public services.\\n      </p>\\n      <p>\\n      </p>\\n      <p>\\n      </p>\\n      <p>\\n       <em>\\n        Last updated: February 2020\\n       </em>\\n      </p>\\n      <span st_title=\"Juan%20Fernandez%20Archipelago%20Biosphere%20Reserve%2C%20Chile\" st_url=\"https://en.unesco.org/biosphere/lac/juan-fernandez\">\\n      </span>\\n      <span st_title=\"Juan%20Fernandez%20Archipelago%20Biosphere%20Reserve%2C%20Chile\" st_url=\"https://en.unesco.org/biosphere/lac/juan-fernandez\">\\n      </span>\\n      <span st_title=\"Juan%20Fernandez%20Archipelago%20Biosphere%20Reserve%2C%20Chile\" st_url=\"https://en.unesco.org/biosphere/lac/juan-fernandez\">\\n      </span>\\n      )\\n     </div>\\n    </article>\\n   </section>\\n  </div>\\n </body>\\n</html>\\n\\n~~~ #UnescoBiosphereReserve', 'owner': Text(value='<html>\\n <body>\\n  <h1 id=\"page-title\">\\n   Juan Fernandez Archipelago Biosphere Reserve, Chile\\n  </h1>\\n  <div id=\"page-content\">\\n   <section id=\"block-system-main\">\\n    <article id=\"node-319167\">\\n     <div id=\"content--31795\">\\n      <h3>\\n      </h3>\\n      <p>\\n       <img alt=\"\" src=\"http://res.cloudinary.com/e-nable-org/image/upload/v1688407045/cover_juanfernandez_biosphere_reserve_unesco_chile.jpg\" width=\"100%\"/>\\n      </p>\\n      <p>\\n       The Juan Fernandez Biosphere Reserve is situated 650 km from the Chilean coast in the Pacific Ocean. It includes the whole Archipelago with the islands of Robinson Crusoe, Alexander Selkirk and Santa Clara and all the islets in the area. The Juan Fernandez Archipelago is volcanic in origin, with steep, rugged mountain ranges with deep ravines.\\n      </p>\\n      <h3>\\n       Designation date:1977\\n      </h3>\\n      <h3>\\n       Networks\\n      </h3>\\n      <p>\\n       <strong>\\n        Regional network:\\n       </strong>\\n       <a href=\"http://www.unesco.org/new/es/natural-sciences/environment/ecological-sciences/man-and-biosphere-programme/networks/iberomab/\">\\n        Red de Comités y Reservas de Biosfera de Iberoamérica y el Caribe (IberoMAB)\\n       </a>\\n      </p>\\n      <p>\\n       <strong>\\n        Ecosystem-based network:\\n       </strong>\\n      </p>\\n      <ul>\\n      </ul>\\n      <h3>\\n       Description\\n      </h3>\\n      <p>\\n       <strong>\\n        Map\\n       </strong>\\n      </p>\\n      <p>\\n       <strong>\\n        Surface :\\n       </strong>\\n       1,216,483.43 ha (Terrestrial: 9,967.15 ha; Marine: 1,206,516 ha)\\n      </p>\\n      <ul>\\n       <li>\\n        Core area(s): 117,613.01 ha (Terrestrial: 9.560.20 ha; Marine: 108,145 ha)\\n       </li>\\n       <li>\\n        Buffer zone(s): 4,722.85 ha (Terrestrial: 112.89 ha; Marine: 4,620.31 ha)\\n       </li>\\n       <li>\\n        Transition zone(s): 1,094,147.59 ha (Terrestrial: 294.06 ha; Marine: 1,093,750.99 ha)\\n       </li>\\n      </ul>\\n      <p>\\n       <strong>\\n        Location:\\n       </strong>\\n       33°43’25.64 S;79°45’46.26 W\\n      </p>\\n      <h3>\\n       Administrative Authorities\\n      </h3>\\n      <p>\\n       <strong>\\n        Javiera Meza\\n       </strong>\\n       CONAF\\n                                    Chile\\n      </p>\\n      <p>\\n       <strong>\\n        Tel.:\\n       </strong>\\n       +56 32 2320261\\n       <strong>\\n        Email:\\n       </strong>\\n       <a href=\"mailto:javiera.meza@conaf.cl\">\\n        javiera.meza@conaf.cl\\n       </a>\\n      </p>\\n      <p>\\n       <strong>\\n        Websiteǀ Facebook ǀ Twitter\\n       </strong>\\n      </p>\\n      <h2>\\n       Ecological Characteristics\\n      </h2>\\n      <p>\\n       <img alt=\"\" src=\"http://res.cloudinary.com/e-nable-org/image/upload/v1688415551/img_juanfernandez_biosphere_reserve_unesco_chile_ecologia.jpg\" width=\"100%\"/>\\n      </p>\\n      <p>\\n       This Reserve corresponds to an insular ecosystem, characterized by the presence of 131 endemic plant species (62% of the native vascular flora). Remnants of the past are worth mentioning, such as\\n       <em>\\n        Lactoris fernandeziana\\n       </em>\\n       and\\n       <em>\\n        Thursopteris elegans\\n       </em>\\n       ; and ten endemic species:Cuminia, Dendroseris, Juania, Lactoris, Megalachne, Podophorus, Robinsonia, Selkirkia, Thyrsopterisand Yunquea.\\n      </p>\\n      <p>\\n       An outstanding characteristic of the Juan Fernández forests is the fact that 100% of its tree species only exist in the Archipelago, which means they are 100% endemic. Fauna includes the Juan Fernandez Firecrown (\\n       <em>\\n        Sephanoides fernandensis\\n       </em>\\n       ), the Juan Fernandez Tit-Tyrant (\\n       <em>\\n        Anairetes fernandezianus\\n       </em>\\n       ) and the Juan Fernandez Fur Seal (Arctocephalusphilippi).\\n      </p>\\n      <h2>\\n       Socio-Economic Characteristics\\n      </h2>\\n      <p>\\n       <img alt=\"\" src=\"http://res.cloudinary.com/e-nable-org/image/upload/v1688415552/img_juanfernandez_biosphere_reserve_unesco_chile_miguelclusenergodt.jpg\" width=\"100%\"/>\\n       Socio-economic activities are carried out outside the Reserve but very close to it. They mainly consist of ecotourism over land and sea, heritage tourism and hotel services, artisanal fishing, trade and municipal public services.\\n      </p>\\n      <p>\\n      </p>\\n      <p>\\n      </p>\\n      <p>\\n       <em>\\n        Last updated: February 2020\\n       </em>\\n      </p>\\n      <span st_title=\"Juan%20Fernandez%20Archipelago%20Biosphere%20Reserve%2C%20Chile\" st_url=\"https://en.unesco.org/biosphere/lac/juan-fernandez\">\\n      </span>\\n      <span st_title=\"Juan%20Fernandez%20Archipelago%20Biosphere%20Reserve%2C%20Chile\" st_url=\"https://en.unesco.org/biosphere/lac/juan-fernandez\">\\n      </span>\\n      <span st_title=\"Juan%20Fernandez%20Archipelago%20Biosphere%20Reserve%2C%20Chile\" st_url=\"https://en.unesco.org/biosphere/lac/juan-fernandez\">\\n      </span>\\n      )\\n     </div>\\n    </article>\\n   </section>\\n  </div>\\n </body>\\n</html>\\n\\n~~~ #UnescoBiosphereReserve', description='Description', disabled=True, style=TextStyle(background='yellow')), 'type': 'change'}\nupdateHTML {'name': 'value', 'old': 'Scientific Reseach, Ecorestoration other than Agriculture', 'new': '', 'owner': Text(value='', description='Secondary Type', style=TextStyle(background='yellow')), 'type': 'change'}\nNEW on Twitch\ntwitch {'name': 'value', 'old': 'Scientific Reseach, Ecorestoration other than Agriculture', 'new': '', 'owner': Text(value='', description='Secondary Type', style=TextStyle(background='yellow')), 'type': 'change'}\nupdateHTML {'name': 'value', 'old': 'Agroecology', 'new': '', 'owner': Text(value='', description='Dominant Type', style=TextStyle(background='yellow')), 'type': 'change'}\nNEW on Twitch\ntwitch {'name': 'value', 'old': 'Agroecology', 'new': '', 'owner': Text(value='', description='Dominant Type', style=TextStyle(background='yellow')), 'type': 'change'}\nupdateHTML {'name': 'value', 'old': 'http://res.cloudinary.com/e-nable-org/image/upload/v1672169763/ykpj1sugvcrlabviwr1p.jpg', 'new': '', 'owner': Text(value='', description='Thumbnails', style=TextStyle(background='yellow')), 'type': 'change'}\nNEW on Twitch\ntwitch {'name': 'value', 'old': 'http://res.cloudinary.com/e-nable-org/image/upload/v1672169763/ykpj1sugvcrlabviwr1p.jpg', 'new': '', 'owner': Text(value='', description='Thumbnails', style=TextStyle(background='yellow')), 'type': 'change'}\nupdateHTML {'name': 'value', 'old': 'http://res.cloudinary.com/e-nable-org/image/upload/v1672169763/ykpj1sugvcrlabviwr1p.jpg', 'new': '', 'owner': Text(value='', description='Picture', style=TextStyle(background='yellow')), 'type': 'change'}\nNEW on Twitch\ntwitch {'name': 'value', 'old': 'http://res.cloudinary.com/e-nable-org/image/upload/v1672169763/ykpj1sugvcrlabviwr1p.jpg', 'new': '', 'owner': Text(value='', description='Picture', style=TextStyle(background='yellow')), 'type': 'change'}\nupdateHTML {'name': 'value', 'old': 'Batehaven, New South Wales, Australia', 'new': 'Chile: Juan Fernandez Archipelago Biosphere Reserve', 'owner': Text(value='Chile: Juan Fernandez Archipelago Biosphere Reserve', description='Location', style=TextStyle(background='yellow')), 'type': 'change'}\nNEW on Twitch\ntwitch {'name': 'value', 'old': 'Batehaven, New South Wales, Australia', 'new': 'Chile: Juan Fernandez Archipelago Biosphere Reserve', 'owner': Text(value='Chile: Juan Fernandez Archipelago Biosphere Reserve', description='Location', style=TextStyle(background='yellow')), 'type': 'change'}\nupdateHTML {'name': 'value', 'old': '-35.7369', 'new': '-33.6614', 'owner': Text(value='-33.6614', description='Latitude', style=TextStyle(background='yellow')), 'type': 'change'}\nNEW on Twitch\ntwitch {'name': 'value', 'old': '-35.7369', 'new': '-33.6614', 'owner': Text(value='-33.6614', description='Latitude', style=TextStyle(background='yellow')), 'type': 'change'}\nupdateHTML {'name': 'value', 'old': '150.2027', 'new': '-78.9278', 'owner': Text(value='-78.9278', description='Longitude', style=TextStyle(background='yellow')), 'type': 'change'}\nNEW on Twitch\ntwitch {'name': 'value', 'old': '150.2027', 'new': '-78.9278', 'owner': Text(value='-78.9278', description='Longitude', style=TextStyle(background='yellow')), 'type': 'change'}\nupdateHTML {'name': 'value', 'old': '1', 'new': '', 'owner': Text(value='', description='Social/Web', style=TextStyle(background='yellow')), 'type': 'change'}\nNEW on Twitch\ntwitch {'name': 'value', 'old': '1', 'new': '', 'owner': Text(value='', description='Social/Web', style=TextStyle(background='yellow')), 'type': 'change'}\nupdateHTML {'name': 'value', 'old': '🌈Australia:Natural Sequence Farming!', 'new': '', 'owner': Text(value='', description='PNamePlus', style=TextStyle(background='yellow')), 'type': 'change'}\nNEW on Twitch\ntwitch {'name': 'value', 'old': '🌈Australia:Natural Sequence Farming!', 'new': '', 'owner': Text(value='', description='PNamePlus', style=TextStyle(background='yellow')), 'type': 'change'}\nupdateHTML {'name': 'value', 'old': '2', 'new': '', 'owner': Text(value='', description='Freshness', style=TextStyle(background='yellow')), 'type': 'change'}\nNEW on Twitch\ntwitch {'name': 'value', 'old': '2', 'new': '', 'owner': Text(value='', description='Freshness', style=TextStyle(background='yellow')), 'type': 'change'}\nupdateHTML {'name': 'value', 'old': 'Batehaven, New South Wales, Australia', 'new': '', 'owner': Text(value='', description='Updated Location', style=TextStyle(background='yellow')), 'type': 'change'}\nNEW on Twitch\ntwitch {'name': 'value', 'old': 'Batehaven, New South Wales, Australia', 'new': '', 'owner': Text(value='', description='Updated Location', style=TextStyle(background='yellow')), 'type': 'change'}\nupdateHTML {'name': 'value', 'old': '1', 'new': '', 'owner': Text(value='', description='ObjectId2', style=TextStyle(background='yellow')), 'type': 'change'}\nNEW on Twitch\ntwitch {'name': 'value', 'old': '1', 'new': '', 'owner': Text(value='', description='ObjectId2', style=TextStyle(background='yellow')), 'type': 'change'}\nupdateHTML {'name': 'value', 'old': 'TRUE', 'new': '', 'owner': Text(value='', description='Translated?', style=TextStyle(background='yellow')), 'type': 'change'}\nNEW on Twitch\ntwitch {'name': 'value', 'old': 'TRUE', 'new': '', 'owner': Text(value='', description='Translated?', style=TextStyle(background='yellow')), 'type': 'change'}\nupdateHTML {'name': 'value', 'old': 'FALSE', 'new': '', 'owner': Text(value='', description='Polygon?', style=TextStyle(background='yellow')), 'type': 'change'}\nNEW on Twitch\ntwitch {'name': 'value', 'old': 'FALSE', 'new': '', 'owner': Text(value='', description='Polygon?', style=TextStyle(background='yellow')), 'type': 'change'}\nupdateHTML {'name': 'value', 'old': 'FALSE', 'new': '', 'owner': Text(value='', description='PIP?', style=TextStyle(background='yellow')), 'type': 'change'}\nNEW on Twitch\ntwitch {'name': 'value', 'old': 'FALSE', 'new': '', 'owner': Text(value='', description='PIP?', style=TextStyle(background='yellow')), 'type': 'change'}\nupdateHTML {'name': 'value', 'old': 'TRUE', 'new': '', 'owner': Text(value='', description='Coords. checked?', style=TextStyle(background='yellow')), 'type': 'change'}\nNEW on Twitch\ntwitch {'name': 'value', 'old': 'TRUE', 'new': '', 'owner': Text(value='', description='Coords. checked?', style=TextStyle(background='yellow')), 'type': 'change'}\nupdateHTML {'name': 'value', 'old': '150.2027207', 'new': '', 'owner': Text(value='', description='x2', style=TextStyle(background='yellow')), 'type': 'change'}\nNEW on Twitch\ntwitch {'name': 'value', 'old': '150.2027207', 'new': '', 'owner': Text(value='', description='x2', style=TextStyle(background='yellow')), 'type': 'change'}\nupdateHTML {'name': 'value', 'old': '-35.7368662', 'new': '', 'owner': Text(value='', description='y2', style=TextStyle(background='yellow')), 'type': 'change'}\nNEW on Twitch\ntwitch {'name': 'value', 'old': '-35.7368662', 'new': '', 'owner': Text(value='', description='y2', style=TextStyle(background='yellow')), 'type': 'change'}\nupdateHTML {'name': 'value', 'old': 'info@nsfarming.com', 'new': '', 'owner': Text(value='', description='eMail', style=TextStyle(background='yellow')), 'type': 'change'}\nNEW on Twitch\ntwitch {'name': 'value', 'old': 'info@nsfarming.com', 'new': '', 'owner': Text(value='', description='eMail', style=TextStyle(background='yellow')), 'type': 'change'}\nupdateHTML {'name': 'value', 'old': 'Peter Andrews', 'new': '', 'owner': Text(value='', description='emal Contact', style=TextStyle(background='yellow')), 'type': 'change'}\nNEW on Twitch\ntwitch {'name': 'value', 'old': 'Peter Andrews', 'new': '', 'owner': Text(value='', description='emal Contact', style=TextStyle(background='yellow')), 'type': 'change'}\nupdateHTML {'name': 'value', 'old': '', 'new': 'Chile: Juan Fernandez Archipelago Biosphere Reserve', 'owner': Text(value='Chile: Juan Fernandez Archipelago Biosphere Reserve', description='PNamePlus', style=TextStyle(background='yellow')), 'type': 'change'}\nNEW on Twitch\ntwitch {'name': 'value', 'old': '', 'new': 'Chile: Juan Fernandez Archipelago Biosphere Reserve', 'owner': Text(value='Chile: Juan Fernandez Archipelago Biosphere Reserve', description='PNamePlus', style=TextStyle(background='yellow')), 'type': 'change'}\nupdateHTML {'name': 'value', 'old': 'Natural sequences that can be harnessed by informed management include the movement of grazing animals, birds and insects from valley floors by day to higher levels on the valley sides at night and the transfer of fertility with them. There is a gradual movement of nutrients and seeds back down the valley sides via the water cycle, vegetation and soil processes, constantly refurbishing the fertility of the landscape.\\n\\nIn the process, various plants collect specific substances and the plant communities change in predictable sequences. As part of the biodiversity of a property and catchment, these plants are also a part of multiple food chains and a key to enhancing fertility.\\n\\nNutrients contained in soil or water are mobile and can be quickly lost off-site. Nutrients contained in biodiverse living bodies are stable. NSF management keeps natural functions connected which allows for quick exchange and conversion of nutrients within ecosystems on properties.\\n\\nPeter Andrews has found that even plants labeled as weeds can serve as pioneering species in inhibiting nutrient and soil erosion. They collect and supply essential substances for environmental health. Once slashed, fertility is built up and the weeds are replaced naturally by palatable grasses. To maximize production and conservation results requires a good understanding of interaction of the roles of clays and sands in the process.\\n\\nThis process is complemented by NSF property management when the initial erosion and fertility stabilising need has been met. The once degraded soils are then able to contribute to increased water use efficiency and optimal production levels through their increased organic content.\\n\\nAreas such as floodplains, that collect large amounts of nutrients, can be harvested to redistribute some of the fertility. Like the daily migration of birds and animals, downpours flushing streams to a floodplain are a sequence in the periodic fertilisation and harvest cycle.\\n\\nIn this process, surface running water dissolves natural substances and collects sediments, algae, microbes and plant residues from all parts of the catchment. Re-connecting running water to the stepped land formation of the chain of ponds that used to dominate traditional Australian landscapes, slows water flow. This enhances the ability of growing plants, coupled with decreasing inclines, soils and sands, to filter the water feeding into streams running along the valley floor. This process, in turn, feeds plant roots from the sub-surface and caps saline groundwater from surrounding slopes by perching a freshwater lens above saline layers.\\n\\nAll substances are functional in this naturally managed environment. Salts managed as saline groundwater, where evaporation is excluded from concentrating and crystallizing the substances, allow plant, animal and water ecosystems to balance salinity in the landscape as a natural function. In this way a hillslope pasture or floodplain water meadow is re-created.\\n\\nOn the floodplain, hydrostatic pressure is maintained on the heavier lower saline layers though maintaining high freshwater tables in the perched chain of ponds. At the same time, the stream replenishes the floodplain and its meadows, through lateral transfer to the freshwater table just below the surface.\\n\\nThe floodplain is convex. The perched stream runs along the higher elevation or apex and the billabongs and backswamps are at the lower positions on the perimeter of the floodplain where it meets the valley sides. This shape is created by the natural flow of the stream and reinforced by heavier sediment being deposited on and near the stream-bed in flood.\\n\\n\\nA farming system founded on working with nature\\n\\nIn many regions of Australia, floodplains are disconnected from creeks and rivers and natural flow regimes. This leaves them unable to store water to support productive farming and the growth of riparian vegetation.\\n\\nMany of today’s floodplains are incised with deeply scoured gullies and gorges. These are channels that expedite the swift flowing removal of much of the land’s fertility and the carriage of increasing amounts of salt. The soil and its nutrients are highly susceptible to leaching and erosion owing to the application of inappropriate agricultural and pastoral practices creating depleted soils and vegetation cover.\\n\\nNSF takes a holistic approach to natural resource management by re-establishing the stream’s connection to the surrounding landscape and restoring floodplains as ‘sponges’. Although most landscapes have unique qualities, the principles of landform and management are the same. The physics remains constant.\\n\\nPeter Andrews’ interpretation of the landscape accepts that, pre-European settlement, the soil’s natural salt content was kept in check by slow sub-soil movements of fresh water.\\n\\nUnder natural systems that are replicated by NSF, movement of fresh water is by surface and sub-surface flows. The surface flow is by the stream which is perched at the highest level of the floodplain on an accumulation of sediment. Surface water is buffered at each narrowed step position in the chain of ponds. Under NSF, this is achieved by a naturalised ‘leaky weir’ of rocks, sediment, trees, branches, reeds and grass roots mimicking the original natural slowing impediments to flows.\\n\\nIn floodplains in their pristine form, water is stepped slowly down the stream valley floor from one end of a catchment to the other. The stream valley floor is segmented with steps. These steps are where a new floodplain starts and the up-stream one finishes, and below which, large reed beds form on recharge areas.\\n\\nThe floodplains are soil, vegetation and water-filled ponds, forming links in a chain as they progress through each step down the valley. They are joined at each step where the valley sides narrow. Stream water travels through each linked floodplain as a sequence in the stream valley. The stream meanders over each sequence. It covers the floodplain with sediments as it steadily descends the valley. Each floodplain has stream meanders, pools and riffles as well as wetland and water meadow filters.\\n\\nWhere an incised stream bed exists, during low to medium stream flows, the sides of the stream are contained by levee banks built up by flood deposits. The banks are protected from severe erosion by wetland plants such as phragmites, other natural grasses, and streamside trees and shrubs, which have colonised the area.\\n\\nAt the same time, hydrostatic pressure from the perched water table in the stream prevents the lateral intrusion of salinity from the floodplain even in low flow periods.\\n\\nTo recreate the chain of ponds effect, NSF uses small secondary diversion channels to reconnect streams to their floodplains. These channels braid out through the lush meadows to the edges of the floodplain and water then returns to the main stream through surface and sub-surface flows. They pick up peak flows that are diverted by the leaky weirs which maintain normal base flow to downstream properties.\\n\\nDuring high flows, as water spreads across the floodplain in the braided diversion channels, some water is absorbed through sandy intake beds, recharging the groundwater lens above saline layers and just below the plant root systems.\\n\\nAnother portion of the surface water is carried in the channels towards historic floodplain terraces on the edge of the floodplain to refresh hollows and billabongs, facilitating fish passage in the process.\\n\\nDuring flood events, the reed buffers along the stream sides and at the narrow ends, where each pond is joined in the chain, lay down to laminate the ground surface with their protective mat but are ready to grow upright again when the flows have subsided.\\n\\nThe hydrostatic pressure of water in the topped-up meadow and billabong storages on the floodplain prevents the plants on the floodplain from ‘drowning’ in the short interval when the water is at a high level. This process can mitigate the impacts of salt ‘slugs’ that may have been scoured from saline deposits in uplands.\\n\\nThe stream water that is impounded in the recharged groundwater lens within the floodplain soils also provides a buffer against drought. There can be a period of several years of thriving plant growth before the water is fully transpired and the soil, which is heavily shaded by extensive vegetation cover, dries out. In normal years recharge from flooding would arrive earlier to restore the groundwater.\\n\\nAs part of NSF management, the farmer can divert flows between channels to dry out a meadow area for harvest while starting to produce increased growth in a new zone of the floodplain.\\n\\n\\nMaximum natural outcomes with minimum financial and manufactured inputs\\n\\nPeter Andrews’ NSF concepts are being applied at project sites as diverse as those featuring upland fast-flowing water courses, to broadacre cropping areas, dry gullies, and salt encrusted degraded lands as well as broad stream valleys and wetlands. Where human-induced impediments to natural growth and production are gradually replaced by the system built around the natural sequences of plants, animals, water and soils, properties have a solid foundation for increased profitability and long term sustainability. Industry analysts have been particularly attracted by the lush growth produced during drought conditions under Peter Andrews’ system.\\n\\nUnder NSF, natural water flows are reintroduced to alluvial soil plains. In many ways natural alluvial soil floodplains form the whole waterway down the valley whether through surface or sub-surface flow. In contrast, irrigation is the artificial application of water to the land. Invariably, the source of the irrigation water is from artificial storages and highly moderated streams with incised and eroded channels. These have generally been created by past poor environmental practices such as the removal of ground cover.\\n\\nOwing to its base of natural processes, NSF achieves more sustainable outcomes than traditional pipe and pump irrigation systems as it does not incur large financial costs or create long-term environmental degradation, loss of biodiversity and increasing salinity, as often occurs catchments with highly regulated stream regimes. NSF employs few imported or manufactured inputs such as pesticides, herbicides and artificial fertilisers. In terms of financial capital and operating inputs, it is not an expensive system to introduce and it brings Greenhouse gas benefits through increasing carbon levels in the landscape.\\n\\nThe investment required is in training for the landholder to interpret the natural processes of the landscape and time spent by the farmer in ‘reading the country’ and applying the NSF principles to the particular property and landscape features of their region. It is no surprise to find that Peter Andrews grew up on a property near Broken Hill area and spent much time with his stockman father and members of the Aboriginal community learning to read country.\\n\\nIn most cases, Peter Andrews finds that resources available on-site only require intelligent redistribution for natural processes to work in favour of productivity and a reversal of human-induced environmental imbalance and degradation, as most of the naturally developed ‘infrastructure’ is still there.\\n\\nIn working with nature, NSF requires very low maintenance inputs. Where outside inputs are employed on a farm they can be targeted. Small amounts can be applied to specific areas or species where the system is temporarily out of balance owing, in most cases, to factors outside the property boundaries. NSF harmonises modern technology with natural plant progressions to achieve a resilient model of farming.\\n\\nWhere neighbouring landholders in a sub-catchment adopt NSF, even more rapid progress to increased profitability and environmental sustainability can be achieved, as NSF adopts a whole-of-catchment approach to farming.\\n\\n\\nNSF applied to Grazing\\n\\nUnder NSF, many forms of grazing are appropriate if a vigorous perennial plant community can be maintained. If c ell-grazing methods are used, especially across valley segments from ridge to ridge, protection of the riparian zone needs to be considered. Over the medium to long term, weed control, nutrient balances and pest management can be managed by using Natural Sequence Farming methods.\\n\\nThe improved groundcover and reduced cultivation under NSF not only minimises farm costs but also reduces erosion, avoids soil compaction and maintains a soil structure with increased water holding capacity.\\n\\nThe use of water balances within NSF, brings the most increases in productivity and sustainability. Costs are also minimised, as water storage is in the groundwater lens rather than expensive above-ground dams, prone to siltation and with high evaporation rates when the water is needed most. Pasture is fed naturally from the roots rather than requiring extensive capital investments in pumps, pipes, irrigation gantries or feeder networks.\\n\\nTraditional livestock husbandry methods can be complementary to Natural Sequence Farming. Under NSF, livestock are considered as a major tool in land management, including for transferring fertility and controlling weeds. However, feedlot methods of production and other methods of confining herds or flocks need to be well-sited in the catchment to utilise self-removal and self-collection of residues for fertility management.\\n\\nOnce the initial phase of re-establishment to natural sequences is well on the way, which in most cases only takes one or two years with low cost inputs, monitoring and the application of NSF principles in harmony with Nature achieves continuing sustainable production.\\n\\n\\nNSF applied to Agriculture\\n\\nUnder NSF, cropping is best suited to methods complementary to retaining significant areas of season-specific perennial pastures. If needed, cultivation may be confined to soils on valley slopes rather than floodplains but it can be worth exploring direct-drill minimum-till broadcast methods first.\\n\\nHorticulture can be sited off flood plain areas, with careful transfer of valley floor fertility and water within the NSF system.\\n\\nNSF harmonises well with organic approaches to producing premium farm produce for a growing domestic and export market. Increasing numbers of consumers and vendors are demanding products produced with environmentally sustainable systems coupled with farm accreditation and certified produce before acceptance.\\n\\nThe use of outside inputs or recycling farm produce on the property can be part of managed fertility transfer, both on the farm and in the sub-catchment. For instance, hay making of legume-rich pasture can be rotated around various areas of a property to work in with weed reduction needs and fertility management.\\n\\nIrrigation is best-sited on valley floors although most areas managed with NSF require minimum supplementation of water transfers already naturally occurring on and beneath the floodplain.\\n \\n</p></body>\\n\\n~~~ #Social/Web', 'new': '<html>\\n <body>\\n  <h1 id=\"page-title\">\\n   Juan Fernandez Archipelago Biosphere Reserve, Chile\\n  </h1>\\n  <div id=\"page-content\">\\n   <section id=\"block-system-main\">\\n    <article id=\"node-319167\">\\n     <div id=\"content--31795\">\\n      <h3>\\n      </h3>\\n      <p>\\n       <img alt=\"\" src=\"http://res.cloudinary.com/e-nable-org/image/upload/v1688407045/cover_juanfernandez_biosphere_reserve_unesco_chile.jpg\" width=\"100%\"/>\\n      </p>\\n      <p>\\n       The Juan Fernandez Biosphere Reserve is situated 650 km from the Chilean coast in the Pacific Ocean. It includes the whole Archipelago with the islands of Robinson Crusoe, Alexander Selkirk and Santa Clara and all the islets in the area. The Juan Fernandez Archipelago is volcanic in origin, with steep, rugged mountain ranges with deep ravines.\\n      </p>\\n      <h3>\\n       Designation date:1977\\n      </h3>\\n      <h3>\\n       Networks\\n      </h3>\\n      <p>\\n       <strong>\\n        Regional network:\\n       </strong>\\n       <a href=\"http://www.unesco.org/new/es/natural-sciences/environment/ecological-sciences/man-and-biosphere-programme/networks/iberomab/\">\\n        Red de Comités y Reservas de Biosfera de Iberoamérica y el Caribe (IberoMAB)\\n       </a>\\n      </p>\\n      <p>\\n       <strong>\\n        Ecosystem-based network:\\n       </strong>\\n      </p>\\n      <ul>\\n      </ul>\\n      <h3>\\n       Description\\n      </h3>\\n      <p>\\n       <strong>\\n        Map\\n       </strong>\\n      </p>\\n      <p>\\n       <strong>\\n        Surface :\\n       </strong>\\n       1,216,483.43 ha (Terrestrial: 9,967.15 ha; Marine: 1,206,516 ha)\\n      </p>\\n      <ul>\\n       <li>\\n        Core area(s): 117,613.01 ha (Terrestrial: 9.560.20 ha; Marine: 108,145 ha)\\n       </li>\\n       <li>\\n        Buffer zone(s): 4,722.85 ha (Terrestrial: 112.89 ha; Marine: 4,620.31 ha)\\n       </li>\\n       <li>\\n        Transition zone(s): 1,094,147.59 ha (Terrestrial: 294.06 ha; Marine: 1,093,750.99 ha)\\n       </li>\\n      </ul>\\n      <p>\\n       <strong>\\n        Location:\\n       </strong>\\n       33°43’25.64 S;79°45’46.26 W\\n      </p>\\n      <h3>\\n       Administrative Authorities\\n      </h3>\\n      <p>\\n       <strong>\\n        Javiera Meza\\n       </strong>\\n       CONAF\\n                                    Chile\\n      </p>\\n      <p>\\n       <strong>\\n        Tel.:\\n       </strong>\\n       +56 32 2320261\\n       <strong>\\n        Email:\\n       </strong>\\n       <a href=\"mailto:javiera.meza@conaf.cl\">\\n        javiera.meza@conaf.cl\\n       </a>\\n      </p>\\n      <p>\\n       <strong>\\n        Websiteǀ Facebook ǀ Twitter\\n       </strong>\\n      </p>\\n      <h2>\\n       Ecological Characteristics\\n      </h2>\\n      <p>\\n       <img alt=\"\" src=\"http://res.cloudinary.com/e-nable-org/image/upload/v1688415551/img_juanfernandez_biosphere_reserve_unesco_chile_ecologia.jpg\" width=\"100%\"/>\\n      </p>\\n      <p>\\n       This Reserve corresponds to an insular ecosystem, characterized by the presence of 131 endemic plant species (62% of the native vascular flora). Remnants of the past are worth mentioning, such as\\n       <em>\\n        Lactoris fernandeziana\\n       </em>\\n       and\\n       <em>\\n        Thursopteris elegans\\n       </em>\\n       ; and ten endemic species:Cuminia, Dendroseris, Juania, Lactoris, Megalachne, Podophorus, Robinsonia, Selkirkia, Thyrsopterisand Yunquea.\\n      </p>\\n      <p>\\n       An outstanding characteristic of the Juan Fernández forests is the fact that 100% of its tree species only exist in the Archipelago, which means they are 100% endemic. Fauna includes the Juan Fernandez Firecrown (\\n       <em>\\n        Sephanoides fernandensis\\n       </em>\\n       ), the Juan Fernandez Tit-Tyrant (\\n       <em>\\n        Anairetes fernandezianus\\n       </em>\\n       ) and the Juan Fernandez Fur Seal (Arctocephalusphilippi).\\n      </p>\\n      <h2>\\n       Socio-Economic Characteristics\\n      </h2>\\n      <p>\\n       <img alt=\"\" src=\"http://res.cloudinary.com/e-nable-org/image/upload/v1688415552/img_juanfernandez_biosphere_reserve_unesco_chile_miguelclusenergodt.jpg\" width=\"100%\"/>\\n       Socio-economic activities are carried out outside the Reserve but very close to it. They mainly consist of ecotourism over land and sea, heritage tourism and hotel services, artisanal fishing, trade and municipal public services.\\n      </p>\\n      <p>\\n      </p>\\n      <p>\\n      </p>\\n      <p>\\n       <em>\\n        Last updated: February 2020\\n       </em>\\n      </p>\\n      <span st_title=\"Juan%20Fernandez%20Archipelago%20Biosphere%20Reserve%2C%20Chile\" st_url=\"https://en.unesco.org/biosphere/lac/juan-fernandez\">\\n      </span>\\n      <span st_title=\"Juan%20Fernandez%20Archipelago%20Biosphere%20Reserve%2C%20Chile\" st_url=\"https://en.unesco.org/biosphere/lac/juan-fernandez\">\\n      </span>\\n      <span st_title=\"Juan%20Fernandez%20Archipelago%20Biosphere%20Reserve%2C%20Chile\" st_url=\"https://en.unesco.org/biosphere/lac/juan-fernandez\">\\n      </span>\\n      )\\n     </div>\\n    </article>\\n   </section>\\n  </div>\\n </body>\\n</html>\\n\\n~~~ #UnescoBiosphereReserve', 'owner': Textarea(value='<html>\\n <body>\\n  <h1 id=\"page-title\">\\n   Juan Fernandez Archipelago Biosphere Reserve, Chile\\n  </h1>\\n  <div id=\"page-content\">\\n   <section id=\"block-system-main\">\\n    <article id=\"node-319167\">\\n     <div id=\"content--31795\">\\n      <h3>\\n      </h3>\\n      <p>\\n       <img alt=\"\" src=\"http://res.cloudinary.com/e-nable-org/image/upload/v1688407045/cover_juanfernandez_biosphere_reserve_unesco_chile.jpg\" width=\"100%\"/>\\n      </p>\\n      <p>\\n       The Juan Fernandez Biosphere Reserve is situated 650 km from the Chilean coast in the Pacific Ocean. It includes the whole Archipelago with the islands of Robinson Crusoe, Alexander Selkirk and Santa Clara and all the islets in the area. The Juan Fernandez Archipelago is volcanic in origin, with steep, rugged mountain ranges with deep ravines.\\n      </p>\\n      <h3>\\n       Designation date:1977\\n      </h3>\\n      <h3>\\n       Networks\\n      </h3>\\n      <p>\\n       <strong>\\n        Regional network:\\n       </strong>\\n       <a href=\"http://www.unesco.org/new/es/natural-sciences/environment/ecological-sciences/man-and-biosphere-programme/networks/iberomab/\">\\n        Red de Comités y Reservas de Biosfera de Iberoamérica y el Caribe (IberoMAB)\\n       </a>\\n      </p>\\n      <p>\\n       <strong>\\n        Ecosystem-based network:\\n       </strong>\\n      </p>\\n      <ul>\\n      </ul>\\n      <h3>\\n       Description\\n      </h3>\\n      <p>\\n       <strong>\\n        Map\\n       </strong>\\n      </p>\\n      <p>\\n       <strong>\\n        Surface :\\n       </strong>\\n       1,216,483.43 ha (Terrestrial: 9,967.15 ha; Marine: 1,206,516 ha)\\n      </p>\\n      <ul>\\n       <li>\\n        Core area(s): 117,613.01 ha (Terrestrial: 9.560.20 ha; Marine: 108,145 ha)\\n       </li>\\n       <li>\\n        Buffer zone(s): 4,722.85 ha (Terrestrial: 112.89 ha; Marine: 4,620.31 ha)\\n       </li>\\n       <li>\\n        Transition zone(s): 1,094,147.59 ha (Terrestrial: 294.06 ha; Marine: 1,093,750.99 ha)\\n       </li>\\n      </ul>\\n      <p>\\n       <strong>\\n        Location:\\n       </strong>\\n       33°43’25.64 S;79°45’46.26 W\\n      </p>\\n      <h3>\\n       Administrative Authorities\\n      </h3>\\n      <p>\\n       <strong>\\n        Javiera Meza\\n       </strong>\\n       CONAF\\n                                    Chile\\n      </p>\\n      <p>\\n       <strong>\\n        Tel.:\\n       </strong>\\n       +56 32 2320261\\n       <strong>\\n        Email:\\n       </strong>\\n       <a href=\"mailto:javiera.meza@conaf.cl\">\\n        javiera.meza@conaf.cl\\n       </a>\\n      </p>\\n      <p>\\n       <strong>\\n        Websiteǀ Facebook ǀ Twitter\\n       </strong>\\n      </p>\\n      <h2>\\n       Ecological Characteristics\\n      </h2>\\n      <p>\\n       <img alt=\"\" src=\"http://res.cloudinary.com/e-nable-org/image/upload/v1688415551/img_juanfernandez_biosphere_reserve_unesco_chile_ecologia.jpg\" width=\"100%\"/>\\n      </p>\\n      <p>\\n       This Reserve corresponds to an insular ecosystem, characterized by the presence of 131 endemic plant species (62% of the native vascular flora). Remnants of the past are worth mentioning, such as\\n       <em>\\n        Lactoris fernandeziana\\n       </em>\\n       and\\n       <em>\\n        Thursopteris elegans\\n       </em>\\n       ; and ten endemic species:Cuminia, Dendroseris, Juania, Lactoris, Megalachne, Podophorus, Robinsonia, Selkirkia, Thyrsopterisand Yunquea.\\n      </p>\\n      <p>\\n       An outstanding characteristic of the Juan Fernández forests is the fact that 100% of its tree species only exist in the Archipelago, which means they are 100% endemic. Fauna includes the Juan Fernandez Firecrown (\\n       <em>\\n        Sephanoides fernandensis\\n       </em>\\n       ), the Juan Fernandez Tit-Tyrant (\\n       <em>\\n        Anairetes fernandezianus\\n       </em>\\n       ) and the Juan Fernandez Fur Seal (Arctocephalusphilippi).\\n      </p>\\n      <h2>\\n       Socio-Economic Characteristics\\n      </h2>\\n      <p>\\n       <img alt=\"\" src=\"http://res.cloudinary.com/e-nable-org/image/upload/v1688415552/img_juanfernandez_biosphere_reserve_unesco_chile_miguelclusenergodt.jpg\" width=\"100%\"/>\\n       Socio-economic activities are carried out outside the Reserve but very close to it. They mainly consist of ecotourism over land and sea, heritage tourism and hotel services, artisanal fishing, trade and municipal public services.\\n      </p>\\n      <p>\\n      </p>\\n      <p>\\n      </p>\\n      <p>\\n       <em>\\n        Last updated: February 2020\\n       </em>\\n      </p>\\n      <span st_title=\"Juan%20Fernandez%20Archipelago%20Biosphere%20Reserve%2C%20Chile\" st_url=\"https://en.unesco.org/biosphere/lac/juan-fernandez\">\\n      </span>\\n      <span st_title=\"Juan%20Fernandez%20Archipelago%20Biosphere%20Reserve%2C%20Chile\" st_url=\"https://en.unesco.org/biosphere/lac/juan-fernandez\">\\n      </span>\\n      <span st_title=\"Juan%20Fernandez%20Archipelago%20Biosphere%20Reserve%2C%20Chile\" st_url=\"https://en.unesco.org/biosphere/lac/juan-fernandez\">\\n      </span>\\n      )\\n     </div>\\n    </article>\\n   </section>\\n  </div>\\n </body>\\n</html>\\n\\n~~~ #UnescoBiosphereReserve', layout=Layout(height='1000px', width='30%')), 'type': 'change'}\nupdateHTML {'name': 'value', 'old': 2, 'new': 4100, 'owner': BoundedIntText(value=4100, layout=Layout(width='60%'), max=4200, min=1), 'type': 'change'}\nupdateHTML {'name': 'value', 'old': 'Chile: Juan Fernandez Archipelago Biosphere Reserve', 'new': '', 'owner': Text(value='', description='Project Name', style=TextStyle(background='yellow')), 'type': 'change'}\nNEW on Twitch\ntwitch {'name': 'value', 'old': 'Chile: Juan Fernandez Archipelago Biosphere Reserve', 'new': '', 'owner': Text(value='', description='Project Name', style=TextStyle(background='yellow')), 'type': 'change'}\nupdateHTML {'name': 'value', 'old': 'https://en.unesco.org/biosphere/lac/juan-fernandez', 'new': '', 'owner': Text(value='', description='Source', style=TextStyle(background='yellow')), 'type': 'change'}\nNEW on Twitch\ntwitch {'name': 'value', 'old': 'https://en.unesco.org/biosphere/lac/juan-fernandez', 'new': '', 'owner': Text(value='', description='Source', style=TextStyle(background='yellow')), 'type': 'change'}\nupdateHTML {'name': 'value', 'old': '<html>\\n <body>\\n  <h1 id=\"page-title\">\\n   Juan Fernandez Archipelago Biosphere Reserve, Chile\\n  </h1>\\n  <div id=\"page-content\">\\n   <section id=\"block-system-main\">\\n    <article id=\"node-319167\">\\n     <div id=\"content--31795\">\\n      <h3>\\n      </h3>\\n      <p>\\n       <img alt=\"\" src=\"http://res.cloudinary.com/e-nable-org/image/upload/v1688407045/cover_juanfernandez_biosphere_reserve_unesco_chile.jpg\" width=\"100%\"/>\\n      </p>\\n      <p>\\n       The Juan Fernandez Biosphere Reserve is situated 650 km from the Chilean coast in the Pacific Ocean. It includes the whole Archipelago with the islands of Robinson Crusoe, Alexander Selkirk and Santa Clara and all the islets in the area. The Juan Fernandez Archipelago is volcanic in origin, with steep, rugged mountain ranges with deep ravines.\\n      </p>\\n      <h3>\\n       Designation date:1977\\n      </h3>\\n      <h3>\\n       Networks\\n      </h3>\\n      <p>\\n       <strong>\\n        Regional network:\\n       </strong>\\n       <a href=\"http://www.unesco.org/new/es/natural-sciences/environment/ecological-sciences/man-and-biosphere-programme/networks/iberomab/\">\\n        Red de Comités y Reservas de Biosfera de Iberoamérica y el Caribe (IberoMAB)\\n       </a>\\n      </p>\\n      <p>\\n       <strong>\\n        Ecosystem-based network:\\n       </strong>\\n      </p>\\n      <ul>\\n      </ul>\\n      <h3>\\n       Description\\n      </h3>\\n      <p>\\n       <strong>\\n        Map\\n       </strong>\\n      </p>\\n      <p>\\n       <strong>\\n        Surface :\\n       </strong>\\n       1,216,483.43 ha (Terrestrial: 9,967.15 ha; Marine: 1,206,516 ha)\\n      </p>\\n      <ul>\\n       <li>\\n        Core area(s): 117,613.01 ha (Terrestrial: 9.560.20 ha; Marine: 108,145 ha)\\n       </li>\\n       <li>\\n        Buffer zone(s): 4,722.85 ha (Terrestrial: 112.89 ha; Marine: 4,620.31 ha)\\n       </li>\\n       <li>\\n        Transition zone(s): 1,094,147.59 ha (Terrestrial: 294.06 ha; Marine: 1,093,750.99 ha)\\n       </li>\\n      </ul>\\n      <p>\\n       <strong>\\n        Location:\\n       </strong>\\n       33°43’25.64 S;79°45’46.26 W\\n      </p>\\n      <h3>\\n       Administrative Authorities\\n      </h3>\\n      <p>\\n       <strong>\\n        Javiera Meza\\n       </strong>\\n       CONAF\\n                                    Chile\\n      </p>\\n      <p>\\n       <strong>\\n        Tel.:\\n       </strong>\\n       +56 32 2320261\\n       <strong>\\n        Email:\\n       </strong>\\n       <a href=\"mailto:javiera.meza@conaf.cl\">\\n        javiera.meza@conaf.cl\\n       </a>\\n      </p>\\n      <p>\\n       <strong>\\n        Websiteǀ Facebook ǀ Twitter\\n       </strong>\\n      </p>\\n      <h2>\\n       Ecological Characteristics\\n      </h2>\\n      <p>\\n       <img alt=\"\" src=\"http://res.cloudinary.com/e-nable-org/image/upload/v1688415551/img_juanfernandez_biosphere_reserve_unesco_chile_ecologia.jpg\" width=\"100%\"/>\\n      </p>\\n      <p>\\n       This Reserve corresponds to an insular ecosystem, characterized by the presence of 131 endemic plant species (62% of the native vascular flora). Remnants of the past are worth mentioning, such as\\n       <em>\\n        Lactoris fernandeziana\\n       </em>\\n       and\\n       <em>\\n        Thursopteris elegans\\n       </em>\\n       ; and ten endemic species:Cuminia, Dendroseris, Juania, Lactoris, Megalachne, Podophorus, Robinsonia, Selkirkia, Thyrsopterisand Yunquea.\\n      </p>\\n      <p>\\n       An outstanding characteristic of the Juan Fernández forests is the fact that 100% of its tree species only exist in the Archipelago, which means they are 100% endemic. Fauna includes the Juan Fernandez Firecrown (\\n       <em>\\n        Sephanoides fernandensis\\n       </em>\\n       ), the Juan Fernandez Tit-Tyrant (\\n       <em>\\n        Anairetes fernandezianus\\n       </em>\\n       ) and the Juan Fernandez Fur Seal (Arctocephalusphilippi).\\n      </p>\\n      <h2>\\n       Socio-Economic Characteristics\\n      </h2>\\n      <p>\\n       <img alt=\"\" src=\"http://res.cloudinary.com/e-nable-org/image/upload/v1688415552/img_juanfernandez_biosphere_reserve_unesco_chile_miguelclusenergodt.jpg\" width=\"100%\"/>\\n       Socio-economic activities are carried out outside the Reserve but very close to it. They mainly consist of ecotourism over land and sea, heritage tourism and hotel services, artisanal fishing, trade and municipal public services.\\n      </p>\\n      <p>\\n      </p>\\n      <p>\\n      </p>\\n      <p>\\n       <em>\\n        Last updated: February 2020\\n       </em>\\n      </p>\\n      <span st_title=\"Juan%20Fernandez%20Archipelago%20Biosphere%20Reserve%2C%20Chile\" st_url=\"https://en.unesco.org/biosphere/lac/juan-fernandez\">\\n      </span>\\n      <span st_title=\"Juan%20Fernandez%20Archipelago%20Biosphere%20Reserve%2C%20Chile\" st_url=\"https://en.unesco.org/biosphere/lac/juan-fernandez\">\\n      </span>\\n      <span st_title=\"Juan%20Fernandez%20Archipelago%20Biosphere%20Reserve%2C%20Chile\" st_url=\"https://en.unesco.org/biosphere/lac/juan-fernandez\">\\n      </span>\\n      )\\n     </div>\\n    </article>\\n   </section>\\n  </div>\\n </body>\\n</html>\\n\\n~~~ #UnescoBiosphereReserve', 'new': '', 'owner': Text(value='', description='Description', disabled=True, style=TextStyle(background='yellow')), 'type': 'change'}\nNEW on Twitch\ntwitch {'name': 'value', 'old': '<html>\\n <body>\\n  <h1 id=\"page-title\">\\n   Juan Fernandez Archipelago Biosphere Reserve, Chile\\n  </h1>\\n  <div id=\"page-content\">\\n   <section id=\"block-system-main\">\\n    <article id=\"node-319167\">\\n     <div id=\"content--31795\">\\n      <h3>\\n      </h3>\\n      <p>\\n       <img alt=\"\" src=\"http://res.cloudinary.com/e-nable-org/image/upload/v1688407045/cover_juanfernandez_biosphere_reserve_unesco_chile.jpg\" width=\"100%\"/>\\n      </p>\\n      <p>\\n       The Juan Fernandez Biosphere Reserve is situated 650 km from the Chilean coast in the Pacific Ocean. It includes the whole Archipelago with the islands of Robinson Crusoe, Alexander Selkirk and Santa Clara and all the islets in the area. The Juan Fernandez Archipelago is volcanic in origin, with steep, rugged mountain ranges with deep ravines.\\n      </p>\\n      <h3>\\n       Designation date:1977\\n      </h3>\\n      <h3>\\n       Networks\\n      </h3>\\n      <p>\\n       <strong>\\n        Regional network:\\n       </strong>\\n       <a href=\"http://www.unesco.org/new/es/natural-sciences/environment/ecological-sciences/man-and-biosphere-programme/networks/iberomab/\">\\n        Red de Comités y Reservas de Biosfera de Iberoamérica y el Caribe (IberoMAB)\\n       </a>\\n      </p>\\n      <p>\\n       <strong>\\n        Ecosystem-based network:\\n       </strong>\\n      </p>\\n      <ul>\\n      </ul>\\n      <h3>\\n       Description\\n      </h3>\\n      <p>\\n       <strong>\\n        Map\\n       </strong>\\n      </p>\\n      <p>\\n       <strong>\\n        Surface :\\n       </strong>\\n       1,216,483.43 ha (Terrestrial: 9,967.15 ha; Marine: 1,206,516 ha)\\n      </p>\\n      <ul>\\n       <li>\\n        Core area(s): 117,613.01 ha (Terrestrial: 9.560.20 ha; Marine: 108,145 ha)\\n       </li>\\n       <li>\\n        Buffer zone(s): 4,722.85 ha (Terrestrial: 112.89 ha; Marine: 4,620.31 ha)\\n       </li>\\n       <li>\\n        Transition zone(s): 1,094,147.59 ha (Terrestrial: 294.06 ha; Marine: 1,093,750.99 ha)\\n       </li>\\n      </ul>\\n      <p>\\n       <strong>\\n        Location:\\n       </strong>\\n       33°43’25.64 S;79°45’46.26 W\\n      </p>\\n      <h3>\\n       Administrative Authorities\\n      </h3>\\n      <p>\\n       <strong>\\n        Javiera Meza\\n       </strong>\\n       CONAF\\n                                    Chile\\n      </p>\\n      <p>\\n       <strong>\\n        Tel.:\\n       </strong>\\n       +56 32 2320261\\n       <strong>\\n        Email:\\n       </strong>\\n       <a href=\"mailto:javiera.meza@conaf.cl\">\\n        javiera.meza@conaf.cl\\n       </a>\\n      </p>\\n      <p>\\n       <strong>\\n        Websiteǀ Facebook ǀ Twitter\\n       </strong>\\n      </p>\\n      <h2>\\n       Ecological Characteristics\\n      </h2>\\n      <p>\\n       <img alt=\"\" src=\"http://res.cloudinary.com/e-nable-org/image/upload/v1688415551/img_juanfernandez_biosphere_reserve_unesco_chile_ecologia.jpg\" width=\"100%\"/>\\n      </p>\\n      <p>\\n       This Reserve corresponds to an insular ecosystem, characterized by the presence of 131 endemic plant species (62% of the native vascular flora). Remnants of the past are worth mentioning, such as\\n       <em>\\n        Lactoris fernandeziana\\n       </em>\\n       and\\n       <em>\\n        Thursopteris elegans\\n       </em>\\n       ; and ten endemic species:Cuminia, Dendroseris, Juania, Lactoris, Megalachne, Podophorus, Robinsonia, Selkirkia, Thyrsopterisand Yunquea.\\n      </p>\\n      <p>\\n       An outstanding characteristic of the Juan Fernández forests is the fact that 100% of its tree species only exist in the Archipelago, which means they are 100% endemic. Fauna includes the Juan Fernandez Firecrown (\\n       <em>\\n        Sephanoides fernandensis\\n       </em>\\n       ), the Juan Fernandez Tit-Tyrant (\\n       <em>\\n        Anairetes fernandezianus\\n       </em>\\n       ) and the Juan Fernandez Fur Seal (Arctocephalusphilippi).\\n      </p>\\n      <h2>\\n       Socio-Economic Characteristics\\n      </h2>\\n      <p>\\n       <img alt=\"\" src=\"http://res.cloudinary.com/e-nable-org/image/upload/v1688415552/img_juanfernandez_biosphere_reserve_unesco_chile_miguelclusenergodt.jpg\" width=\"100%\"/>\\n       Socio-economic activities are carried out outside the Reserve but very close to it. They mainly consist of ecotourism over land and sea, heritage tourism and hotel services, artisanal fishing, trade and municipal public services.\\n      </p>\\n      <p>\\n      </p>\\n      <p>\\n      </p>\\n      <p>\\n       <em>\\n        Last updated: February 2020\\n       </em>\\n      </p>\\n      <span st_title=\"Juan%20Fernandez%20Archipelago%20Biosphere%20Reserve%2C%20Chile\" st_url=\"https://en.unesco.org/biosphere/lac/juan-fernandez\">\\n      </span>\\n      <span st_title=\"Juan%20Fernandez%20Archipelago%20Biosphere%20Reserve%2C%20Chile\" st_url=\"https://en.unesco.org/biosphere/lac/juan-fernandez\">\\n      </span>\\n      <span st_title=\"Juan%20Fernandez%20Archipelago%20Biosphere%20Reserve%2C%20Chile\" st_url=\"https://en.unesco.org/biosphere/lac/juan-fernandez\">\\n      </span>\\n      )\\n     </div>\\n    </article>\\n   </section>\\n  </div>\\n </body>\\n</html>\\n\\n~~~ #UnescoBiosphereReserve', 'new': '', 'owner': Text(value='', description='Description', disabled=True, style=TextStyle(background='yellow')), 'type': 'change'}\nupdateHTML {'name': 'value', 'old': 'Chile: Juan Fernandez Archipelago Biosphere Reserve', 'new': '', 'owner': Text(value='', description='Location', style=TextStyle(background='yellow')), 'type': 'change'}\nNEW on Twitch\ntwitch {'name': 'value', 'old': 'Chile: Juan Fernandez Archipelago Biosphere Reserve', 'new': '', 'owner': Text(value='', description='Location', style=TextStyle(background='yellow')), 'type': 'change'}\nupdateHTML {'name': 'value', 'old': '-33.6614', 'new': '', 'owner': Text(value='', description='Latitude', style=TextStyle(background='yellow')), 'type': 'change'}\nNEW on Twitch\ntwitch {'name': 'value', 'old': '-33.6614', 'new': '', 'owner': Text(value='', description='Latitude', style=TextStyle(background='yellow')), 'type': 'change'}\nupdateHTML {'name': 'value', 'old': '-78.9278', 'new': '', 'owner': Text(value='', description='Longitude', style=TextStyle(background='yellow')), 'type': 'change'}\nNEW on Twitch\ntwitch {'name': 'value', 'old': '-78.9278', 'new': '', 'owner': Text(value='', description='Longitude', style=TextStyle(background='yellow')), 'type': 'change'}\nupdateHTML {'name': 'value', 'old': 'Chile: Juan Fernandez Archipelago Biosphere Reserve', 'new': '', 'owner': Text(value='', description='PNamePlus', style=TextStyle(background='yellow')), 'type': 'change'}\nNEW on Twitch\ntwitch {'name': 'value', 'old': 'Chile: Juan Fernandez Archipelago Biosphere Reserve', 'new': '', 'owner': Text(value='', description='PNamePlus', style=TextStyle(background='yellow')), 'type': 'change'}\nupdateHTML {'name': 'value', 'old': '<html>\\n <body>\\n  <h1 id=\"page-title\">\\n   Juan Fernandez Archipelago Biosphere Reserve, Chile\\n  </h1>\\n  <div id=\"page-content\">\\n   <section id=\"block-system-main\">\\n    <article id=\"node-319167\">\\n     <div id=\"content--31795\">\\n      <h3>\\n      </h3>\\n      <p>\\n       <img alt=\"\" src=\"http://res.cloudinary.com/e-nable-org/image/upload/v1688407045/cover_juanfernandez_biosphere_reserve_unesco_chile.jpg\" width=\"100%\"/>\\n      </p>\\n      <p>\\n       The Juan Fernandez Biosphere Reserve is situated 650 km from the Chilean coast in the Pacific Ocean. It includes the whole Archipelago with the islands of Robinson Crusoe, Alexander Selkirk and Santa Clara and all the islets in the area. The Juan Fernandez Archipelago is volcanic in origin, with steep, rugged mountain ranges with deep ravines.\\n      </p>\\n      <h3>\\n       Designation date:1977\\n      </h3>\\n      <h3>\\n       Networks\\n      </h3>\\n      <p>\\n       <strong>\\n        Regional network:\\n       </strong>\\n       <a href=\"http://www.unesco.org/new/es/natural-sciences/environment/ecological-sciences/man-and-biosphere-programme/networks/iberomab/\">\\n        Red de Comités y Reservas de Biosfera de Iberoamérica y el Caribe (IberoMAB)\\n       </a>\\n      </p>\\n      <p>\\n       <strong>\\n        Ecosystem-based network:\\n       </strong>\\n      </p>\\n      <ul>\\n      </ul>\\n      <h3>\\n       Description\\n      </h3>\\n      <p>\\n       <strong>\\n        Map\\n       </strong>\\n      </p>\\n      <p>\\n       <strong>\\n        Surface :\\n       </strong>\\n       1,216,483.43 ha (Terrestrial: 9,967.15 ha; Marine: 1,206,516 ha)\\n      </p>\\n      <ul>\\n       <li>\\n        Core area(s): 117,613.01 ha (Terrestrial: 9.560.20 ha; Marine: 108,145 ha)\\n       </li>\\n       <li>\\n        Buffer zone(s): 4,722.85 ha (Terrestrial: 112.89 ha; Marine: 4,620.31 ha)\\n       </li>\\n       <li>\\n        Transition zone(s): 1,094,147.59 ha (Terrestrial: 294.06 ha; Marine: 1,093,750.99 ha)\\n       </li>\\n      </ul>\\n      <p>\\n       <strong>\\n        Location:\\n       </strong>\\n       33°43’25.64 S;79°45’46.26 W\\n      </p>\\n      <h3>\\n       Administrative Authorities\\n      </h3>\\n      <p>\\n       <strong>\\n        Javiera Meza\\n       </strong>\\n       CONAF\\n                                    Chile\\n      </p>\\n      <p>\\n       <strong>\\n        Tel.:\\n       </strong>\\n       +56 32 2320261\\n       <strong>\\n        Email:\\n       </strong>\\n       <a href=\"mailto:javiera.meza@conaf.cl\">\\n        javiera.meza@conaf.cl\\n       </a>\\n      </p>\\n      <p>\\n       <strong>\\n        Websiteǀ Facebook ǀ Twitter\\n       </strong>\\n      </p>\\n      <h2>\\n       Ecological Characteristics\\n      </h2>\\n      <p>\\n       <img alt=\"\" src=\"http://res.cloudinary.com/e-nable-org/image/upload/v1688415551/img_juanfernandez_biosphere_reserve_unesco_chile_ecologia.jpg\" width=\"100%\"/>\\n      </p>\\n      <p>\\n       This Reserve corresponds to an insular ecosystem, characterized by the presence of 131 endemic plant species (62% of the native vascular flora). Remnants of the past are worth mentioning, such as\\n       <em>\\n        Lactoris fernandeziana\\n       </em>\\n       and\\n       <em>\\n        Thursopteris elegans\\n       </em>\\n       ; and ten endemic species:Cuminia, Dendroseris, Juania, Lactoris, Megalachne, Podophorus, Robinsonia, Selkirkia, Thyrsopterisand Yunquea.\\n      </p>\\n      <p>\\n       An outstanding characteristic of the Juan Fernández forests is the fact that 100% of its tree species only exist in the Archipelago, which means they are 100% endemic. Fauna includes the Juan Fernandez Firecrown (\\n       <em>\\n        Sephanoides fernandensis\\n       </em>\\n       ), the Juan Fernandez Tit-Tyrant (\\n       <em>\\n        Anairetes fernandezianus\\n       </em>\\n       ) and the Juan Fernandez Fur Seal (Arctocephalusphilippi).\\n      </p>\\n      <h2>\\n       Socio-Economic Characteristics\\n      </h2>\\n      <p>\\n       <img alt=\"\" src=\"http://res.cloudinary.com/e-nable-org/image/upload/v1688415552/img_juanfernandez_biosphere_reserve_unesco_chile_miguelclusenergodt.jpg\" width=\"100%\"/>\\n       Socio-economic activities are carried out outside the Reserve but very close to it. They mainly consist of ecotourism over land and sea, heritage tourism and hotel services, artisanal fishing, trade and municipal public services.\\n      </p>\\n      <p>\\n      </p>\\n      <p>\\n      </p>\\n      <p>\\n       <em>\\n        Last updated: February 2020\\n       </em>\\n      </p>\\n      <span st_title=\"Juan%20Fernandez%20Archipelago%20Biosphere%20Reserve%2C%20Chile\" st_url=\"https://en.unesco.org/biosphere/lac/juan-fernandez\">\\n      </span>\\n      <span st_title=\"Juan%20Fernandez%20Archipelago%20Biosphere%20Reserve%2C%20Chile\" st_url=\"https://en.unesco.org/biosphere/lac/juan-fernandez\">\\n      </span>\\n      <span st_title=\"Juan%20Fernandez%20Archipelago%20Biosphere%20Reserve%2C%20Chile\" st_url=\"https://en.unesco.org/biosphere/lac/juan-fernandez\">\\n      </span>\\n      )\\n     </div>\\n    </article>\\n   </section>\\n  </div>\\n </body>\\n</html>\\n\\n~~~ #UnescoBiosphereReserve', 'new': '', 'owner': Textarea(value='', layout=Layout(height='1000px', width='30%')), 'type': 'change'}\nupdateHTML {'name': 'value', 'old': 4100, 'new': 4200, 'owner': BoundedIntText(value=4200, layout=Layout(width='60%'), max=4200, min=1), 'type': 'change'}\nupdateHTML {'name': 'value', 'old': 4200, 'new': 4199, 'owner': BoundedIntText(value=4199, layout=Layout(width='60%'), max=4200, min=1), 'type': 'change'}\nupdateHTML {'name': 'value', 'old': '', 'new': 'Venezuela: Delta del Orinoco Biosphere Reserve', 'owner': Text(value='Venezuela: Delta del Orinoco Biosphere Reserve', description='Project Name', style=TextStyle(background='yellow')), 'type': 'change'}\nNEW on Twitch\ntwitch {'name': 'value', 'old': '', 'new': 'Venezuela: Delta del Orinoco Biosphere Reserve', 'owner': Text(value='Venezuela: Delta del Orinoco Biosphere Reserve', description='Project Name', style=TextStyle(background='yellow')), 'type': 'change'}\nupdateHTML {'name': 'value', 'old': '', 'new': 'https://en.unesco.org/biosphere/lac/delta-orinoco', 'owner': Text(value='https://en.unesco.org/biosphere/lac/delta-orinoco', description='Source', style=TextStyle(background='yellow')), 'type': 'change'}\nNEW on Twitch\ntwitch {'name': 'value', 'old': '', 'new': 'https://en.unesco.org/biosphere/lac/delta-orinoco', 'owner': Text(value='https://en.unesco.org/biosphere/lac/delta-orinoco', description='Source', style=TextStyle(background='yellow')), 'type': 'change'}\nupdateHTML {'name': 'value', 'old': '', 'new': '<html>\\n <body>\\n  <h1 id=\"page-title\">\\n   Delta del Orinoco Biosphere Reserve, Venezuela\\n  </h1>\\n  <div id=\"page-content\">\\n   <section id=\"block-system-main\">\\n    <article id=\"node-310981\">\\n     <div id=\"content--12014\">\\n      <h3>\\n      </h3>\\n      <p>\\n       <img alt=\"\" src=\"http://res.cloudinary.com/e-nable-org/image/upload/v1688398921/jpg.jpg\" width=\"100%\"/>\\n      </p>\\n      <p>\\n       The Delta del Orinoco Biosphere Reserve (DOBR) was created by Decree N؛ 1.633 of 05-06-1991 (Official Gazette N؛ 34.812 of 3-10-1991) and encompass 1.125.000 ha including the protected areas, the buffer and transition areas, which represents circa 31% of Delta Amacuro State total surface.A great biological diversity characterizes the terrestrial and aquatic ecosystems of the Delta del Orinoco. These ecosystems comprise a variable vegetation with more than 2.000 plants and a very rich terrestrial and aquatic fauna integrated for more than 151 mammals species, 464 bird species, 76 reptiles, 39 amphibians and 210 ichthyology species. Considerable amounts of terrestrial and aquatic invertebrates inhabit this territory.\\n      </p>\\n      <h3>\\n       Designation date:2009\\n      </h3>\\n      <h3>\\n       Networks\\n      </h3>\\n      <p>\\n       <strong>\\n        Regional network:\\n       </strong>\\n       <a href=\"http://www.unesco.org/new/es/natural-sciences/environment/ecological-sciences/man-and-biosphere-programme/networks/iberomab/\">\\n        Red de Comités y Reservas de Biosfera de Iberoamérica y el Caribe (IberoMAB)\\n       </a>\\n      </p>\\n      <p>\\n       <strong>\\n        Ecosystem-based network:\\n       </strong>\\n      </p>\\n      <ul>\\n      </ul>\\n      <h3>\\n       Description\\n      </h3>\\n      <p>\\n       <strong>\\n        Map\\n       </strong>\\n      </p>\\n      <p>\\n       <strong>\\n        Surface :\\n       </strong>\\n       877,850ha\\n      </p>\\n      <ul>\\n       <li>\\n        Core area(s): 159,800 ha\\n       </li>\\n       <li>\\n        Buffer zone(s): 184,600 ha\\n       </li>\\n       <li>\\n        Transition zone(s): 534,100 ha\\n       </li>\\n      </ul>\\n      <p>\\n       <strong>\\n        Location:\\n       </strong>\\n       N/A\\n      </p>\\n      <h3>\\n       Administrative Authorities\\n      </h3>\\n      <p>\\n       <strong>\\n        Ministry of Popular Power for the Environment\\n       </strong>\\n       PO BOX: 1010\\n                                    Caracas\\n                                    Venezuela\\n      </p>\\n      <p>\\n       <strong>\\n        Tel.:\\n       </strong>\\n       +58212-408.4764 / 408.2102\\n      </p>\\n      <p>\\n       <strong>\\n        Email:\\n       </strong>\\n       <a href=\"mailto:delta-ondb@minamb.gob.ve\">\\n        delta-ondb@minamb.gob.ve\\n       </a>\\n      </p>\\n      <p>\\n       <strong>\\n        <a href=\"http://www.minamb.gob.ve\">\\n         Website\\n        </a>\\n        ǀ Facebook ǀ Twitter\\n       </strong>\\n      </p>\\n      <p>\\n      </p>\\n      <h2>\\n       Ecological Characteristics\\n      </h2>\\n      <p>\\n       <img alt=\"\" src=\"http://res.cloudinary.com/e-nable-org/image/upload/v1688575014/img_deltadelorinoco_biosphere_reserve_venezuela_unesco_wikimedia_ecologia.jpg\" width=\"100%\"/>\\n      </p>\\n      <p>\\n       The Delta del Orinoco is a highly dynamic and complex fluvial-marine sedimentary basin formed in the Holocene, whose sediments deposited substantially by the Orinoco River main flow and in a lesser degree by geomorphologic units surrounding it, including San Juan River flows and other currents draining from the plains of La Mesa. It is embedded in a mosaic of mangroves, swamp forest, moist forest, plains and aquatic ecosystem of shallow waters. A series of fluvial channels and tide channels, the last one in the coastal plain divide the vegetation.\\n      </p>\\n      <p>\\n       Among its vegetation, dominant species areMachaerium lunatum and Motrichardia arborescens, also Ludwigia spp, Mikania congesta and bignoniaceas climbers. Likewise, floating praires appear formed mainly by the species Eichhornia crassipes y E. azure.\\n      </p>\\n      <p>\\n       In terms of fauna, the Biosphere Reserve is home tovaluable vertebrates and invertebrates of taxonomic value, the latter represented by numerous groups that are important source for local consumption like molusks represented by Crassostrea virginica (oyster), Melongena melongena and Pomacea ursus (guarura). Several crustaceans represented by shrimps and crabs such as Macrobrachium carcinus, Macrobrachium surinamicum, Macrobrachium amazonicum, Litopenaeus schmitti (white shrimp) and Xiphopenaeus kroyeri (titi shrimp).\\n      </p>\\n      <p>\\n       Besides common species in the region, like the Carina moschata,the Biosphere Reserve is also home to various endemic species, such asDasyprocta guamara, Picummus nigropunctatus, Dendrocincla fuliginosa deltana and Anolis deltae.\\n      </p>\\n      <h2>\\n       Socio-Economic Characteristics\\n      </h2>\\n      <p>\\n       <img alt=\"\" src=\"http://res.cloudinary.com/e-nable-org/image/upload/v1688407562/img_deltadelorinoco_biosphere_reserve_venezuela_unesco_wikimedia.jpg\" width=\"100%\"/>\\n       Most part of the population and indigenous warao settlements are located and spread in the eastern Delta, conforming most of the population of the sector (approximately 20.000 warao inhabitants). Primary use of this territory is fishing, hunting, harvesting of forestry produce and others that serve as base for handicraft manufacture and agriculture.\\n      </p>\\n      <p>\\n       The Delta del Orinoco has geopolitical relevance because is the country’s entrance to the Atlantic Ocean, because it facilitates communications with the Caribbean Sea and its extraordinary navigation potential, the development of hydrocarbon resources industry and fishing; all important elements for territorial planning programs.\\n      </p>\\n      <p>\\n      </p>\\n      <p>\\n       <em>\\n        Last updated: July 2019\\n       </em>\\n      </p>\\n      <span st_title=\"Delta%20del%20Orinoco%20Biosphere%20Reserve%2C%20Venezuela\" st_url=\"https://en.unesco.org/biosphere/lac/delta-orinoco\">\\n      </span>\\n      <span st_title=\"Delta%20del%20Orinoco%20Biosphere%20Reserve%2C%20Venezuela\" st_url=\"https://en.unesco.org/biosphere/lac/delta-orinoco\">\\n      </span>\\n      <span st_title=\"Delta%20del%20Orinoco%20Biosphere%20Reserve%2C%20Venezuela\" st_url=\"https://en.unesco.org/biosphere/lac/delta-orinoco\">\\n      </span>\\n      )\\n     </div>\\n    </article>\\n   </section>\\n  </div>\\n </body>\\n</html>\\n\\n~~~ #UnescoBiosphereReserve', 'owner': Text(value='<html>\\n <body>\\n  <h1 id=\"page-title\">\\n   Delta del Orinoco Biosphere Reserve, Venezuela\\n  </h1>\\n  <div id=\"page-content\">\\n   <section id=\"block-system-main\">\\n    <article id=\"node-310981\">\\n     <div id=\"content--12014\">\\n      <h3>\\n      </h3>\\n      <p>\\n       <img alt=\"\" src=\"http://res.cloudinary.com/e-nable-org/image/upload/v1688398921/jpg.jpg\" width=\"100%\"/>\\n      </p>\\n      <p>\\n       The Delta del Orinoco Biosphere Reserve (DOBR) was created by Decree N؛ 1.633 of 05-06-1991 (Official Gazette N؛ 34.812 of 3-10-1991) and encompass 1.125.000 ha including the protected areas, the buffer and transition areas, which represents circa 31% of Delta Amacuro State total surface.A great biological diversity characterizes the terrestrial and aquatic ecosystems of the Delta del Orinoco. These ecosystems comprise a variable vegetation with more than 2.000 plants and a very rich terrestrial and aquatic fauna integrated for more than 151 mammals species, 464 bird species, 76 reptiles, 39 amphibians and 210 ichthyology species. Considerable amounts of terrestrial and aquatic invertebrates inhabit this territory.\\n      </p>\\n      <h3>\\n       Designation date:2009\\n      </h3>\\n      <h3>\\n       Networks\\n      </h3>\\n      <p>\\n       <strong>\\n        Regional network:\\n       </strong>\\n       <a href=\"http://www.unesco.org/new/es/natural-sciences/environment/ecological-sciences/man-and-biosphere-programme/networks/iberomab/\">\\n        Red de Comités y Reservas de Biosfera de Iberoamérica y el Caribe (IberoMAB)\\n       </a>\\n      </p>\\n      <p>\\n       <strong>\\n        Ecosystem-based network:\\n       </strong>\\n      </p>\\n      <ul>\\n      </ul>\\n      <h3>\\n       Description\\n      </h3>\\n      <p>\\n       <strong>\\n        Map\\n       </strong>\\n      </p>\\n      <p>\\n       <strong>\\n        Surface :\\n       </strong>\\n       877,850ha\\n      </p>\\n      <ul>\\n       <li>\\n        Core area(s): 159,800 ha\\n       </li>\\n       <li>\\n        Buffer zone(s): 184,600 ha\\n       </li>\\n       <li>\\n        Transition zone(s): 534,100 ha\\n       </li>\\n      </ul>\\n      <p>\\n       <strong>\\n        Location:\\n       </strong>\\n       N/A\\n      </p>\\n      <h3>\\n       Administrative Authorities\\n      </h3>\\n      <p>\\n       <strong>\\n        Ministry of Popular Power for the Environment\\n       </strong>\\n       PO BOX: 1010\\n                                    Caracas\\n                                    Venezuela\\n      </p>\\n      <p>\\n       <strong>\\n        Tel.:\\n       </strong>\\n       +58212-408.4764 / 408.2102\\n      </p>\\n      <p>\\n       <strong>\\n        Email:\\n       </strong>\\n       <a href=\"mailto:delta-ondb@minamb.gob.ve\">\\n        delta-ondb@minamb.gob.ve\\n       </a>\\n      </p>\\n      <p>\\n       <strong>\\n        <a href=\"http://www.minamb.gob.ve\">\\n         Website\\n        </a>\\n        ǀ Facebook ǀ Twitter\\n       </strong>\\n      </p>\\n      <p>\\n      </p>\\n      <h2>\\n       Ecological Characteristics\\n      </h2>\\n      <p>\\n       <img alt=\"\" src=\"http://res.cloudinary.com/e-nable-org/image/upload/v1688575014/img_deltadelorinoco_biosphere_reserve_venezuela_unesco_wikimedia_ecologia.jpg\" width=\"100%\"/>\\n      </p>\\n      <p>\\n       The Delta del Orinoco is a highly dynamic and complex fluvial-marine sedimentary basin formed in the Holocene, whose sediments deposited substantially by the Orinoco River main flow and in a lesser degree by geomorphologic units surrounding it, including San Juan River flows and other currents draining from the plains of La Mesa. It is embedded in a mosaic of mangroves, swamp forest, moist forest, plains and aquatic ecosystem of shallow waters. A series of fluvial channels and tide channels, the last one in the coastal plain divide the vegetation.\\n      </p>\\n      <p>\\n       Among its vegetation, dominant species areMachaerium lunatum and Motrichardia arborescens, also Ludwigia spp, Mikania congesta and bignoniaceas climbers. Likewise, floating praires appear formed mainly by the species Eichhornia crassipes y E. azure.\\n      </p>\\n      <p>\\n       In terms of fauna, the Biosphere Reserve is home tovaluable vertebrates and invertebrates of taxonomic value, the latter represented by numerous groups that are important source for local consumption like molusks represented by Crassostrea virginica (oyster), Melongena melongena and Pomacea ursus (guarura). Several crustaceans represented by shrimps and crabs such as Macrobrachium carcinus, Macrobrachium surinamicum, Macrobrachium amazonicum, Litopenaeus schmitti (white shrimp) and Xiphopenaeus kroyeri (titi shrimp).\\n      </p>\\n      <p>\\n       Besides common species in the region, like the Carina moschata,the Biosphere Reserve is also home to various endemic species, such asDasyprocta guamara, Picummus nigropunctatus, Dendrocincla fuliginosa deltana and Anolis deltae.\\n      </p>\\n      <h2>\\n       Socio-Economic Characteristics\\n      </h2>\\n      <p>\\n       <img alt=\"\" src=\"http://res.cloudinary.com/e-nable-org/image/upload/v1688407562/img_deltadelorinoco_biosphere_reserve_venezuela_unesco_wikimedia.jpg\" width=\"100%\"/>\\n       Most part of the population and indigenous warao settlements are located and spread in the eastern Delta, conforming most of the population of the sector (approximately 20.000 warao inhabitants). Primary use of this territory is fishing, hunting, harvesting of forestry produce and others that serve as base for handicraft manufacture and agriculture.\\n      </p>\\n      <p>\\n       The Delta del Orinoco has geopolitical relevance because is the country’s entrance to the Atlantic Ocean, because it facilitates communications with the Caribbean Sea and its extraordinary navigation potential, the development of hydrocarbon resources industry and fishing; all important elements for territorial planning programs.\\n      </p>\\n      <p>\\n      </p>\\n      <p>\\n       <em>\\n        Last updated: July 2019\\n       </em>\\n      </p>\\n      <span st_title=\"Delta%20del%20Orinoco%20Biosphere%20Reserve%2C%20Venezuela\" st_url=\"https://en.unesco.org/biosphere/lac/delta-orinoco\">\\n      </span>\\n      <span st_title=\"Delta%20del%20Orinoco%20Biosphere%20Reserve%2C%20Venezuela\" st_url=\"https://en.unesco.org/biosphere/lac/delta-orinoco\">\\n      </span>\\n      <span st_title=\"Delta%20del%20Orinoco%20Biosphere%20Reserve%2C%20Venezuela\" st_url=\"https://en.unesco.org/biosphere/lac/delta-orinoco\">\\n      </span>\\n      )\\n     </div>\\n    </article>\\n   </section>\\n  </div>\\n </body>\\n</html>\\n\\n~~~ #UnescoBiosphereReserve', description='Description', disabled=True, style=TextStyle(background='yellow')), 'type': 'change'}\nNEW on Twitch\ntwitch {'name': 'value', 'old': '', 'new': '<html>\\n <body>\\n  <h1 id=\"page-title\">\\n   Delta del Orinoco Biosphere Reserve, Venezuela\\n  </h1>\\n  <div id=\"page-content\">\\n   <section id=\"block-system-main\">\\n    <article id=\"node-310981\">\\n     <div id=\"content--12014\">\\n      <h3>\\n      </h3>\\n      <p>\\n       <img alt=\"\" src=\"http://res.cloudinary.com/e-nable-org/image/upload/v1688398921/jpg.jpg\" width=\"100%\"/>\\n      </p>\\n      <p>\\n       The Delta del Orinoco Biosphere Reserve (DOBR) was created by Decree N؛ 1.633 of 05-06-1991 (Official Gazette N؛ 34.812 of 3-10-1991) and encompass 1.125.000 ha including the protected areas, the buffer and transition areas, which represents circa 31% of Delta Amacuro State total surface.A great biological diversity characterizes the terrestrial and aquatic ecosystems of the Delta del Orinoco. These ecosystems comprise a variable vegetation with more than 2.000 plants and a very rich terrestrial and aquatic fauna integrated for more than 151 mammals species, 464 bird species, 76 reptiles, 39 amphibians and 210 ichthyology species. Considerable amounts of terrestrial and aquatic invertebrates inhabit this territory.\\n      </p>\\n      <h3>\\n       Designation date:2009\\n      </h3>\\n      <h3>\\n       Networks\\n      </h3>\\n      <p>\\n       <strong>\\n        Regional network:\\n       </strong>\\n       <a href=\"http://www.unesco.org/new/es/natural-sciences/environment/ecological-sciences/man-and-biosphere-programme/networks/iberomab/\">\\n        Red de Comités y Reservas de Biosfera de Iberoamérica y el Caribe (IberoMAB)\\n       </a>\\n      </p>\\n      <p>\\n       <strong>\\n        Ecosystem-based network:\\n       </strong>\\n      </p>\\n      <ul>\\n      </ul>\\n      <h3>\\n       Description\\n      </h3>\\n      <p>\\n       <strong>\\n        Map\\n       </strong>\\n      </p>\\n      <p>\\n       <strong>\\n        Surface :\\n       </strong>\\n       877,850ha\\n      </p>\\n      <ul>\\n       <li>\\n        Core area(s): 159,800 ha\\n       </li>\\n       <li>\\n        Buffer zone(s): 184,600 ha\\n       </li>\\n       <li>\\n        Transition zone(s): 534,100 ha\\n       </li>\\n      </ul>\\n      <p>\\n       <strong>\\n        Location:\\n       </strong>\\n       N/A\\n      </p>\\n      <h3>\\n       Administrative Authorities\\n      </h3>\\n      <p>\\n       <strong>\\n        Ministry of Popular Power for the Environment\\n       </strong>\\n       PO BOX: 1010\\n                                    Caracas\\n                                    Venezuela\\n      </p>\\n      <p>\\n       <strong>\\n        Tel.:\\n       </strong>\\n       +58212-408.4764 / 408.2102\\n      </p>\\n      <p>\\n       <strong>\\n        Email:\\n       </strong>\\n       <a href=\"mailto:delta-ondb@minamb.gob.ve\">\\n        delta-ondb@minamb.gob.ve\\n       </a>\\n      </p>\\n      <p>\\n       <strong>\\n        <a href=\"http://www.minamb.gob.ve\">\\n         Website\\n        </a>\\n        ǀ Facebook ǀ Twitter\\n       </strong>\\n      </p>\\n      <p>\\n      </p>\\n      <h2>\\n       Ecological Characteristics\\n      </h2>\\n      <p>\\n       <img alt=\"\" src=\"http://res.cloudinary.com/e-nable-org/image/upload/v1688575014/img_deltadelorinoco_biosphere_reserve_venezuela_unesco_wikimedia_ecologia.jpg\" width=\"100%\"/>\\n      </p>\\n      <p>\\n       The Delta del Orinoco is a highly dynamic and complex fluvial-marine sedimentary basin formed in the Holocene, whose sediments deposited substantially by the Orinoco River main flow and in a lesser degree by geomorphologic units surrounding it, including San Juan River flows and other currents draining from the plains of La Mesa. It is embedded in a mosaic of mangroves, swamp forest, moist forest, plains and aquatic ecosystem of shallow waters. A series of fluvial channels and tide channels, the last one in the coastal plain divide the vegetation.\\n      </p>\\n      <p>\\n       Among its vegetation, dominant species areMachaerium lunatum and Motrichardia arborescens, also Ludwigia spp, Mikania congesta and bignoniaceas climbers. Likewise, floating praires appear formed mainly by the species Eichhornia crassipes y E. azure.\\n      </p>\\n      <p>\\n       In terms of fauna, the Biosphere Reserve is home tovaluable vertebrates and invertebrates of taxonomic value, the latter represented by numerous groups that are important source for local consumption like molusks represented by Crassostrea virginica (oyster), Melongena melongena and Pomacea ursus (guarura). Several crustaceans represented by shrimps and crabs such as Macrobrachium carcinus, Macrobrachium surinamicum, Macrobrachium amazonicum, Litopenaeus schmitti (white shrimp) and Xiphopenaeus kroyeri (titi shrimp).\\n      </p>\\n      <p>\\n       Besides common species in the region, like the Carina moschata,the Biosphere Reserve is also home to various endemic species, such asDasyprocta guamara, Picummus nigropunctatus, Dendrocincla fuliginosa deltana and Anolis deltae.\\n      </p>\\n      <h2>\\n       Socio-Economic Characteristics\\n      </h2>\\n      <p>\\n       <img alt=\"\" src=\"http://res.cloudinary.com/e-nable-org/image/upload/v1688407562/img_deltadelorinoco_biosphere_reserve_venezuela_unesco_wikimedia.jpg\" width=\"100%\"/>\\n       Most part of the population and indigenous warao settlements are located and spread in the eastern Delta, conforming most of the population of the sector (approximately 20.000 warao inhabitants). Primary use of this territory is fishing, hunting, harvesting of forestry produce and others that serve as base for handicraft manufacture and agriculture.\\n      </p>\\n      <p>\\n       The Delta del Orinoco has geopolitical relevance because is the country’s entrance to the Atlantic Ocean, because it facilitates communications with the Caribbean Sea and its extraordinary navigation potential, the development of hydrocarbon resources industry and fishing; all important elements for territorial planning programs.\\n      </p>\\n      <p>\\n      </p>\\n      <p>\\n       <em>\\n        Last updated: July 2019\\n       </em>\\n      </p>\\n      <span st_title=\"Delta%20del%20Orinoco%20Biosphere%20Reserve%2C%20Venezuela\" st_url=\"https://en.unesco.org/biosphere/lac/delta-orinoco\">\\n      </span>\\n      <span st_title=\"Delta%20del%20Orinoco%20Biosphere%20Reserve%2C%20Venezuela\" st_url=\"https://en.unesco.org/biosphere/lac/delta-orinoco\">\\n      </span>\\n      <span st_title=\"Delta%20del%20Orinoco%20Biosphere%20Reserve%2C%20Venezuela\" st_url=\"https://en.unesco.org/biosphere/lac/delta-orinoco\">\\n      </span>\\n      )\\n     </div>\\n    </article>\\n   </section>\\n  </div>\\n </body>\\n</html>\\n\\n~~~ #UnescoBiosphereReserve', 'owner': Text(value='<html>\\n <body>\\n  <h1 id=\"page-title\">\\n   Delta del Orinoco Biosphere Reserve, Venezuela\\n  </h1>\\n  <div id=\"page-content\">\\n   <section id=\"block-system-main\">\\n    <article id=\"node-310981\">\\n     <div id=\"content--12014\">\\n      <h3>\\n      </h3>\\n      <p>\\n       <img alt=\"\" src=\"http://res.cloudinary.com/e-nable-org/image/upload/v1688398921/jpg.jpg\" width=\"100%\"/>\\n      </p>\\n      <p>\\n       The Delta del Orinoco Biosphere Reserve (DOBR) was created by Decree N؛ 1.633 of 05-06-1991 (Official Gazette N؛ 34.812 of 3-10-1991) and encompass 1.125.000 ha including the protected areas, the buffer and transition areas, which represents circa 31% of Delta Amacuro State total surface.A great biological diversity characterizes the terrestrial and aquatic ecosystems of the Delta del Orinoco. These ecosystems comprise a variable vegetation with more than 2.000 plants and a very rich terrestrial and aquatic fauna integrated for more than 151 mammals species, 464 bird species, 76 reptiles, 39 amphibians and 210 ichthyology species. Considerable amounts of terrestrial and aquatic invertebrates inhabit this territory.\\n      </p>\\n      <h3>\\n       Designation date:2009\\n      </h3>\\n      <h3>\\n       Networks\\n      </h3>\\n      <p>\\n       <strong>\\n        Regional network:\\n       </strong>\\n       <a href=\"http://www.unesco.org/new/es/natural-sciences/environment/ecological-sciences/man-and-biosphere-programme/networks/iberomab/\">\\n        Red de Comités y Reservas de Biosfera de Iberoamérica y el Caribe (IberoMAB)\\n       </a>\\n      </p>\\n      <p>\\n       <strong>\\n        Ecosystem-based network:\\n       </strong>\\n      </p>\\n      <ul>\\n      </ul>\\n      <h3>\\n       Description\\n      </h3>\\n      <p>\\n       <strong>\\n        Map\\n       </strong>\\n      </p>\\n      <p>\\n       <strong>\\n        Surface :\\n       </strong>\\n       877,850ha\\n      </p>\\n      <ul>\\n       <li>\\n        Core area(s): 159,800 ha\\n       </li>\\n       <li>\\n        Buffer zone(s): 184,600 ha\\n       </li>\\n       <li>\\n        Transition zone(s): 534,100 ha\\n       </li>\\n      </ul>\\n      <p>\\n       <strong>\\n        Location:\\n       </strong>\\n       N/A\\n      </p>\\n      <h3>\\n       Administrative Authorities\\n      </h3>\\n      <p>\\n       <strong>\\n        Ministry of Popular Power for the Environment\\n       </strong>\\n       PO BOX: 1010\\n                                    Caracas\\n                                    Venezuela\\n      </p>\\n      <p>\\n       <strong>\\n        Tel.:\\n       </strong>\\n       +58212-408.4764 / 408.2102\\n      </p>\\n      <p>\\n       <strong>\\n        Email:\\n       </strong>\\n       <a href=\"mailto:delta-ondb@minamb.gob.ve\">\\n        delta-ondb@minamb.gob.ve\\n       </a>\\n      </p>\\n      <p>\\n       <strong>\\n        <a href=\"http://www.minamb.gob.ve\">\\n         Website\\n        </a>\\n        ǀ Facebook ǀ Twitter\\n       </strong>\\n      </p>\\n      <p>\\n      </p>\\n      <h2>\\n       Ecological Characteristics\\n      </h2>\\n      <p>\\n       <img alt=\"\" src=\"http://res.cloudinary.com/e-nable-org/image/upload/v1688575014/img_deltadelorinoco_biosphere_reserve_venezuela_unesco_wikimedia_ecologia.jpg\" width=\"100%\"/>\\n      </p>\\n      <p>\\n       The Delta del Orinoco is a highly dynamic and complex fluvial-marine sedimentary basin formed in the Holocene, whose sediments deposited substantially by the Orinoco River main flow and in a lesser degree by geomorphologic units surrounding it, including San Juan River flows and other currents draining from the plains of La Mesa. It is embedded in a mosaic of mangroves, swamp forest, moist forest, plains and aquatic ecosystem of shallow waters. A series of fluvial channels and tide channels, the last one in the coastal plain divide the vegetation.\\n      </p>\\n      <p>\\n       Among its vegetation, dominant species areMachaerium lunatum and Motrichardia arborescens, also Ludwigia spp, Mikania congesta and bignoniaceas climbers. Likewise, floating praires appear formed mainly by the species Eichhornia crassipes y E. azure.\\n      </p>\\n      <p>\\n       In terms of fauna, the Biosphere Reserve is home tovaluable vertebrates and invertebrates of taxonomic value, the latter represented by numerous groups that are important source for local consumption like molusks represented by Crassostrea virginica (oyster), Melongena melongena and Pomacea ursus (guarura). Several crustaceans represented by shrimps and crabs such as Macrobrachium carcinus, Macrobrachium surinamicum, Macrobrachium amazonicum, Litopenaeus schmitti (white shrimp) and Xiphopenaeus kroyeri (titi shrimp).\\n      </p>\\n      <p>\\n       Besides common species in the region, like the Carina moschata,the Biosphere Reserve is also home to various endemic species, such asDasyprocta guamara, Picummus nigropunctatus, Dendrocincla fuliginosa deltana and Anolis deltae.\\n      </p>\\n      <h2>\\n       Socio-Economic Characteristics\\n      </h2>\\n      <p>\\n       <img alt=\"\" src=\"http://res.cloudinary.com/e-nable-org/image/upload/v1688407562/img_deltadelorinoco_biosphere_reserve_venezuela_unesco_wikimedia.jpg\" width=\"100%\"/>\\n       Most part of the population and indigenous warao settlements are located and spread in the eastern Delta, conforming most of the population of the sector (approximately 20.000 warao inhabitants). Primary use of this territory is fishing, hunting, harvesting of forestry produce and others that serve as base for handicraft manufacture and agriculture.\\n      </p>\\n      <p>\\n       The Delta del Orinoco has geopolitical relevance because is the country’s entrance to the Atlantic Ocean, because it facilitates communications with the Caribbean Sea and its extraordinary navigation potential, the development of hydrocarbon resources industry and fishing; all important elements for territorial planning programs.\\n      </p>\\n      <p>\\n      </p>\\n      <p>\\n       <em>\\n        Last updated: July 2019\\n       </em>\\n      </p>\\n      <span st_title=\"Delta%20del%20Orinoco%20Biosphere%20Reserve%2C%20Venezuela\" st_url=\"https://en.unesco.org/biosphere/lac/delta-orinoco\">\\n      </span>\\n      <span st_title=\"Delta%20del%20Orinoco%20Biosphere%20Reserve%2C%20Venezuela\" st_url=\"https://en.unesco.org/biosphere/lac/delta-orinoco\">\\n      </span>\\n      <span st_title=\"Delta%20del%20Orinoco%20Biosphere%20Reserve%2C%20Venezuela\" st_url=\"https://en.unesco.org/biosphere/lac/delta-orinoco\">\\n      </span>\\n      )\\n     </div>\\n    </article>\\n   </section>\\n  </div>\\n </body>\\n</html>\\n\\n~~~ #UnescoBiosphereReserve', description='Description', disabled=True, style=TextStyle(background='yellow')), 'type': 'change'}\nupdateHTML {'name': 'value', 'old': '', 'new': 'Venezuela: Delta del Orinoco Biosphere Reserve', 'owner': Text(value='Venezuela: Delta del Orinoco Biosphere Reserve', description='Location', style=TextStyle(background='yellow')), 'type': 'change'}\nNEW on Twitch\ntwitch {'name': 'value', 'old': '', 'new': 'Venezuela: Delta del Orinoco Biosphere Reserve', 'owner': Text(value='Venezuela: Delta del Orinoco Biosphere Reserve', description='Location', style=TextStyle(background='yellow')), 'type': 'change'}\nupdateHTML {'name': 'value', 'old': '', 'new': '9.0031', 'owner': Text(value='9.0031', description='Latitude', style=TextStyle(background='yellow')), 'type': 'change'}\nNEW on Twitch\ntwitch {'name': 'value', 'old': '', 'new': '9.0031', 'owner': Text(value='9.0031', description='Latitude', style=TextStyle(background='yellow')), 'type': 'change'}\nupdateHTML {'name': 'value', 'old': '', 'new': '-61.0003', 'owner': Text(value='-61.0003', description='Longitude', style=TextStyle(background='yellow')), 'type': 'change'}\nNEW on Twitch\ntwitch {'name': 'value', 'old': '', 'new': '-61.0003', 'owner': Text(value='-61.0003', description='Longitude', style=TextStyle(background='yellow')), 'type': 'change'}\nupdateHTML {'name': 'value', 'old': '', 'new': 'Venezuela: Delta del Orinoco Biosphere Reserve', 'owner': Text(value='Venezuela: Delta del Orinoco Biosphere Reserve', description='PNamePlus', style=TextStyle(background='yellow')), 'type': 'change'}\nNEW on Twitch\ntwitch {'name': 'value', 'old': '', 'new': 'Venezuela: Delta del Orinoco Biosphere Reserve', 'owner': Text(value='Venezuela: Delta del Orinoco Biosphere Reserve', description='PNamePlus', style=TextStyle(background='yellow')), 'type': 'change'}\nupdateHTML {'name': 'value', 'old': '', 'new': '<html>\\n <body>\\n  <h1 id=\"page-title\">\\n   Delta del Orinoco Biosphere Reserve, Venezuela\\n  </h1>\\n  <div id=\"page-content\">\\n   <section id=\"block-system-main\">\\n    <article id=\"node-310981\">\\n     <div id=\"content--12014\">\\n      <h3>\\n      </h3>\\n      <p>\\n       <img alt=\"\" src=\"http://res.cloudinary.com/e-nable-org/image/upload/v1688398921/jpg.jpg\" width=\"100%\"/>\\n      </p>\\n      <p>\\n       The Delta del Orinoco Biosphere Reserve (DOBR) was created by Decree N؛ 1.633 of 05-06-1991 (Official Gazette N؛ 34.812 of 3-10-1991) and encompass 1.125.000 ha including the protected areas, the buffer and transition areas, which represents circa 31% of Delta Amacuro State total surface.A great biological diversity characterizes the terrestrial and aquatic ecosystems of the Delta del Orinoco. These ecosystems comprise a variable vegetation with more than 2.000 plants and a very rich terrestrial and aquatic fauna integrated for more than 151 mammals species, 464 bird species, 76 reptiles, 39 amphibians and 210 ichthyology species. Considerable amounts of terrestrial and aquatic invertebrates inhabit this territory.\\n      </p>\\n      <h3>\\n       Designation date:2009\\n      </h3>\\n      <h3>\\n       Networks\\n      </h3>\\n      <p>\\n       <strong>\\n        Regional network:\\n       </strong>\\n       <a href=\"http://www.unesco.org/new/es/natural-sciences/environment/ecological-sciences/man-and-biosphere-programme/networks/iberomab/\">\\n        Red de Comités y Reservas de Biosfera de Iberoamérica y el Caribe (IberoMAB)\\n       </a>\\n      </p>\\n      <p>\\n       <strong>\\n        Ecosystem-based network:\\n       </strong>\\n      </p>\\n      <ul>\\n      </ul>\\n      <h3>\\n       Description\\n      </h3>\\n      <p>\\n       <strong>\\n        Map\\n       </strong>\\n      </p>\\n      <p>\\n       <strong>\\n        Surface :\\n       </strong>\\n       877,850ha\\n      </p>\\n      <ul>\\n       <li>\\n        Core area(s): 159,800 ha\\n       </li>\\n       <li>\\n        Buffer zone(s): 184,600 ha\\n       </li>\\n       <li>\\n        Transition zone(s): 534,100 ha\\n       </li>\\n      </ul>\\n      <p>\\n       <strong>\\n        Location:\\n       </strong>\\n       N/A\\n      </p>\\n      <h3>\\n       Administrative Authorities\\n      </h3>\\n      <p>\\n       <strong>\\n        Ministry of Popular Power for the Environment\\n       </strong>\\n       PO BOX: 1010\\n                                    Caracas\\n                                    Venezuela\\n      </p>\\n      <p>\\n       <strong>\\n        Tel.:\\n       </strong>\\n       +58212-408.4764 / 408.2102\\n      </p>\\n      <p>\\n       <strong>\\n        Email:\\n       </strong>\\n       <a href=\"mailto:delta-ondb@minamb.gob.ve\">\\n        delta-ondb@minamb.gob.ve\\n       </a>\\n      </p>\\n      <p>\\n       <strong>\\n        <a href=\"http://www.minamb.gob.ve\">\\n         Website\\n        </a>\\n        ǀ Facebook ǀ Twitter\\n       </strong>\\n      </p>\\n      <p>\\n      </p>\\n      <h2>\\n       Ecological Characteristics\\n      </h2>\\n      <p>\\n       <img alt=\"\" src=\"http://res.cloudinary.com/e-nable-org/image/upload/v1688575014/img_deltadelorinoco_biosphere_reserve_venezuela_unesco_wikimedia_ecologia.jpg\" width=\"100%\"/>\\n      </p>\\n      <p>\\n       The Delta del Orinoco is a highly dynamic and complex fluvial-marine sedimentary basin formed in the Holocene, whose sediments deposited substantially by the Orinoco River main flow and in a lesser degree by geomorphologic units surrounding it, including San Juan River flows and other currents draining from the plains of La Mesa. It is embedded in a mosaic of mangroves, swamp forest, moist forest, plains and aquatic ecosystem of shallow waters. A series of fluvial channels and tide channels, the last one in the coastal plain divide the vegetation.\\n      </p>\\n      <p>\\n       Among its vegetation, dominant species areMachaerium lunatum and Motrichardia arborescens, also Ludwigia spp, Mikania congesta and bignoniaceas climbers. Likewise, floating praires appear formed mainly by the species Eichhornia crassipes y E. azure.\\n      </p>\\n      <p>\\n       In terms of fauna, the Biosphere Reserve is home tovaluable vertebrates and invertebrates of taxonomic value, the latter represented by numerous groups that are important source for local consumption like molusks represented by Crassostrea virginica (oyster), Melongena melongena and Pomacea ursus (guarura). Several crustaceans represented by shrimps and crabs such as Macrobrachium carcinus, Macrobrachium surinamicum, Macrobrachium amazonicum, Litopenaeus schmitti (white shrimp) and Xiphopenaeus kroyeri (titi shrimp).\\n      </p>\\n      <p>\\n       Besides common species in the region, like the Carina moschata,the Biosphere Reserve is also home to various endemic species, such asDasyprocta guamara, Picummus nigropunctatus, Dendrocincla fuliginosa deltana and Anolis deltae.\\n      </p>\\n      <h2>\\n       Socio-Economic Characteristics\\n      </h2>\\n      <p>\\n       <img alt=\"\" src=\"http://res.cloudinary.com/e-nable-org/image/upload/v1688407562/img_deltadelorinoco_biosphere_reserve_venezuela_unesco_wikimedia.jpg\" width=\"100%\"/>\\n       Most part of the population and indigenous warao settlements are located and spread in the eastern Delta, conforming most of the population of the sector (approximately 20.000 warao inhabitants). Primary use of this territory is fishing, hunting, harvesting of forestry produce and others that serve as base for handicraft manufacture and agriculture.\\n      </p>\\n      <p>\\n       The Delta del Orinoco has geopolitical relevance because is the country’s entrance to the Atlantic Ocean, because it facilitates communications with the Caribbean Sea and its extraordinary navigation potential, the development of hydrocarbon resources industry and fishing; all important elements for territorial planning programs.\\n      </p>\\n      <p>\\n      </p>\\n      <p>\\n       <em>\\n        Last updated: July 2019\\n       </em>\\n      </p>\\n      <span st_title=\"Delta%20del%20Orinoco%20Biosphere%20Reserve%2C%20Venezuela\" st_url=\"https://en.unesco.org/biosphere/lac/delta-orinoco\">\\n      </span>\\n      <span st_title=\"Delta%20del%20Orinoco%20Biosphere%20Reserve%2C%20Venezuela\" st_url=\"https://en.unesco.org/biosphere/lac/delta-orinoco\">\\n      </span>\\n      <span st_title=\"Delta%20del%20Orinoco%20Biosphere%20Reserve%2C%20Venezuela\" st_url=\"https://en.unesco.org/biosphere/lac/delta-orinoco\">\\n      </span>\\n      )\\n     </div>\\n    </article>\\n   </section>\\n  </div>\\n </body>\\n</html>\\n\\n~~~ #UnescoBiosphereReserve', 'owner': Textarea(value='<html>\\n <body>\\n  <h1 id=\"page-title\">\\n   Delta del Orinoco Biosphere Reserve, Venezuela\\n  </h1>\\n  <div id=\"page-content\">\\n   <section id=\"block-system-main\">\\n    <article id=\"node-310981\">\\n     <div id=\"content--12014\">\\n      <h3>\\n      </h3>\\n      <p>\\n       <img alt=\"\" src=\"http://res.cloudinary.com/e-nable-org/image/upload/v1688398921/jpg.jpg\" width=\"100%\"/>\\n      </p>\\n      <p>\\n       The Delta del Orinoco Biosphere Reserve (DOBR) was created by Decree N؛ 1.633 of 05-06-1991 (Official Gazette N؛ 34.812 of 3-10-1991) and encompass 1.125.000 ha including the protected areas, the buffer and transition areas, which represents circa 31% of Delta Amacuro State total surface.A great biological diversity characterizes the terrestrial and aquatic ecosystems of the Delta del Orinoco. These ecosystems comprise a variable vegetation with more than 2.000 plants and a very rich terrestrial and aquatic fauna integrated for more than 151 mammals species, 464 bird species, 76 reptiles, 39 amphibians and 210 ichthyology species. Considerable amounts of terrestrial and aquatic invertebrates inhabit this territory.\\n      </p>\\n      <h3>\\n       Designation date:2009\\n      </h3>\\n      <h3>\\n       Networks\\n      </h3>\\n      <p>\\n       <strong>\\n        Regional network:\\n       </strong>\\n       <a href=\"http://www.unesco.org/new/es/natural-sciences/environment/ecological-sciences/man-and-biosphere-programme/networks/iberomab/\">\\n        Red de Comités y Reservas de Biosfera de Iberoamérica y el Caribe (IberoMAB)\\n       </a>\\n      </p>\\n      <p>\\n       <strong>\\n        Ecosystem-based network:\\n       </strong>\\n      </p>\\n      <ul>\\n      </ul>\\n      <h3>\\n       Description\\n      </h3>\\n      <p>\\n       <strong>\\n        Map\\n       </strong>\\n      </p>\\n      <p>\\n       <strong>\\n        Surface :\\n       </strong>\\n       877,850ha\\n      </p>\\n      <ul>\\n       <li>\\n        Core area(s): 159,800 ha\\n       </li>\\n       <li>\\n        Buffer zone(s): 184,600 ha\\n       </li>\\n       <li>\\n        Transition zone(s): 534,100 ha\\n       </li>\\n      </ul>\\n      <p>\\n       <strong>\\n        Location:\\n       </strong>\\n       N/A\\n      </p>\\n      <h3>\\n       Administrative Authorities\\n      </h3>\\n      <p>\\n       <strong>\\n        Ministry of Popular Power for the Environment\\n       </strong>\\n       PO BOX: 1010\\n                                    Caracas\\n                                    Venezuela\\n      </p>\\n      <p>\\n       <strong>\\n        Tel.:\\n       </strong>\\n       +58212-408.4764 / 408.2102\\n      </p>\\n      <p>\\n       <strong>\\n        Email:\\n       </strong>\\n       <a href=\"mailto:delta-ondb@minamb.gob.ve\">\\n        delta-ondb@minamb.gob.ve\\n       </a>\\n      </p>\\n      <p>\\n       <strong>\\n        <a href=\"http://www.minamb.gob.ve\">\\n         Website\\n        </a>\\n        ǀ Facebook ǀ Twitter\\n       </strong>\\n      </p>\\n      <p>\\n      </p>\\n      <h2>\\n       Ecological Characteristics\\n      </h2>\\n      <p>\\n       <img alt=\"\" src=\"http://res.cloudinary.com/e-nable-org/image/upload/v1688575014/img_deltadelorinoco_biosphere_reserve_venezuela_unesco_wikimedia_ecologia.jpg\" width=\"100%\"/>\\n      </p>\\n      <p>\\n       The Delta del Orinoco is a highly dynamic and complex fluvial-marine sedimentary basin formed in the Holocene, whose sediments deposited substantially by the Orinoco River main flow and in a lesser degree by geomorphologic units surrounding it, including San Juan River flows and other currents draining from the plains of La Mesa. It is embedded in a mosaic of mangroves, swamp forest, moist forest, plains and aquatic ecosystem of shallow waters. A series of fluvial channels and tide channels, the last one in the coastal plain divide the vegetation.\\n      </p>\\n      <p>\\n       Among its vegetation, dominant species areMachaerium lunatum and Motrichardia arborescens, also Ludwigia spp, Mikania congesta and bignoniaceas climbers. Likewise, floating praires appear formed mainly by the species Eichhornia crassipes y E. azure.\\n      </p>\\n      <p>\\n       In terms of fauna, the Biosphere Reserve is home tovaluable vertebrates and invertebrates of taxonomic value, the latter represented by numerous groups that are important source for local consumption like molusks represented by Crassostrea virginica (oyster), Melongena melongena and Pomacea ursus (guarura). Several crustaceans represented by shrimps and crabs such as Macrobrachium carcinus, Macrobrachium surinamicum, Macrobrachium amazonicum, Litopenaeus schmitti (white shrimp) and Xiphopenaeus kroyeri (titi shrimp).\\n      </p>\\n      <p>\\n       Besides common species in the region, like the Carina moschata,the Biosphere Reserve is also home to various endemic species, such asDasyprocta guamara, Picummus nigropunctatus, Dendrocincla fuliginosa deltana and Anolis deltae.\\n      </p>\\n      <h2>\\n       Socio-Economic Characteristics\\n      </h2>\\n      <p>\\n       <img alt=\"\" src=\"http://res.cloudinary.com/e-nable-org/image/upload/v1688407562/img_deltadelorinoco_biosphere_reserve_venezuela_unesco_wikimedia.jpg\" width=\"100%\"/>\\n       Most part of the population and indigenous warao settlements are located and spread in the eastern Delta, conforming most of the population of the sector (approximately 20.000 warao inhabitants). Primary use of this territory is fishing, hunting, harvesting of forestry produce and others that serve as base for handicraft manufacture and agriculture.\\n      </p>\\n      <p>\\n       The Delta del Orinoco has geopolitical relevance because is the country’s entrance to the Atlantic Ocean, because it facilitates communications with the Caribbean Sea and its extraordinary navigation potential, the development of hydrocarbon resources industry and fishing; all important elements for territorial planning programs.\\n      </p>\\n      <p>\\n      </p>\\n      <p>\\n       <em>\\n        Last updated: July 2019\\n       </em>\\n      </p>\\n      <span st_title=\"Delta%20del%20Orinoco%20Biosphere%20Reserve%2C%20Venezuela\" st_url=\"https://en.unesco.org/biosphere/lac/delta-orinoco\">\\n      </span>\\n      <span st_title=\"Delta%20del%20Orinoco%20Biosphere%20Reserve%2C%20Venezuela\" st_url=\"https://en.unesco.org/biosphere/lac/delta-orinoco\">\\n      </span>\\n      <span st_title=\"Delta%20del%20Orinoco%20Biosphere%20Reserve%2C%20Venezuela\" st_url=\"https://en.unesco.org/biosphere/lac/delta-orinoco\">\\n      </span>\\n      )\\n     </div>\\n    </article>\\n   </section>\\n  </div>\\n </body>\\n</html>\\n\\n~~~ #UnescoBiosphereReserve', layout=Layout(height='1000px', width='30%')), 'type': 'change'}\nupdateHTML {'name': 'value', 'old': 4199, 'new': 4198, 'owner': BoundedIntText(value=4198, layout=Layout(width='60%'), max=4200, min=1), 'type': 'change'}\n"
        }
       ]
      }
     },
     "269c2a320eef46bc8daae52b692233c9": {
      "model_module": "@jupyter-widgets/controls",
      "model_module_version": "2.0.0",
      "model_name": "TextStyleModel",
      "state": {
       "description_width": "",
       "font_size": null,
       "text_color": null
      }
     },
     "26eaed1c218847abb7dfa414c608d03e": {
      "model_module": "@jupyter-widgets/controls",
      "model_module_version": "2.0.0",
      "model_name": "ButtonModel",
      "state": {
       "description": "Image Sources?",
       "layout": "IPY_MODEL_d7ee12c7648249e8bba9cca209b695da",
       "style": "IPY_MODEL_dd3e31c80a8c4d21922dad0515e7037d",
       "tooltip": null
      }
     },
     "27f10cf493554bf9baf63294eb8e2ead": {
      "model_module": "@jupyter-widgets/base",
      "model_module_version": "2.0.0",
      "model_name": "LayoutModel",
      "state": {}
     },
     "2837df9a474e40e6b6f6962c581a4e58": {
      "model_module": "@jupyter-widgets/controls",
      "model_module_version": "2.0.0",
      "model_name": "ButtonModel",
      "state": {
       "description": "Run checks?",
       "layout": "IPY_MODEL_875efa7fa285423bbe02bb87edb349d1",
       "style": "IPY_MODEL_74df900f7b2a4210a66a4a7c7a9dabd1",
       "tooltip": null
      }
     },
     "2928f784468e4b1a9535bc00d683b510": {
      "model_module": "@jupyter-widgets/controls",
      "model_module_version": "2.0.0",
      "model_name": "TextStyleModel",
      "state": {
       "description_width": "",
       "font_size": null,
       "text_color": null
      }
     },
     "2b807d2ef92d4f03a84eb2f04521264a": {
      "model_module": "@jupyter-widgets/base",
      "model_module_version": "2.0.0",
      "model_name": "LayoutModel",
      "state": {}
     },
     "2c268f5eb1ed42b8bc8d5b2b2cc9b61e": {
      "model_module": "@jupyter-widgets/base",
      "model_module_version": "2.0.0",
      "model_name": "LayoutModel",
      "state": {
       "height": "1000px",
       "width": "40%"
      }
     },
     "2e82f3ccefb4457480e520ab6a884e15": {
      "model_module": "@jupyter-widgets/base",
      "model_module_version": "2.0.0",
      "model_name": "LayoutModel",
      "state": {}
     },
     "2f14877475b94c7e998e65bd6d1114a4": {
      "model_module": "@jupyter-widgets/controls",
      "model_module_version": "2.0.0",
      "model_name": "TextModel",
      "state": {
       "layout": "IPY_MODEL_23f7cbe8a8e2456bb0e55cadaa076a76",
       "style": "IPY_MODEL_9048bace5b14408ba80bc4053bdefdf8"
      }
     },
     "31fe7bfe6d58432cbd63ae7507729599": {
      "model_module": "@jupyter-widgets/controls",
      "model_module_version": "2.0.0",
      "model_name": "TextModel",
      "state": {
       "description": "x",
       "layout": "IPY_MODEL_8faedf7814204647a91fce01b482cad9",
       "style": "IPY_MODEL_7ad77a2ee254426bb61d767a9a8428dd"
      }
     },
     "3203319912b24ee4913615af834c95c1": {
      "model_module": "@jupyter-widgets/base",
      "model_module_version": "2.0.0",
      "model_name": "LayoutModel",
      "state": {}
     },
     "3211db143fc94c10804c338978e4c987": {
      "model_module": "@jupyter-widgets/controls",
      "model_module_version": "2.0.0",
      "model_name": "TextStyleModel",
      "state": {
       "description_width": "",
       "font_size": null,
       "text_color": null
      }
     },
     "336279c740b94a2c9462fb31f2aff74e": {
      "model_module": "@jupyter-widgets/controls",
      "model_module_version": "2.0.0",
      "model_name": "HBoxModel",
      "state": {
       "children": [
        "IPY_MODEL_c950b441fc73443faa7a6f40f42eb8d7",
        "IPY_MODEL_d72c1ed1766242f5886c9a53dc0cc472",
        "IPY_MODEL_08026968ea634d6a972c41e3479d0ca2",
        "IPY_MODEL_eb579ea776b24fd3923a75dd3902ccdc",
        "IPY_MODEL_b857aadec6bc4059bd5bb3f56d2d70eb",
        "IPY_MODEL_48231684a6164cc1b8d8117beafa37e6"
       ],
       "layout": "IPY_MODEL_bb7073318c374d86bedd0d30fe70bb6b"
      }
     },
     "3442e646838a4bce8230ce995670a408": {
      "model_module": "@jupyter-widgets/controls",
      "model_module_version": "2.0.0",
      "model_name": "TextModel",
      "state": {
       "description": "Longitude",
       "layout": "IPY_MODEL_f6ddb0eb3fab4d7a84b3215315d28b73",
       "style": "IPY_MODEL_bfaad60a5e6d4da6be53028f6c77ceb9",
       "value": "-61.0003"
      }
     },
     "34a66a04050a4a2ea06e4081ea1f4643": {
      "model_module": "@jupyter-widgets/controls",
      "model_module_version": "2.0.0",
      "model_name": "TextModel",
      "state": {
       "description": "Regen.earth",
       "layout": "IPY_MODEL_0ef1403627c04a67b7a284b740662f43",
       "style": "IPY_MODEL_a392050840de42448e7f43773bfde949"
      }
     },
     "34db4ff22dac457c81b58478aa247a8b": {
      "model_module": "@jupyter-widgets/controls",
      "model_module_version": "2.0.0",
      "model_name": "TextModel",
      "state": {
       "description": "eMail",
       "layout": "IPY_MODEL_871a3f6a1d7e4be88c2c1eff9a972930",
       "style": "IPY_MODEL_f0e701285a424e4e98cc208e482abbf4"
      }
     },
     "36e1c3db45384ea5b18e4b6314b7ad4f": {
      "model_module": "@jupyter-widgets/controls",
      "model_module_version": "2.0.0",
      "model_name": "ButtonStyleModel",
      "state": {
       "button_color": "lightgreen",
       "font_family": null,
       "font_size": null,
       "font_style": null,
       "font_variant": null,
       "font_weight": null,
       "text_color": null,
       "text_decoration": null
      }
     },
     "39e570cbb9e0449eba7d7f505b223f47": {
      "model_module": "@jupyter-widgets/base",
      "model_module_version": "2.0.0",
      "model_name": "LayoutModel",
      "state": {}
     },
     "3a7378e77697400e9eb0fa859ebcff45": {
      "model_module": "@jupyter-widgets/controls",
      "model_module_version": "2.0.0",
      "model_name": "TextStyleModel",
      "state": {
       "description_width": "",
       "font_size": null,
       "text_color": null
      }
     },
     "3b1cd91b2c6948d9b93131c66c122a06": {
      "model_module": "@jupyter-widgets/controls",
      "model_module_version": "2.0.0",
      "model_name": "ButtonStyleModel",
      "state": {
       "button_color": "Red",
       "font_family": null,
       "font_size": null,
       "font_style": null,
       "font_variant": null,
       "font_weight": null,
       "text_color": null,
       "text_decoration": null
      }
     },
     "3c98390382c242e7a002bbe3612ff03b": {
      "model_module": "@jupyter-widgets/base",
      "model_module_version": "2.0.0",
      "model_name": "LayoutModel",
      "state": {
       "width": "100%"
      }
     },
     "3d6dcec43720409ab3d8d4852ecb3b58": {
      "model_module": "@jupyter-widgets/controls",
      "model_module_version": "2.0.0",
      "model_name": "TextStyleModel",
      "state": {
       "description_width": "",
       "font_size": null,
       "text_color": null
      }
     },
     "4002b08584de4353a23243f18974ffa4": {
      "model_module": "@jupyter-widgets/base",
      "model_module_version": "2.0.0",
      "model_name": "LayoutModel",
      "state": {}
     },
     "41494e2e9f3b486092cfee36900b7fc0": {
      "model_module": "@jupyter-widgets/controls",
      "model_module_version": "2.0.0",
      "model_name": "HTMLStyleModel",
      "state": {
       "description_width": "",
       "font_size": null,
       "text_color": null
      }
     },
     "418aaa0a81f044e0b37c453ff580ed52": {
      "model_module": "@jupyter-widgets/controls",
      "model_module_version": "2.0.0",
      "model_name": "TextStyleModel",
      "state": {
       "description_width": "",
       "font_size": null,
       "text_color": null
      }
     },
     "41f532e9434441e98e2b4af12675c47a": {
      "model_module": "@jupyter-widgets/controls",
      "model_module_version": "2.0.0",
      "model_name": "TextModel",
      "state": {
       "description": "@",
       "layout": "IPY_MODEL_081b9c5a928f4abd907b46a46beda0fc",
       "style": "IPY_MODEL_dff63e6294b747e88b800860f97e932c"
      }
     },
     "426e3baa25d6436faeb70061d65a17ce": {
      "model_module": "@jupyter-widgets/base",
      "model_module_version": "2.0.0",
      "model_name": "LayoutModel",
      "state": {
       "height": "1000px",
       "width": "40%"
      }
     },
     "43c068acb1b5438c93bcfc978056b361": {
      "model_module": "@jupyter-widgets/controls",
      "model_module_version": "2.0.0",
      "model_name": "TextModel",
      "state": {
       "description": "Location",
       "layout": "IPY_MODEL_78ce76633e3d44ac9e4323a8c51d0934",
       "style": "IPY_MODEL_b4cfcb26f3ad44019a9fb0299e3b23cb",
       "value": "Venezuela: Delta del Orinoco Biosphere Reserve"
      }
     },
     "44240df278814bc1b47f2d8eddb59c7f": {
      "model_module": "@jupyter-widgets/base",
      "model_module_version": "2.0.0",
      "model_name": "LayoutModel",
      "state": {
       "width": "10%"
      }
     },
     "453890b7ef854b769f07d0e15c436db9": {
      "model_module": "@jupyter-widgets/base",
      "model_module_version": "2.0.0",
      "model_name": "LayoutModel",
      "state": {}
     },
     "475064ebbfe14e97b9ae16f118faf68a": {
      "model_module": "@jupyter-widgets/controls",
      "model_module_version": "2.0.0",
      "model_name": "HBoxModel",
      "state": {
       "children": [
        "IPY_MODEL_abc6808782e347cc84df73fe1f55c4d4",
        "IPY_MODEL_77b77db1deb8434c90d0dcf8bac868fd",
        "IPY_MODEL_4e431a31248b42c5af8083314032559d"
       ],
       "layout": "IPY_MODEL_a6da193d5a8545c8990816cc4e1eb322"
      }
     },
     "48231684a6164cc1b8d8117beafa37e6": {
      "model_module": "@jupyter-widgets/controls",
      "model_module_version": "2.0.0",
      "model_name": "ButtonModel",
      "state": {
       "description": "↙ (use)",
       "layout": "IPY_MODEL_5cf51718ad2d4ac3a82e7214551445c5",
       "style": "IPY_MODEL_ebd61a3ffa3f41faa9fc1d594fd141db",
       "tooltip": null
      }
     },
     "485913cd4ddf45248243f307b7addc18": {
      "model_module": "@jupyter-widgets/controls",
      "model_module_version": "2.0.0",
      "model_name": "TextStyleModel",
      "state": {
       "description_width": "",
       "font_size": null,
       "text_color": null
      }
     },
     "4a93582b2da648438b1ac31d99a8a742": {
      "model_module": "@jupyter-widgets/controls",
      "model_module_version": "2.0.0",
      "model_name": "HBoxModel",
      "state": {
       "children": [
        "IPY_MODEL_c3e75c160fff4508a4d4cd7abfac24e3",
        "IPY_MODEL_cf6f7cf80e0a48dba351b966389cad17",
        "IPY_MODEL_beb43957b6e944f39ce56f535dffc996",
        "IPY_MODEL_70bdac6e111740f49ffe1caf16f44b5d",
        "IPY_MODEL_b857aadec6bc4059bd5bb3f56d2d70eb",
        "IPY_MODEL_948d6bcc16164118b618905f1b2e4181"
       ],
       "layout": "IPY_MODEL_85f24e57e1dd45b4bedbf9e5e184048a"
      }
     },
     "4afd4416b415493083ef28dc88c098e9": {
      "model_module": "@jupyter-widgets/controls",
      "model_module_version": "2.0.0",
      "model_name": "ButtonModel",
      "state": {
       "description": "Image Widths?",
       "layout": "IPY_MODEL_b406999f638b4a4385e8173dc455bed8",
       "style": "IPY_MODEL_ced5fe0593bf4cc1b272e534b366a676",
       "tooltip": null
      }
     },
     "4c114d014751450486e97269be2e893c": {
      "model_module": "@jupyter-widgets/controls",
      "model_module_version": "2.0.0",
      "model_name": "TextStyleModel",
      "state": {
       "description_width": "",
       "font_size": null,
       "text_color": null
      }
     },
     "4c6d373d78ae49c095081cbc0a89bd93": {
      "model_module": "@jupyter-widgets/controls",
      "model_module_version": "2.0.0",
      "model_name": "ButtonStyleModel",
      "state": {
       "button_color": "lightyellow",
       "font_family": null,
       "font_size": null,
       "font_style": null,
       "font_variant": null,
       "font_weight": null,
       "text_color": null,
       "text_decoration": null
      }
     },
     "4da9595352254ba2af7b482d62b9f5c2": {
      "model_module": "@jupyter-widgets/controls",
      "model_module_version": "2.0.0",
      "model_name": "ButtonStyleModel",
      "state": {
       "button_color": "lightgreen",
       "font_family": null,
       "font_size": null,
       "font_style": null,
       "font_variant": null,
       "font_weight": null,
       "text_color": null,
       "text_decoration": null
      }
     },
     "4e431a31248b42c5af8083314032559d": {
      "model_module": "@jupyter-widgets/controls",
      "model_module_version": "2.0.0",
      "model_name": "ButtonModel",
      "state": {
       "description": "Clear Row",
       "layout": "IPY_MODEL_3203319912b24ee4913615af834c95c1",
       "style": "IPY_MODEL_c64a6f0db19a4cffaabb39df2dbb0f9c",
       "tooltip": null
      }
     },
     "50b58844910b46de89038ec0f8f7142c": {
      "model_module": "@jupyter-widgets/base",
      "model_module_version": "2.0.0",
      "model_name": "LayoutModel",
      "state": {}
     },
     "50d1d987e947452e9003b7b83a0aa4de": {
      "model_module": "@jupyter-widgets/controls",
      "model_module_version": "2.0.0",
      "model_name": "TextStyleModel",
      "state": {
       "description_width": "",
       "font_size": null,
       "text_color": null
      }
     },
     "513aa7d7bddf45ba9094acb7d31d551d": {
      "model_module": "@jupyter-widgets/controls",
      "model_module_version": "2.0.0",
      "model_name": "TextStyleModel",
      "state": {
       "background": "beige",
       "description_width": "",
       "font_size": null,
       "text_color": null
      }
     },
     "52cf92f3e52d4ae6a1e1789d580d12f9": {
      "model_module": "@jupyter-widgets/controls",
      "model_module_version": "2.0.0",
      "model_name": "ButtonStyleModel",
      "state": {
       "font_family": null,
       "font_size": null,
       "font_style": null,
       "font_variant": null,
       "font_weight": null,
       "text_color": null,
       "text_decoration": null
      }
     },
     "538b0540036e487ea680b9c6dfafa12b": {
      "model_module": "@jupyter-widgets/base",
      "model_module_version": "2.0.0",
      "model_name": "LayoutModel",
      "state": {}
     },
     "5398de78d6784b2b91b0c5c1cea7a75e": {
      "model_module": "@jupyter-widgets/controls",
      "model_module_version": "2.0.0",
      "model_name": "TextStyleModel",
      "state": {
       "description_width": "",
       "font_size": null,
       "text_color": null
      }
     },
     "549eba84958845999680bc20803ce33b": {
      "model_module": "@jupyter-widgets/base",
      "model_module_version": "2.0.0",
      "model_name": "LayoutModel",
      "state": {}
     },
     "54de4f94ed0642759ad3598ca66efecd": {
      "model_module": "@jupyter-widgets/base",
      "model_module_version": "2.0.0",
      "model_name": "LayoutModel",
      "state": {}
     },
     "54e2dafd0f094dafb18eadf29f3da6a0": {
      "model_module": "@jupyter-widgets/controls",
      "model_module_version": "2.0.0",
      "model_name": "TextModel",
      "state": {
       "description": "Secondary Type",
       "layout": "IPY_MODEL_0d11274a3951417588770df452aafedb",
       "style": "IPY_MODEL_fe41b9b6d0d34049b7108baddbb8b00b"
      }
     },
     "553cfd9fdb724457945e745e0ac61974": {
      "model_module": "@jupyter-widgets/base",
      "model_module_version": "2.0.0",
      "model_name": "LayoutModel",
      "state": {}
     },
     "561503c0e9504868aff2329bc9054361": {
      "model_module": "@jupyter-widgets/controls",
      "model_module_version": "2.0.0",
      "model_name": "TextModel",
      "state": {
       "description": "Freshness",
       "layout": "IPY_MODEL_d9f9435d86c94c0688cd7111560dc97d",
       "style": "IPY_MODEL_955f486e055947aca89747d5a58b08be"
      }
     },
     "562483d3708842eab21923dadfa83179": {
      "model_module": "@jupyter-widgets/output",
      "model_module_version": "1.0.0",
      "model_name": "OutputModel",
      "state": {
       "layout": "IPY_MODEL_92696dcda01646c686272c269b0f9825"
      }
     },
     "57ec78d9014f46c2b6bdd45cc64425fd": {
      "model_module": "@jupyter-widgets/controls",
      "model_module_version": "2.0.0",
      "model_name": "TextareaModel",
      "state": {
       "layout": "IPY_MODEL_1176f089ef21443091a4fd99612d1ab5",
       "style": "IPY_MODEL_5d75f023270a43a2a81403968ebf4281",
       "value": "<html>\n <body>\n  <h1 id=\"page-title\">\n   Delta del Orinoco Biosphere Reserve, Venezuela\n  </h1>\n  <div id=\"page-content\">\n   <section id=\"block-system-main\">\n    <article id=\"node-310981\">\n     <div id=\"content--12014\">\n      <h3>\n      </h3>\n      <p>\n       <img alt=\"\" src=\"http://res.cloudinary.com/e-nable-org/image/upload/v1688398921/jpg.jpg\" width=\"100%\"/>\n      </p>\n      <p>\n       The Delta del Orinoco Biosphere Reserve (DOBR) was created by Decree N؛ 1.633 of 05-06-1991 (Official Gazette N؛ 34.812 of 3-10-1991) and encompass 1.125.000 ha including the protected areas, the buffer and transition areas, which represents circa 31% of Delta Amacuro State total surface.A great biological diversity characterizes the terrestrial and aquatic ecosystems of the Delta del Orinoco. These ecosystems comprise a variable vegetation with more than 2.000 plants and a very rich terrestrial and aquatic fauna integrated for more than 151 mammals species, 464 bird species, 76 reptiles, 39 amphibians and 210 ichthyology species. Considerable amounts of terrestrial and aquatic invertebrates inhabit this territory.\n      </p>\n      <h3>\n       Designation date:2009\n      </h3>\n      <h3>\n       Networks\n      </h3>\n      <p>\n       <strong>\n        Regional network:\n       </strong>\n       <a href=\"http://www.unesco.org/new/es/natural-sciences/environment/ecological-sciences/man-and-biosphere-programme/networks/iberomab/\">\n        Red de Comités y Reservas de Biosfera de Iberoamérica y el Caribe (IberoMAB)\n       </a>\n      </p>\n      <p>\n       <strong>\n        Ecosystem-based network:\n       </strong>\n      </p>\n      <ul>\n      </ul>\n      <h3>\n       Description\n      </h3>\n      <p>\n       <strong>\n        Map\n       </strong>\n      </p>\n      <p>\n       <strong>\n        Surface :\n       </strong>\n       877,850ha\n      </p>\n      <ul>\n       <li>\n        Core area(s): 159,800 ha\n       </li>\n       <li>\n        Buffer zone(s): 184,600 ha\n       </li>\n       <li>\n        Transition zone(s): 534,100 ha\n       </li>\n      </ul>\n      <p>\n       <strong>\n        Location:\n       </strong>\n       N/A\n      </p>\n      <h3>\n       Administrative Authorities\n      </h3>\n      <p>\n       <strong>\n        Ministry of Popular Power for the Environment\n       </strong>\n       PO BOX: 1010\n                                    Caracas\n                                    Venezuela\n      </p>\n      <p>\n       <strong>\n        Tel.:\n       </strong>\n       +58212-408.4764 / 408.2102\n      </p>\n      <p>\n       <strong>\n        Email:\n       </strong>\n       <a href=\"mailto:delta-ondb@minamb.gob.ve\">\n        delta-ondb@minamb.gob.ve\n       </a>\n      </p>\n      <p>\n       <strong>\n        <a href=\"http://www.minamb.gob.ve\">\n         Website\n        </a>\n        ǀ Facebook ǀ Twitter\n       </strong>\n      </p>\n      <p>\n      </p>\n      <h2>\n       Ecological Characteristics\n      </h2>\n      <p>\n       <img alt=\"\" src=\"http://res.cloudinary.com/e-nable-org/image/upload/v1688575014/img_deltadelorinoco_biosphere_reserve_venezuela_unesco_wikimedia_ecologia.jpg\" width=\"100%\"/>\n      </p>\n      <p>\n       The Delta del Orinoco is a highly dynamic and complex fluvial-marine sedimentary basin formed in the Holocene, whose sediments deposited substantially by the Orinoco River main flow and in a lesser degree by geomorphologic units surrounding it, including San Juan River flows and other currents draining from the plains of La Mesa. It is embedded in a mosaic of mangroves, swamp forest, moist forest, plains and aquatic ecosystem of shallow waters. A series of fluvial channels and tide channels, the last one in the coastal plain divide the vegetation.\n      </p>\n      <p>\n       Among its vegetation, dominant species areMachaerium lunatum and Motrichardia arborescens, also Ludwigia spp, Mikania congesta and bignoniaceas climbers. Likewise, floating praires appear formed mainly by the species Eichhornia crassipes y E. azure.\n      </p>\n      <p>\n       In terms of fauna, the Biosphere Reserve is home tovaluable vertebrates and invertebrates of taxonomic value, the latter represented by numerous groups that are important source for local consumption like molusks represented by Crassostrea virginica (oyster), Melongena melongena and Pomacea ursus (guarura). Several crustaceans represented by shrimps and crabs such as Macrobrachium carcinus, Macrobrachium surinamicum, Macrobrachium amazonicum, Litopenaeus schmitti (white shrimp) and Xiphopenaeus kroyeri (titi shrimp).\n      </p>\n      <p>\n       Besides common species in the region, like the Carina moschata,the Biosphere Reserve is also home to various endemic species, such asDasyprocta guamara, Picummus nigropunctatus, Dendrocincla fuliginosa deltana and Anolis deltae.\n      </p>\n      <h2>\n       Socio-Economic Characteristics\n      </h2>\n      <p>\n       <img alt=\"\" src=\"http://res.cloudinary.com/e-nable-org/image/upload/v1688407562/img_deltadelorinoco_biosphere_reserve_venezuela_unesco_wikimedia.jpg\" width=\"100%\"/>\n       Most part of the population and indigenous warao settlements are located and spread in the eastern Delta, conforming most of the population of the sector (approximately 20.000 warao inhabitants). Primary use of this territory is fishing, hunting, harvesting of forestry produce and others that serve as base for handicraft manufacture and agriculture.\n      </p>\n      <p>\n       The Delta del Orinoco has geopolitical relevance because is the country’s entrance to the Atlantic Ocean, because it facilitates communications with the Caribbean Sea and its extraordinary navigation potential, the development of hydrocarbon resources industry and fishing; all important elements for territorial planning programs.\n      </p>\n      <p>\n      </p>\n      <p>\n       <em>\n        Last updated: July 2019\n       </em>\n      </p>\n      <span st_title=\"Delta%20del%20Orinoco%20Biosphere%20Reserve%2C%20Venezuela\" st_url=\"https://en.unesco.org/biosphere/lac/delta-orinoco\">\n      </span>\n      <span st_title=\"Delta%20del%20Orinoco%20Biosphere%20Reserve%2C%20Venezuela\" st_url=\"https://en.unesco.org/biosphere/lac/delta-orinoco\">\n      </span>\n      <span st_title=\"Delta%20del%20Orinoco%20Biosphere%20Reserve%2C%20Venezuela\" st_url=\"https://en.unesco.org/biosphere/lac/delta-orinoco\">\n      </span>\n      )\n     </div>\n    </article>\n   </section>\n  </div>\n </body>\n</html>\n\n~~~ #UnescoBiosphereReserve"
      }
     },
     "594a129e975b45ffbd132cf0fe396722": {
      "model_module": "@jupyter-widgets/controls",
      "model_module_version": "2.0.0",
      "model_name": "ButtonModel",
      "state": {
       "description": "↙ (use)",
       "layout": "IPY_MODEL_5c0c714960994e689bc4b4a1828d3248",
       "style": "IPY_MODEL_52cf92f3e52d4ae6a1e1789d580d12f9",
       "tooltip": null
      }
     },
     "594dc59ce1dc4b04a9af0a839733e5ea": {
      "model_module": "@jupyter-widgets/controls",
      "model_module_version": "2.0.0",
      "model_name": "ButtonStyleModel",
      "state": {
       "font_family": null,
       "font_size": null,
       "font_style": null,
       "font_variant": null,
       "font_weight": null,
       "text_color": null,
       "text_decoration": null
      }
     },
     "59f317af081844e988d3caf879bc7948": {
      "model_module": "@jupyter-widgets/base",
      "model_module_version": "2.0.0",
      "model_name": "LayoutModel",
      "state": {}
     },
     "5a0bbe33982e44fea48996f42b30917e": {
      "model_module": "@jupyter-widgets/controls",
      "model_module_version": "2.0.0",
      "model_name": "ButtonStyleModel",
      "state": {
       "font_family": null,
       "font_size": null,
       "font_style": null,
       "font_variant": null,
       "font_weight": null,
       "text_color": null,
       "text_decoration": null
      }
     },
     "5a445e55093a4d9d989c076e2b67f706": {
      "model_module": "@jupyter-widgets/controls",
      "model_module_version": "2.0.0",
      "model_name": "ButtonStyleModel",
      "state": {
       "button_color": "lightblue",
       "font_family": null,
       "font_size": null,
       "font_style": null,
       "font_variant": null,
       "font_weight": null,
       "text_color": null,
       "text_decoration": null
      }
     },
     "5bd25357c2a4431a81acad04a5d36e88": {
      "model_module": "@jupyter-widgets/controls",
      "model_module_version": "2.0.0",
      "model_name": "ButtonStyleModel",
      "state": {
       "button_color": "lightblue",
       "font_family": null,
       "font_size": null,
       "font_style": null,
       "font_variant": null,
       "font_weight": null,
       "text_color": null,
       "text_decoration": null
      }
     },
     "5c0c714960994e689bc4b4a1828d3248": {
      "model_module": "@jupyter-widgets/base",
      "model_module_version": "2.0.0",
      "model_name": "LayoutModel",
      "state": {}
     },
     "5c286e2a9cc0445c92917e218e41fc0a": {
      "model_module": "@jupyter-widgets/controls",
      "model_module_version": "2.0.0",
      "model_name": "TextStyleModel",
      "state": {
       "description_width": "",
       "font_size": null,
       "text_color": null
      }
     },
     "5cf51718ad2d4ac3a82e7214551445c5": {
      "model_module": "@jupyter-widgets/base",
      "model_module_version": "2.0.0",
      "model_name": "LayoutModel",
      "state": {
       "width": "70px"
      }
     },
     "5d75f023270a43a2a81403968ebf4281": {
      "model_module": "@jupyter-widgets/controls",
      "model_module_version": "2.0.0",
      "model_name": "TextStyleModel",
      "state": {
       "description_width": "",
       "font_size": null,
       "text_color": null
      }
     },
     "5f31a1f60e7d4cb6ab0c658e39800013": {
      "model_module": "@jupyter-widgets/base",
      "model_module_version": "2.0.0",
      "model_name": "LayoutModel",
      "state": {}
     },
     "5fb8d5ac20ae4205b59524a46e6cdc1d": {
      "model_module": "@jupyter-widgets/base",
      "model_module_version": "2.0.0",
      "model_name": "LayoutModel",
      "state": {}
     },
     "6050ffdaf7b94c8fa5c35315ee214684": {
      "model_module": "@jupyter-widgets/controls",
      "model_module_version": "2.0.0",
      "model_name": "ButtonModel",
      "state": {
       "description": "--get Lat, Lon-->",
       "layout": "IPY_MODEL_74f65e82366c455b9fec61a85a7c5d42",
       "style": "IPY_MODEL_933adea6cd4d4d1684df2d38ea85140a",
       "tooltip": null
      }
     },
     "6051db1bc77a48688b20bf8c54f6e5fd": {
      "model_module": "@jupyter-widgets/base",
      "model_module_version": "2.0.0",
      "model_name": "LayoutModel",
      "state": {}
     },
     "6194fc8c1de646a598ec2a458af590e1": {
      "model_module": "@jupyter-widgets/controls",
      "model_module_version": "2.0.0",
      "model_name": "TextModel",
      "state": {
       "description": "Comments",
       "layout": "IPY_MODEL_453890b7ef854b769f07d0e15c436db9",
       "style": "IPY_MODEL_af44f025040e4a4e8f0a87cf710f8257"
      }
     },
     "61cf9610cbc541f5bac461915f615559": {
      "model_module": "@jupyter-widgets/controls",
      "model_module_version": "2.0.0",
      "model_name": "HBoxModel",
      "state": {
       "children": [
        "IPY_MODEL_abc6808782e347cc84df73fe1f55c4d4",
        "IPY_MODEL_77b77db1deb8434c90d0dcf8bac868fd",
        "IPY_MODEL_4e431a31248b42c5af8083314032559d"
       ],
       "layout": "IPY_MODEL_c399b7472b594549ac17efefafbfa290"
      }
     },
     "63ac806f1a144e84966ac6c6be297176": {
      "model_module": "@jupyter-widgets/controls",
      "model_module_version": "2.0.0",
      "model_name": "TextModel",
      "state": {
       "description": "Description",
       "disabled": true,
       "layout": "IPY_MODEL_50b58844910b46de89038ec0f8f7142c",
       "style": "IPY_MODEL_50d1d987e947452e9003b7b83a0aa4de",
       "value": "<html>\n <body>\n  <h1 id=\"page-title\">\n   Delta del Orinoco Biosphere Reserve, Venezuela\n  </h1>\n  <div id=\"page-content\">\n   <section id=\"block-system-main\">\n    <article id=\"node-310981\">\n     <div id=\"content--12014\">\n      <h3>\n      </h3>\n      <p>\n       <img alt=\"\" src=\"http://res.cloudinary.com/e-nable-org/image/upload/v1688398921/jpg.jpg\" width=\"100%\"/>\n      </p>\n      <p>\n       The Delta del Orinoco Biosphere Reserve (DOBR) was created by Decree N؛ 1.633 of 05-06-1991 (Official Gazette N؛ 34.812 of 3-10-1991) and encompass 1.125.000 ha including the protected areas, the buffer and transition areas, which represents circa 31% of Delta Amacuro State total surface.A great biological diversity characterizes the terrestrial and aquatic ecosystems of the Delta del Orinoco. These ecosystems comprise a variable vegetation with more than 2.000 plants and a very rich terrestrial and aquatic fauna integrated for more than 151 mammals species, 464 bird species, 76 reptiles, 39 amphibians and 210 ichthyology species. Considerable amounts of terrestrial and aquatic invertebrates inhabit this territory.\n      </p>\n      <h3>\n       Designation date:2009\n      </h3>\n      <h3>\n       Networks\n      </h3>\n      <p>\n       <strong>\n        Regional network:\n       </strong>\n       <a href=\"http://www.unesco.org/new/es/natural-sciences/environment/ecological-sciences/man-and-biosphere-programme/networks/iberomab/\">\n        Red de Comités y Reservas de Biosfera de Iberoamérica y el Caribe (IberoMAB)\n       </a>\n      </p>\n      <p>\n       <strong>\n        Ecosystem-based network:\n       </strong>\n      </p>\n      <ul>\n      </ul>\n      <h3>\n       Description\n      </h3>\n      <p>\n       <strong>\n        Map\n       </strong>\n      </p>\n      <p>\n       <strong>\n        Surface :\n       </strong>\n       877,850ha\n      </p>\n      <ul>\n       <li>\n        Core area(s): 159,800 ha\n       </li>\n       <li>\n        Buffer zone(s): 184,600 ha\n       </li>\n       <li>\n        Transition zone(s): 534,100 ha\n       </li>\n      </ul>\n      <p>\n       <strong>\n        Location:\n       </strong>\n       N/A\n      </p>\n      <h3>\n       Administrative Authorities\n      </h3>\n      <p>\n       <strong>\n        Ministry of Popular Power for the Environment\n       </strong>\n       PO BOX: 1010\n                                    Caracas\n                                    Venezuela\n      </p>\n      <p>\n       <strong>\n        Tel.:\n       </strong>\n       +58212-408.4764 / 408.2102\n      </p>\n      <p>\n       <strong>\n        Email:\n       </strong>\n       <a href=\"mailto:delta-ondb@minamb.gob.ve\">\n        delta-ondb@minamb.gob.ve\n       </a>\n      </p>\n      <p>\n       <strong>\n        <a href=\"http://www.minamb.gob.ve\">\n         Website\n        </a>\n        ǀ Facebook ǀ Twitter\n       </strong>\n      </p>\n      <p>\n      </p>\n      <h2>\n       Ecological Characteristics\n      </h2>\n      <p>\n       <img alt=\"\" src=\"http://res.cloudinary.com/e-nable-org/image/upload/v1688575014/img_deltadelorinoco_biosphere_reserve_venezuela_unesco_wikimedia_ecologia.jpg\" width=\"100%\"/>\n      </p>\n      <p>\n       The Delta del Orinoco is a highly dynamic and complex fluvial-marine sedimentary basin formed in the Holocene, whose sediments deposited substantially by the Orinoco River main flow and in a lesser degree by geomorphologic units surrounding it, including San Juan River flows and other currents draining from the plains of La Mesa. It is embedded in a mosaic of mangroves, swamp forest, moist forest, plains and aquatic ecosystem of shallow waters. A series of fluvial channels and tide channels, the last one in the coastal plain divide the vegetation.\n      </p>\n      <p>\n       Among its vegetation, dominant species areMachaerium lunatum and Motrichardia arborescens, also Ludwigia spp, Mikania congesta and bignoniaceas climbers. Likewise, floating praires appear formed mainly by the species Eichhornia crassipes y E. azure.\n      </p>\n      <p>\n       In terms of fauna, the Biosphere Reserve is home tovaluable vertebrates and invertebrates of taxonomic value, the latter represented by numerous groups that are important source for local consumption like molusks represented by Crassostrea virginica (oyster), Melongena melongena and Pomacea ursus (guarura). Several crustaceans represented by shrimps and crabs such as Macrobrachium carcinus, Macrobrachium surinamicum, Macrobrachium amazonicum, Litopenaeus schmitti (white shrimp) and Xiphopenaeus kroyeri (titi shrimp).\n      </p>\n      <p>\n       Besides common species in the region, like the Carina moschata,the Biosphere Reserve is also home to various endemic species, such asDasyprocta guamara, Picummus nigropunctatus, Dendrocincla fuliginosa deltana and Anolis deltae.\n      </p>\n      <h2>\n       Socio-Economic Characteristics\n      </h2>\n      <p>\n       <img alt=\"\" src=\"http://res.cloudinary.com/e-nable-org/image/upload/v1688407562/img_deltadelorinoco_biosphere_reserve_venezuela_unesco_wikimedia.jpg\" width=\"100%\"/>\n       Most part of the population and indigenous warao settlements are located and spread in the eastern Delta, conforming most of the population of the sector (approximately 20.000 warao inhabitants). Primary use of this territory is fishing, hunting, harvesting of forestry produce and others that serve as base for handicraft manufacture and agriculture.\n      </p>\n      <p>\n       The Delta del Orinoco has geopolitical relevance because is the country’s entrance to the Atlantic Ocean, because it facilitates communications with the Caribbean Sea and its extraordinary navigation potential, the development of hydrocarbon resources industry and fishing; all important elements for territorial planning programs.\n      </p>\n      <p>\n      </p>\n      <p>\n       <em>\n        Last updated: July 2019\n       </em>\n      </p>\n      <span st_title=\"Delta%20del%20Orinoco%20Biosphere%20Reserve%2C%20Venezuela\" st_url=\"https://en.unesco.org/biosphere/lac/delta-orinoco\">\n      </span>\n      <span st_title=\"Delta%20del%20Orinoco%20Biosphere%20Reserve%2C%20Venezuela\" st_url=\"https://en.unesco.org/biosphere/lac/delta-orinoco\">\n      </span>\n      <span st_title=\"Delta%20del%20Orinoco%20Biosphere%20Reserve%2C%20Venezuela\" st_url=\"https://en.unesco.org/biosphere/lac/delta-orinoco\">\n      </span>\n      )\n     </div>\n    </article>\n   </section>\n  </div>\n </body>\n</html>\n\n~~~ #UnescoBiosphereReserve"
      }
     },
     "655bda0cb26a43559dc3f70b37ea60f5": {
      "model_module": "@jupyter-widgets/controls",
      "model_module_version": "2.0.0",
      "model_name": "TextModel",
      "state": {
       "description": "IUCN Func. Group",
       "layout": "IPY_MODEL_836a203e4d424e9e87944796ae54a5bd",
       "style": "IPY_MODEL_229f2e183ee04fb8b9ead58730340e21"
      }
     },
     "66cb475dcc2b43a9bcd024379d08febe": {
      "model_module": "@jupyter-widgets/controls",
      "model_module_version": "2.0.0",
      "model_name": "TextModel",
      "state": {
       "description": "emal Contact",
       "layout": "IPY_MODEL_d59b15b65f074c3ab5d2121911d46907",
       "style": "IPY_MODEL_2928f784468e4b1a9535bc00d683b510"
      }
     },
     "6809d7e082a642f899be066b7ecb2054": {
      "model_module": "@jupyter-widgets/controls",
      "model_module_version": "2.0.0",
      "model_name": "HBoxModel",
      "state": {
       "children": [
        "IPY_MODEL_8bf5b2ddc72d4351b38e84c525cb5f9b",
        "IPY_MODEL_96a0ab0bd4564cb1aa579a1e0ca221db",
        "IPY_MODEL_6050ffdaf7b94c8fa5c35315ee214684",
        "IPY_MODEL_00e3c54a1c6140a780aea9eecaf704ef",
        "IPY_MODEL_be4d8a7e7e644810af137e6edaf7f892"
       ],
       "layout": "IPY_MODEL_73af8b98cacb4b90a25a0c5249e1f5d3"
      }
     },
     "699f2ff6aa814768bfeb0f91fc45569a": {
      "model_module": "@jupyter-widgets/controls",
      "model_module_version": "2.0.0",
      "model_name": "TextModel",
      "state": {
       "description": "Coords. checked?",
       "layout": "IPY_MODEL_cca1a25dbf0544b69714aa57f3dd1a4b",
       "style": "IPY_MODEL_3d6dcec43720409ab3d8d4852ecb3b58"
      }
     },
     "69ed1a8dbeb640cbaafcb882d95095f2": {
      "model_module": "@jupyter-widgets/base",
      "model_module_version": "2.0.0",
      "model_name": "LayoutModel",
      "state": {}
     },
     "6a1cf9796ca14c69b39a561887f47d14": {
      "model_module": "@jupyter-widgets/base",
      "model_module_version": "2.0.0",
      "model_name": "LayoutModel",
      "state": {}
     },
     "6ac8c8b41db940b0bb3d7d9bfea01a09": {
      "model_module": "@jupyter-widgets/controls",
      "model_module_version": "2.0.0",
      "model_name": "TextStyleModel",
      "state": {
       "description_width": "",
       "font_size": null,
       "text_color": null
      }
     },
     "6bd9b927d5c940ef8b75d867e5f54c5d": {
      "model_module": "@jupyter-widgets/base",
      "model_module_version": "2.0.0",
      "model_name": "LayoutModel",
      "state": {
       "width": "70px"
      }
     },
     "6ebe6a19ea604bbfb6b0175eadf2a68e": {
      "model_module": "@jupyter-widgets/controls",
      "model_module_version": "2.0.0",
      "model_name": "ButtonModel",
      "state": {
       "description": "+",
       "layout": "IPY_MODEL_44240df278814bc1b47f2d8eddb59c7f",
       "style": "IPY_MODEL_bf785e68a0084b008b92f2040f6615c2",
       "tooltip": null
      }
     },
     "70bdac6e111740f49ffe1caf16f44b5d": {
      "model_module": "@jupyter-widgets/controls",
      "model_module_version": "2.0.0",
      "model_name": "ButtonModel",
      "state": {
       "description": "Load:",
       "layout": "IPY_MODEL_0c4fc88ade2949279996c054522332ad",
       "style": "IPY_MODEL_8df85416f4774843923f0140b8e94414",
       "tooltip": null
      }
     },
     "70fb2876416a492e87aa6d74148efe32": {
      "model_module": "@jupyter-widgets/controls",
      "model_module_version": "2.0.0",
      "model_name": "TextStyleModel",
      "state": {
       "description_width": "",
       "font_size": null,
       "text_color": null
      }
     },
     "7228bdc770bf43259546d92e3bd5f266": {
      "model_module": "@jupyter-widgets/base",
      "model_module_version": "2.0.0",
      "model_name": "LayoutModel",
      "state": {}
     },
     "73af8b98cacb4b90a25a0c5249e1f5d3": {
      "model_module": "@jupyter-widgets/base",
      "model_module_version": "2.0.0",
      "model_name": "LayoutModel",
      "state": {}
     },
     "74a2a574a53043a2ab813735f9d222fa": {
      "model_module": "@jupyter-widgets/controls",
      "model_module_version": "2.0.0",
      "model_name": "TextModel",
      "state": {
       "description": "Picture",
       "layout": "IPY_MODEL_b44acd7958a74c82bd0ae57473df0940",
       "style": "IPY_MODEL_418aaa0a81f044e0b37c453ff580ed52"
      }
     },
     "74df900f7b2a4210a66a4a7c7a9dabd1": {
      "model_module": "@jupyter-widgets/controls",
      "model_module_version": "2.0.0",
      "model_name": "ButtonStyleModel",
      "state": {
       "font_family": null,
       "font_size": null,
       "font_style": null,
       "font_variant": null,
       "font_weight": null,
       "text_color": null,
       "text_decoration": null
      }
     },
     "74f65e82366c455b9fec61a85a7c5d42": {
      "model_module": "@jupyter-widgets/base",
      "model_module_version": "2.0.0",
      "model_name": "LayoutModel",
      "state": {}
     },
     "76570cd72a324a51b650500e0fed633a": {
      "model_module": "@jupyter-widgets/controls",
      "model_module_version": "2.0.0",
      "model_name": "TextModel",
      "state": {
       "description": "PIP?",
       "layout": "IPY_MODEL_e7a6cb9fa38b4f54bfc192446ae0c316",
       "style": "IPY_MODEL_89e3a54811eb4646aa683694a1212006"
      }
     },
     "77b77db1deb8434c90d0dcf8bac868fd": {
      "model_module": "@jupyter-widgets/controls",
      "model_module_version": "2.0.0",
      "model_name": "ButtonModel",
      "state": {
       "description": "Max = 4200;  Inc?",
       "layout": "IPY_MODEL_911d961ea8984d23800df6e07cda3f8a",
       "style": "IPY_MODEL_5a0bbe33982e44fea48996f42b30917e",
       "tooltip": null
      }
     },
     "781ac5076aca441d981f5f43f96e0100": {
      "model_module": "@jupyter-widgets/base",
      "model_module_version": "2.0.0",
      "model_name": "LayoutModel",
      "state": {}
     },
     "78ce76633e3d44ac9e4323a8c51d0934": {
      "model_module": "@jupyter-widgets/base",
      "model_module_version": "2.0.0",
      "model_name": "LayoutModel",
      "state": {}
     },
     "7ad2a24aa19247ff8f9af13872e65209": {
      "model_module": "@jupyter-widgets/controls",
      "model_module_version": "2.0.0",
      "model_name": "ButtonModel",
      "state": {
       "description": "Store",
       "layout": "IPY_MODEL_0517fa89f2d64c5b8b4b0816a2126060",
       "style": "IPY_MODEL_a2d9351f85ff4d578c22d904e2948c3e",
       "tooltip": null
      }
     },
     "7ad77a2ee254426bb61d767a9a8428dd": {
      "model_module": "@jupyter-widgets/controls",
      "model_module_version": "2.0.0",
      "model_name": "TextStyleModel",
      "state": {
       "description_width": "",
       "font_size": null,
       "text_color": null
      }
     },
     "7c3afdd3030641a28b0eb8dc39f4dea3": {
      "model_module": "@jupyter-widgets/controls",
      "model_module_version": "2.0.0",
      "model_name": "TextStyleModel",
      "state": {
       "description_width": "",
       "font_size": null,
       "text_color": null
      }
     },
     "7d556f63182d4617a3d2ba3a17a82f8d": {
      "model_module": "@jupyter-widgets/controls",
      "model_module_version": "2.0.0",
      "model_name": "TextStyleModel",
      "state": {
       "background": "beige",
       "description_width": "",
       "font_size": null,
       "text_color": null
      }
     },
     "7ea158ac605e409188938bc819dd76e5": {
      "model_module": "@jupyter-widgets/base",
      "model_module_version": "2.0.0",
      "model_name": "LayoutModel",
      "state": {}
     },
     "7f61dd91058649aaa6b887f663e1f183": {
      "model_module": "@jupyter-widgets/controls",
      "model_module_version": "2.0.0",
      "model_name": "TextStyleModel",
      "state": {
       "description_width": "",
       "font_size": null,
       "text_color": null
      }
     },
     "808a7183a5b64165915b4ef03b24925b": {
      "model_module": "@jupyter-widgets/controls",
      "model_module_version": "2.0.0",
      "model_name": "TextModel",
      "state": {
       "description": "a",
       "layout": "IPY_MODEL_2e82f3ccefb4457480e520ab6a884e15",
       "style": "IPY_MODEL_1229ef29d00e4e9394108a8c80bdd589",
       "value": "one"
      }
     },
     "81eee9993d5d45528b551865f23db900": {
      "model_module": "@jupyter-widgets/controls",
      "model_module_version": "2.0.0",
      "model_name": "TextModel",
      "state": {
       "description": "c",
       "layout": "IPY_MODEL_dbc37eb284294d2aa9c29dd1ea357d3d",
       "style": "IPY_MODEL_d2d6ecb4828241f4bef7f0356f65675a",
       "value": "three"
      }
     },
     "831e62350cea4aff888064d942869175": {
      "model_module": "@jupyter-widgets/controls",
      "model_module_version": "2.0.0",
      "model_name": "TextareaModel",
      "state": {
       "layout": "IPY_MODEL_3c98390382c242e7a002bbe3612ff03b",
       "style": "IPY_MODEL_bc4ba90c2fb04568bfd4ecbe5eecbdb5",
       "value": "  GIS @ https://EcoRes.maps.arcgis.com version:2023.2\n   hostedCSV = <Item title:\"Apr4\" type:CSV owner:EcoRes>\n  FeatureLayerService= <Item title:\"Apr4\" type:Feature Layer Collection owner:EcoRes>\n   FLCollection(manager) <FeatureLayerCollection url:\"https://services.arcgis.com/MWLyFaXUMqUtWYtS/arcgis/rest/services/Apr4/FeatureServer\">\n   updating hostedCSV with Apr4.csv...\n  True\n   overwriting Feature Layer...\n"
      }
     },
     "836a203e4d424e9e87944796ae54a5bd": {
      "model_module": "@jupyter-widgets/base",
      "model_module_version": "2.0.0",
      "model_name": "LayoutModel",
      "state": {}
     },
     "841cdf1d68ac471fa027e30f85af717b": {
      "model_module": "@jupyter-widgets/controls",
      "model_module_version": "2.0.0",
      "model_name": "ButtonStyleModel",
      "state": {
       "font_family": null,
       "font_size": null,
       "font_style": null,
       "font_variant": null,
       "font_weight": null,
       "text_color": null,
       "text_decoration": null
      }
     },
     "850daac87a374c60ae108c0fa5b59262": {
      "model_module": "@jupyter-widgets/base",
      "model_module_version": "2.0.0",
      "model_name": "LayoutModel",
      "state": {}
     },
     "8590f361272747d48f4739e759d1016d": {
      "model_module": "@jupyter-widgets/controls",
      "model_module_version": "2.0.0",
      "model_name": "TextModel",
      "state": {
       "description": "Polygon?",
       "layout": "IPY_MODEL_2b807d2ef92d4f03a84eb2f04521264a",
       "style": "IPY_MODEL_5398de78d6784b2b91b0c5c1cea7a75e"
      }
     },
     "85f24e57e1dd45b4bedbf9e5e184048a": {
      "model_module": "@jupyter-widgets/base",
      "model_module_version": "2.0.0",
      "model_name": "LayoutModel",
      "state": {}
     },
     "871a3f6a1d7e4be88c2c1eff9a972930": {
      "model_module": "@jupyter-widgets/base",
      "model_module_version": "2.0.0",
      "model_name": "LayoutModel",
      "state": {}
     },
     "875efa7fa285423bbe02bb87edb349d1": {
      "model_module": "@jupyter-widgets/base",
      "model_module_version": "2.0.0",
      "model_name": "LayoutModel",
      "state": {}
     },
     "89e3a54811eb4646aa683694a1212006": {
      "model_module": "@jupyter-widgets/controls",
      "model_module_version": "2.0.0",
      "model_name": "TextStyleModel",
      "state": {
       "description_width": "",
       "font_size": null,
       "text_color": null
      }
     },
     "8bf5b2ddc72d4351b38e84c525cb5f9b": {
      "model_module": "@jupyter-widgets/controls",
      "model_module_version": "2.0.0",
      "model_name": "ButtonModel",
      "state": {
       "disabled": true,
       "layout": "IPY_MODEL_99841a672c6b4cce956139b74e5145e2",
       "style": "IPY_MODEL_f9720fd9f14242a58849ee7958eb25cd",
       "tooltip": null
      }
     },
     "8df85416f4774843923f0140b8e94414": {
      "model_module": "@jupyter-widgets/controls",
      "model_module_version": "2.0.0",
      "model_name": "ButtonStyleModel",
      "state": {
       "button_color": "lightblue",
       "font_family": null,
       "font_size": null,
       "font_style": null,
       "font_variant": null,
       "font_weight": null,
       "text_color": null,
       "text_decoration": null
      }
     },
     "8faedf7814204647a91fce01b482cad9": {
      "model_module": "@jupyter-widgets/base",
      "model_module_version": "2.0.0",
      "model_name": "LayoutModel",
      "state": {}
     },
     "9048bace5b14408ba80bc4053bdefdf8": {
      "model_module": "@jupyter-widgets/controls",
      "model_module_version": "2.0.0",
      "model_name": "TextStyleModel",
      "state": {
       "description_width": "",
       "font_size": null,
       "text_color": null
      }
     },
     "911d961ea8984d23800df6e07cda3f8a": {
      "model_module": "@jupyter-widgets/base",
      "model_module_version": "2.0.0",
      "model_name": "LayoutModel",
      "state": {}
     },
     "91d57e612cb24a9aa2a08eb038bc50bc": {
      "model_module": "@jupyter-widgets/controls",
      "model_module_version": "2.0.0",
      "model_name": "VBoxModel",
      "state": {
       "children": [
        "IPY_MODEL_4a93582b2da648438b1ac31d99a8a742"
       ],
       "layout": "IPY_MODEL_155aee52e66c4370a1144c6b66cd6dca"
      }
     },
     "91ea528574f74ed8bc10563702138df0": {
      "model_module": "@jupyter-widgets/base",
      "model_module_version": "2.0.0",
      "model_name": "LayoutModel",
      "state": {}
     },
     "92696dcda01646c686272c269b0f9825": {
      "model_module": "@jupyter-widgets/base",
      "model_module_version": "2.0.0",
      "model_name": "LayoutModel",
      "state": {}
     },
     "933adea6cd4d4d1684df2d38ea85140a": {
      "model_module": "@jupyter-widgets/controls",
      "model_module_version": "2.0.0",
      "model_name": "ButtonStyleModel",
      "state": {
       "button_color": "#F5F5DC",
       "font_family": null,
       "font_size": null,
       "font_style": null,
       "font_variant": null,
       "font_weight": null,
       "text_color": null,
       "text_decoration": null
      }
     },
     "9444962bccad4bd9a7c6447ea9e6b33b": {
      "model_module": "@jupyter-widgets/base",
      "model_module_version": "2.0.0",
      "model_name": "LayoutModel",
      "state": {}
     },
     "948d6bcc16164118b618905f1b2e4181": {
      "model_module": "@jupyter-widgets/controls",
      "model_module_version": "2.0.0",
      "model_name": "ButtonModel",
      "state": {
       "description": "↙ (use)",
       "layout": "IPY_MODEL_f4b5f2d2a8de43e1adde6dc46be9aa41",
       "style": "IPY_MODEL_5bd25357c2a4431a81acad04a5d36e88",
       "tooltip": null
      }
     },
     "955f486e055947aca89747d5a58b08be": {
      "model_module": "@jupyter-widgets/controls",
      "model_module_version": "2.0.0",
      "model_name": "TextStyleModel",
      "state": {
       "description_width": "",
       "font_size": null,
       "text_color": null
      }
     },
     "96819133454c4878b7d28dd21cfd3b80": {
      "model_module": "@jupyter-widgets/controls",
      "model_module_version": "2.0.0",
      "model_name": "ButtonModel",
      "state": {
       "description": "Revert",
       "layout": "IPY_MODEL_5f31a1f60e7d4cb6ab0c658e39800013",
       "style": "IPY_MODEL_4c6d373d78ae49c095081cbc0a89bd93",
       "tooltip": null
      }
     },
     "96a0ab0bd4564cb1aa579a1e0ca221db": {
      "model_module": "@jupyter-widgets/controls",
      "model_module_version": "2.0.0",
      "model_name": "TextModel",
      "state": {
       "layout": "IPY_MODEL_dd2300d1785843a2a0068c037495aa35",
       "style": "IPY_MODEL_513aa7d7bddf45ba9094acb7d31d551d",
       "value": "Gaithersburg"
      }
     },
     "9714886819b441039901fc3ee814570b": {
      "model_module": "@jupyter-widgets/base",
      "model_module_version": "2.0.0",
      "model_name": "LayoutModel",
      "state": {}
     },
     "99841a672c6b4cce956139b74e5145e2": {
      "model_module": "@jupyter-widgets/base",
      "model_module_version": "2.0.0",
      "model_name": "LayoutModel",
      "state": {}
     },
     "9a46d19f67b34959a86b890b53b23d1b": {
      "model_module": "@jupyter-widgets/base",
      "model_module_version": "2.0.0",
      "model_name": "LayoutModel",
      "state": {}
     },
     "9ee5f8418c6845cc8421f3d26d2efe91": {
      "model_module": "@jupyter-widgets/base",
      "model_module_version": "2.0.0",
      "model_name": "LayoutModel",
      "state": {}
     },
     "9f92f4f7c07e4f6881bf594596e43b40": {
      "model_module": "@jupyter-widgets/base",
      "model_module_version": "2.0.0",
      "model_name": "LayoutModel",
      "state": {}
     },
     "a19eb9e493ee4c2986ed748bf03b5b31": {
      "model_module": "@jupyter-widgets/base",
      "model_module_version": "2.0.0",
      "model_name": "LayoutModel",
      "state": {}
     },
     "a1c22e9df22641e6885595f2c30a8ff8": {
      "model_module": "@jupyter-widgets/base",
      "model_module_version": "2.0.0",
      "model_name": "LayoutModel",
      "state": {}
     },
     "a2d5d772cfa84412b0e7c125823b08c9": {
      "model_module": "@jupyter-widgets/controls",
      "model_module_version": "2.0.0",
      "model_name": "TextStyleModel",
      "state": {
       "description_width": "",
       "font_size": null,
       "text_color": null
      }
     },
     "a2d9351f85ff4d578c22d904e2948c3e": {
      "model_module": "@jupyter-widgets/controls",
      "model_module_version": "2.0.0",
      "model_name": "ButtonStyleModel",
      "state": {
       "button_color": "lightyellow",
       "font_family": null,
       "font_size": null,
       "font_style": null,
       "font_variant": null,
       "font_weight": null,
       "text_color": null,
       "text_decoration": null
      }
     },
     "a392050840de42448e7f43773bfde949": {
      "model_module": "@jupyter-widgets/controls",
      "model_module_version": "2.0.0",
      "model_name": "TextStyleModel",
      "state": {
       "description_width": "",
       "font_size": null,
       "text_color": null
      }
     },
     "a42152e8ba24468fa5dd9d23cc534c9c": {
      "model_module": "@jupyter-widgets/controls",
      "model_module_version": "2.0.0",
      "model_name": "TextStyleModel",
      "state": {
       "description_width": "",
       "font_size": null,
       "text_color": null
      }
     },
     "a5c5f9c8cf83472db3230d981ae252d5": {
      "model_module": "@jupyter-widgets/controls",
      "model_module_version": "2.0.0",
      "model_name": "TextModel",
      "state": {
       "layout": "IPY_MODEL_1da6b83647da43f99e9bb94a54628e9c",
       "style": "IPY_MODEL_fd6a632d8b524471a41f9e665f577895",
       "value": "        copy uploaded image URL from here"
      }
     },
     "a5d2dbfd53c049d3a51e2471e0b2f71a": {
      "model_module": "@jupyter-widgets/base",
      "model_module_version": "2.0.0",
      "model_name": "LayoutModel",
      "state": {}
     },
     "a6da193d5a8545c8990816cc4e1eb322": {
      "model_module": "@jupyter-widgets/base",
      "model_module_version": "2.0.0",
      "model_name": "LayoutModel",
      "state": {}
     },
     "abc6808782e347cc84df73fe1f55c4d4": {
      "model_module": "@jupyter-widgets/controls",
      "model_module_version": "2.0.0",
      "model_name": "HBoxModel",
      "state": {
       "children": [
        "IPY_MODEL_1c6bcb275d8f44b2bc614bcd828c569a",
        "IPY_MODEL_af962ea58ce44e40889d02d3559b5448",
        "IPY_MODEL_6ebe6a19ea604bbfb6b0175eadf2a68e"
       ],
       "layout": "IPY_MODEL_d553331259e74df4955b58cd6da476df"
      }
     },
     "af44f025040e4a4e8f0a87cf710f8257": {
      "model_module": "@jupyter-widgets/controls",
      "model_module_version": "2.0.0",
      "model_name": "TextStyleModel",
      "state": {
       "description_width": "",
       "font_size": null,
       "text_color": null
      }
     },
     "af962ea58ce44e40889d02d3559b5448": {
      "model_module": "@jupyter-widgets/controls",
      "model_module_version": "2.0.0",
      "model_name": "BoundedIntTextModel",
      "state": {
       "layout": "IPY_MODEL_16152f77ea304fa3ad8fec243505b0d9",
       "max": 4200,
       "min": 1,
       "style": "IPY_MODEL_cea3c46c70754d5b95ca51085daf7d74",
       "value": 4198
      }
     },
     "af9f3460b53b4187938701358600e9b4": {
      "model_module": "@jupyter-widgets/base",
      "model_module_version": "2.0.0",
      "model_name": "LayoutModel",
      "state": {}
     },
     "b0961104328f4344b3856299e75de77b": {
      "model_module": "@jupyter-widgets/controls",
      "model_module_version": "2.0.0",
      "model_name": "TextModel",
      "state": {
       "description": "Social/Web",
       "layout": "IPY_MODEL_9ee5f8418c6845cc8421f3d26d2efe91",
       "style": "IPY_MODEL_159acf2383b44428b4e8382fd2cc5c11"
      }
     },
     "b21da509d15d41489ab6051943cd5203": {
      "model_module": "@jupyter-widgets/controls",
      "model_module_version": "2.0.0",
      "model_name": "TextModel",
      "state": {
       "description": "Approved",
       "layout": "IPY_MODEL_af9f3460b53b4187938701358600e9b4",
       "style": "IPY_MODEL_b3c28855ffc74b1c99d45870ca9bbcaf"
      }
     },
     "b2643a0b5b544fb1adf409c3a94c7357": {
      "model_module": "@jupyter-widgets/base",
      "model_module_version": "2.0.0",
      "model_name": "LayoutModel",
      "state": {}
     },
     "b3c28855ffc74b1c99d45870ca9bbcaf": {
      "model_module": "@jupyter-widgets/controls",
      "model_module_version": "2.0.0",
      "model_name": "TextStyleModel",
      "state": {
       "description_width": "",
       "font_size": null,
       "text_color": null
      }
     },
     "b406999f638b4a4385e8173dc455bed8": {
      "model_module": "@jupyter-widgets/base",
      "model_module_version": "2.0.0",
      "model_name": "LayoutModel",
      "state": {}
     },
     "b44acd7958a74c82bd0ae57473df0940": {
      "model_module": "@jupyter-widgets/base",
      "model_module_version": "2.0.0",
      "model_name": "LayoutModel",
      "state": {}
     },
     "b4cfcb26f3ad44019a9fb0299e3b23cb": {
      "model_module": "@jupyter-widgets/controls",
      "model_module_version": "2.0.0",
      "model_name": "TextStyleModel",
      "state": {
       "description_width": "",
       "font_size": null,
       "text_color": null
      }
     },
     "b6da340e2171422796a477281521c264": {
      "model_module": "@jupyter-widgets/controls",
      "model_module_version": "2.0.0",
      "model_name": "TextStyleModel",
      "state": {
       "description_width": "",
       "font_size": null,
       "text_color": null
      }
     },
     "b7574e6b724d4762821fee3d0acd6883": {
      "model_module": "@jupyter-widgets/base",
      "model_module_version": "2.0.0",
      "model_name": "LayoutModel",
      "state": {}
     },
     "b857aadec6bc4059bd5bb3f56d2d70eb": {
      "model_module": "@jupyter-widgets/controls",
      "model_module_version": "2.0.0",
      "model_name": "TextModel",
      "state": {
       "layout": "IPY_MODEL_9444962bccad4bd9a7c6447ea9e6b33b",
       "style": "IPY_MODEL_c16980eb55be4719902ac623b483ca91",
       "value": "https://en.unesco.org/biosphere/lac/delta-orinoco"
      }
     },
     "b93082b74537468aa5f65f089645d364": {
      "model_module": "@jupyter-widgets/base",
      "model_module_version": "2.0.0",
      "model_name": "LayoutModel",
      "state": {}
     },
     "b9f43eb07d574c84b904b9ba70c126d7": {
      "model_module": "@jupyter-widgets/controls",
      "model_module_version": "2.0.0",
      "model_name": "HBoxModel",
      "state": {
       "children": [
        "IPY_MODEL_7ad2a24aa19247ff8f9af13872e65209",
        "IPY_MODEL_96819133454c4878b7d28dd21cfd3b80",
        "IPY_MODEL_8bf5b2ddc72d4351b38e84c525cb5f9b",
        "IPY_MODEL_26eaed1c218847abb7dfa414c608d03e",
        "IPY_MODEL_6809d7e082a642f899be066b7ecb2054"
       ],
       "layout": "IPY_MODEL_7228bdc770bf43259546d92e3bd5f266"
      }
     },
     "ba59dc9739c64fff9e71349d98014554": {
      "model_module": "@jupyter-widgets/base",
      "model_module_version": "2.0.0",
      "model_name": "LayoutModel",
      "state": {}
     },
     "bb7073318c374d86bedd0d30fe70bb6b": {
      "model_module": "@jupyter-widgets/base",
      "model_module_version": "2.0.0",
      "model_name": "LayoutModel",
      "state": {}
     },
     "bc4ba90c2fb04568bfd4ecbe5eecbdb5": {
      "model_module": "@jupyter-widgets/controls",
      "model_module_version": "2.0.0",
      "model_name": "TextStyleModel",
      "state": {
       "description_width": "",
       "font_size": null,
       "text_color": null
      }
     },
     "bc5ba2f5a6854601b9b58b902d200496": {
      "model_module": "@jupyter-widgets/controls",
      "model_module_version": "2.0.0",
      "model_name": "TextModel",
      "state": {
       "description": "y2",
       "layout": "IPY_MODEL_06fe068bdadc4472a18a80ca31c68d14",
       "style": "IPY_MODEL_7f61dd91058649aaa6b887f663e1f183"
      }
     },
     "be4d8a7e7e644810af137e6edaf7f892": {
      "model_module": "@jupyter-widgets/controls",
      "model_module_version": "2.0.0",
      "model_name": "ButtonModel",
      "state": {
       "description": "↙ (use)",
       "layout": "IPY_MODEL_54de4f94ed0642759ad3598ca66efecd",
       "style": "IPY_MODEL_0313cf2f5068421db956e9d10b641cfa",
       "tooltip": null
      }
     },
     "be6476bb645b4238a3d1fa766a951cfa": {
      "model_module": "@jupyter-widgets/base",
      "model_module_version": "2.0.0",
      "model_name": "LayoutModel",
      "state": {}
     },
     "beb43957b6e944f39ce56f535dffc996": {
      "model_module": "@jupyter-widgets/controls",
      "model_module_version": "2.0.0",
      "model_name": "ButtonModel",
      "state": {
       "description": "restartChromes",
       "layout": "IPY_MODEL_781ac5076aca441d981f5f43f96e0100",
       "style": "IPY_MODEL_14cb17539f6c469e84946d7a52222fc2",
       "tooltip": null
      }
     },
     "bf1e0e0499594ae3a9480026529f143f": {
      "model_module": "@jupyter-widgets/controls",
      "model_module_version": "2.0.0",
      "model_name": "TextModel",
      "state": {
       "description": "ObjectId2",
       "layout": "IPY_MODEL_9a46d19f67b34959a86b890b53b23d1b",
       "style": "IPY_MODEL_a42152e8ba24468fa5dd9d23cc534c9c"
      }
     },
     "bf785e68a0084b008b92f2040f6615c2": {
      "model_module": "@jupyter-widgets/controls",
      "model_module_version": "2.0.0",
      "model_name": "ButtonStyleModel",
      "state": {
       "font_family": null,
       "font_size": null,
       "font_style": null,
       "font_variant": null,
       "font_weight": null,
       "text_color": null,
       "text_decoration": null
      }
     },
     "bf94583100294d01bc90cb7e2ad064d3": {
      "model_module": "@jupyter-widgets/controls",
      "model_module_version": "2.0.0",
      "model_name": "TextStyleModel",
      "state": {
       "description_width": "",
       "font_size": null,
       "text_color": null
      }
     },
     "bfaad60a5e6d4da6be53028f6c77ceb9": {
      "model_module": "@jupyter-widgets/controls",
      "model_module_version": "2.0.0",
      "model_name": "TextStyleModel",
      "state": {
       "description_width": "",
       "font_size": null,
       "text_color": null
      }
     },
     "c0b11f6cb6aa496dbddac5f72904ec55": {
      "model_module": "@jupyter-widgets/controls",
      "model_module_version": "2.0.0",
      "model_name": "TextModel",
      "state": {
       "description": "Project Name",
       "layout": "IPY_MODEL_ba59dc9739c64fff9e71349d98014554",
       "style": "IPY_MODEL_fac266c316434782a06be4fd511778c7",
       "value": "Venezuela: Delta del Orinoco Biosphere Reserve"
      }
     },
     "c11e9e8b68ce48a293a9f3ed0fe9c364": {
      "model_module": "@jupyter-widgets/base",
      "model_module_version": "2.0.0",
      "model_name": "LayoutModel",
      "state": {}
     },
     "c16980eb55be4719902ac623b483ca91": {
      "model_module": "@jupyter-widgets/controls",
      "model_module_version": "2.0.0",
      "model_name": "TextStyleModel",
      "state": {
       "background": "lightblue",
       "description_width": "",
       "font_size": null,
       "text_color": null
      }
     },
     "c1788a20098f4bfaae7e737717bef5f0": {
      "model_module": "@jupyter-widgets/controls",
      "model_module_version": "2.0.0",
      "model_name": "TextModel",
      "state": {
       "description": "AgroEcology",
       "layout": "IPY_MODEL_b93082b74537468aa5f65f089645d364",
       "style": "IPY_MODEL_6ac8c8b41db940b0bb3d7d9bfea01a09"
      }
     },
     "c399b7472b594549ac17efefafbfa290": {
      "model_module": "@jupyter-widgets/base",
      "model_module_version": "2.0.0",
      "model_name": "LayoutModel",
      "state": {}
     },
     "c3b8e38ecd3e41528831a91f2fd03830": {
      "model_module": "@jupyter-widgets/base",
      "model_module_version": "2.0.0",
      "model_name": "LayoutModel",
      "state": {
       "height": "1000px",
       "width": "30%"
      }
     },
     "c3e75c160fff4508a4d4cd7abfac24e3": {
      "model_module": "@jupyter-widgets/controls",
      "model_module_version": "2.0.0",
      "model_name": "ButtonModel",
      "state": {
       "description": "Capture WYSIWYG",
       "layout": "IPY_MODEL_7ea158ac605e409188938bc819dd76e5",
       "style": "IPY_MODEL_088d1a192747468abb4bc898019acef1",
       "tooltip": null
      }
     },
     "c63c73426d894fa397a3966c67fc005e": {
      "model_module": "@jupyter-widgets/controls",
      "model_module_version": "2.0.0",
      "model_name": "TextModel",
      "state": {
       "description": "x2",
       "layout": "IPY_MODEL_6a1cf9796ca14c69b39a561887f47d14",
       "style": "IPY_MODEL_3211db143fc94c10804c338978e4c987"
      }
     },
     "c64a6f0db19a4cffaabb39df2dbb0f9c": {
      "model_module": "@jupyter-widgets/controls",
      "model_module_version": "2.0.0",
      "model_name": "ButtonStyleModel",
      "state": {
       "font_family": null,
       "font_size": null,
       "font_style": null,
       "font_variant": null,
       "font_weight": null,
       "text_color": null,
       "text_decoration": null
      }
     },
     "c9365a44dc2d4a12b7404243d5e7e59e": {
      "model_module": "@jupyter-widgets/base",
      "model_module_version": "2.0.0",
      "model_name": "LayoutModel",
      "state": {}
     },
     "c950b441fc73443faa7a6f40f42eb8d7": {
      "model_module": "@jupyter-widgets/controls",
      "model_module_version": "2.0.0",
      "model_name": "ButtonModel",
      "state": {
       "description": "Capture WYSIWYG",
       "layout": "IPY_MODEL_549eba84958845999680bc20803ce33b",
       "style": "IPY_MODEL_36e1c3db45384ea5b18e4b6314b7ad4f",
       "tooltip": null
      }
     },
     "cb04cf1d482c437880a3a03bbad488cd": {
      "model_module": "@jupyter-widgets/controls",
      "model_module_version": "2.0.0",
      "model_name": "VBoxModel",
      "state": {
       "children": [
        "IPY_MODEL_c0b11f6cb6aa496dbddac5f72904ec55",
        "IPY_MODEL_cb1322f7a130460896647800975a2c77",
        "IPY_MODEL_63ac806f1a144e84966ac6c6be297176",
        "IPY_MODEL_54e2dafd0f094dafb18eadf29f3da6a0",
        "IPY_MODEL_e04c1f0df7c547b58b821f5b20a092a9",
        "IPY_MODEL_b21da509d15d41489ab6051943cd5203",
        "IPY_MODEL_e4388ddcf07f44ee968428a8f6824f0b",
        "IPY_MODEL_74a2a574a53043a2ab813735f9d222fa",
        "IPY_MODEL_43c068acb1b5438c93bcfc978056b361",
        "IPY_MODEL_f009b6dcb7294438a26753e677ba3768",
        "IPY_MODEL_3442e646838a4bce8230ce995670a408",
        "IPY_MODEL_b0961104328f4344b3856299e75de77b",
        "IPY_MODEL_e1edd2a0f77a46acaaf2e4aa26e7fdcf",
        "IPY_MODEL_34a66a04050a4a2ea06e4081ea1f4643",
        "IPY_MODEL_ef9686ba27d94736bcf68c973689a833",
        "IPY_MODEL_c1788a20098f4bfaae7e737717bef5f0",
        "IPY_MODEL_d668041565704bc19ccf943a1fb57ab9",
        "IPY_MODEL_db421140d1cc414a95bdd2254cf1fccb",
        "IPY_MODEL_169780d1e4ef4420b68f90bb21b522e5",
        "IPY_MODEL_e34be35cee2b416ca68d071b2bf02351",
        "IPY_MODEL_561503c0e9504868aff2329bc9054361",
        "IPY_MODEL_f22b688018fe44b798211971dd4a9519",
        "IPY_MODEL_31fe7bfe6d58432cbd63ae7507729599",
        "IPY_MODEL_0b9b8045cdb9427b8f8005e0aab821d9",
        "IPY_MODEL_bf1e0e0499594ae3a9480026529f143f",
        "IPY_MODEL_cd4c203f3f9f43f9b2a896ae4bdb04d0",
        "IPY_MODEL_1a29088499b74947be187fa75d25743b",
        "IPY_MODEL_8590f361272747d48f4739e759d1016d",
        "IPY_MODEL_76570cd72a324a51b650500e0fed633a",
        "IPY_MODEL_699f2ff6aa814768bfeb0f91fc45569a",
        "IPY_MODEL_6194fc8c1de646a598ec2a458af590e1",
        "IPY_MODEL_c63c73426d894fa397a3966c67fc005e",
        "IPY_MODEL_bc5ba2f5a6854601b9b58b902d200496",
        "IPY_MODEL_34db4ff22dac457c81b58478aa247a8b",
        "IPY_MODEL_66cb475dcc2b43a9bcd024379d08febe",
        "IPY_MODEL_655bda0cb26a43559dc3f70b37ea60f5",
        "IPY_MODEL_41f532e9434441e98e2b4af12675c47a",
        "IPY_MODEL_2f14877475b94c7e998e65bd6d1114a4"
       ],
       "layout": "IPY_MODEL_2c268f5eb1ed42b8bc8d5b2b2cc9b61e"
      }
     },
     "cb1322f7a130460896647800975a2c77": {
      "model_module": "@jupyter-widgets/controls",
      "model_module_version": "2.0.0",
      "model_name": "TextModel",
      "state": {
       "description": "Source",
       "layout": "IPY_MODEL_b7574e6b724d4762821fee3d0acd6883",
       "style": "IPY_MODEL_e43cdaa2605e46d988b71ef7e8a79a5e",
       "value": "https://en.unesco.org/biosphere/lac/delta-orinoco"
      }
     },
     "cca1a25dbf0544b69714aa57f3dd1a4b": {
      "model_module": "@jupyter-widgets/base",
      "model_module_version": "2.0.0",
      "model_name": "LayoutModel",
      "state": {}
     },
     "cd4c203f3f9f43f9b2a896ae4bdb04d0": {
      "model_module": "@jupyter-widgets/controls",
      "model_module_version": "2.0.0",
      "model_name": "TextModel",
      "state": {
       "description": "Phone",
       "layout": "IPY_MODEL_c11e9e8b68ce48a293a9f3ed0fe9c364",
       "style": "IPY_MODEL_d1cb06ce3a13428c8930dfd5ba851bae"
      }
     },
     "cea3c46c70754d5b95ca51085daf7d74": {
      "model_module": "@jupyter-widgets/controls",
      "model_module_version": "2.0.0",
      "model_name": "DescriptionStyleModel",
      "state": {
       "description_width": ""
      }
     },
     "ced5fe0593bf4cc1b272e534b366a676": {
      "model_module": "@jupyter-widgets/controls",
      "model_module_version": "2.0.0",
      "model_name": "ButtonStyleModel",
      "state": {
       "font_family": null,
       "font_size": null,
       "font_style": null,
       "font_variant": null,
       "font_weight": null,
       "text_color": null,
       "text_decoration": null
      }
     },
     "cf6f7cf80e0a48dba351b966389cad17": {
      "model_module": "@jupyter-widgets/controls",
      "model_module_version": "2.0.0",
      "model_name": "ButtonModel",
      "state": {
       "description": "Strip tags",
       "layout": "IPY_MODEL_22334e35bbc14e029d236c9d1d1a2898",
       "style": "IPY_MODEL_00a5eb7f0dea4930b0f1ca52afe43c7a",
       "tooltip": null
      }
     },
     "d1cb06ce3a13428c8930dfd5ba851bae": {
      "model_module": "@jupyter-widgets/controls",
      "model_module_version": "2.0.0",
      "model_name": "TextStyleModel",
      "state": {
       "description_width": "",
       "font_size": null,
       "text_color": null
      }
     },
     "d2d6ecb4828241f4bef7f0356f65675a": {
      "model_module": "@jupyter-widgets/controls",
      "model_module_version": "2.0.0",
      "model_name": "TextStyleModel",
      "state": {
       "description_width": "",
       "font_size": null,
       "text_color": null
      }
     },
     "d553331259e74df4955b58cd6da476df": {
      "model_module": "@jupyter-widgets/base",
      "model_module_version": "2.0.0",
      "model_name": "LayoutModel",
      "state": {
       "width": "120px"
      }
     },
     "d59b15b65f074c3ab5d2121911d46907": {
      "model_module": "@jupyter-widgets/base",
      "model_module_version": "2.0.0",
      "model_name": "LayoutModel",
      "state": {}
     },
     "d668041565704bc19ccf943a1fb57ab9": {
      "model_module": "@jupyter-widgets/controls",
      "model_module_version": "2.0.0",
      "model_name": "TextModel",
      "state": {
       "description": "MongaBay",
       "layout": "IPY_MODEL_17b82600966c4d009410d27c03cbccbe",
       "style": "IPY_MODEL_7c3afdd3030641a28b0eb8dc39f4dea3"
      }
     },
     "d72c1ed1766242f5886c9a53dc0cc472": {
      "model_module": "@jupyter-widgets/controls",
      "model_module_version": "2.0.0",
      "model_name": "ButtonModel",
      "state": {
       "description": "Strip tags",
       "layout": "IPY_MODEL_a5d2dbfd53c049d3a51e2471e0b2f71a",
       "style": "IPY_MODEL_4da9595352254ba2af7b482d62b9f5c2",
       "tooltip": null
      }
     },
     "d7ee12c7648249e8bba9cca209b695da": {
      "model_module": "@jupyter-widgets/base",
      "model_module_version": "2.0.0",
      "model_name": "LayoutModel",
      "state": {}
     },
     "d9f9435d86c94c0688cd7111560dc97d": {
      "model_module": "@jupyter-widgets/base",
      "model_module_version": "2.0.0",
      "model_name": "LayoutModel",
      "state": {}
     },
     "db421140d1cc414a95bdd2254cf1fccb": {
      "model_module": "@jupyter-widgets/controls",
      "model_module_version": "2.0.0",
      "model_name": "TextModel",
      "state": {
       "description": "United Designers",
       "layout": "IPY_MODEL_69ed1a8dbeb640cbaafcb882d95095f2",
       "style": "IPY_MODEL_bf94583100294d01bc90cb7e2ad064d3"
      }
     },
     "db698040783a4cacb72232730736aa7c": {
      "model_module": "@jupyter-widgets/controls",
      "model_module_version": "2.0.0",
      "model_name": "VBoxModel",
      "state": {
       "children": [
        "IPY_MODEL_336279c740b94a2c9462fb31f2aff74e"
       ],
       "layout": "IPY_MODEL_5fb8d5ac20ae4205b59524a46e6cdc1d"
      }
     },
     "dbc37eb284294d2aa9c29dd1ea357d3d": {
      "model_module": "@jupyter-widgets/base",
      "model_module_version": "2.0.0",
      "model_name": "LayoutModel",
      "state": {}
     },
     "dbd5d17aaf0b447bae77b6a508348ae8": {
      "model_module": "@jupyter-widgets/output",
      "model_module_version": "1.0.0",
      "model_name": "OutputModel",
      "state": {
       "layout": "IPY_MODEL_fcf30bf44e214c0a801ade57399e1f00"
      }
     },
     "dd2300d1785843a2a0068c037495aa35": {
      "model_module": "@jupyter-widgets/base",
      "model_module_version": "2.0.0",
      "model_name": "LayoutModel",
      "state": {}
     },
     "dd3e31c80a8c4d21922dad0515e7037d": {
      "model_module": "@jupyter-widgets/controls",
      "model_module_version": "2.0.0",
      "model_name": "ButtonStyleModel",
      "state": {
       "font_family": null,
       "font_size": null,
       "font_style": null,
       "font_variant": null,
       "font_weight": null,
       "text_color": null,
       "text_decoration": null
      }
     },
     "dff63e6294b747e88b800860f97e932c": {
      "model_module": "@jupyter-widgets/controls",
      "model_module_version": "2.0.0",
      "model_name": "TextStyleModel",
      "state": {
       "description_width": "",
       "font_size": null,
       "text_color": null
      }
     },
     "e04c1f0df7c547b58b821f5b20a092a9": {
      "model_module": "@jupyter-widgets/controls",
      "model_module_version": "2.0.0",
      "model_name": "TextModel",
      "state": {
       "description": "Dominant Type",
       "layout": "IPY_MODEL_850daac87a374c60ae108c0fa5b59262",
       "style": "IPY_MODEL_70fb2876416a492e87aa6d74148efe32"
      }
     },
     "e1e25130843f45058a0c95a37fa45443": {
      "model_module": "@jupyter-widgets/base",
      "model_module_version": "2.0.0",
      "model_name": "LayoutModel",
      "state": {
       "width": "10%"
      }
     },
     "e1edd2a0f77a46acaaf2e4aa26e7fdcf": {
      "model_module": "@jupyter-widgets/controls",
      "model_module_version": "2.0.0",
      "model_name": "TextModel",
      "state": {
       "description": "GER Hall of Fame",
       "layout": "IPY_MODEL_025c3ad4bc944997830d15d21f42d559",
       "style": "IPY_MODEL_269c2a320eef46bc8daae52b692233c9"
      }
     },
     "e34be35cee2b416ca68d071b2bf02351": {
      "model_module": "@jupyter-widgets/controls",
      "model_module_version": "2.0.0",
      "model_name": "TextModel",
      "state": {
       "description": "Unnamed: 19",
       "layout": "IPY_MODEL_4002b08584de4353a23243f18974ffa4",
       "style": "IPY_MODEL_3a7378e77697400e9eb0fa859ebcff45"
      }
     },
     "e4388ddcf07f44ee968428a8f6824f0b": {
      "model_module": "@jupyter-widgets/controls",
      "model_module_version": "2.0.0",
      "model_name": "TextModel",
      "state": {
       "description": "Thumbnails",
       "layout": "IPY_MODEL_39e570cbb9e0449eba7d7f505b223f47",
       "style": "IPY_MODEL_b6da340e2171422796a477281521c264"
      }
     },
     "e43cdaa2605e46d988b71ef7e8a79a5e": {
      "model_module": "@jupyter-widgets/controls",
      "model_module_version": "2.0.0",
      "model_name": "TextStyleModel",
      "state": {
       "description_width": "",
       "font_size": null,
       "text_color": null
      }
     },
     "e7a6cb9fa38b4f54bfc192446ae0c316": {
      "model_module": "@jupyter-widgets/base",
      "model_module_version": "2.0.0",
      "model_name": "LayoutModel",
      "state": {}
     },
     "e7fa66f8bb8f40819a11ba0351bc5b88": {
      "model_module": "@jupyter-widgets/controls",
      "model_module_version": "2.0.0",
      "model_name": "FileUploadModel",
      "state": {
       "accept": "image/*",
       "description": "New Image to Cloudinary?",
       "description_allow_html": false,
       "layout": "IPY_MODEL_1388e8bce47149cdbd0be13a4c842dd6",
       "style": "IPY_MODEL_594dc59ce1dc4b04a9af0a839733e5ea"
      }
     },
     "e959d86c2dae4828a1512dea733ff983": {
      "model_module": "@jupyter-widgets/controls",
      "model_module_version": "2.0.0",
      "model_name": "TextStyleModel",
      "state": {
       "description_width": "",
       "font_size": null,
       "text_color": null
      }
     },
     "eb579ea776b24fd3923a75dd3902ccdc": {
      "model_module": "@jupyter-widgets/controls",
      "model_module_version": "2.0.0",
      "model_name": "ButtonModel",
      "state": {
       "description": "Load:",
       "layout": "IPY_MODEL_6bd9b927d5c940ef8b75d867e5f54c5d",
       "style": "IPY_MODEL_5a445e55093a4d9d989c076e2b67f706",
       "tooltip": null
      }
     },
     "ebd61a3ffa3f41faa9fc1d594fd141db": {
      "model_module": "@jupyter-widgets/controls",
      "model_module_version": "2.0.0",
      "model_name": "ButtonStyleModel",
      "state": {
       "button_color": "lightblue",
       "font_family": null,
       "font_size": null,
       "font_style": null,
       "font_variant": null,
       "font_weight": null,
       "text_color": null,
       "text_decoration": null
      }
     },
     "ed5ebbde4db74ea5ae76b62d6a0f6d27": {
      "model_module": "@jupyter-widgets/base",
      "model_module_version": "2.0.0",
      "model_name": "LayoutModel",
      "state": {}
     },
     "ee62bf91bbe7447682a91d907b3c52a6": {
      "model_module": "@jupyter-widgets/base",
      "model_module_version": "2.0.0",
      "model_name": "LayoutModel",
      "state": {}
     },
     "ef9686ba27d94736bcf68c973689a833": {
      "model_module": "@jupyter-widgets/controls",
      "model_module_version": "2.0.0",
      "model_name": "TextModel",
      "state": {
       "description": "ERA",
       "layout": "IPY_MODEL_ed5ebbde4db74ea5ae76b62d6a0f6d27",
       "style": "IPY_MODEL_a2d5d772cfa84412b0e7c125823b08c9"
      }
     },
     "f009b6dcb7294438a26753e677ba3768": {
      "model_module": "@jupyter-widgets/controls",
      "model_module_version": "2.0.0",
      "model_name": "TextModel",
      "state": {
       "description": "Latitude",
       "layout": "IPY_MODEL_9f92f4f7c07e4f6881bf594596e43b40",
       "style": "IPY_MODEL_f50d31b1d1044ce4a627622b3922a8e9",
       "value": "9.0031"
      }
     },
     "f0e701285a424e4e98cc208e482abbf4": {
      "model_module": "@jupyter-widgets/controls",
      "model_module_version": "2.0.0",
      "model_name": "TextStyleModel",
      "state": {
       "description_width": "",
       "font_size": null,
       "text_color": null
      }
     },
     "f16b4c525ac044cbbda8de6afa906569": {
      "model_module": "@jupyter-widgets/base",
      "model_module_version": "2.0.0",
      "model_name": "LayoutModel",
      "state": {}
     },
     "f22b688018fe44b798211971dd4a9519": {
      "model_module": "@jupyter-widgets/controls",
      "model_module_version": "2.0.0",
      "model_name": "TextModel",
      "state": {
       "description": "Updated Location",
       "layout": "IPY_MODEL_91ea528574f74ed8bc10563702138df0",
       "style": "IPY_MODEL_266d589636a14af4a326f1b18908a296"
      }
     },
     "f3b913481a8e4391aed8eed620e4e358": {
      "model_module": "@jupyter-widgets/controls",
      "model_module_version": "2.0.0",
      "model_name": "HTMLModel",
      "state": {
       "layout": "IPY_MODEL_c3b8e38ecd3e41528831a91f2fd03830",
       "style": "IPY_MODEL_41494e2e9f3b486092cfee36900b7fc0",
       "value": "<h2>Venezuela: Delta del Orinoco Biosphere Reserve</h2>: <b>Venezuela: Delta del Orinoco Biosphere Reserve</b><style>p, li {line-height:1.3; </style><p>\n<html>\n <body>\n  <h1 id=\"page-title\">\n   Delta del Orinoco Biosphere Reserve, Venezuela\n  </h1>\n  <div id=\"page-content\">\n   <section id=\"block-system-main\">\n    <article id=\"node-310981\">\n     <div id=\"content--12014\">\n      <h3>\n      </h3>\n      <p>\n       <img alt=\"\" src=\"http://res.cloudinary.com/e-nable-org/image/upload/v1688398921/jpg.jpg\" width=\"100%\"/>\n      </p>\n      <p>\n       The Delta del Orinoco Biosphere Reserve (DOBR) was created by Decree N؛ 1.633 of 05-06-1991 (Official Gazette N؛ 34.812 of 3-10-1991) and encompass 1.125.000 ha including the protected areas, the buffer and transition areas, which represents circa 31% of Delta Amacuro State total surface.A great biological diversity characterizes the terrestrial and aquatic ecosystems of the Delta del Orinoco. These ecosystems comprise a variable vegetation with more than 2.000 plants and a very rich terrestrial and aquatic fauna integrated for more than 151 mammals species, 464 bird species, 76 reptiles, 39 amphibians and 210 ichthyology species. Considerable amounts of terrestrial and aquatic invertebrates inhabit this territory.\n      </p>\n      <h3>\n       Designation date:2009\n      </h3>\n      <h3>\n       Networks\n      </h3>\n      <p>\n       <strong>\n        Regional network:\n       </strong>\n       <a href=\"http://www.unesco.org/new/es/natural-sciences/environment/ecological-sciences/man-and-biosphere-programme/networks/iberomab/\">\n        Red de Comités y Reservas de Biosfera de Iberoamérica y el Caribe (IberoMAB)\n       </a>\n      </p>\n      <p>\n       <strong>\n        Ecosystem-based network:\n       </strong>\n      </p>\n      <ul>\n      </ul>\n      <h3>\n       Description\n      </h3>\n      <p>\n       <strong>\n        Map\n       </strong>\n      </p>\n      <p>\n       <strong>\n        Surface :\n       </strong>\n       877,850ha\n      </p>\n      <ul>\n       <li>\n        Core area(s): 159,800 ha\n       </li>\n       <li>\n        Buffer zone(s): 184,600 ha\n       </li>\n       <li>\n        Transition zone(s): 534,100 ha\n       </li>\n      </ul>\n      <p>\n       <strong>\n        Location:\n       </strong>\n       N/A\n      </p>\n      <h3>\n       Administrative Authorities\n      </h3>\n      <p>\n       <strong>\n        Ministry of Popular Power for the Environment\n       </strong>\n       PO BOX: 1010\n                                    Caracas\n                                    Venezuela\n      </p>\n      <p>\n       <strong>\n        Tel.:\n       </strong>\n       +58212-408.4764 / 408.2102\n      </p>\n      <p>\n       <strong>\n        Email:\n       </strong>\n       <a href=\"mailto:delta-ondb@minamb.gob.ve\">\n        delta-ondb@minamb.gob.ve\n       </a>\n      </p>\n      <p>\n       <strong>\n        <a href=\"http://www.minamb.gob.ve\">\n         Website\n        </a>\n        ǀ Facebook ǀ Twitter\n       </strong>\n      </p>\n      <p>\n      </p>\n      <h2>\n       Ecological Characteristics\n      </h2>\n      <p>\n       <img alt=\"\" src=\"http://res.cloudinary.com/e-nable-org/image/upload/v1688575014/img_deltadelorinoco_biosphere_reserve_venezuela_unesco_wikimedia_ecologia.jpg\" width=\"100%\"/>\n      </p>\n      <p>\n       The Delta del Orinoco is a highly dynamic and complex fluvial-marine sedimentary basin formed in the Holocene, whose sediments deposited substantially by the Orinoco River main flow and in a lesser degree by geomorphologic units surrounding it, including San Juan River flows and other currents draining from the plains of La Mesa. It is embedded in a mosaic of mangroves, swamp forest, moist forest, plains and aquatic ecosystem of shallow waters. A series of fluvial channels and tide channels, the last one in the coastal plain divide the vegetation.\n      </p>\n      <p>\n       Among its vegetation, dominant species areMachaerium lunatum and Motrichardia arborescens, also Ludwigia spp, Mikania congesta and bignoniaceas climbers. Likewise, floating praires appear formed mainly by the species Eichhornia crassipes y E. azure.\n      </p>\n      <p>\n       In terms of fauna, the Biosphere Reserve is home tovaluable vertebrates and invertebrates of taxonomic value, the latter represented by numerous groups that are important source for local consumption like molusks represented by Crassostrea virginica (oyster), Melongena melongena and Pomacea ursus (guarura). Several crustaceans represented by shrimps and crabs such as Macrobrachium carcinus, Macrobrachium surinamicum, Macrobrachium amazonicum, Litopenaeus schmitti (white shrimp) and Xiphopenaeus kroyeri (titi shrimp).\n      </p>\n      <p>\n       Besides common species in the region, like the Carina moschata,the Biosphere Reserve is also home to various endemic species, such asDasyprocta guamara, Picummus nigropunctatus, Dendrocincla fuliginosa deltana and Anolis deltae.\n      </p>\n      <h2>\n       Socio-Economic Characteristics\n      </h2>\n      <p>\n       <img alt=\"\" src=\"http://res.cloudinary.com/e-nable-org/image/upload/v1688407562/img_deltadelorinoco_biosphere_reserve_venezuela_unesco_wikimedia.jpg\" width=\"100%\"/>\n       Most part of the population and indigenous warao settlements are located and spread in the eastern Delta, conforming most of the population of the sector (approximately 20.000 warao inhabitants). Primary use of this territory is fishing, hunting, harvesting of forestry produce and others that serve as base for handicraft manufacture and agriculture.\n      </p>\n      <p>\n       The Delta del Orinoco has geopolitical relevance because is the country’s entrance to the Atlantic Ocean, because it facilitates communications with the Caribbean Sea and its extraordinary navigation potential, the development of hydrocarbon resources industry and fishing; all important elements for territorial planning programs.\n      </p>\n      <p>\n      </p>\n      <p>\n       <em>\n        Last updated: July 2019\n       </em>\n      </p>\n      <span st_title=\"Delta%20del%20Orinoco%20Biosphere%20Reserve%2C%20Venezuela\" st_url=\"https://en.unesco.org/biosphere/lac/delta-orinoco\">\n      </span>\n      <span st_title=\"Delta%20del%20Orinoco%20Biosphere%20Reserve%2C%20Venezuela\" st_url=\"https://en.unesco.org/biosphere/lac/delta-orinoco\">\n      </span>\n      <span st_title=\"Delta%20del%20Orinoco%20Biosphere%20Reserve%2C%20Venezuela\" st_url=\"https://en.unesco.org/biosphere/lac/delta-orinoco\">\n      </span>\n      )\n     </div>\n    </article>\n   </section>\n  </div>\n </body>\n</html><br/><br/>\n~~~ #UnescoBiosphereReserve<button style=\"background-color: lightgreen; width: 100%;\">https://en.unesco.org/biosphere/lac/delta-orinoco...</button>"
      }
     },
     "f4b5f2d2a8de43e1adde6dc46be9aa41": {
      "model_module": "@jupyter-widgets/base",
      "model_module_version": "2.0.0",
      "model_name": "LayoutModel",
      "state": {
       "width": "70px"
      }
     },
     "f50d31b1d1044ce4a627622b3922a8e9": {
      "model_module": "@jupyter-widgets/controls",
      "model_module_version": "2.0.0",
      "model_name": "TextStyleModel",
      "state": {
       "description_width": "",
       "font_size": null,
       "text_color": null
      }
     },
     "f57f31a50cc74852a040178816375a79": {
      "model_module": "@jupyter-widgets/controls",
      "model_module_version": "2.0.0",
      "model_name": "HBoxModel",
      "state": {
       "children": [
        "IPY_MODEL_cb04cf1d482c437880a3a03bbad488cd",
        "IPY_MODEL_57ec78d9014f46c2b6bdd45cc64425fd",
        "IPY_MODEL_f3b913481a8e4391aed8eed620e4e358"
       ],
       "layout": "IPY_MODEL_6051db1bc77a48688b20bf8c54f6e5fd"
      }
     },
     "f6ddb0eb3fab4d7a84b3215315d28b73": {
      "model_module": "@jupyter-widgets/base",
      "model_module_version": "2.0.0",
      "model_name": "LayoutModel",
      "state": {}
     },
     "f751f35724c64b66a14095edbf121a5c": {
      "model_module": "@jupyter-widgets/controls",
      "model_module_version": "2.0.0",
      "model_name": "HBoxModel",
      "state": {
       "children": [
        "IPY_MODEL_7ad2a24aa19247ff8f9af13872e65209",
        "IPY_MODEL_96819133454c4878b7d28dd21cfd3b80",
        "IPY_MODEL_8bf5b2ddc72d4351b38e84c525cb5f9b",
        "IPY_MODEL_26eaed1c218847abb7dfa414c608d03e",
        "IPY_MODEL_6809d7e082a642f899be066b7ecb2054"
       ],
       "layout": "IPY_MODEL_59f317af081844e988d3caf879bc7948"
      }
     },
     "f9720fd9f14242a58849ee7958eb25cd": {
      "model_module": "@jupyter-widgets/controls",
      "model_module_version": "2.0.0",
      "model_name": "ButtonStyleModel",
      "state": {
       "button_color": "white",
       "font_family": null,
       "font_size": null,
       "font_style": null,
       "font_variant": null,
       "font_weight": null,
       "text_color": null,
       "text_decoration": null
      }
     },
     "fac266c316434782a06be4fd511778c7": {
      "model_module": "@jupyter-widgets/controls",
      "model_module_version": "2.0.0",
      "model_name": "TextStyleModel",
      "state": {
       "description_width": "",
       "font_size": null,
       "text_color": null
      }
     },
     "fcf30bf44e214c0a801ade57399e1f00": {
      "model_module": "@jupyter-widgets/base",
      "model_module_version": "2.0.0",
      "model_name": "LayoutModel",
      "state": {}
     },
     "fd6a632d8b524471a41f9e665f577895": {
      "model_module": "@jupyter-widgets/controls",
      "model_module_version": "2.0.0",
      "model_name": "TextStyleModel",
      "state": {
       "description_width": "",
       "font_size": null,
       "text_color": null
      }
     },
     "fe21a6f9785e4f03b0f30b0e5110d646": {
      "model_module": "@jupyter-widgets/controls",
      "model_module_version": "2.0.0",
      "model_name": "ButtonStyleModel",
      "state": {
       "button_color": "lightgreen",
       "font_family": null,
       "font_size": null,
       "font_style": null,
       "font_variant": null,
       "font_weight": null,
       "text_color": null,
       "text_decoration": null
      }
     },
     "fe41b9b6d0d34049b7108baddbb8b00b": {
      "model_module": "@jupyter-widgets/controls",
      "model_module_version": "2.0.0",
      "model_name": "TextStyleModel",
      "state": {
       "description_width": "",
       "font_size": null,
       "text_color": null
      }
     }
    },
    "version_major": 2,
    "version_minor": 0
   }
  }
 },
 "nbformat": 4,
 "nbformat_minor": 5
}
